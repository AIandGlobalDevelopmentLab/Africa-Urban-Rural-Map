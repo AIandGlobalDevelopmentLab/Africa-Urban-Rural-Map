{
 "cells": [
  {
   "cell_type": "markdown",
   "id": "25c84212",
   "metadata": {
    "id": "31980095"
   },
   "source": [
    "##### Imports"
   ]
  },
  {
   "cell_type": "code",
   "execution_count": 1,
   "id": "f9e43c89",
   "metadata": {
    "id": "b1892ac3"
   },
   "outputs": [],
   "source": [
    "import os\n",
    "import time\n",
    "import ee\n",
    "import requests\n",
    "import shutil, sys\n",
    "import logging\n",
    "import multiprocessing\n",
    "from retry import retry"
   ]
  },
  {
   "cell_type": "markdown",
   "id": "1174724a",
   "metadata": {
    "id": "32d16937"
   },
   "source": [
    "### Earth Engine Authentication"
   ]
  },
  {
   "cell_type": "code",
   "execution_count": 2,
   "id": "fe6b5aa8",
   "metadata": {
    "colab": {
     "base_uri": "https://localhost:8080/"
    },
    "id": "928e2080",
    "outputId": "7f22838f-0cb6-472f-c01f-115a2e64457c"
   },
   "outputs": [],
   "source": [
    "#ee.Authenticate()"
   ]
  },
  {
   "cell_type": "code",
   "execution_count": 3,
   "id": "ccfe5624",
   "metadata": {
    "id": "1c8bbbf2"
   },
   "outputs": [],
   "source": [
    "ee.Initialize(opt_url='https://earthengine-highvolume.googleapis.com')"
   ]
  },
  {
   "cell_type": "markdown",
   "id": "87011084",
   "metadata": {
    "id": "da4b6aed"
   },
   "source": [
    "### Data Loading"
   ]
  },
  {
   "cell_type": "code",
   "execution_count": 4,
   "id": "86f243c7",
   "metadata": {
    "id": "5d6c9a93"
   },
   "outputs": [],
   "source": [
    "def mask_L8_SR (img):\n",
    "    '''takes in an image and sets a mask for its low quality pixels'''\n",
    "    qa = img.select('QA_PIXEL')\n",
    "    cloud = qa.bitwiseAnd(1 << 3)\n",
    "    shadow = qa.bitwiseAnd(1 << 4)\n",
    "    Mask = (cloud.neq(0)).Or(shadow.neq(0)).uint8()\n",
    "    return  img.updateMask(Mask.eq(0))\n"
   ]
  },
  {
   "cell_type": "markdown",
   "id": "d8b41d45",
   "metadata": {},
   "source": [
    "#### Year selection"
   ]
  },
  {
   "cell_type": "code",
   "execution_count": 5,
   "id": "9b11ddad",
   "metadata": {},
   "outputs": [
    {
     "name": "stdout",
     "output_type": "stream",
     "text": [
      "YEAR: 2020\n"
     ]
    }
   ],
   "source": [
    "# ---> ENTER Year BELOW <---\n",
    "YEAR = 2020\n",
    "print(f'YEAR: {YEAR}')"
   ]
  },
  {
   "cell_type": "markdown",
   "id": "93fda557",
   "metadata": {
    "id": "fb3fff8c"
   },
   "source": [
    "#### Country selection"
   ]
  },
  {
   "cell_type": "code",
   "execution_count": 6,
   "id": "c41239e9",
   "metadata": {
    "colab": {
     "base_uri": "https://localhost:8080/"
    },
    "id": "ce6009e0",
    "outputId": "1bb37969-908b-4a44-8e17-84fa3ccf5dcb"
   },
   "outputs": [
    {
     "name": "stdout",
     "output_type": "stream",
     "text": [
      "COUNTRY: Algeria, POINTS: 26361\n"
     ]
    }
   ],
   "source": [
    "# ---> ENTER COUNTRY BELOW <---\n",
    "COUNTRY = \"Algeria\"\n",
    "\n",
    "countries = ee.FeatureCollection(\"FAO/GAUL/2015/level0\")\n",
    "border = countries.filter(ee.Filter.eq('ADM0_NAME', COUNTRY))\n",
    "img = ee.Image(1).clip(border)\n",
    "\n",
    "pointsROI = img.stratifiedSample(numPoints = 1000000,\n",
    "                                classBand = 'constant',\n",
    "                                region = border,\n",
    "                                scale = 10000,\n",
    "                                geometries = True)\n",
    "\n",
    "print(f'COUNTRY: {COUNTRY}, POINTS: {pointsROI.size().getInfo()}')"
   ]
  },
  {
   "cell_type": "markdown",
   "id": "948535ba",
   "metadata": {
    "id": "5f7b15d8"
   },
   "source": [
    "#### Datasets"
   ]
  },
  {
   "cell_type": "code",
   "execution_count": 7,
   "id": "98cfefcc",
   "metadata": {
    "id": "93d891c7"
   },
   "outputs": [],
   "source": [
    "# Landsat-8 (input)\n",
    "L8 = (ee.ImageCollection('LANDSAT/LC08/C02/T1_L2')\n",
    "                .filterDate(f'{YEAR}-01-01',f'{YEAR + 1}-01-01')\n",
    "                .map(lambda x: mask_L8_SR(x)\n",
    "                .select(['SR_B2','SR_B3','SR_B4','SR_B5','SR_B6','SR_B7']\n",
    "                        ,['BLUE', 'GREEN', 'RED', 'NIR', 'SWIR1', 'SWIR2']))).median() \n"
   ]
  },
  {
   "cell_type": "code",
   "execution_count": 8,
   "id": "dc1cf459",
   "metadata": {
    "id": "188070aa"
   },
   "outputs": [],
   "source": [
    "# Nightlight (input)\n",
    "VIIRS = (ee.ImageCollection('NOAA/VIIRS/DNB/MONTHLY_V1/VCMCFG')\n",
    "                  .filterDate(f'{YEAR}-01-01',f'{YEAR + 1}-01-01')\n",
    "                  .select(['avg_rad'],['NL'])).median()\n"
   ]
  },
  {
   "cell_type": "code",
   "execution_count": 9,
   "id": "78c41411",
   "metadata": {
    "id": "537590a6"
   },
   "outputs": [],
   "source": [
    "# Esa WorldCover 2020 and ESRI LULC(target)\n",
    "esa_wc2020 = ee.ImageCollection(\"ESA/WorldCover/v100\").mosaic()\n",
    "esri_lulc10 = ee.ImageCollection(\"projects/sat-io/open-datasets/landcover/ESRI_Global-LULC_10m_TS\").filterDate('2020-01-01','2020-12-31').mosaic()\n"
   ]
  },
  {
   "cell_type": "code",
   "execution_count": 10,
   "id": "fdc7e94e",
   "metadata": {},
   "outputs": [],
   "source": [
    "# GHS_SMOD\n",
    "smod_asset = ee.Image('projects/ee-albinso/assets/GHS_SMOD_2020_GLOBE_REPROJECTED') #.reproject('epsg:4326', None, 1000)"
   ]
  },
  {
   "cell_type": "markdown",
   "id": "7563c6bb",
   "metadata": {
    "id": "06eba35c"
   },
   "source": [
    "#### Data retrieval"
   ]
  },
  {
   "cell_type": "code",
   "execution_count": 11,
   "id": "bb8f2820",
   "metadata": {},
   "outputs": [
    {
     "name": "stdout",
     "output_type": "stream",
     "text": [
      "Directory created (mimer): ../albin_and_albin/raw_data_newest/2020/Algeria\n"
     ]
    }
   ],
   "source": [
    "# specify output directory\n",
    "OUT_DIR = f'/mimer/NOBACKUP/groups/globalpoverty1/albin_and_albin/raw_data_newest/{YEAR}/{COUNTRY}'\n",
    "\n",
    "# create directory if it does not exist\n",
    "if not os.path.isdir(OUT_DIR):\n",
    "        os.makedirs(OUT_DIR, 0o775)\n",
    "        print(f'Directory created (mimer): ..{OUT_DIR.partition(\"globalpoverty1\")[-1]}')"
   ]
  },
  {
   "cell_type": "code",
   "execution_count": 12,
   "id": "31dadf56",
   "metadata": {
    "id": "7464707e"
   },
   "outputs": [],
   "source": [
    "@retry(tries=10, delay=1, backoff=2)\n",
    "def get_image_tile(point):\n",
    "    '''Retrieve image tile at given point, scale and dimension.  Write to directory'''\n",
    "    \n",
    "    # get ID and point-coordinates\n",
    "    ID = point['id']\n",
    "    point = ee.Geometry.Point(point['geometry']['coordinates'])\n",
    "    \n",
    "    # set up rectangular bound around point\n",
    "    ROI = point.buffer(500*10).bounds()  # tile dim: 1000*1000px (1px=10m)\n",
    "    \n",
    "    # images to retrieve\n",
    "    imgLandsat = L8.clip(ROI)\n",
    "    imgNL = VIIRS.clip(ROI)\n",
    "    imgTarget_esa = esa_wc2020.clip(ROI)\n",
    "    imgTarget_esri = esri_lulc10.clip(ROI)\n",
    "    imgSMOD = smod_asset.clip(ROI)#.reproject('epsg:4326', None, 1000)\n",
    "    \n",
    "    # concatenate input\n",
    "    imageInput = ee.Image.cat([imgLandsat, imgNL, imgSMOD, imgTarget_esa, imgTarget_esri])\n",
    "\n",
    "    # fetch the URL from which to download the image.\n",
    "    url = imageInput.float().getDownloadUrl({\n",
    "        'scale': 10,\n",
    "        'dimensions': '1000x1000',\n",
    "        'format': 'GEO_TIFF'\n",
    "    })\n",
    "    r = requests.get(url) # send get request\n",
    "    \n",
    "    # save retrieved tile\n",
    "    if r.status_code == 200:  # HTTP GET: 200 OK\n",
    "        filename = OUT_DIR + f'/tile_{ID}.tif'\n",
    "        with open(filename, 'wb') as out_file:\n",
    "              out_file.write(r.content)\n",
    "    # retry, get request failed\n",
    "    else:\n",
    "        #print(f'{r.status_code}: {r.reason}')\n",
    "        raise HTTPException(status_code=r.status_code, detail=r.reason)\n",
    "    \n",
    "    return r.content\n"
   ]
  },
  {
   "cell_type": "code",
   "execution_count": 13,
   "id": "79755f99",
   "metadata": {
    "colab": {
     "base_uri": "https://localhost:8080/"
    },
    "id": "adba0e2a",
    "outputId": "2e27f237-abc7-40ec-9483-00186a1d3c14"
   },
   "outputs": [
    {
     "name": "stdout",
     "output_type": "stream",
     "text": [
      "Pool started\n",
      "tiles: 26361\n",
      "──────────\n",
      "chunk 1 / 6 done, 5000 / 26361 tiles, time: 3699.8s\n",
      "chunk 2 / 6 done, 10000 / 26361 tiles, time: 3378.5s\n",
      "chunk 3 / 6 done, 15000 / 26361 tiles, time: 4278.7s\n",
      "chunk 4 / 6 done, 20000 / 26361 tiles, time: 4388.9s\n",
      "chunk 5 / 6 done, 25000 / 26361 tiles, time: 3724.5s\n",
      "chunk 6 / 6 done, 26361 / 26361 tiles, time: 1207.5s\n",
      "Download complete: Algeria, 2020\n"
     ]
    }
   ],
   "source": [
    "# start pool\n",
    "pool = multiprocessing.Pool(40)  # earth-engine default parallel request limit: 40\n",
    "print('Pool started')\n",
    "\n",
    "# settings for data retrival \n",
    "offset = 0\n",
    "max_chunk_size = 5000  # set to at least 1000 \n",
    "num_tiles = pointsROI.size().getInfo()\n",
    "print(f'tiles: {num_tiles}')\n",
    "print(u'\\u2500' * 10)\n",
    "\n",
    "chunk_idx = 1\n",
    "num_chunks = (num_tiles // max_chunk_size) + (1 if num_tiles % max_chunk_size != 0 else 0)\n",
    "\n",
    "# retrieve one data chunk at a time\n",
    "while offset < num_tiles:\n",
    "    \n",
    "    t0 = time.time()\n",
    "    \n",
    "    # make a list of the points\n",
    "    image_points = pointsROI.toList(max_chunk_size, offset).getInfo()\n",
    "\n",
    "    # get corresponding image tiles\n",
    "    pool.map(get_image_tile, image_points)\n",
    "    \n",
    "    # chunk completed\n",
    "    t1 = time.time()\n",
    "    print(f'chunk {chunk_idx} / {num_chunks} done, {offset + len(image_points)} / {num_tiles} tiles, time: {t1 - t0:.1f}s')\n",
    "    chunk_idx += 1\n",
    "    offset += max_chunk_size\n",
    "\n",
    "print(f'Download complete: {COUNTRY}, {YEAR}')\n",
    "\n",
    "#close pool\n",
    "pool.close()  \n",
    "pool.join()"
   ]
  },
  {
   "cell_type": "code",
   "execution_count": null,
   "id": "4c7c8d88",
   "metadata": {},
   "outputs": [],
   "source": []
  }
 ],
 "metadata": {
  "colab": {
   "provenance": []
  },
  "kernelspec": {
   "display_name": "Python 3 (ipykernel)",
   "language": "python",
   "name": "python3"
  },
  "language_info": {
   "codemirror_mode": {
    "name": "ipython",
    "version": 3
   },
   "file_extension": ".py",
   "mimetype": "text/x-python",
   "name": "python",
   "nbconvert_exporter": "python",
   "pygments_lexer": "ipython3",
   "version": "3.8.13"
  }
 },
 "nbformat": 4,
 "nbformat_minor": 5
}
