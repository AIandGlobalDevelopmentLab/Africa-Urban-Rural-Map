{
 "cells": [
  {
   "cell_type": "code",
   "execution_count": 1,
   "id": "b3d22e10",
   "metadata": {},
   "outputs": [],
   "source": [
    "# Imports\n",
    "import os\n",
    "import time\n",
    "import glob\n",
    "import numpy as np\n",
    "import pandas as pd\n",
    "import rasterio\n",
    "from csv import writer\n",
    "from collections import Counter\n",
    "import multiprocessing"
   ]
  },
  {
   "cell_type": "code",
   "execution_count": 2,
   "id": "101c3d85",
   "metadata": {},
   "outputs": [],
   "source": [
    "# ESRI LULC 2020 (9 classes): class codec\n",
    "# 0: Water\n",
    "# 1: Tree\n",
    "# 2: Flooded Vegetation\n",
    "# 3: Crops\n",
    "# 4: Built Area\n",
    "# 5: Bare Ground\n",
    "# 6: Snow / Ice\n",
    "# 7: Clouds\n",
    "# 8: Rangeland\n",
    "esri_classes = [1, 2, 4, 5, 7, 8, 9, 10, 11]  # 9 classes\n",
    "labels = [i for i in range(9)]\n",
    "\n",
    "# create lookup table for index remap\n",
    "esri_class_to_index_map = np.zeros(max(esri_classes) + 1, dtype='int64')\n",
    "esri_class_to_index_map[esri_classes] = labels\n",
    "\n",
    "\n",
    "# ---GHS-SMOD 2020 (8 classes): class codec---\n",
    "# 30: URBAN CENTRE GRID CELL\n",
    "# 23: DENSE URBAN CLUSTER GRID CELL\n",
    "# 22: SEMI-DENSE URBAN CLUSTER GRID CELL\n",
    "# 21: SUBURBAN OR PERI-URBAN GRID CELL\n",
    "# 13: RURAL CLUSTER GRID CELL\n",
    "# 12: LOW DENSITY RURAL GRID CELL\n",
    "# 11: VERY LOW DENSITY RURAL GRID CELL\n",
    "# 10: WATER GRID CELL\n",
    "# NoData [-200]\n",
    "smod_classes = [10, 11, 12, 13, 21, 22, 23, 30]\n",
    "labels = [9, 9, 10, 11, 12, 13, 14, 15]\n",
    "\n",
    "smod_class_to_index_map = np.zeros(max(smod_classes) + 1, dtype='int64')\n",
    "smod_class_to_index_map[smod_classes] = labels"
   ]
  },
  {
   "cell_type": "markdown",
   "id": "88a31b57",
   "metadata": {},
   "source": [
    "#### Country selection"
   ]
  },
  {
   "cell_type": "code",
   "execution_count": 3,
   "id": "cc997a7f",
   "metadata": {},
   "outputs": [],
   "source": [
    "# ---> ENTER COUNTRIES BELOW <---\n",
    "fold_1 = ['Algeria', 'Niger', 'Mauritania', 'Mozambique', 'CentralAfricanRepublic', 'Zimbabwe', 'Guinea', 'Malawi', 'Togo']\n",
    "fold_2 = ['DemocraticRepublicoftheCongo', 'Angola', 'Egypt', 'Zambia', 'Madagascar', 'Congo', 'Ghana', 'Eritrea', 'Guinea-Bissau']\n",
    "fold_3 = ['Sudan', 'Mali', 'UnitedRepublicofTanzania', 'Morocco', 'Botswana', 'CotedIvoire', 'Uganda', 'Benin', 'Lesotho'] \n",
    "fold_4 = ['Libya', 'SouthAfrica', 'Nigeria', 'SouthSudan', 'Kenya', 'BurkinaFaso', 'Senegal', 'Liberia', 'EquatorialGuinea']\n",
    "fold_5 = ['Chad', 'Ethiopia', 'Namibia', 'Somalia', 'Cameroon', 'Gabon', 'Tunisia', 'SierraLeone', 'Burundi', 'WesternSahara']\n",
    "extra = ['Seychelles', 'SaoTomeandPrincipe', 'Mauritius', 'Comoros', 'CapeVerde', 'Gambia', 'Swaziland', 'Djibouti', 'Rwanda']\n",
    "countries = extra + fold_1 + fold_2 + fold_3 + fold_4 + fold_5"
   ]
  },
  {
   "cell_type": "markdown",
   "id": "07bccf8a",
   "metadata": {},
   "source": [
    "#### Class distribution"
   ]
  },
  {
   "cell_type": "code",
   "execution_count": 6,
   "id": "ada9b1f1",
   "metadata": {},
   "outputs": [
    {
     "name": "stderr",
     "output_type": "stream",
     "text": [
      "Warning 1: TIFFReadDirectory:Sum of Photometric type-related color channels and ExtraSamples doesn't match SamplesPerPixel. Defining non-color channels as ExtraSamples.\n",
      "Warning 1: TIFFReadDirectory:Sum of Photometric type-related color channels and ExtraSamples doesn't match SamplesPerPixel. Defining non-color channels as ExtraSamples.\n",
      "Warning 1: TIFFReadDirectory:Sum of Photometric type-related color channels and ExtraSamples doesn't match SamplesPerPixel. Defining non-color channels as ExtraSamples.\n",
      "Warning 1: TIFFReadDirectory:Sum of Photometric type-related color channels and ExtraSamples doesn't match SamplesPerPixel. Defining non-color channels as ExtraSamples.\n",
      "Warning 1: TIFFReadDirectory:Sum of Photometric type-related color channels and ExtraSamples doesn't match SamplesPerPixel. Defining non-color channels as ExtraSamples.\n",
      "Warning 1: TIFFReadDirectory:Sum of Photometric type-related color channels and ExtraSamples doesn't match SamplesPerPixel. Defining non-color channels as ExtraSamples.\n",
      "Warning 1: TIFFReadDirectory:Sum of Photometric type-related color channels and ExtraSamples doesn't match SamplesPerPixel. Defining non-color channels as ExtraSamples.\n"
     ]
    },
    {
     "name": "stdout",
     "output_type": "stream",
     "text": [
      "/mimer/NOBACKUP/groups/globalpoverty1/albin_and_albin/raw_data_newest/2020/Seychelles/tile_0.tif contains missing labels\n",
      "Seychelles done: 1.755s\n",
      "['Seychelles', 4544670, 760859, 49352, 183, 243069, 22068, 91, 4760, 374948]\n",
      "1 tiles missing labels\n"
     ]
    }
   ],
   "source": [
    "# count class occurrances for all countries and add to csv\n",
    "for country in countries:\n",
    "    t0 = time.time()\n",
    "    \n",
    "    # retrieve list of image paths for selected country\n",
    "    img_dir = f'/mimer/NOBACKUP/groups/globalpoverty1/albin_and_albin/raw_data_newest/2020/{country}/*.tif'\n",
    "    img_paths = glob.glob(img_dir)\n",
    "\n",
    "    country_class_count = Counter()\n",
    "    incomplete_tiles = 0\n",
    "\n",
    "    # update counter one image at a time\n",
    "    for img in img_paths:\n",
    "        # read tif\n",
    "        im_file = rasterio.open(img)\n",
    "        \n",
    "        # band 10: ESRI\n",
    "        image = im_file.read(10)\n",
    "        inf_filter = np.isinf(image)\n",
    "        image = image.astype('int64')\n",
    "        \n",
    "        # band 8: SMOD\n",
    "        smod = im_file.read(8)\n",
    "        smod[np.isinf(smod)] = 10\n",
    "        smod = smod.astype('int64')\n",
    "        smod = smod_class_to_index_map[smod]\n",
    "        \n",
    "        # missing labels in image\n",
    "        if True in inf_filter:\n",
    "            image = image[~inf_filter]  # remove missing pixels\n",
    "            image = esri_class_to_index_map[image]\n",
    "            np.putmask(image, image == 4, smod)\n",
    "            incomplete_tiles += 1\n",
    "        # no missing labels\n",
    "        else:\n",
    "            image = esri_class_to_index_map[image]\n",
    "            np.putmask(image, image == 4, smod)\n",
    "            image = image.flatten()\n",
    "        \n",
    "        # count class occurrence\n",
    "        country_class_count.update(image)\n",
    "\n",
    "    csv_row_country = [country] + [country_class_count[i] for i in range(16)]\n",
    "    print(f'{country} done: {time.time() - t0:.3f}s', flush=True)\n",
    "    print(csv_row_country, flush=True)\n",
    "    print(f'{incomplete_tiles} tiles contain missing labels', flush=True)\n",
    "    \n",
    "    # write results to csv\n",
    "    CSV_PATH = '/mimer/NOBACKUP/groups/globalpoverty1/albin_and_albin/training_data/class_distribution_country_esri_new.csv'\n",
    "    with open(CSV_PATH, 'a') as f_object:\n",
    "        \n",
    "        writer_object = writer(f_object)\n",
    "        writer_object.writerow(csv_row_country)\n",
    "        f_object.close()\n",
    "    \n"
   ]
  }
 ],
 "metadata": {
  "kernelspec": {
   "display_name": "Python 3 (ipykernel)",
   "language": "python",
   "name": "python3"
  },
  "language_info": {
   "codemirror_mode": {
    "name": "ipython",
    "version": 3
   },
   "file_extension": ".py",
   "mimetype": "text/x-python",
   "name": "python",
   "nbconvert_exporter": "python",
   "pygments_lexer": "ipython3",
   "version": "3.8.13"
  }
 },
 "nbformat": 4,
 "nbformat_minor": 5
}
