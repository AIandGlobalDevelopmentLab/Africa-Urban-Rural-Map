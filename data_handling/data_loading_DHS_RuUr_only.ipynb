{
 "cells": [
  {
   "cell_type": "markdown",
   "id": "25c84212",
   "metadata": {
    "id": "31980095"
   },
   "source": [
    "##### Imports"
   ]
  },
  {
   "cell_type": "code",
   "execution_count": 10,
   "id": "f9e43c89",
   "metadata": {
    "id": "b1892ac3"
   },
   "outputs": [],
   "source": [
    "import os\n",
    "import time\n",
    "import ee\n",
    "import requests\n",
    "import shutil, sys\n",
    "import logging\n",
    "import multiprocessing\n",
    "from retry import retry"
   ]
  },
  {
   "cell_type": "markdown",
   "id": "1174724a",
   "metadata": {
    "id": "32d16937"
   },
   "source": [
    "### Earth Engine Authentication"
   ]
  },
  {
   "cell_type": "code",
   "execution_count": 11,
   "id": "fe6b5aa8",
   "metadata": {
    "colab": {
     "base_uri": "https://localhost:8080/"
    },
    "id": "928e2080",
    "outputId": "7f22838f-0cb6-472f-c01f-115a2e64457c"
   },
   "outputs": [],
   "source": [
    "#ee.Authenticate()"
   ]
  },
  {
   "cell_type": "code",
   "execution_count": 12,
   "id": "ccfe5624",
   "metadata": {
    "id": "1c8bbbf2"
   },
   "outputs": [],
   "source": [
    "ee.Initialize(opt_url='https://earthengine-highvolume.googleapis.com')"
   ]
  },
  {
   "cell_type": "markdown",
   "id": "87011084",
   "metadata": {
    "id": "da4b6aed"
   },
   "source": [
    "### Data Loading"
   ]
  },
  {
   "cell_type": "markdown",
   "id": "93fda557",
   "metadata": {
    "id": "fb3fff8c"
   },
   "source": [
    "#### Country selection"
   ]
  },
  {
   "cell_type": "code",
   "execution_count": 13,
   "id": "c41239e9",
   "metadata": {
    "colab": {
     "base_uri": "https://localhost:8080/"
    },
    "id": "ce6009e0",
    "outputId": "1bb37969-908b-4a44-8e17-84fa3ccf5dcb"
   },
   "outputs": [
    {
     "name": "stdout",
     "output_type": "stream",
     "text": [
      "COUNTRY: Democratic Republic of the Congo, POINTS: 23533\n"
     ]
    }
   ],
   "source": [
    "# ---> ENTER COUNTRY BELOW <---\n",
    "COUNTRY = \"Democratic Republic of the Congo\"\n",
    "\n",
    "countries = ee.FeatureCollection(\"FAO/GAUL/2015/level0\")\n",
    "border = countries.filter(ee.Filter.eq('ADM0_NAME', COUNTRY))\n",
    "img = ee.Image(1).clip(border)\n",
    "\n",
    "pointsROI = img.stratifiedSample(numPoints = 1000000,\n",
    "                                classBand = 'constant',\n",
    "                                region = border,\n",
    "                                scale = 10000,\n",
    "                                geometries = True)\n",
    "\n",
    "print(f'COUNTRY: {COUNTRY}, POINTS: {pointsROI.size().getInfo()}')"
   ]
  },
  {
   "cell_type": "markdown",
   "id": "948535ba",
   "metadata": {
    "id": "5f7b15d8"
   },
   "source": [
    "#### Datasets"
   ]
  },
  {
   "cell_type": "code",
   "execution_count": 14,
   "id": "d5e6c4f9",
   "metadata": {},
   "outputs": [
    {
     "data": {
      "text/plain": [
       "\"# DHS Rural&Urban Maps\\nru_ur_1 = ee.Image('projects/ee-albinso/assets/DHS_RuUr_1')\\nru_ur_2 = ee.Image('projects/ee-albinso/assets/DHS_RuUr_2')\\nru_ur_3 = ee.Image('projects/ee-albinso/assets/DHS_RuUr_3')\\nru_ur_4 = ee.Image('projects/ee-albinso/assets/DHS_RuUr_4')\\nru_ur_5 = ee.Image('projects/ee-albinso/assets/DHS_RuUr_5')\\nru_ur_6 = ee.Image('projects/ee-albinso/assets/DHS_RuUr_6')\\nru_ur_7 = ee.Image('projects/ee-albinso/assets/DHS_RuUr_7')\\nru_ur_8 = ee.Image('projects/ee-albinso/assets/DHS_RuUr_8')\\nru_ur_9 = ee.Image('projects/ee-albinso/assets/DHS_RuUr_9')\\nru_ur_10 = ee.Image('projects/ee-albinso/assets/DHS_RuUr_10')\\n\\nru_ur_dhs = ee.ImageCollection.fromImages([ru_ur_1,ru_ur_2,ru_ur_3,ru_ur_4,ru_ur_5,\\n                                                  ru_ur_6,ru_ur_7,ru_ur_8,ru_ur_9,ru_ur_10]).mosaic()\""
      ]
     },
     "execution_count": 14,
     "metadata": {},
     "output_type": "execute_result"
    }
   ],
   "source": [
    "'''# DHS Rural&Urban Maps\n",
    "ru_ur_1 = ee.Image('projects/ee-albinso/assets/DHS_RuUr_1')\n",
    "ru_ur_2 = ee.Image('projects/ee-albinso/assets/DHS_RuUr_2')\n",
    "ru_ur_3 = ee.Image('projects/ee-albinso/assets/DHS_RuUr_3')\n",
    "ru_ur_4 = ee.Image('projects/ee-albinso/assets/DHS_RuUr_4')\n",
    "ru_ur_5 = ee.Image('projects/ee-albinso/assets/DHS_RuUr_5')\n",
    "ru_ur_6 = ee.Image('projects/ee-albinso/assets/DHS_RuUr_6')\n",
    "ru_ur_7 = ee.Image('projects/ee-albinso/assets/DHS_RuUr_7')\n",
    "ru_ur_8 = ee.Image('projects/ee-albinso/assets/DHS_RuUr_8')\n",
    "ru_ur_9 = ee.Image('projects/ee-albinso/assets/DHS_RuUr_9')\n",
    "ru_ur_10 = ee.Image('projects/ee-albinso/assets/DHS_RuUr_10')\n",
    "\n",
    "ru_ur_dhs = ee.ImageCollection.fromImages([ru_ur_1,ru_ur_2,ru_ur_3,ru_ur_4,ru_ur_5,\n",
    "                                                  ru_ur_6,ru_ur_7,ru_ur_8,ru_ur_9,ru_ur_10]).mosaic()'''"
   ]
  },
  {
   "cell_type": "code",
   "execution_count": 15,
   "id": "e06ca6e4",
   "metadata": {},
   "outputs": [],
   "source": [
    "# DHS Rural&Urban Maps\n",
    "ru_ur_1 = ee.Image('users/kakooeimohammd/Africa/RuUr_Africa_Raster5_0')\n",
    "ru_ur_2 = ee.Image('users/kakooeimohammd/Africa/RuUr_Africa_Raster5_1')\n",
    "ru_ur_3 = ee.Image('users/kakooeimohammd/Africa/RuUr_Africa_Raster5_2')\n",
    "ru_ur_4 = ee.Image('users/kakooeimohammd/Africa/RuUr_Africa_Raster5_3')\n",
    "ru_ur_5 = ee.Image('users/kakooeimohammd/Africa/RuUr_Africa_Raster5_4')\n",
    "ru_ur_6 = ee.Image('users/kakooeimohammd/Africa/RuUr_Africa_Raster5_5')\n",
    "ru_ur_7 = ee.Image('users/kakooeimohammd/Africa/RuUr_Africa_Raster5_6')\n",
    "ru_ur_8 = ee.Image('users/kakooeimohammd/Africa/RuUr_Africa_Raster5_7')\n",
    "ru_ur_9 = ee.Image('users/kakooeimohammd/Africa/RuUr_Africa_Raster5_8')\n",
    "ru_ur_10 = ee.Image('users/kakooeimohammd/Africa/RuUr_Africa_Raster5_9')\n",
    "\n",
    "ru_ur_dhs = ee.ImageCollection.fromImages([ru_ur_1,ru_ur_2,ru_ur_3,ru_ur_4,ru_ur_5,\n",
    "                                                  ru_ur_6,ru_ur_7,ru_ur_8,ru_ur_9,ru_ur_10]).mosaic()"
   ]
  },
  {
   "cell_type": "markdown",
   "id": "7563c6bb",
   "metadata": {
    "id": "06eba35c"
   },
   "source": [
    "#### Data retrieval"
   ]
  },
  {
   "cell_type": "code",
   "execution_count": 16,
   "id": "bb8f2820",
   "metadata": {},
   "outputs": [
    {
     "name": "stdout",
     "output_type": "stream",
     "text": [
      "Directory created (mimer): ../albin_and_albin/raw_data_newest_rural_urban_dhs/Democratic Republic of the Congo\n"
     ]
    }
   ],
   "source": [
    "# specify output directory\n",
    "OUT_DIR = f'/mimer/NOBACKUP/groups/globalpoverty1/albin_and_albin/raw_data_newest_rural_urban_dhs/{COUNTRY}'\n",
    "\n",
    "# create directory if it does not exist\n",
    "if not os.path.isdir(OUT_DIR):\n",
    "        os.makedirs(OUT_DIR, 0o775)\n",
    "        print(f'Directory created (mimer): ..{OUT_DIR.partition(\"globalpoverty1\")[-1]}')"
   ]
  },
  {
   "cell_type": "code",
   "execution_count": 17,
   "id": "31dadf56",
   "metadata": {
    "id": "7464707e"
   },
   "outputs": [],
   "source": [
    "@retry(tries=10, delay=1, backoff=2)\n",
    "def get_image_tile(point):\n",
    "    '''Retrieve image tile at given point, scale and dimension.  Write to directory'''\n",
    "    \n",
    "    # get ID and point-coordinates\n",
    "    ID = point['id']\n",
    "    point = ee.Geometry.Point(point['geometry']['coordinates'])\n",
    "    \n",
    "    # set up rectangular bound around point\n",
    "    ROI = point.buffer(500*10).bounds()  # tile dim: 1000*1000px (1px=10m)\n",
    "    \n",
    "    # images to retrieve\n",
    "    imgTarget_dhs = ru_ur_dhs.clip(ROI)\n",
    "    \n",
    "    # fetch the URL from which to download the image.\n",
    "    url = imgTarget_dhs.float().getDownloadUrl({\n",
    "        'scale': 10,\n",
    "        'dimensions': '1000x1000',\n",
    "        'format': 'GEO_TIFF'\n",
    "    })\n",
    "    r = requests.get(url) # send get request\n",
    "    \n",
    "    # save retrieved tile\n",
    "    if r.status_code == 200:  # HTTP GET: 200 OK\n",
    "        filename = OUT_DIR + f'/tile_{ID}.tif'\n",
    "        with open(filename, 'wb') as out_file:\n",
    "              out_file.write(r.content)\n",
    "    # retry, get request failed\n",
    "    else:\n",
    "        #print(f'{r.status_code}: {r.reason}')\n",
    "        raise HTTPException(status_code=r.status_code, detail=r.reason)\n",
    "    \n",
    "    return r.content\n"
   ]
  },
  {
   "cell_type": "code",
   "execution_count": 18,
   "id": "79755f99",
   "metadata": {
    "colab": {
     "base_uri": "https://localhost:8080/"
    },
    "id": "adba0e2a",
    "outputId": "2e27f237-abc7-40ec-9483-00186a1d3c14"
   },
   "outputs": [
    {
     "name": "stdout",
     "output_type": "stream",
     "text": [
      "Pool started\n",
      "tiles: 23533\n",
      "──────────\n",
      "chunk 1 / 5 done, 5000 / 23533 tiles, time: 213.4s\n",
      "chunk 2 / 5 done, 10000 / 23533 tiles, time: 197.5s\n",
      "chunk 3 / 5 done, 15000 / 23533 tiles, time: 165.6s\n",
      "chunk 4 / 5 done, 20000 / 23533 tiles, time: 144.8s\n",
      "chunk 5 / 5 done, 23533 / 23533 tiles, time: 102.7s\n",
      "Download complete: Democratic Republic of the Congo\n"
     ]
    }
   ],
   "source": [
    "# start pool\n",
    "pool = multiprocessing.Pool(40)  # earth-engine default parallel request limit: 40\n",
    "print('Pool started')\n",
    "\n",
    "# settings for data retrival \n",
    "offset = 0\n",
    "max_chunk_size = 5000  # set to at least 1000 \n",
    "num_tiles = pointsROI.size().getInfo()\n",
    "print(f'tiles: {num_tiles}')\n",
    "print(u'\\u2500' * 10)\n",
    "\n",
    "chunk_idx = 1\n",
    "num_chunks = (num_tiles // max_chunk_size) + (1 if num_tiles % max_chunk_size != 0 else 0)\n",
    "\n",
    "# retrieve one data chunk at a time\n",
    "while offset < num_tiles:\n",
    "    \n",
    "    t0 = time.time()\n",
    "    \n",
    "    # make a list of the points\n",
    "    image_points = pointsROI.toList(max_chunk_size, offset).getInfo()\n",
    "\n",
    "    # get corresponding image tiles\n",
    "    pool.map(get_image_tile, image_points)\n",
    "    \n",
    "    # chunk completed\n",
    "    t1 = time.time()\n",
    "    print(f'chunk {chunk_idx} / {num_chunks} done, {offset + len(image_points)} / {num_tiles} tiles, time: {t1 - t0:.1f}s')\n",
    "    chunk_idx += 1\n",
    "    offset += max_chunk_size\n",
    "\n",
    "print(f'Download complete: {COUNTRY}')\n",
    "\n",
    "#close pool\n",
    "pool.close()  \n",
    "pool.join()"
   ]
  },
  {
   "cell_type": "code",
   "execution_count": null,
   "id": "4c7c8d88",
   "metadata": {},
   "outputs": [],
   "source": []
  }
 ],
 "metadata": {
  "colab": {
   "provenance": []
  },
  "kernelspec": {
   "display_name": "Python 3 (ipykernel)",
   "language": "python",
   "name": "python3"
  },
  "language_info": {
   "codemirror_mode": {
    "name": "ipython",
    "version": 3
   },
   "file_extension": ".py",
   "mimetype": "text/x-python",
   "name": "python",
   "nbconvert_exporter": "python",
   "pygments_lexer": "ipython3",
   "version": "3.8.13"
  }
 },
 "nbformat": 4,
 "nbformat_minor": 5
}
