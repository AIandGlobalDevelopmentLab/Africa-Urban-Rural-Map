{
 "cells": [
  {
   "cell_type": "markdown",
   "id": "976a2fe6",
   "metadata": {
    "id": "31980095"
   },
   "source": [
    "##### Imports"
   ]
  },
  {
   "cell_type": "code",
   "execution_count": 44,
   "id": "18048d93",
   "metadata": {
    "id": "b1892ac3"
   },
   "outputs": [],
   "source": [
    "import os\n",
    "import time\n",
    "import ee\n",
    "import requests\n",
    "import shutil, sys\n",
    "import logging\n",
    "import multiprocessing\n",
    "from retry import retry"
   ]
  },
  {
   "cell_type": "markdown",
   "id": "ee3e16cc",
   "metadata": {
    "id": "32d16937"
   },
   "source": [
    "### Earth Engine Authentication"
   ]
  },
  {
   "cell_type": "code",
   "execution_count": 45,
   "id": "0a3f1b5a",
   "metadata": {
    "colab": {
     "base_uri": "https://localhost:8080/"
    },
    "id": "928e2080",
    "outputId": "7f22838f-0cb6-472f-c01f-115a2e64457c"
   },
   "outputs": [],
   "source": [
    "#ee.Authenticate()"
   ]
  },
  {
   "cell_type": "code",
   "execution_count": 46,
   "id": "9119f920",
   "metadata": {
    "id": "1c8bbbf2"
   },
   "outputs": [],
   "source": [
    "ee.Initialize(opt_url='https://earthengine-highvolume.googleapis.com')"
   ]
  },
  {
   "cell_type": "markdown",
   "id": "63266a32",
   "metadata": {
    "id": "da4b6aed"
   },
   "source": [
    "### Data Loading"
   ]
  },
  {
   "cell_type": "code",
   "execution_count": 47,
   "id": "ff0802fe",
   "metadata": {
    "id": "5d6c9a93"
   },
   "outputs": [],
   "source": [
    "def mask_L8_SR (img):\n",
    "    '''takes in an image and sets a mask for its low quality pixels'''\n",
    "    qa = img.select('QA_PIXEL')\n",
    "    cloud = qa.bitwiseAnd(1 << 3)\n",
    "    shadow = qa.bitwiseAnd(1 << 4)\n",
    "    Mask = (cloud.neq(0)).Or(shadow.neq(0)).uint8()\n",
    "    return  img.updateMask(Mask.eq(0))\n"
   ]
  },
  {
   "cell_type": "markdown",
   "id": "794a07bb",
   "metadata": {},
   "source": [
    "#### Year selection"
   ]
  },
  {
   "cell_type": "code",
   "execution_count": 48,
   "id": "bd174b9a",
   "metadata": {},
   "outputs": [
    {
     "name": "stdout",
     "output_type": "stream",
     "text": [
      "YEAR: 2008\n"
     ]
    }
   ],
   "source": [
    "# ---> ENTER Year BELOW <---\n",
    "YEAR = 2008\n",
    "print(f'YEAR: {YEAR}')"
   ]
  },
  {
   "cell_type": "markdown",
   "id": "bef2b42e",
   "metadata": {
    "id": "fb3fff8c"
   },
   "source": [
    "#### Country selection"
   ]
  },
  {
   "cell_type": "code",
   "execution_count": 49,
   "id": "a148f204",
   "metadata": {
    "colab": {
     "base_uri": "https://localhost:8080/"
    },
    "id": "ce6009e0",
    "outputId": "1bb37969-908b-4a44-8e17-84fa3ccf5dcb"
   },
   "outputs": [
    {
     "name": "stdout",
     "output_type": "stream",
     "text": [
      "COUNTRY: Nigeria, POINTS: 9294\n"
     ]
    }
   ],
   "source": [
    "# ---> ENTER COUNTRY BELOW <---\n",
    "COUNTRY = \"Nigeria\"\n",
    "\n",
    "countries = ee.FeatureCollection(\"FAO/GAUL/2015/level0\")\n",
    "border = countries.filter(ee.Filter.eq('ADM0_NAME', COUNTRY))\n",
    "img = ee.Image(1).clip(border)\n",
    "\n",
    "pointsROI = img.stratifiedSample(numPoints = 1000000,\n",
    "                                classBand = 'constant',\n",
    "                                region = border,\n",
    "                                scale = 10000,\n",
    "                                geometries = True)\n",
    "\n",
    "print(f'COUNTRY: {COUNTRY}, POINTS: {pointsROI.size().getInfo()}')"
   ]
  },
  {
   "cell_type": "markdown",
   "id": "51276f9d",
   "metadata": {
    "id": "5f7b15d8"
   },
   "source": [
    "#### Datasets"
   ]
  },
  {
   "cell_type": "code",
   "execution_count": 50,
   "id": "f1966710",
   "metadata": {
    "id": "93d891c7"
   },
   "outputs": [],
   "source": [
    "# Landsat-8 (input)\n",
    "L5 = (ee.ImageCollection(\"LANDSAT/LT05/C02/T1_L2\")\n",
    "                .filterDate(f'{YEAR}-01-01',f'{YEAR + 1}-01-01')\n",
    "                .select(['SR_B1','SR_B2','SR_B3','SR_B4','SR_B5','SR_B7']\n",
    "                        ,['BLUE', 'GREEN', 'RED', 'NIR', 'SWIR1', 'SWIR2'])).median() \n",
    "# .map(lambda x: mask_L8_SR(x)"
   ]
  },
  {
   "cell_type": "code",
   "execution_count": 51,
   "id": "d2ed6111",
   "metadata": {
    "id": "188070aa"
   },
   "outputs": [],
   "source": [
    "# Nightlight (input)\n",
    "DMSP = (ee.ImageCollection(\"BNU/FGS/CCNL/v1\")\n",
    "                  .filterDate(f'{YEAR}-01-01',f'{YEAR + 1}-01-01')\n",
    "                  .select(['b1'],['NL'])).median()\n"
   ]
  },
  {
   "cell_type": "code",
   "execution_count": null,
   "id": "c2c5bce7",
   "metadata": {
    "id": "537590a6"
   },
   "outputs": [],
   "source": []
  },
  {
   "cell_type": "code",
   "execution_count": null,
   "id": "6a85f224",
   "metadata": {},
   "outputs": [],
   "source": []
  },
  {
   "cell_type": "markdown",
   "id": "a44acca0",
   "metadata": {
    "id": "06eba35c"
   },
   "source": [
    "#### Data retrieval"
   ]
  },
  {
   "cell_type": "code",
   "execution_count": 52,
   "id": "d44c7654",
   "metadata": {},
   "outputs": [],
   "source": [
    "# specify output directory\n",
    "OUT_DIR = f'/mimer/NOBACKUP/groups/globalpoverty1/albin_and_albin/lagos/input'\n",
    "\n",
    "# create directory if it does not exist\n",
    "if not os.path.isdir(OUT_DIR):\n",
    "        os.makedirs(OUT_DIR, 0o775)\n",
    "        print(f'Directory created (mimer): ..{OUT_DIR.partition(\"globalpoverty1\")[-1]}')"
   ]
  },
  {
   "cell_type": "code",
   "execution_count": 53,
   "id": "ec1b652d",
   "metadata": {
    "id": "7464707e"
   },
   "outputs": [],
   "source": [
    "@retry(tries=10, delay=1, backoff=2)\n",
    "def get_image_tile(point):\n",
    "    '''Retrieve image tile at given point, scale and dimension.  Write to directory'''\n",
    "    \n",
    "    # get ID and point-coordinates\n",
    "    ID = point['id']\n",
    "    point = ee.Geometry.Point(point['geometry']['coordinates'])\n",
    "    \n",
    "    # set up rectangular bound around point\n",
    "    ROI = point.buffer(500*10).bounds()  # tile dim: 1000*1000px (1px=10m)\n",
    "    \n",
    "    # images to retrieve\n",
    "    imgLandsat = L5.clip(ROI)\n",
    "    imgNL = DMSP.clip(ROI)\n",
    "    \n",
    "    # concatenate input\n",
    "    #imageInput = ee.Image.cat([imgLandsat, imgNL, imgSMOD, imgTarget_esa, imgTarget_esri])\n",
    "    imageInput = ee.Image.cat([imgLandsat, imgNL])\n",
    "\n",
    "    # fetch the URL from which to download the image.\n",
    "    url = imageInput.float().getDownloadUrl({\n",
    "        'scale': 10,\n",
    "        'dimensions': '1000x1000',\n",
    "        'format': 'GEO_TIFF'\n",
    "    })\n",
    "    r = requests.get(url) # send get request\n",
    "    \n",
    "    # save retrieved tile\n",
    "    if r.status_code == 200:  # HTTP GET: 200 OK\n",
    "        filename = OUT_DIR + f'/tile_{ID}.tif_{YEAR}_test'\n",
    "        with open(filename, 'wb') as out_file:\n",
    "              out_file.write(r.content)\n",
    "    # retry, get request failed\n",
    "    else:\n",
    "        #print(f'{r.status_code}: {r.reason}')\n",
    "        raise HTTPException(status_code=r.status_code, detail=r.reason)\n",
    "    \n",
    "    return r.content\n"
   ]
  },
  {
   "cell_type": "code",
   "execution_count": null,
   "id": "d24f866e",
   "metadata": {
    "colab": {
     "base_uri": "https://localhost:8080/"
    },
    "id": "adba0e2a",
    "outputId": "2e27f237-abc7-40ec-9483-00186a1d3c14"
   },
   "outputs": [
    {
     "name": "stdout",
     "output_type": "stream",
     "text": [
      "redownload complete: Nigeria, 2008, tile_483\n",
      "redownload complete: Nigeria, 2008, tile_5412\n",
      "redownload complete: Nigeria, 2008, tile_3324\n"
     ]
    }
   ],
   "source": [
    "# make a list of the points\n",
    "image_points = pointsROI.toList(pointsROI.size().getInfo()).getInfo()\n",
    "\n",
    "# point indices (found by visual inspection in ee)\n",
    "im_indices = [483, 5412, 3324, \n",
    "              7601, 4497, 4254, \n",
    "              3545, 7904, 2557]\n",
    "\n",
    "for im_idx in im_indices:    \n",
    "    \n",
    "    # retrieve one point at a time\n",
    "    point_to_download = image_points[im_idx]\n",
    "\n",
    "    # get corresponding image tiles\n",
    "    get_image_tile(point_to_download)\n",
    "\n",
    "    print(f'redownload complete: {COUNTRY}, {YEAR}, tile_{point_to_download[\"id\"]}')"
   ]
  },
  {
   "cell_type": "code",
   "execution_count": null,
   "id": "1fbb9c1b",
   "metadata": {},
   "outputs": [],
   "source": [
    "print(point_to_download[\"id\"])"
   ]
  },
  {
   "cell_type": "code",
   "execution_count": null,
   "id": "8aae580c",
   "metadata": {},
   "outputs": [],
   "source": []
  }
 ],
 "metadata": {
  "colab": {
   "provenance": []
  },
  "kernelspec": {
   "display_name": "Python 3 (ipykernel)",
   "language": "python",
   "name": "python3"
  },
  "language_info": {
   "codemirror_mode": {
    "name": "ipython",
    "version": 3
   },
   "file_extension": ".py",
   "mimetype": "text/x-python",
   "name": "python",
   "nbconvert_exporter": "python",
   "pygments_lexer": "ipython3",
   "version": "3.8.13"
  }
 },
 "nbformat": 4,
 "nbformat_minor": 5
}
