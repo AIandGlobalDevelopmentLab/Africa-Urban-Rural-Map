{
 "cells": [
  {
   "cell_type": "markdown",
   "id": "f573928d",
   "metadata": {
    "id": "31980095"
   },
   "source": [
    "##### Imports"
   ]
  },
  {
   "cell_type": "code",
   "execution_count": 1,
   "id": "f378a8d5",
   "metadata": {
    "id": "b1892ac3"
   },
   "outputs": [],
   "source": [
    "import os\n",
    "import time\n",
    "import ee\n",
    "import requests\n",
    "import shutil, sys\n",
    "import logging\n",
    "import multiprocessing\n",
    "from retry import retry"
   ]
  },
  {
   "cell_type": "markdown",
   "id": "48373e5b",
   "metadata": {
    "id": "32d16937"
   },
   "source": [
    "### Earth Engine Authentication"
   ]
  },
  {
   "cell_type": "code",
   "execution_count": null,
   "id": "59332149",
   "metadata": {
    "colab": {
     "base_uri": "https://localhost:8080/"
    },
    "id": "928e2080",
    "outputId": "7f22838f-0cb6-472f-c01f-115a2e64457c"
   },
   "outputs": [
    {
     "data": {
      "text/html": [
       "<p>To authorize access needed by Earth Engine, open the following\n",
       "        URL in a web browser and follow the instructions:</p>\n",
       "        <p><a href=https://code.earthengine.google.com/client-auth?scopes=https%3A//www.googleapis.com/auth/earthengine%20https%3A//www.googleapis.com/auth/devstorage.full_control&request_id=-m3pDrRexjTS0fjhbeYd7w6YAfV1lnLn_jXOiErUx_k&tc=2YiEZnvm_GmSWahLEvx0lR2skSOs5_cFAf71TGyKMKg&cc=pgnhc1vcZsvLq0fXcfGeoCKK8PMPa6DvhEM8Z8tAW8E>https://code.earthengine.google.com/client-auth?scopes=https%3A//www.googleapis.com/auth/earthengine%20https%3A//www.googleapis.com/auth/devstorage.full_control&request_id=-m3pDrRexjTS0fjhbeYd7w6YAfV1lnLn_jXOiErUx_k&tc=2YiEZnvm_GmSWahLEvx0lR2skSOs5_cFAf71TGyKMKg&cc=pgnhc1vcZsvLq0fXcfGeoCKK8PMPa6DvhEM8Z8tAW8E</a></p>\n",
       "        <p>The authorization workflow will generate a code, which you should paste in the box below.</p>\n",
       "        "
      ],
      "text/plain": [
       "<IPython.core.display.HTML object>"
      ]
     },
     "metadata": {},
     "output_type": "display_data"
    }
   ],
   "source": [
    "ee.Authenticate()"
   ]
  },
  {
   "cell_type": "code",
   "execution_count": null,
   "id": "79c8d021",
   "metadata": {
    "id": "1c8bbbf2"
   },
   "outputs": [],
   "source": [
    "ee.Initialize(opt_url='https://earthengine-highvolume.googleapis.com')"
   ]
  },
  {
   "cell_type": "markdown",
   "id": "36a345c9",
   "metadata": {
    "id": "da4b6aed"
   },
   "source": [
    "### Data Loading"
   ]
  },
  {
   "cell_type": "code",
   "execution_count": null,
   "id": "c2e004d6",
   "metadata": {
    "id": "5d6c9a93"
   },
   "outputs": [],
   "source": [
    "def mask_L8_SR (img):\n",
    "    '''takes in an image and sets a mask for its low quality pixels'''\n",
    "    qa = img.select('QA_PIXEL')\n",
    "    cloud = qa.bitwiseAnd(1 << 3)\n",
    "    shadow = qa.bitwiseAnd(1 << 4)\n",
    "    Mask = (cloud.neq(0)).Or(shadow.neq(0)).uint8()\n",
    "    return  img.updateMask(Mask.eq(0))\n"
   ]
  },
  {
   "cell_type": "markdown",
   "id": "a32ee790",
   "metadata": {},
   "source": [
    "#### Year selection"
   ]
  },
  {
   "cell_type": "code",
   "execution_count": null,
   "id": "a41142b5",
   "metadata": {},
   "outputs": [],
   "source": [
    "# ---> ENTER Year BELOW <---\n",
    "YEAR = 2021\n",
    "print(f'YEAR: {YEAR}')"
   ]
  },
  {
   "cell_type": "markdown",
   "id": "885e4759",
   "metadata": {
    "id": "fb3fff8c"
   },
   "source": [
    "#### Country selection"
   ]
  },
  {
   "cell_type": "code",
   "execution_count": null,
   "id": "376e32b4",
   "metadata": {
    "colab": {
     "base_uri": "https://localhost:8080/"
    },
    "id": "ce6009e0",
    "outputId": "1bb37969-908b-4a44-8e17-84fa3ccf5dcb"
   },
   "outputs": [],
   "source": [
    "# ---> ENTER COUNTRY BELOW <---\n",
    "COUNTRY = \"Democratic Republic of the Congo\"\n",
    "\n",
    "countries = ee.FeatureCollection(\"FAO/GAUL/2015/level0\")\n",
    "border = countries.filter(ee.Filter.eq('ADM0_NAME', COUNTRY))\n",
    "img = ee.Image(1).clip(border)\n",
    "\n",
    "pointsROI = img.stratifiedSample(numPoints = 1000000,\n",
    "                                classBand = 'constant',\n",
    "                                region = border,\n",
    "                                scale = 10000,\n",
    "                                geometries = True)\n",
    "\n",
    "print(f'COUNTRY: {COUNTRY}, POINTS: {pointsROI.size().getInfo()}')"
   ]
  },
  {
   "cell_type": "markdown",
   "id": "cb7655d6",
   "metadata": {
    "id": "5f7b15d8"
   },
   "source": [
    "#### Datasets"
   ]
  },
  {
   "cell_type": "code",
   "execution_count": null,
   "id": "977a2df8",
   "metadata": {
    "id": "93d891c7"
   },
   "outputs": [],
   "source": [
    "# Landsat-8 (input)\n",
    "L8 = (ee.ImageCollection('LANDSAT/LC08/C02/T1_L2')\n",
    "                .filterDate(f'{YEAR}-01-01',f'{YEAR + 1}-01-01')\n",
    "                .map(lambda x: mask_L8_SR(x)\n",
    "                .select(['SR_B2','SR_B3','SR_B4','SR_B5','SR_B6','SR_B7']\n",
    "                        ,['BLUE', 'GREEN', 'RED', 'NIR', 'SWIR1', 'SWIR2']))).median() \n"
   ]
  },
  {
   "cell_type": "code",
   "execution_count": null,
   "id": "887b31e4",
   "metadata": {
    "id": "188070aa"
   },
   "outputs": [],
   "source": [
    "# Nightlight (input)\n",
    "VIIRS = (ee.ImageCollection('NOAA/VIIRS/DNB/MONTHLY_V1/VCMCFG')\n",
    "                  .filterDate(f'{YEAR}-01-01',f'{YEAR + 1}-01-01')\n",
    "                  .select(['avg_rad'],['NL'])).median()\n"
   ]
  },
  {
   "cell_type": "code",
   "execution_count": null,
   "id": "e532b2cc",
   "metadata": {
    "id": "537590a6"
   },
   "outputs": [],
   "source": [
    "# Esa WorldCover 2020 and ESRI LULC(target)\n",
    "esa_wc2020 = ee.ImageCollection(\"ESA/WorldCover/v100\").mosaic()\n",
    "esri_lulc10 = ee.ImageCollection(\"projects/sat-io/open-datasets/landcover/ESRI_Global-LULC_10m_TS\").filterDate('2020-01-01','2020-12-31').mosaic()\n"
   ]
  },
  {
   "cell_type": "code",
   "execution_count": null,
   "id": "3788dd9a",
   "metadata": {},
   "outputs": [],
   "source": [
    "# GHS_SMOD\n",
    "smod_asset = ee.Image('projects/ee-albinso/assets/GHS_SMOD_2020_GLOBE_REPROJECTED') #.reproject('epsg:4326', None, 1000)"
   ]
  },
  {
   "cell_type": "markdown",
   "id": "bc3f16c1",
   "metadata": {
    "id": "06eba35c"
   },
   "source": [
    "#### Data retrieval"
   ]
  },
  {
   "cell_type": "code",
   "execution_count": null,
   "id": "e275ca59",
   "metadata": {},
   "outputs": [],
   "source": [
    "# specify output directory\n",
    "OUT_DIR = f'/mimer/NOBACKUP/groups/globalpoverty1/albin_and_albin/raw_data_newest/{YEAR}/DemocraticRepublicoftheCongo'\n",
    "\n",
    "# create directory if it does not exist\n",
    "if not os.path.isdir(OUT_DIR):\n",
    "        os.makedirs(OUT_DIR, 0o775)\n",
    "        print(f'Directory created (mimer): ..{OUT_DIR.partition(\"globalpoverty1\")[-1]}')"
   ]
  },
  {
   "cell_type": "code",
   "execution_count": null,
   "id": "b3277d0b",
   "metadata": {
    "id": "7464707e"
   },
   "outputs": [],
   "source": [
    "@retry(tries=10, delay=1, backoff=2)\n",
    "def get_image_tile(point):\n",
    "    '''Retrieve image tile at given point, scale and dimension.  Write to directory'''\n",
    "    \n",
    "    # get ID and point-coordinates\n",
    "    ID = point['id']\n",
    "    point = ee.Geometry.Point(point['geometry']['coordinates'])\n",
    "    \n",
    "    # set up rectangular bound around point\n",
    "    ROI = point.buffer(500*10).bounds()  # tile dim: 1000*1000px (1px=10m)\n",
    "    \n",
    "    # images to retrieve\n",
    "    imgLandsat = L8.clip(ROI)\n",
    "    imgNL = VIIRS.clip(ROI)\n",
    "    imgTarget_esa = esa_wc2020.clip(ROI)\n",
    "    imgTarget_esri = esri_lulc10.clip(ROI)\n",
    "    imgSMOD = smod_asset.clip(ROI)#.reproject('epsg:4326', None, 1000)\n",
    "    \n",
    "    # concatenate input\n",
    "    #imageInput = ee.Image.cat([imgLandsat, imgNL, imgSMOD, imgTarget_esa, imgTarget_esri])\n",
    "    imageInput = ee.Image.cat([imgLandsat, imgNL, imgTarget_esri])\n",
    "\n",
    "    # fetch the URL from which to download the image.\n",
    "    url = imageInput.float().getDownloadUrl({\n",
    "        'scale': 10,\n",
    "        'dimensions': '1000x1000',\n",
    "        'format': 'GEO_TIFF'\n",
    "    })\n",
    "    r = requests.get(url) # send get request\n",
    "    \n",
    "    # save retrieved tile\n",
    "    if r.status_code == 200:  # HTTP GET: 200 OK\n",
    "        filename = OUT_DIR + f'/tile_{ID}.tif_2021'\n",
    "        with open(filename, 'wb') as out_file:\n",
    "              out_file.write(r.content)\n",
    "    # retry, get request failed\n",
    "    else:\n",
    "        #print(f'{r.status_code}: {r.reason}')\n",
    "        raise HTTPException(status_code=r.status_code, detail=r.reason)\n",
    "    \n",
    "    return r.content\n"
   ]
  },
  {
   "cell_type": "code",
   "execution_count": null,
   "id": "b286fe54",
   "metadata": {
    "colab": {
     "base_uri": "https://localhost:8080/"
    },
    "id": "adba0e2a",
    "outputId": "2e27f237-abc7-40ec-9483-00186a1d3c14"
   },
   "outputs": [],
   "source": [
    "# make a list of the points\n",
    "image_points = pointsROI.toList(pointsROI.size().getInfo()).getInfo()\n",
    "\n",
    "point_to_download = image_points[15717]\n",
    "print(point_to_download)\n",
    "\n",
    "# get corresponding image tiles\n",
    "get_image_tile(point_to_download)\n",
    "\n",
    "print(f'redownload complete: {COUNTRY}, tile_{point_to_download[\"id\"]}')"
   ]
  },
  {
   "cell_type": "code",
   "execution_count": null,
   "id": "735b960e",
   "metadata": {},
   "outputs": [],
   "source": [
    "print(point_to_download[\"id\"])"
   ]
  },
  {
   "cell_type": "code",
   "execution_count": null,
   "id": "88867427",
   "metadata": {},
   "outputs": [],
   "source": []
  }
 ],
 "metadata": {
  "colab": {
   "provenance": []
  },
  "kernelspec": {
   "display_name": "Python 3 (ipykernel)",
   "language": "python",
   "name": "python3"
  },
  "language_info": {
   "codemirror_mode": {
    "name": "ipython",
    "version": 3
   },
   "file_extension": ".py",
   "mimetype": "text/x-python",
   "name": "python",
   "nbconvert_exporter": "python",
   "pygments_lexer": "ipython3",
   "version": "3.10.12"
  }
 },
 "nbformat": 4,
 "nbformat_minor": 5
}
