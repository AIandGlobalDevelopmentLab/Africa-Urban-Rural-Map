{
 "cells": [
  {
   "cell_type": "markdown",
   "id": "24a5c1a7",
   "metadata": {
    "id": "31980095"
   },
   "source": [
    "##### Imports"
   ]
  },
  {
   "cell_type": "code",
   "execution_count": 21,
   "id": "3cb1b354",
   "metadata": {
    "id": "b1892ac3"
   },
   "outputs": [],
   "source": [
    "import os\n",
    "import time\n",
    "import ee\n",
    "import requests\n",
    "import shutil, sys\n",
    "import logging\n",
    "import multiprocessing\n",
    "from retry import retry"
   ]
  },
  {
   "cell_type": "markdown",
   "id": "80480541",
   "metadata": {
    "id": "32d16937"
   },
   "source": [
    "### Earth Engine Authentication"
   ]
  },
  {
   "cell_type": "code",
   "execution_count": 22,
   "id": "1ac28687",
   "metadata": {
    "colab": {
     "base_uri": "https://localhost:8080/"
    },
    "id": "928e2080",
    "outputId": "7f22838f-0cb6-472f-c01f-115a2e64457c"
   },
   "outputs": [],
   "source": [
    "#ee.Authenticate()"
   ]
  },
  {
   "cell_type": "code",
   "execution_count": 23,
   "id": "0f39a1b2",
   "metadata": {
    "id": "1c8bbbf2"
   },
   "outputs": [],
   "source": [
    "ee.Initialize(opt_url='https://earthengine-highvolume.googleapis.com')"
   ]
  },
  {
   "cell_type": "markdown",
   "id": "2b168b93",
   "metadata": {
    "id": "da4b6aed"
   },
   "source": [
    "### Data Loading"
   ]
  },
  {
   "cell_type": "code",
   "execution_count": 24,
   "id": "a335dde8",
   "metadata": {
    "id": "5d6c9a93"
   },
   "outputs": [],
   "source": [
    "def mask_L8_SR (img):\n",
    "    '''takes in an image and sets a mask for its low quality pixels'''\n",
    "    qa = img.select('QA_PIXEL')\n",
    "    cloud = qa.bitwiseAnd(1 << 3)\n",
    "    shadow = qa.bitwiseAnd(1 << 4)\n",
    "    Mask = (cloud.neq(0)).Or(shadow.neq(0)).uint8()\n",
    "    return  img.updateMask(Mask.eq(0))\n"
   ]
  },
  {
   "cell_type": "markdown",
   "id": "7f72521f",
   "metadata": {},
   "source": [
    "#### Year selection"
   ]
  },
  {
   "cell_type": "code",
   "execution_count": 65,
   "id": "6d36090f",
   "metadata": {},
   "outputs": [
    {
     "name": "stdout",
     "output_type": "stream",
     "text": [
      "YEAR: 2013\n"
     ]
    }
   ],
   "source": [
    "# ---> ENTER Year BELOW <---\n",
    "YEAR = 2013\n",
    "print(f'YEAR: {YEAR}')"
   ]
  },
  {
   "cell_type": "markdown",
   "id": "3d7845c6",
   "metadata": {
    "id": "fb3fff8c"
   },
   "source": [
    "#### Country selection"
   ]
  },
  {
   "cell_type": "code",
   "execution_count": 66,
   "id": "7d53c193",
   "metadata": {
    "colab": {
     "base_uri": "https://localhost:8080/"
    },
    "id": "ce6009e0",
    "outputId": "1bb37969-908b-4a44-8e17-84fa3ccf5dcb"
   },
   "outputs": [
    {
     "name": "stdout",
     "output_type": "stream",
     "text": [
      "COUNTRY: C�te d'Ivoire, POINTS: 3267\n"
     ]
    }
   ],
   "source": [
    "# ---> ENTER COUNTRY BELOW <---\n",
    "COUNTRY = \"C�te d'Ivoire\"\n",
    "\n",
    "countries = ee.FeatureCollection(\"FAO/GAUL/2015/level0\")\n",
    "border = countries.filter(ee.Filter.eq('ADM0_NAME', COUNTRY))\n",
    "img = ee.Image(1).clip(border)\n",
    "\n",
    "pointsROI = img.stratifiedSample(numPoints = 1000000,\n",
    "                                classBand = 'constant',\n",
    "                                region = border,\n",
    "                                scale = 10000,\n",
    "                                geometries = True)\n",
    "\n",
    "print(f'COUNTRY: {COUNTRY}, POINTS: {pointsROI.size().getInfo()}')"
   ]
  },
  {
   "cell_type": "markdown",
   "id": "7f50da9a",
   "metadata": {
    "id": "5f7b15d8"
   },
   "source": [
    "#### Datasets"
   ]
  },
  {
   "cell_type": "code",
   "execution_count": 67,
   "id": "00487ae8",
   "metadata": {
    "id": "93d891c7"
   },
   "outputs": [],
   "source": [
    "# Landsat-8 (input)\n",
    "L8 = (ee.ImageCollection('LANDSAT/LC08/C02/T1_L2')\n",
    "                .filterDate(f'{YEAR}-01-01',f'{YEAR + 1}-01-01')\n",
    "                .map(lambda x: mask_L8_SR(x)\n",
    "                .select(['SR_B2','SR_B3','SR_B4','SR_B5','SR_B6','SR_B7']\n",
    "                        ,['BLUE', 'GREEN', 'RED', 'NIR', 'SWIR1', 'SWIR2']))).median() \n"
   ]
  },
  {
   "cell_type": "code",
   "execution_count": 68,
   "id": "4e48f0cd",
   "metadata": {
    "id": "188070aa"
   },
   "outputs": [],
   "source": [
    "# Nightlight (input)\n",
    "VIIRS = (ee.ImageCollection('NOAA/VIIRS/DNB/MONTHLY_V1/VCMCFG')\n",
    "                  .filterDate(f'{YEAR}-01-01',f'{YEAR + 1}-01-01')\n",
    "                  .select(['avg_rad'],['NL'])).median()\n"
   ]
  },
  {
   "cell_type": "code",
   "execution_count": null,
   "id": "812aa539",
   "metadata": {
    "id": "537590a6"
   },
   "outputs": [],
   "source": []
  },
  {
   "cell_type": "code",
   "execution_count": null,
   "id": "c541c899",
   "metadata": {},
   "outputs": [],
   "source": []
  },
  {
   "cell_type": "markdown",
   "id": "b6cdf1a7",
   "metadata": {
    "id": "06eba35c"
   },
   "source": [
    "#### Data retrieval"
   ]
  },
  {
   "cell_type": "code",
   "execution_count": 69,
   "id": "bce6f7f0",
   "metadata": {},
   "outputs": [],
   "source": [
    "# specify output directory\n",
    "LOCATION = 'abidjan'\n",
    "OUT_DIR = f'/mimer/NOBACKUP/groups/globalpoverty1/albin_and_albin/{LOCATION}'\n",
    "\n",
    "# create directory if it does not exist\n",
    "if not os.path.isdir(OUT_DIR):\n",
    "        os.makedirs(OUT_DIR, 0o775)\n",
    "        os.makedirs(OUT_DIR + '/input', 0o775)\n",
    "        os.makedirs(OUT_DIR + '/output', 0o775)\n",
    "        print(f'Directory created (mimer): ..{OUT_DIR.partition(\"globalpoverty1\")[-1]}')"
   ]
  },
  {
   "cell_type": "code",
   "execution_count": 70,
   "id": "8bbb1949",
   "metadata": {
    "id": "7464707e"
   },
   "outputs": [],
   "source": [
    "@retry(tries=10, delay=1, backoff=2)\n",
    "def get_image_tile(point):\n",
    "    '''Retrieve image tile at given point, scale and dimension.  Write to directory'''\n",
    "    \n",
    "    # get ID and point-coordinates\n",
    "    ID = point['id']\n",
    "    point = ee.Geometry.Point(point['geometry']['coordinates'])\n",
    "    \n",
    "    # set up rectangular bound around point\n",
    "    ROI = point.buffer(500*10).bounds()  # tile dim: 1000*1000px (1px=10m)\n",
    "    \n",
    "    # images to retrieve\n",
    "    imgLandsat = L8.clip(ROI)\n",
    "    imgNL = VIIRS.clip(ROI)\n",
    "    \n",
    "    # concatenate input\n",
    "    #imageInput = ee.Image.cat([imgLandsat, imgNL, imgSMOD, imgTarget_esa, imgTarget_esri])\n",
    "    imageInput = ee.Image.cat([imgLandsat, imgNL])\n",
    "\n",
    "    # fetch the URL from which to download the image.\n",
    "    url = imageInput.float().getDownloadUrl({\n",
    "        'scale': 10,\n",
    "        'dimensions': '1000x1000',\n",
    "        'format': 'GEO_TIFF'\n",
    "    })\n",
    "    r = requests.get(url) # send get request\n",
    "    \n",
    "    # save retrieved tile\n",
    "    if r.status_code == 200:  # HTTP GET: 200 OK\n",
    "        filename = OUT_DIR + f'/tile_{ID}.tif_{YEAR}'\n",
    "        with open(filename, 'wb') as out_file:\n",
    "              out_file.write(r.content)\n",
    "    # retry, get request failed\n",
    "    else:\n",
    "        #print(f'{r.status_code}: {r.reason}')\n",
    "        raise HTTPException(status_code=r.status_code, detail=r.reason)\n",
    "    \n",
    "    return r.content\n"
   ]
  },
  {
   "cell_type": "code",
   "execution_count": 71,
   "id": "2ec58bd0",
   "metadata": {
    "colab": {
     "base_uri": "https://localhost:8080/"
    },
    "id": "adba0e2a",
    "outputId": "2e27f237-abc7-40ec-9483-00186a1d3c14"
   },
   "outputs": [
    {
     "name": "stdout",
     "output_type": "stream",
     "text": [
      "redownload complete: C�te d'Ivoire, 2013, tile_2755\n",
      "redownload complete: C�te d'Ivoire, 2013, tile_1229\n",
      "redownload complete: C�te d'Ivoire, 2013, tile_1991\n",
      "redownload complete: C�te d'Ivoire, 2013, tile_1440\n",
      "redownload complete: C�te d'Ivoire, 2013, tile_872\n",
      "redownload complete: C�te d'Ivoire, 2013, tile_1252\n",
      "redownload complete: C�te d'Ivoire, 2013, tile_3078\n",
      "redownload complete: C�te d'Ivoire, 2013, tile_2118\n",
      "redownload complete: C�te d'Ivoire, 2013, tile_224\n",
      "redownload complete: C�te d'Ivoire, 2013, tile_2336\n",
      "redownload complete: C�te d'Ivoire, 2013, tile_1560\n",
      "redownload complete: C�te d'Ivoire, 2013, tile_2303\n",
      "redownload complete: C�te d'Ivoire, 2013, tile_135\n",
      "redownload complete: C�te d'Ivoire, 2013, tile_2921\n",
      "redownload complete: C�te d'Ivoire, 2013, tile_2072\n",
      "redownload complete: C�te d'Ivoire, 2013, tile_1565\n"
     ]
    }
   ],
   "source": [
    "# make a list of the points\n",
    "image_points = pointsROI.toList(pointsROI.size().getInfo()).getInfo()\n",
    "\n",
    "# point indices (found by visual inspection in ee)\n",
    "im_indices = [2755, 1229, 1991, 1440,\n",
    "              872, 1252, 3078, 2118,\n",
    "              224, 2336, 1560, 2303,\n",
    "              135, 2921, 2072, 1565]\n",
    "\n",
    "for im_idx in im_indices:    \n",
    "    \n",
    "    # retrieve one point at a time\n",
    "    point_to_download = image_points[im_idx]\n",
    "\n",
    "    # get corresponding image tiles\n",
    "    get_image_tile(point_to_download)\n",
    "\n",
    "    print(f'redownload complete: {COUNTRY}, {YEAR}, tile_{point_to_download[\"id\"]}')"
   ]
  },
  {
   "cell_type": "code",
   "execution_count": null,
   "id": "ac3b7865",
   "metadata": {},
   "outputs": [],
   "source": []
  }
 ],
 "metadata": {
  "colab": {
   "provenance": []
  },
  "kernelspec": {
   "display_name": "Python 3 (ipykernel)",
   "language": "python",
   "name": "python3"
  },
  "language_info": {
   "codemirror_mode": {
    "name": "ipython",
    "version": 3
   },
   "file_extension": ".py",
   "mimetype": "text/x-python",
   "name": "python",
   "nbconvert_exporter": "python",
   "pygments_lexer": "ipython3",
   "version": "3.8.13"
  }
 },
 "nbformat": 4,
 "nbformat_minor": 5
}
