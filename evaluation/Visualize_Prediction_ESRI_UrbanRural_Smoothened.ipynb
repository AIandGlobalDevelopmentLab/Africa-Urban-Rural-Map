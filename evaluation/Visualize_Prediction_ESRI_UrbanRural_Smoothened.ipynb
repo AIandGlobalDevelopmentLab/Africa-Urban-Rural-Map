{
 "cells": [
  {
   "cell_type": "code",
   "execution_count": 22,
   "id": "d77095c1",
   "metadata": {},
   "outputs": [],
   "source": [
    "# ---imports---\n",
    "import sys\n",
    "import os\n",
    "import random\n",
    "sys.path.append('.')\n",
    "sys.path.append('..')\n",
    "\n",
    "import numpy as np\n",
    "import pandas as pd\n",
    "import torch\n",
    "import torch.nn.functional as F\n",
    "from torch.utils.data import DataLoader\n",
    "import lightning.pytorch as pl\n",
    "import rasterio\n",
    "\n",
    "from models.DeepLabV3_Lightning_ESRI_UrbanRural import DeepLabV3_Lightning_ESRI_UrbanRural\n",
    "\n",
    "from matplotlib import pyplot as plt\n",
    "from matplotlib.colors import ListedColormap\n",
    "from matplotlib import patches as mpatches"
   ]
  },
  {
   "cell_type": "markdown",
   "id": "607e10b1",
   "metadata": {},
   "source": [
    "### Cross-validation fold setup"
   ]
  },
  {
   "cell_type": "code",
   "execution_count": 23,
   "id": "79a4d944",
   "metadata": {},
   "outputs": [],
   "source": [
    "fold_1 = ['Algeria', 'Niger', 'Mauritania', 'Mozambique', 'CentralAfricanRepublic', 'Zimbabwe', 'Guinea', 'Malawi', 'Togo']\n",
    "fold_2 = ['DemocraticRepublicoftheCongo', 'Angola', 'Egypt', 'Zambia', 'Madagascar', 'Congo', 'Ghana', 'Eritrea', 'Guinea-Bissau']\n",
    "fold_3 = ['Sudan', 'Mali', 'UnitedRepublicofTanzania', 'Morocco', 'Botswana', 'CotedIvoire', 'Uganda', 'Benin', 'Lesotho']\n",
    "fold_4 = ['Libya', 'SouthAfrica', 'Nigeria', 'SouthSudan', 'Kenya', 'BurkinaFaso', 'Senegal', 'Liberia']\n",
    "fold_5 = ['Chad', 'Ethiopia', 'Namibia', 'Somalia', 'Cameroon', 'Gabon', 'Tunisia', 'SierraLeone', 'Burundi']\n",
    "\n",
    "training_folds =  fold_1 + fold_2 + fold_3\n",
    "val_fold = fold_4\n",
    "test_fold = fold_5"
   ]
  },
  {
   "cell_type": "markdown",
   "id": "3c276b58",
   "metadata": {},
   "source": [
    "### Codices"
   ]
  },
  {
   "cell_type": "code",
   "execution_count": 24,
   "id": "d2403918",
   "metadata": {},
   "outputs": [],
   "source": [
    "# --- Class Codices ---\n",
    "\n",
    "# -ESRI LULC 2020 (9 classes): class codec\n",
    "# 1(->0): Water\n",
    "# 2(->1): Tree\n",
    "# 4(->2): Flooded Vegetation\n",
    "# 5(->3): Crops\n",
    "# 7(->6): Built Area\n",
    "# 8(->4): Bare Ground\n",
    "# 9(->(-1)): Snow / Ice\n",
    "# 10(->(-1)): Clouds\n",
    "# 11(->5): Rangeland\n",
    "# 12(->(-1)): Missing\n",
    "esri_classes = [1, 2, 4, 5, 7, 8, 9, 10, 11, 12]\n",
    "labels = [0, 1, 2, 3, 6, 4, -1, -1, 5, -1]\n",
    "\n",
    "esri_class_to_index_map = np.zeros(max(esri_classes) + 1, dtype='int64')\n",
    "esri_class_to_index_map[esri_classes] = labels\n",
    "\n",
    "\n",
    "# ---GHS-SMOD 2020 (8 classes): class codec---\n",
    "# 30(->7): URBAN CENTRE GRID CELL\n",
    "# 23(->7): DENSE URBAN CLUSTER GRID CELL\n",
    "# 22(->7): SEMI-DENSE URBAN CLUSTER GRID CELL\n",
    "# 21(->7): SUBURBAN OR PERI-URBAN GRID CELL\n",
    "# 13(->6): RURAL CLUSTER GRID CELL\n",
    "# 12(->6): LOW DENSITY RURAL GRID CELL\n",
    "# 11(->6): VERY LOW DENSITY RURAL GRID CELL\n",
    "# 10(->6): WATER GRID CELL\n",
    "# NoData [-Inf] -> 7\n",
    "smod_classes = [10, 11, 12, 13, 21, 22, 23, 30]\n",
    "labels = [6, 6, 6, 6, 7, 7, 7, 7]\n",
    "\n",
    "smod_class_to_index_map = np.zeros(max(smod_classes) + 1, dtype='int64')\n",
    "smod_class_to_index_map[smod_classes] = labels"
   ]
  },
  {
   "cell_type": "markdown",
   "id": "d74a18f4",
   "metadata": {},
   "source": [
    "### Preprocessing"
   ]
  },
  {
   "cell_type": "code",
   "execution_count": 25,
   "id": "0c2a30f1",
   "metadata": {},
   "outputs": [],
   "source": [
    "def get_patches(im):\n",
    "    '''split each (1000,1000)-supertile into 36*(250,250)-subtiles'''\n",
    "    \n",
    "    # input preprocessing: normalize input bands to range (0.0, 1.0), mask missing data\n",
    "    im[0:6] = (im[0:6] - 1) / (65455 - 1)  # bands SR_B2 to SR_B7: BGR, NIR, SWIR1, SWIR2 (1, 65455)\n",
    "    nl_clipped = np.clip(im[6], a_min=-1.5, a_max=193565)\n",
    "    im[6] = (nl_clipped + 1.5) / (193565 + 1.5)   # band avg_rad: VIIRS (-1.5, 193565)\n",
    "\n",
    "    inf_mask = np.isinf(im[0])\n",
    "    im[0:6, inf_mask] = 0\n",
    "\n",
    "    im[1, np.isinf(im[1])] = 0\n",
    "    im[2, np.isinf(im[2])] = 0\n",
    "    \n",
    "    # loop through each subtile\n",
    "    for sub_tile_idx in range(36):\n",
    "            \n",
    "        # calculate offset\n",
    "        r = (sub_tile_idx // 6) * 150\n",
    "        c = (sub_tile_idx % 6) * 150\n",
    "\n",
    "        sub_tile = im[:, r:r+250, c:c+250]\n",
    "\n",
    "        # retrieve input\n",
    "        image = sub_tile[:7]\n",
    "\n",
    "        yield (image, _)\n"
   ]
  },
  {
   "cell_type": "markdown",
   "id": "6f2f4aab",
   "metadata": {},
   "source": [
    "### Load tile"
   ]
  },
  {
   "cell_type": "code",
   "execution_count": 26,
   "id": "93afafa6",
   "metadata": {},
   "outputs": [
    {
     "name": "stderr",
     "output_type": "stream",
     "text": [
      "Warning 1: TIFFReadDirectory:Sum of Photometric type-related color channels and ExtraSamples doesn't match SamplesPerPixel. Defining non-color channels as ExtraSamples.\n"
     ]
    },
    {
     "data": {
      "text/plain": [
       "\"# prepare target for visualization\\nsmod = im[7]\\nsmod[np.isinf(smod)] = 10\\nsmod = smod.astype('int64')\\n\\nesri_labels = im[9]\\nesri_labels[np.isinf(esri_labels)] = -1\\nesri_labels = esri_labels.astype('int64')\\n\\nsmod = smod_class_to_index_map[smod]\\nesri_labels = esri_class_to_index_map[esri_labels]\\nnp.putmask(esri_labels, esri_labels == 6, smod)\\nnp.putmask(esri_labels, esri_labels == -1, 5)  # for visualizing missing data\""
      ]
     },
     "execution_count": 26,
     "metadata": {},
     "output_type": "execute_result"
    }
   ],
   "source": [
    "\"\"\"year = 2020\n",
    "im_path = f'/mimer/NOBACKUP/groups/globalpoverty1/albin_and_albin/raw_data/{year}/SierraLeone/tile_311.tif_{year}'\n",
    "im_path = f'/mimer/NOBACKUP/groups/globalpoverty1/albin_and_albin/raw_data/{year}/SierraLeone/tile_523.tif_{year}'\n",
    "im_path = f'/mimer/NOBACKUP/groups/globalpoverty1/albin_and_albin/raw_data/{year}/Angola/tile_8610.tif_{year}'\n",
    "im_path = f'/mimer/NOBACKUP/groups/globalpoverty1/albin_and_albin/raw_data/{year}/Egypt/tile_915.tif_{year}'\n",
    "im_path = f'/mimer/NOBACKUP/groups/globalpoverty1/albin_and_albin/raw_data/{year}/Madagascar/tile_3458.tif_{year}'\"\"\"\n",
    "\n",
    "# load tile to predict on\n",
    "year = '2022'\n",
    "im_path = f'/mimer/NOBACKUP/groups/globalpoverty1/albin_and_albin/raw_data/{year}/Nigeria/tile_483.tif_{year}'\n",
    "#im_path = f'/mimer/NOBACKUP/groups/globalpoverty1/albin_and_albin/raw_data/{year}/CotedIvoire/tile_1560.tif_{year}'\n",
    "im = rasterio.open(im_path).read()\n",
    "\n",
    "# iterator over subtiles\n",
    "im_iterator = get_patches(im)\n",
    "\n",
    "'''# prepare target for visualization\n",
    "smod = im[7]\n",
    "smod[np.isinf(smod)] = 10\n",
    "smod = smod.astype('int64')\n",
    "\n",
    "esri_labels = im[9]\n",
    "esri_labels[np.isinf(esri_labels)] = -1\n",
    "esri_labels = esri_labels.astype('int64')\n",
    "\n",
    "smod = smod_class_to_index_map[smod]\n",
    "esri_labels = esri_class_to_index_map[esri_labels]\n",
    "np.putmask(esri_labels, esri_labels == 6, smod)\n",
    "np.putmask(esri_labels, esri_labels == -1, 5)  # for visualizing missing data'''"
   ]
  },
  {
   "cell_type": "markdown",
   "id": "8d03b24d",
   "metadata": {},
   "source": [
    "### Load Model"
   ]
  },
  {
   "cell_type": "code",
   "execution_count": 27,
   "id": "152b9384",
   "metadata": {},
   "outputs": [],
   "source": [
    "# load model from checkpoint\n",
    "mimer = \"/mimer/NOBACKUP/groups/globalpoverty1/albin_and_albin/scripts_and_notebooks/job_scripts\"\n",
    "\n",
    "# model 1\n",
    "ckpt = mimer + \"/lightning_logs/deeplabv3_esri_urban_rural_12345/checkpoints/12345_epoch=19-step=126080-val_loss=0.440.ckpt\"\n",
    "\n",
    "# model 3\n",
    "#ckpt = mimer + \"/lightning_logs/deeplabv3_esri_urban_rural_34512/checkpoints/34512_epoch=19-step=106240-val_loss=0.369.ckpt\"\n",
    "\n",
    "lightning_model = DeepLabV3_Lightning_ESRI_UrbanRural.load_from_checkpoint(ckpt, training_folds=training_folds, validation_fold=fold_4)"
   ]
  },
  {
   "cell_type": "code",
   "execution_count": null,
   "id": "4de9c8dd",
   "metadata": {},
   "outputs": [],
   "source": []
  },
  {
   "cell_type": "markdown",
   "id": "ec44ae72",
   "metadata": {},
   "source": [
    "### Inference"
   ]
  },
  {
   "cell_type": "code",
   "execution_count": 28,
   "id": "8e164fd5",
   "metadata": {},
   "outputs": [],
   "source": [
    "# predict on selected tile, split in its subtiles\n",
    "predictions = []\n",
    "prediction_probs = []\n",
    "for idx, img in enumerate(im_iterator):\n",
    "    \n",
    "    in_data, labels = img\n",
    "    in_data = torch.tensor(in_data)\n",
    "    in_data = torch.unsqueeze(in_data, 0)\n",
    "\n",
    "    lightning_model.eval()\n",
    "\n",
    "    with torch.no_grad():\n",
    "        outputs = lightning_model(in_data)\n",
    "        class_probs = F.softmax(outputs, dim=1)\n",
    "        prediction_probs.append(class_probs)\n",
    "        class_predictions = torch.argmax(input=class_probs, dim=1)\n",
    "        \n",
    "        predictions.append(class_predictions)"
   ]
  },
  {
   "cell_type": "code",
   "execution_count": 29,
   "id": "5c65d0d4",
   "metadata": {},
   "outputs": [],
   "source": [
    "# assemble sub-tile predictions into supertile\n",
    "predictions_supertile = np.zeros((1000, 1000))\n",
    "for sub_tile_idx in range(36):\n",
    "\n",
    "    sub_tile = predictions[sub_tile_idx].squeeze()\n",
    "    \n",
    "    # calculate offset\n",
    "    r = (sub_tile_idx // 6) * 150\n",
    "    c = (sub_tile_idx % 6) * 150\n",
    "    \n",
    "    # adjust row margins\n",
    "    if r == 0:\n",
    "        row_start_margin = 0\n",
    "        row_end_margin = 200\n",
    "    elif r == 750:\n",
    "        row_start_margin = 50\n",
    "        row_end_margin = 250\n",
    "    else:\n",
    "        row_start_margin = 50\n",
    "        row_end_margin = 200\n",
    "    \n",
    "    # adjust col margins\n",
    "    if c == 0:\n",
    "        col_start_margin = 0\n",
    "        col_end_margin = 200\n",
    "    elif c == 750:\n",
    "        col_start_margin = 50\n",
    "        col_end_margin = 250\n",
    "    else:\n",
    "        col_start_margin = 50\n",
    "        col_end_margin = 200\n",
    "    \n",
    "    # put sub-tile in correct position\n",
    "    cut_subtile = sub_tile[row_start_margin:row_end_margin, col_start_margin:col_end_margin]\n",
    "    predictions_supertile[r+row_start_margin: r+row_end_margin, c+col_start_margin : c+col_end_margin] = cut_subtile"
   ]
  },
  {
   "cell_type": "markdown",
   "id": "ddabc823",
   "metadata": {},
   "source": [
    "### Plot"
   ]
  },
  {
   "cell_type": "code",
   "execution_count": 30,
   "id": "66607caa",
   "metadata": {},
   "outputs": [],
   "source": [
    "colormap_classes_rgb = np.array([[0, 100, 200], [0, 100, 0], [0, 207, 117], \n",
    "                                 [240, 150, 255], [180, 180, 180], [255, 187, 34], \n",
    "                                 [255, 0,0], [80,0,0]]) / 255  # RGB values for each class, normalized to (0, 1)\n",
    "\n",
    "class_labels = ['c1:Water', 'c2:Tree', 'c3:Flooded Vegetation', \n",
    "                'c4:Crops', 'c5:Bare Ground', 'c6:Rangeland', 'c7:Rural', 'c8:Urban']\n",
    "\n",
    "cmap_classes = ListedColormap(colormap_classes_rgb, name='ESRI_WorldCover_2020_class_cmap', N=8)"
   ]
  },
  {
   "cell_type": "markdown",
   "id": "692bb67f",
   "metadata": {},
   "source": [
    "#### Prediction"
   ]
  },
  {
   "cell_type": "code",
   "execution_count": 31,
   "id": "53b7f6cb",
   "metadata": {},
   "outputs": [
    {
     "data": {
      "text/plain": [
       "(-0.5, 999.5, 999.5, -0.5)"
      ]
     },
     "execution_count": 31,
     "metadata": {},
     "output_type": "execute_result"
    },
    {
     "data": {
      "image/png": "[encoded data removed]",
      "text/plain": [
       "<Figure size 640x480 with 1 Axes>"
      ]
     },
     "metadata": {},
     "output_type": "display_data"
    }
   ],
   "source": [
    "plt.imshow(predictions_supertile, cmap=cmap_classes, vmin=0, vmax=len(colormap_classes_rgb), interpolation='nearest')\n",
    "plt.axis('off')\n",
    "#plt.title('prediction')"
   ]
  },
  {
   "cell_type": "markdown",
   "id": "320f4f7e",
   "metadata": {},
   "source": [
    "#### Target"
   ]
  },
  {
   "cell_type": "code",
   "execution_count": 32,
   "id": "b34b643d",
   "metadata": {},
   "outputs": [
    {
     "ename": "NameError",
     "evalue": "name 'esri_labels' is not defined",
     "output_type": "error",
     "traceback": [
      "\u001b[0;31m---------------------------------------------------------------------------\u001b[0m",
      "\u001b[0;31mNameError\u001b[0m                                 Traceback (most recent call last)",
      "Cell \u001b[0;32mIn [32], line 1\u001b[0m\n\u001b[0;32m----> 1\u001b[0m plt\u001b[38;5;241m.\u001b[39mimshow(\u001b[43mesri_labels\u001b[49m, cmap\u001b[38;5;241m=\u001b[39mcmap_classes, vmin\u001b[38;5;241m=\u001b[39m\u001b[38;5;241m0\u001b[39m, vmax\u001b[38;5;241m=\u001b[39m\u001b[38;5;28mlen\u001b[39m(colormap_classes_rgb), interpolation\u001b[38;5;241m=\u001b[39m\u001b[38;5;124m'\u001b[39m\u001b[38;5;124mnearest\u001b[39m\u001b[38;5;124m'\u001b[39m)\n\u001b[1;32m      2\u001b[0m plt\u001b[38;5;241m.\u001b[39maxis(\u001b[38;5;124m'\u001b[39m\u001b[38;5;124moff\u001b[39m\u001b[38;5;124m'\u001b[39m)\n",
      "\u001b[0;31mNameError\u001b[0m: name 'esri_labels' is not defined"
     ]
    }
   ],
   "source": [
    "plt.imshow(esri_labels, cmap=cmap_classes, vmin=0, vmax=len(colormap_classes_rgb), interpolation='nearest')\n",
    "plt.axis('off')\n",
    "#plt.title('target')"
   ]
  },
  {
   "cell_type": "markdown",
   "id": "1efb68c1",
   "metadata": {},
   "source": [
    "#### Prediction vs Target"
   ]
  },
  {
   "cell_type": "code",
   "execution_count": null,
   "id": "418ce489",
   "metadata": {},
   "outputs": [],
   "source": [
    "# plot result\n",
    "fig, (ax1, ax2) = plt.subplots(1, 2)\n",
    "\n",
    "ax1.set_title('predictions')\n",
    "ax1.imshow(predictions_supertile, cmap=cmap_classes, vmin=0, vmax=len(colormap_classes_rgb), interpolation='nearest')\n",
    "\n",
    "ax2.set_title('target (esri2020)')\n",
    "ax2.imshow(esri_labels, cmap=cmap_classes, vmin=0, vmax=len(colormap_classes_rgb), interpolation='nearest',)\n",
    "\n",
    "patches = [mpatches.Patch(color=colormap_classes_rgb[i], label=class_labels[i]) for i in range(len(class_labels))]\n",
    "ax1.axis('off')\n",
    "ax2.axis('off')\n",
    "plt.legend(handles=patches, loc='upper left', bbox_to_anchor=(1.05, 1), borderaxespad=0.0)"
   ]
  },
  {
   "cell_type": "code",
   "execution_count": null,
   "id": "d2698633",
   "metadata": {},
   "outputs": [],
   "source": []
  },
  {
   "cell_type": "code",
   "execution_count": null,
   "id": "0d711750",
   "metadata": {},
   "outputs": [],
   "source": []
  }
 ],
 "metadata": {
  "kernelspec": {
   "display_name": "Python 3 (ipykernel)",
   "language": "python",
   "name": "python3"
  },
  "language_info": {
   "codemirror_mode": {
    "name": "ipython",
    "version": 3
   },
   "file_extension": ".py",
   "mimetype": "text/x-python",
   "name": "python",
   "nbconvert_exporter": "python",
   "pygments_lexer": "ipython3",
   "version": "3.8.13"
  }
 },
 "nbformat": 4,
 "nbformat_minor": 5
}
