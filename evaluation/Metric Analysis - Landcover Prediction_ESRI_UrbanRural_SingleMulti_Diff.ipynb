{
 "cells": [
  {
   "cell_type": "code",
   "execution_count": 39,
   "id": "9c4f42ed",
   "metadata": {},
   "outputs": [],
   "source": [
    "import pandas as pd\n",
    "import numpy as np\n",
    "import matplotlib\n",
    "import matplotlib.pyplot as plt\n",
    "import seaborn as sns"
   ]
  },
  {
   "cell_type": "code",
   "execution_count": 40,
   "id": "d7eb864e",
   "metadata": {},
   "outputs": [],
   "source": [
    "def style_diag(data):\n",
    "    '''author: CJR, https://stackoverflow.com/a/56916315'''\n",
    "    diag_mask = pd.DataFrame(\"\", index=data.index, columns=data.columns)\n",
    "    min_axis = min(diag_mask.shape)\n",
    "    diag_mask.iloc[range(min_axis), range(min_axis)] = 'background-color: yellow'\n",
    "    return diag_mask"
   ]
  },
  {
   "cell_type": "markdown",
   "id": "19fd49bb",
   "metadata": {},
   "source": [
    "# Metric Analysis: Landcover Prediction"
   ]
  },
  {
   "cell_type": "markdown",
   "id": "f78a6465",
   "metadata": {},
   "source": [
    "## Single-Year"
   ]
  },
  {
   "cell_type": "markdown",
   "id": "786e1a6a",
   "metadata": {},
   "source": [
    "### DataFrame (raw pixel count)"
   ]
  },
  {
   "cell_type": "code",
   "execution_count": 41,
   "id": "3bc46dd2",
   "metadata": {},
   "outputs": [
    {
     "data": {
      "text/html": [
       "<style type=\"text/css\">\n",
       "#T_1b0bb_row0_col0, #T_1b0bb_row1_col1, #T_1b0bb_row2_col2, #T_1b0bb_row3_col3, #T_1b0bb_row4_col4, #T_1b0bb_row5_col5, #T_1b0bb_row6_col6, #T_1b0bb_row7_col7 {\n",
       "  background-color: yellow;\n",
       "}\n",
       "</style>\n",
       "<table id=\"T_1b0bb\">\n",
       "  <thead>\n",
       "    <tr>\n",
       "      <th class=\"blank level0\" >&nbsp;</th>\n",
       "      <th id=\"T_1b0bb_level0_col0\" class=\"col_heading level0 col0\" >c1:Water</th>\n",
       "      <th id=\"T_1b0bb_level0_col1\" class=\"col_heading level0 col1\" >c2:Tree</th>\n",
       "      <th id=\"T_1b0bb_level0_col2\" class=\"col_heading level0 col2\" >c3:Flooded Vegetation</th>\n",
       "      <th id=\"T_1b0bb_level0_col3\" class=\"col_heading level0 col3\" >c4:Crops</th>\n",
       "      <th id=\"T_1b0bb_level0_col4\" class=\"col_heading level0 col4\" >c5:Bare Ground</th>\n",
       "      <th id=\"T_1b0bb_level0_col5\" class=\"col_heading level0 col5\" >c6:Rangeland</th>\n",
       "      <th id=\"T_1b0bb_level0_col6\" class=\"col_heading level0 col6\" >c7:Rural</th>\n",
       "      <th id=\"T_1b0bb_level0_col7\" class=\"col_heading level0 col7\" >c8:Urban</th>\n",
       "    </tr>\n",
       "  </thead>\n",
       "  <tbody>\n",
       "    <tr>\n",
       "      <th id=\"T_1b0bb_level0_row0\" class=\"row_heading level0 row0\" >c1:Water</th>\n",
       "      <td id=\"T_1b0bb_row0_col0\" class=\"data row0 col0\" >5065776515</td>\n",
       "      <td id=\"T_1b0bb_row0_col1\" class=\"data row0 col1\" >10672474</td>\n",
       "      <td id=\"T_1b0bb_row0_col2\" class=\"data row0 col2\" >170805886</td>\n",
       "      <td id=\"T_1b0bb_row0_col3\" class=\"data row0 col3\" >3515149</td>\n",
       "      <td id=\"T_1b0bb_row0_col4\" class=\"data row0 col4\" >23654129</td>\n",
       "      <td id=\"T_1b0bb_row0_col5\" class=\"data row0 col5\" >12288370</td>\n",
       "      <td id=\"T_1b0bb_row0_col6\" class=\"data row0 col6\" >4465311</td>\n",
       "      <td id=\"T_1b0bb_row0_col7\" class=\"data row0 col7\" >2671241</td>\n",
       "    </tr>\n",
       "    <tr>\n",
       "      <th id=\"T_1b0bb_level0_row1\" class=\"row_heading level0 row1\" >c2:Tree</th>\n",
       "      <td id=\"T_1b0bb_row1_col0\" class=\"data row1 col0\" >199659515</td>\n",
       "      <td id=\"T_1b0bb_row1_col1\" class=\"data row1 col1\" >165946056799</td>\n",
       "      <td id=\"T_1b0bb_row1_col2\" class=\"data row1 col2\" >1236321451</td>\n",
       "      <td id=\"T_1b0bb_row1_col3\" class=\"data row1 col3\" >358235956</td>\n",
       "      <td id=\"T_1b0bb_row1_col4\" class=\"data row1 col4\" >2610572</td>\n",
       "      <td id=\"T_1b0bb_row1_col5\" class=\"data row1 col5\" >5555206990</td>\n",
       "      <td id=\"T_1b0bb_row1_col6\" class=\"data row1 col6\" >275144978</td>\n",
       "      <td id=\"T_1b0bb_row1_col7\" class=\"data row1 col7\" >24895229</td>\n",
       "    </tr>\n",
       "    <tr>\n",
       "      <th id=\"T_1b0bb_level0_row2\" class=\"row_heading level0 row2\" >c3:Flooded Vegetation</th>\n",
       "      <td id=\"T_1b0bb_row2_col0\" class=\"data row2 col0\" >34232939</td>\n",
       "      <td id=\"T_1b0bb_row2_col1\" class=\"data row2 col1\" >50056412</td>\n",
       "      <td id=\"T_1b0bb_row2_col2\" class=\"data row2 col2\" >1399364058</td>\n",
       "      <td id=\"T_1b0bb_row2_col3\" class=\"data row2 col3\" >17885025</td>\n",
       "      <td id=\"T_1b0bb_row2_col4\" class=\"data row2 col4\" >420164</td>\n",
       "      <td id=\"T_1b0bb_row2_col5\" class=\"data row2 col5\" >54425926</td>\n",
       "      <td id=\"T_1b0bb_row2_col6\" class=\"data row2 col6\" >5753277</td>\n",
       "      <td id=\"T_1b0bb_row2_col7\" class=\"data row2 col7\" >496519</td>\n",
       "    </tr>\n",
       "    <tr>\n",
       "      <th id=\"T_1b0bb_level0_row3\" class=\"row_heading level0 row3\" >c4:Crops</th>\n",
       "      <td id=\"T_1b0bb_row3_col0\" class=\"data row3 col0\" >22740167</td>\n",
       "      <td id=\"T_1b0bb_row3_col1\" class=\"data row3 col1\" >237708386</td>\n",
       "      <td id=\"T_1b0bb_row3_col2\" class=\"data row3 col2\" >165032911</td>\n",
       "      <td id=\"T_1b0bb_row3_col3\" class=\"data row3 col3\" >4496305334</td>\n",
       "      <td id=\"T_1b0bb_row3_col4\" class=\"data row3 col4\" >39984527</td>\n",
       "      <td id=\"T_1b0bb_row3_col5\" class=\"data row3 col5\" >1514347360</td>\n",
       "      <td id=\"T_1b0bb_row3_col6\" class=\"data row3 col6\" >205110168</td>\n",
       "      <td id=\"T_1b0bb_row3_col7\" class=\"data row3 col7\" >144493421</td>\n",
       "    </tr>\n",
       "    <tr>\n",
       "      <th id=\"T_1b0bb_level0_row4\" class=\"row_heading level0 row4\" >c5:Bare Ground</th>\n",
       "      <td id=\"T_1b0bb_row4_col0\" class=\"data row4 col0\" >108780195</td>\n",
       "      <td id=\"T_1b0bb_row4_col1\" class=\"data row4 col1\" >15919163</td>\n",
       "      <td id=\"T_1b0bb_row4_col2\" class=\"data row4 col2\" >41022070</td>\n",
       "      <td id=\"T_1b0bb_row4_col3\" class=\"data row4 col3\" >114695054</td>\n",
       "      <td id=\"T_1b0bb_row4_col4\" class=\"data row4 col4\" >40393704941</td>\n",
       "      <td id=\"T_1b0bb_row4_col5\" class=\"data row4 col5\" >1041453391</td>\n",
       "      <td id=\"T_1b0bb_row4_col6\" class=\"data row4 col6\" >69275678</td>\n",
       "      <td id=\"T_1b0bb_row4_col7\" class=\"data row4 col7\" >41721354</td>\n",
       "    </tr>\n",
       "    <tr>\n",
       "      <th id=\"T_1b0bb_level0_row5\" class=\"row_heading level0 row5\" >c6:Rangeland</th>\n",
       "      <td id=\"T_1b0bb_row5_col0\" class=\"data row5 col0\" >215449475</td>\n",
       "      <td id=\"T_1b0bb_row5_col1\" class=\"data row5 col1\" >22618886021</td>\n",
       "      <td id=\"T_1b0bb_row5_col2\" class=\"data row5 col2\" >3601648984</td>\n",
       "      <td id=\"T_1b0bb_row5_col3\" class=\"data row5 col3\" >4153490455</td>\n",
       "      <td id=\"T_1b0bb_row5_col4\" class=\"data row5 col4\" >4926147877</td>\n",
       "      <td id=\"T_1b0bb_row5_col5\" class=\"data row5 col5\" >75117546242</td>\n",
       "      <td id=\"T_1b0bb_row5_col6\" class=\"data row5 col6\" >1285177820</td>\n",
       "      <td id=\"T_1b0bb_row5_col7\" class=\"data row5 col7\" >78222008</td>\n",
       "    </tr>\n",
       "    <tr>\n",
       "      <th id=\"T_1b0bb_level0_row6\" class=\"row_heading level0 row6\" >c7:Rural</th>\n",
       "      <td id=\"T_1b0bb_row6_col0\" class=\"data row6 col0\" >1629372</td>\n",
       "      <td id=\"T_1b0bb_row6_col1\" class=\"data row6 col1\" >12431995</td>\n",
       "      <td id=\"T_1b0bb_row6_col2\" class=\"data row6 col2\" >5563401</td>\n",
       "      <td id=\"T_1b0bb_row6_col3\" class=\"data row6 col3\" >14596549</td>\n",
       "      <td id=\"T_1b0bb_row6_col4\" class=\"data row6 col4\" >8771067</td>\n",
       "      <td id=\"T_1b0bb_row6_col5\" class=\"data row6 col5\" >22631132</td>\n",
       "      <td id=\"T_1b0bb_row6_col6\" class=\"data row6 col6\" >408418972</td>\n",
       "      <td id=\"T_1b0bb_row6_col7\" class=\"data row6 col7\" >71245206</td>\n",
       "    </tr>\n",
       "    <tr>\n",
       "      <th id=\"T_1b0bb_level0_row7\" class=\"row_heading level0 row7\" >c8:Urban</th>\n",
       "      <td id=\"T_1b0bb_row7_col0\" class=\"data row7 col0\" >3249570</td>\n",
       "      <td id=\"T_1b0bb_row7_col1\" class=\"data row7 col1\" >8139947</td>\n",
       "      <td id=\"T_1b0bb_row7_col2\" class=\"data row7 col2\" >4544763</td>\n",
       "      <td id=\"T_1b0bb_row7_col3\" class=\"data row7 col3\" >22957832</td>\n",
       "      <td id=\"T_1b0bb_row7_col4\" class=\"data row7 col4\" >1916050</td>\n",
       "      <td id=\"T_1b0bb_row7_col5\" class=\"data row7 col5\" >9494325</td>\n",
       "      <td id=\"T_1b0bb_row7_col6\" class=\"data row7 col6\" >276623821</td>\n",
       "      <td id=\"T_1b0bb_row7_col7\" class=\"data row7 col7\" >968715658</td>\n",
       "    </tr>\n",
       "  </tbody>\n",
       "</table>\n"
      ],
      "text/plain": [
       "<pandas.io.formats.style.Styler at 0x7feabe93d520>"
      ]
     },
     "execution_count": 41,
     "metadata": {},
     "output_type": "execute_result"
    }
   ],
   "source": [
    "mimer = '/mimer/NOBACKUP/groups/globalpoverty1/albin_and_albin/'\n",
    "file_singleyear = mimer + 'confusion_matrix_esri_urban_rural_34512_2018to2022.csv'\n",
    "\n",
    "df_raw_count = pd.read_csv(file_singleyear, index_col=0)\n",
    "df_raw_count.style.apply(style_diag, axis=None).format(precision=3)"
   ]
  },
  {
   "cell_type": "code",
   "execution_count": 42,
   "id": "e52474af",
   "metadata": {},
   "outputs": [
    {
     "data": {
      "text/plain": [
       "c1:Water                   5293849075\n",
       "c2:Tree                  173598131490\n",
       "c3:Flooded Vegetation      1562634320\n",
       "c4:Crops                   6825722274\n",
       "c5:Bare Ground            41826571846\n",
       "c6:Rangeland             111996568882\n",
       "c7:Rural                    545287694\n",
       "c8:Urban                   1295641966\n",
       "dtype: int64"
      ]
     },
     "execution_count": 42,
     "metadata": {},
     "output_type": "execute_result"
    }
   ],
   "source": [
    "df_raw_count.sum(axis=1)"
   ]
  },
  {
   "cell_type": "code",
   "execution_count": 43,
   "id": "fefafcbb",
   "metadata": {},
   "outputs": [
    {
     "data": {
      "text/plain": [
       "c1:Water                 0.015436\n",
       "c2:Tree                  0.506199\n",
       "c3:Flooded Vegetation    0.004557\n",
       "c4:Crops                 0.019903\n",
       "c5:Bare Ground           0.121963\n",
       "c6:Rangeland             0.326574\n",
       "c7:Rural                 0.001590\n",
       "c8:Urban                 0.003778\n",
       "dtype: float64"
      ]
     },
     "execution_count": 43,
     "metadata": {},
     "output_type": "execute_result"
    }
   ],
   "source": [
    "df_new = df_raw_count.sum(axis=1)\n",
    "df_new = df_new.div(df_new.sum(axis=0), axis=0)\n",
    "df_new"
   ]
  },
  {
   "cell_type": "markdown",
   "id": "d9e70c40",
   "metadata": {},
   "source": [
    "# Accuracy"
   ]
  },
  {
   "cell_type": "code",
   "execution_count": 44,
   "id": "39f76d14",
   "metadata": {},
   "outputs": [
    {
     "name": "stdout",
     "output_type": "stream",
     "text": [
      "accuracy: 0.8566866292424836\n"
     ]
    }
   ],
   "source": [
    "tp = df_raw_count.to_numpy().diagonal().sum()\n",
    "num_pixels = df_raw_count.to_numpy().sum()\n",
    "print(f'accuracy: {tp / num_pixels}')"
   ]
  },
  {
   "cell_type": "markdown",
   "id": "c1fa5320",
   "metadata": {},
   "source": [
    "# Recall"
   ]
  },
  {
   "cell_type": "markdown",
   "id": "37106cce",
   "metadata": {},
   "source": [
    "### DataFrame (recall)"
   ]
  },
  {
   "cell_type": "code",
   "execution_count": 45,
   "id": "51ffb2c0",
   "metadata": {},
   "outputs": [
    {
     "data": {
      "text/html": [
       "<style type=\"text/css\">\n",
       "#T_214b0_row0_col0, #T_214b0_row1_col1, #T_214b0_row2_col2, #T_214b0_row3_col3, #T_214b0_row4_col4, #T_214b0_row5_col5, #T_214b0_row6_col6, #T_214b0_row7_col7 {\n",
       "  background-color: yellow;\n",
       "}\n",
       "</style>\n",
       "<table id=\"T_214b0\">\n",
       "  <thead>\n",
       "    <tr>\n",
       "      <th class=\"blank level0\" >&nbsp;</th>\n",
       "      <th id=\"T_214b0_level0_col0\" class=\"col_heading level0 col0\" >c1:Water</th>\n",
       "      <th id=\"T_214b0_level0_col1\" class=\"col_heading level0 col1\" >c2:Tree</th>\n",
       "      <th id=\"T_214b0_level0_col2\" class=\"col_heading level0 col2\" >c3:Flooded Vegetation</th>\n",
       "      <th id=\"T_214b0_level0_col3\" class=\"col_heading level0 col3\" >c4:Crops</th>\n",
       "      <th id=\"T_214b0_level0_col4\" class=\"col_heading level0 col4\" >c5:Bare Ground</th>\n",
       "      <th id=\"T_214b0_level0_col5\" class=\"col_heading level0 col5\" >c6:Rangeland</th>\n",
       "      <th id=\"T_214b0_level0_col6\" class=\"col_heading level0 col6\" >c7:Rural</th>\n",
       "      <th id=\"T_214b0_level0_col7\" class=\"col_heading level0 col7\" >c8:Urban</th>\n",
       "    </tr>\n",
       "  </thead>\n",
       "  <tbody>\n",
       "    <tr>\n",
       "      <th id=\"T_214b0_level0_row0\" class=\"row_heading level0 row0\" >c1:Water</th>\n",
       "      <td id=\"T_214b0_row0_col0\" class=\"data row0 col0\" >0.957</td>\n",
       "      <td id=\"T_214b0_row0_col1\" class=\"data row0 col1\" >0.002</td>\n",
       "      <td id=\"T_214b0_row0_col2\" class=\"data row0 col2\" >0.032</td>\n",
       "      <td id=\"T_214b0_row0_col3\" class=\"data row0 col3\" >0.001</td>\n",
       "      <td id=\"T_214b0_row0_col4\" class=\"data row0 col4\" >0.004</td>\n",
       "      <td id=\"T_214b0_row0_col5\" class=\"data row0 col5\" >0.002</td>\n",
       "      <td id=\"T_214b0_row0_col6\" class=\"data row0 col6\" >0.001</td>\n",
       "      <td id=\"T_214b0_row0_col7\" class=\"data row0 col7\" >0.001</td>\n",
       "    </tr>\n",
       "    <tr>\n",
       "      <th id=\"T_214b0_level0_row1\" class=\"row_heading level0 row1\" >c2:Tree</th>\n",
       "      <td id=\"T_214b0_row1_col0\" class=\"data row1 col0\" >0.001</td>\n",
       "      <td id=\"T_214b0_row1_col1\" class=\"data row1 col1\" >0.956</td>\n",
       "      <td id=\"T_214b0_row1_col2\" class=\"data row1 col2\" >0.007</td>\n",
       "      <td id=\"T_214b0_row1_col3\" class=\"data row1 col3\" >0.002</td>\n",
       "      <td id=\"T_214b0_row1_col4\" class=\"data row1 col4\" >0.000</td>\n",
       "      <td id=\"T_214b0_row1_col5\" class=\"data row1 col5\" >0.032</td>\n",
       "      <td id=\"T_214b0_row1_col6\" class=\"data row1 col6\" >0.002</td>\n",
       "      <td id=\"T_214b0_row1_col7\" class=\"data row1 col7\" >0.000</td>\n",
       "    </tr>\n",
       "    <tr>\n",
       "      <th id=\"T_214b0_level0_row2\" class=\"row_heading level0 row2\" >c3:Flooded Vegetation</th>\n",
       "      <td id=\"T_214b0_row2_col0\" class=\"data row2 col0\" >0.022</td>\n",
       "      <td id=\"T_214b0_row2_col1\" class=\"data row2 col1\" >0.032</td>\n",
       "      <td id=\"T_214b0_row2_col2\" class=\"data row2 col2\" >0.896</td>\n",
       "      <td id=\"T_214b0_row2_col3\" class=\"data row2 col3\" >0.011</td>\n",
       "      <td id=\"T_214b0_row2_col4\" class=\"data row2 col4\" >0.000</td>\n",
       "      <td id=\"T_214b0_row2_col5\" class=\"data row2 col5\" >0.035</td>\n",
       "      <td id=\"T_214b0_row2_col6\" class=\"data row2 col6\" >0.004</td>\n",
       "      <td id=\"T_214b0_row2_col7\" class=\"data row2 col7\" >0.000</td>\n",
       "    </tr>\n",
       "    <tr>\n",
       "      <th id=\"T_214b0_level0_row3\" class=\"row_heading level0 row3\" >c4:Crops</th>\n",
       "      <td id=\"T_214b0_row3_col0\" class=\"data row3 col0\" >0.003</td>\n",
       "      <td id=\"T_214b0_row3_col1\" class=\"data row3 col1\" >0.035</td>\n",
       "      <td id=\"T_214b0_row3_col2\" class=\"data row3 col2\" >0.024</td>\n",
       "      <td id=\"T_214b0_row3_col3\" class=\"data row3 col3\" >0.659</td>\n",
       "      <td id=\"T_214b0_row3_col4\" class=\"data row3 col4\" >0.006</td>\n",
       "      <td id=\"T_214b0_row3_col5\" class=\"data row3 col5\" >0.222</td>\n",
       "      <td id=\"T_214b0_row3_col6\" class=\"data row3 col6\" >0.030</td>\n",
       "      <td id=\"T_214b0_row3_col7\" class=\"data row3 col7\" >0.021</td>\n",
       "    </tr>\n",
       "    <tr>\n",
       "      <th id=\"T_214b0_level0_row4\" class=\"row_heading level0 row4\" >c5:Bare Ground</th>\n",
       "      <td id=\"T_214b0_row4_col0\" class=\"data row4 col0\" >0.003</td>\n",
       "      <td id=\"T_214b0_row4_col1\" class=\"data row4 col1\" >0.000</td>\n",
       "      <td id=\"T_214b0_row4_col2\" class=\"data row4 col2\" >0.001</td>\n",
       "      <td id=\"T_214b0_row4_col3\" class=\"data row4 col3\" >0.003</td>\n",
       "      <td id=\"T_214b0_row4_col4\" class=\"data row4 col4\" >0.966</td>\n",
       "      <td id=\"T_214b0_row4_col5\" class=\"data row4 col5\" >0.025</td>\n",
       "      <td id=\"T_214b0_row4_col6\" class=\"data row4 col6\" >0.002</td>\n",
       "      <td id=\"T_214b0_row4_col7\" class=\"data row4 col7\" >0.001</td>\n",
       "    </tr>\n",
       "    <tr>\n",
       "      <th id=\"T_214b0_level0_row5\" class=\"row_heading level0 row5\" >c6:Rangeland</th>\n",
       "      <td id=\"T_214b0_row5_col0\" class=\"data row5 col0\" >0.002</td>\n",
       "      <td id=\"T_214b0_row5_col1\" class=\"data row5 col1\" >0.202</td>\n",
       "      <td id=\"T_214b0_row5_col2\" class=\"data row5 col2\" >0.032</td>\n",
       "      <td id=\"T_214b0_row5_col3\" class=\"data row5 col3\" >0.037</td>\n",
       "      <td id=\"T_214b0_row5_col4\" class=\"data row5 col4\" >0.044</td>\n",
       "      <td id=\"T_214b0_row5_col5\" class=\"data row5 col5\" >0.671</td>\n",
       "      <td id=\"T_214b0_row5_col6\" class=\"data row5 col6\" >0.011</td>\n",
       "      <td id=\"T_214b0_row5_col7\" class=\"data row5 col7\" >0.001</td>\n",
       "    </tr>\n",
       "    <tr>\n",
       "      <th id=\"T_214b0_level0_row6\" class=\"row_heading level0 row6\" >c7:Rural</th>\n",
       "      <td id=\"T_214b0_row6_col0\" class=\"data row6 col0\" >0.003</td>\n",
       "      <td id=\"T_214b0_row6_col1\" class=\"data row6 col1\" >0.023</td>\n",
       "      <td id=\"T_214b0_row6_col2\" class=\"data row6 col2\" >0.010</td>\n",
       "      <td id=\"T_214b0_row6_col3\" class=\"data row6 col3\" >0.027</td>\n",
       "      <td id=\"T_214b0_row6_col4\" class=\"data row6 col4\" >0.016</td>\n",
       "      <td id=\"T_214b0_row6_col5\" class=\"data row6 col5\" >0.042</td>\n",
       "      <td id=\"T_214b0_row6_col6\" class=\"data row6 col6\" >0.749</td>\n",
       "      <td id=\"T_214b0_row6_col7\" class=\"data row6 col7\" >0.131</td>\n",
       "    </tr>\n",
       "    <tr>\n",
       "      <th id=\"T_214b0_level0_row7\" class=\"row_heading level0 row7\" >c8:Urban</th>\n",
       "      <td id=\"T_214b0_row7_col0\" class=\"data row7 col0\" >0.003</td>\n",
       "      <td id=\"T_214b0_row7_col1\" class=\"data row7 col1\" >0.006</td>\n",
       "      <td id=\"T_214b0_row7_col2\" class=\"data row7 col2\" >0.004</td>\n",
       "      <td id=\"T_214b0_row7_col3\" class=\"data row7 col3\" >0.018</td>\n",
       "      <td id=\"T_214b0_row7_col4\" class=\"data row7 col4\" >0.001</td>\n",
       "      <td id=\"T_214b0_row7_col5\" class=\"data row7 col5\" >0.007</td>\n",
       "      <td id=\"T_214b0_row7_col6\" class=\"data row7 col6\" >0.214</td>\n",
       "      <td id=\"T_214b0_row7_col7\" class=\"data row7 col7\" >0.748</td>\n",
       "    </tr>\n",
       "  </tbody>\n",
       "</table>\n"
      ],
      "text/plain": [
       "<pandas.io.formats.style.Styler at 0x7feab6194a30>"
      ]
     },
     "execution_count": 45,
     "metadata": {},
     "output_type": "execute_result"
    }
   ],
   "source": [
    "df_recall = df_raw_count.div(df_raw_count.sum(axis=1), axis=0)\n",
    "df_recall.style.apply(style_diag, axis=None).format(precision=3)"
   ]
  },
  {
   "cell_type": "markdown",
   "id": "52015712",
   "metadata": {},
   "source": [
    "### Seaborn Heatmap (Recall)"
   ]
  },
  {
   "cell_type": "code",
   "execution_count": 46,
   "id": "886b110f",
   "metadata": {},
   "outputs": [
    {
     "data": {
      "text/plain": [
       "Text(0.5, 23.52222222222222, 'Predicted label')"
      ]
     },
     "execution_count": 46,
     "metadata": {},
     "output_type": "execute_result"
    },
    {
     "data": {
      "image/png": "[encoded data removed]",
      "text/plain": [
       "<Figure size 640x480 with 2 Axes>"
      ]
     },
     "metadata": {},
     "output_type": "display_data"
    }
   ],
   "source": [
    "heatmap = sns.heatmap(data=df_recall, vmin=0.0, vmax=1.0, cmap=plt.cm.Blues, annot=True, annot_kws={\"fontsize\":6.8}, fmt='.2f')\n",
    "heatmap.yaxis.set_ticklabels(heatmap.yaxis.get_ticklabels(), rotation=0, ha='right',fontsize=8)\n",
    "heatmap.xaxis.set_ticklabels(heatmap.xaxis.get_ticklabels(), rotation=45, ha='right',fontsize=8)\n",
    "plt.title('recall matrix')\n",
    "plt.ylabel('True label')\n",
    "plt.xlabel('Predicted label')"
   ]
  },
  {
   "cell_type": "markdown",
   "id": "b8cf8841",
   "metadata": {},
   "source": [
    "### Recall score (per class accuracy)"
   ]
  },
  {
   "cell_type": "code",
   "execution_count": 47,
   "id": "a047243d",
   "metadata": {},
   "outputs": [
    {
     "name": "stdout",
     "output_type": "stream",
     "text": [
      "                class  recall\n",
      "             c1:Water   0.957\n",
      "              c2:Tree   0.956\n",
      "c3:Flooded Vegetation   0.896\n",
      "             c4:Crops   0.659\n",
      "       c5:Bare Ground   0.966\n",
      "         c6:Rangeland   0.671\n",
      "             c7:Rural   0.749\n",
      "             c8:Urban   0.748\n"
     ]
    }
   ],
   "source": [
    "class_names = df_recall.columns\n",
    "confmat_diag = df_recall.to_numpy().diagonal()\n",
    "per_class_acc = dict(zip(class_names, confmat_diag))\n",
    "recall_scores = pd.DataFrame(per_class_acc.items(), columns=['class', 'recall'])\n",
    "recall_scores = recall_scores.round(3)\n",
    "print(recall_scores.to_string(index=False))"
   ]
  },
  {
   "cell_type": "code",
   "execution_count": 48,
   "id": "f7fc4331",
   "metadata": {},
   "outputs": [
    {
     "data": {
      "text/plain": [
       "array([0.95691744, 0.95592075, 0.89551601, 0.6587296 , 0.96574266,\n",
       "       0.67071292, 0.74899723, 0.74767234])"
      ]
     },
     "execution_count": 48,
     "metadata": {},
     "output_type": "execute_result"
    }
   ],
   "source": [
    "confmat_diag"
   ]
  },
  {
   "cell_type": "markdown",
   "id": "e79ef319",
   "metadata": {},
   "source": [
    "# Precision"
   ]
  },
  {
   "cell_type": "markdown",
   "id": "1a2839ac",
   "metadata": {},
   "source": [
    "### DataFrame (precision)"
   ]
  },
  {
   "cell_type": "code",
   "execution_count": 49,
   "id": "2b947677",
   "metadata": {},
   "outputs": [
    {
     "data": {
      "text/html": [
       "<style type=\"text/css\">\n",
       "#T_59426_row0_col0, #T_59426_row1_col1, #T_59426_row2_col2, #T_59426_row3_col3, #T_59426_row4_col4, #T_59426_row5_col5, #T_59426_row6_col6, #T_59426_row7_col7 {\n",
       "  background-color: yellow;\n",
       "}\n",
       "</style>\n",
       "<table id=\"T_59426\">\n",
       "  <thead>\n",
       "    <tr>\n",
       "      <th class=\"blank level0\" >&nbsp;</th>\n",
       "      <th id=\"T_59426_level0_col0\" class=\"col_heading level0 col0\" >c1:Water</th>\n",
       "      <th id=\"T_59426_level0_col1\" class=\"col_heading level0 col1\" >c2:Tree</th>\n",
       "      <th id=\"T_59426_level0_col2\" class=\"col_heading level0 col2\" >c3:Flooded Vegetation</th>\n",
       "      <th id=\"T_59426_level0_col3\" class=\"col_heading level0 col3\" >c4:Crops</th>\n",
       "      <th id=\"T_59426_level0_col4\" class=\"col_heading level0 col4\" >c5:Bare Ground</th>\n",
       "      <th id=\"T_59426_level0_col5\" class=\"col_heading level0 col5\" >c6:Rangeland</th>\n",
       "      <th id=\"T_59426_level0_col6\" class=\"col_heading level0 col6\" >c7:Rural</th>\n",
       "      <th id=\"T_59426_level0_col7\" class=\"col_heading level0 col7\" >c8:Urban</th>\n",
       "    </tr>\n",
       "  </thead>\n",
       "  <tbody>\n",
       "    <tr>\n",
       "      <th id=\"T_59426_level0_row0\" class=\"row_heading level0 row0\" >c1:Water</th>\n",
       "      <td id=\"T_59426_row0_col0\" class=\"data row0 col0\" >0.896</td>\n",
       "      <td id=\"T_59426_row0_col1\" class=\"data row0 col1\" >0.000</td>\n",
       "      <td id=\"T_59426_row0_col2\" class=\"data row0 col2\" >0.026</td>\n",
       "      <td id=\"T_59426_row0_col3\" class=\"data row0 col3\" >0.000</td>\n",
       "      <td id=\"T_59426_row0_col4\" class=\"data row0 col4\" >0.001</td>\n",
       "      <td id=\"T_59426_row0_col5\" class=\"data row0 col5\" >0.000</td>\n",
       "      <td id=\"T_59426_row0_col6\" class=\"data row0 col6\" >0.002</td>\n",
       "      <td id=\"T_59426_row0_col7\" class=\"data row0 col7\" >0.002</td>\n",
       "    </tr>\n",
       "    <tr>\n",
       "      <th id=\"T_59426_level0_row1\" class=\"row_heading level0 row1\" >c2:Tree</th>\n",
       "      <td id=\"T_59426_row1_col0\" class=\"data row1 col0\" >0.035</td>\n",
       "      <td id=\"T_59426_row1_col1\" class=\"data row1 col1\" >0.878</td>\n",
       "      <td id=\"T_59426_row1_col2\" class=\"data row1 col2\" >0.187</td>\n",
       "      <td id=\"T_59426_row1_col3\" class=\"data row1 col3\" >0.039</td>\n",
       "      <td id=\"T_59426_row1_col4\" class=\"data row1 col4\" >0.000</td>\n",
       "      <td id=\"T_59426_row1_col5\" class=\"data row1 col5\" >0.067</td>\n",
       "      <td id=\"T_59426_row1_col6\" class=\"data row1 col6\" >0.109</td>\n",
       "      <td id=\"T_59426_row1_col7\" class=\"data row1 col7\" >0.019</td>\n",
       "    </tr>\n",
       "    <tr>\n",
       "      <th id=\"T_59426_level0_row2\" class=\"row_heading level0 row2\" >c3:Flooded Vegetation</th>\n",
       "      <td id=\"T_59426_row2_col0\" class=\"data row2 col0\" >0.006</td>\n",
       "      <td id=\"T_59426_row2_col1\" class=\"data row2 col1\" >0.000</td>\n",
       "      <td id=\"T_59426_row2_col2\" class=\"data row2 col2\" >0.211</td>\n",
       "      <td id=\"T_59426_row2_col3\" class=\"data row2 col3\" >0.002</td>\n",
       "      <td id=\"T_59426_row2_col4\" class=\"data row2 col4\" >0.000</td>\n",
       "      <td id=\"T_59426_row2_col5\" class=\"data row2 col5\" >0.001</td>\n",
       "      <td id=\"T_59426_row2_col6\" class=\"data row2 col6\" >0.002</td>\n",
       "      <td id=\"T_59426_row2_col7\" class=\"data row2 col7\" >0.000</td>\n",
       "    </tr>\n",
       "    <tr>\n",
       "      <th id=\"T_59426_level0_row3\" class=\"row_heading level0 row3\" >c4:Crops</th>\n",
       "      <td id=\"T_59426_row3_col0\" class=\"data row3 col0\" >0.004</td>\n",
       "      <td id=\"T_59426_row3_col1\" class=\"data row3 col1\" >0.001</td>\n",
       "      <td id=\"T_59426_row3_col2\" class=\"data row3 col2\" >0.025</td>\n",
       "      <td id=\"T_59426_row3_col3\" class=\"data row3 col3\" >0.490</td>\n",
       "      <td id=\"T_59426_row3_col4\" class=\"data row3 col4\" >0.001</td>\n",
       "      <td id=\"T_59426_row3_col5\" class=\"data row3 col5\" >0.018</td>\n",
       "      <td id=\"T_59426_row3_col6\" class=\"data row3 col6\" >0.081</td>\n",
       "      <td id=\"T_59426_row3_col7\" class=\"data row3 col7\" >0.108</td>\n",
       "    </tr>\n",
       "    <tr>\n",
       "      <th id=\"T_59426_level0_row4\" class=\"row_heading level0 row4\" >c5:Bare Ground</th>\n",
       "      <td id=\"T_59426_row4_col0\" class=\"data row4 col0\" >0.019</td>\n",
       "      <td id=\"T_59426_row4_col1\" class=\"data row4 col1\" >0.000</td>\n",
       "      <td id=\"T_59426_row4_col2\" class=\"data row4 col2\" >0.006</td>\n",
       "      <td id=\"T_59426_row4_col3\" class=\"data row4 col3\" >0.012</td>\n",
       "      <td id=\"T_59426_row4_col4\" class=\"data row4 col4\" >0.890</td>\n",
       "      <td id=\"T_59426_row4_col5\" class=\"data row4 col5\" >0.012</td>\n",
       "      <td id=\"T_59426_row4_col6\" class=\"data row4 col6\" >0.027</td>\n",
       "      <td id=\"T_59426_row4_col7\" class=\"data row4 col7\" >0.031</td>\n",
       "    </tr>\n",
       "    <tr>\n",
       "      <th id=\"T_59426_level0_row5\" class=\"row_heading level0 row5\" >c6:Rangeland</th>\n",
       "      <td id=\"T_59426_row5_col0\" class=\"data row5 col0\" >0.038</td>\n",
       "      <td id=\"T_59426_row5_col1\" class=\"data row5 col1\" >0.120</td>\n",
       "      <td id=\"T_59426_row5_col2\" class=\"data row5 col2\" >0.544</td>\n",
       "      <td id=\"T_59426_row5_col3\" class=\"data row5 col3\" >0.452</td>\n",
       "      <td id=\"T_59426_row5_col4\" class=\"data row5 col4\" >0.109</td>\n",
       "      <td id=\"T_59426_row5_col5\" class=\"data row5 col5\" >0.901</td>\n",
       "      <td id=\"T_59426_row5_col6\" class=\"data row5 col6\" >0.508</td>\n",
       "      <td id=\"T_59426_row5_col7\" class=\"data row5 col7\" >0.059</td>\n",
       "    </tr>\n",
       "    <tr>\n",
       "      <th id=\"T_59426_level0_row6\" class=\"row_heading level0 row6\" >c7:Rural</th>\n",
       "      <td id=\"T_59426_row6_col0\" class=\"data row6 col0\" >0.000</td>\n",
       "      <td id=\"T_59426_row6_col1\" class=\"data row6 col1\" >0.000</td>\n",
       "      <td id=\"T_59426_row6_col2\" class=\"data row6 col2\" >0.001</td>\n",
       "      <td id=\"T_59426_row6_col3\" class=\"data row6 col3\" >0.002</td>\n",
       "      <td id=\"T_59426_row6_col4\" class=\"data row6 col4\" >0.000</td>\n",
       "      <td id=\"T_59426_row6_col5\" class=\"data row6 col5\" >0.000</td>\n",
       "      <td id=\"T_59426_row6_col6\" class=\"data row6 col6\" >0.161</td>\n",
       "      <td id=\"T_59426_row6_col7\" class=\"data row6 col7\" >0.053</td>\n",
       "    </tr>\n",
       "    <tr>\n",
       "      <th id=\"T_59426_level0_row7\" class=\"row_heading level0 row7\" >c8:Urban</th>\n",
       "      <td id=\"T_59426_row7_col0\" class=\"data row7 col0\" >0.001</td>\n",
       "      <td id=\"T_59426_row7_col1\" class=\"data row7 col1\" >0.000</td>\n",
       "      <td id=\"T_59426_row7_col2\" class=\"data row7 col2\" >0.001</td>\n",
       "      <td id=\"T_59426_row7_col3\" class=\"data row7 col3\" >0.003</td>\n",
       "      <td id=\"T_59426_row7_col4\" class=\"data row7 col4\" >0.000</td>\n",
       "      <td id=\"T_59426_row7_col5\" class=\"data row7 col5\" >0.000</td>\n",
       "      <td id=\"T_59426_row7_col6\" class=\"data row7 col6\" >0.109</td>\n",
       "      <td id=\"T_59426_row7_col7\" class=\"data row7 col7\" >0.727</td>\n",
       "    </tr>\n",
       "  </tbody>\n",
       "</table>\n"
      ],
      "text/plain": [
       "<pandas.io.formats.style.Styler at 0x7feab6081df0>"
      ]
     },
     "execution_count": 49,
     "metadata": {},
     "output_type": "execute_result"
    }
   ],
   "source": [
    "df_precision = df_raw_count.div(df_raw_count.sum(axis=0), axis=1)\n",
    "df_precision.style.apply(style_diag, axis=None).format(precision=3)"
   ]
  },
  {
   "cell_type": "markdown",
   "id": "531bbc97",
   "metadata": {},
   "source": [
    "### Seaborn Heatmap (Precision)"
   ]
  },
  {
   "cell_type": "code",
   "execution_count": 50,
   "id": "bda09f8c",
   "metadata": {},
   "outputs": [
    {
     "data": {
      "text/plain": [
       "Text(0.5, 23.52222222222222, 'Predicted label')"
      ]
     },
     "execution_count": 50,
     "metadata": {},
     "output_type": "execute_result"
    },
    {
     "data": {
      "image/png": "[encoded data removed]",
      "text/plain": [
       "<Figure size 640x480 with 2 Axes>"
      ]
     },
     "metadata": {},
     "output_type": "display_data"
    }
   ],
   "source": [
    "heatmap = sns.heatmap(data=df_precision, vmin=0.0, vmax=1.0, cmap=plt.cm.Blues, annot=True, annot_kws={\"fontsize\":6.8}, fmt='.2f')\n",
    "heatmap.yaxis.set_ticklabels(heatmap.yaxis.get_ticklabels(), rotation=0, ha='right',fontsize=8)\n",
    "heatmap.xaxis.set_ticklabels(heatmap.xaxis.get_ticklabels(), rotation=45, ha='right',fontsize=8)\n",
    "plt.title('precision matrix')\n",
    "plt.ylabel('True label')\n",
    "plt.xlabel('Predicted label')"
   ]
  },
  {
   "cell_type": "markdown",
   "id": "a9348788",
   "metadata": {},
   "source": [
    "### Precision score (prediction accuracy)"
   ]
  },
  {
   "cell_type": "code",
   "execution_count": 51,
   "id": "61b2e9bb",
   "metadata": {},
   "outputs": [
    {
     "name": "stdout",
     "output_type": "stream",
     "text": [
      "                class  precision\n",
      "             c1:Water      0.896\n",
      "              c2:Tree      0.878\n",
      "c3:Flooded Vegetation      0.211\n",
      "             c4:Crops      0.490\n",
      "       c5:Bare Ground      0.890\n",
      "         c6:Rangeland      0.901\n",
      "             c7:Rural      0.161\n",
      "             c8:Urban      0.727\n"
     ]
    }
   ],
   "source": [
    "class_names = df_precision.columns\n",
    "confmat_diag = df_precision.to_numpy().diagonal()\n",
    "per_class_acc = dict(zip(class_names, confmat_diag))\n",
    "precision_scores = pd.DataFrame(per_class_acc.items(), columns=['class', 'precision'])\n",
    "precision_scores = precision_scores.round(3)\n",
    "print(precision_scores.to_string(index=False))"
   ]
  },
  {
   "cell_type": "code",
   "execution_count": 52,
   "id": "2f0551d5",
   "metadata": {},
   "outputs": [
    {
     "data": {
      "text/plain": [
       "array([0.89635683, 0.87848687, 0.21124697, 0.48970392, 0.88978388,\n",
       "       0.90147481, 0.16143234, 0.72701259])"
      ]
     },
     "execution_count": 52,
     "metadata": {},
     "output_type": "execute_result"
    }
   ],
   "source": [
    "confmat_diag"
   ]
  },
  {
   "cell_type": "markdown",
   "id": "1d1513c3",
   "metadata": {},
   "source": [
    "# IoU"
   ]
  },
  {
   "cell_type": "code",
   "execution_count": 53,
   "id": "38d7f870",
   "metadata": {},
   "outputs": [
    {
     "data": {
      "text/html": [
       "<div>\n",
       "<style scoped>\n",
       "    .dataframe tbody tr th:only-of-type {\n",
       "        vertical-align: middle;\n",
       "    }\n",
       "\n",
       "    .dataframe tbody tr th {\n",
       "        vertical-align: top;\n",
       "    }\n",
       "\n",
       "    .dataframe thead th {\n",
       "        text-align: right;\n",
       "    }\n",
       "</style>\n",
       "<table border=\"1\" class=\"dataframe\">\n",
       "  <thead>\n",
       "    <tr style=\"text-align: right;\">\n",
       "      <th></th>\n",
       "      <th>class</th>\n",
       "      <th>IoU</th>\n",
       "    </tr>\n",
       "  </thead>\n",
       "  <tbody>\n",
       "    <tr>\n",
       "      <th>0</th>\n",
       "      <td>c1:Water</td>\n",
       "      <td>0.862</td>\n",
       "    </tr>\n",
       "    <tr>\n",
       "      <th>1</th>\n",
       "      <td>c2:Tree</td>\n",
       "      <td>0.844</td>\n",
       "    </tr>\n",
       "    <tr>\n",
       "      <th>2</th>\n",
       "      <td>c3:Flooded Vegetation</td>\n",
       "      <td>0.206</td>\n",
       "    </tr>\n",
       "    <tr>\n",
       "      <th>3</th>\n",
       "      <td>c4:Crops</td>\n",
       "      <td>0.391</td>\n",
       "    </tr>\n",
       "    <tr>\n",
       "      <th>4</th>\n",
       "      <td>c5:Bare Ground</td>\n",
       "      <td>0.863</td>\n",
       "    </tr>\n",
       "    <tr>\n",
       "      <th>5</th>\n",
       "      <td>c6:Rangeland</td>\n",
       "      <td>0.625</td>\n",
       "    </tr>\n",
       "    <tr>\n",
       "      <th>6</th>\n",
       "      <td>c7:Rural</td>\n",
       "      <td>0.153</td>\n",
       "    </tr>\n",
       "    <tr>\n",
       "      <th>7</th>\n",
       "      <td>c8:Urban</td>\n",
       "      <td>0.584</td>\n",
       "    </tr>\n",
       "  </tbody>\n",
       "</table>\n",
       "</div>"
      ],
      "text/plain": [
       "                   class    IoU\n",
       "0               c1:Water  0.862\n",
       "1                c2:Tree  0.844\n",
       "2  c3:Flooded Vegetation  0.206\n",
       "3               c4:Crops  0.391\n",
       "4         c5:Bare Ground  0.863\n",
       "5           c6:Rangeland  0.625\n",
       "6               c7:Rural  0.153\n",
       "7               c8:Urban  0.584"
      ]
     },
     "execution_count": 53,
     "metadata": {},
     "output_type": "execute_result"
    }
   ],
   "source": [
    "class_names = df_raw_count.columns\n",
    "raw_counts = df_raw_count.to_numpy()\n",
    "iou_class = {}\n",
    "\n",
    "# calculate IoU for each class\n",
    "for i in range(len(class_names)):\n",
    "    tp = raw_counts[i, i]\n",
    "    fp = raw_counts[:, i].sum() - tp\n",
    "    fn = raw_counts[i, :].sum() - tp\n",
    "    \n",
    "    nom = tp\n",
    "    denom = (tp + fp + fn)\n",
    "    \n",
    "    if denom != 0:\n",
    "        iou = nom / denom\n",
    "    else:\n",
    "        iou = np.NaN\n",
    "    iou_class[class_names[i]] = iou\n",
    "\n",
    "\n",
    "# output IoU as dataframe\n",
    "iou_scores = pd.DataFrame(iou_class.items(), columns=['class', 'IoU'])\n",
    "iou_scores.round(3)"
   ]
  },
  {
   "cell_type": "code",
   "execution_count": 54,
   "id": "9779de14",
   "metadata": {},
   "outputs": [
    {
     "data": {
      "text/plain": [
       "0.5658793091651086"
      ]
     },
     "execution_count": 54,
     "metadata": {},
     "output_type": "execute_result"
    }
   ],
   "source": [
    "# calculate mean IoU (not counting empty classes)\n",
    "iou_mean = np.nanmean(iou_scores['IoU'])\n",
    "iou_mean"
   ]
  },
  {
   "cell_type": "markdown",
   "id": "758b13e8",
   "metadata": {},
   "source": [
    "# F1 Score (Dice coefficient)"
   ]
  },
  {
   "cell_type": "code",
   "execution_count": 55,
   "id": "a85cdfd7",
   "metadata": {},
   "outputs": [
    {
     "data": {
      "text/html": [
       "<div>\n",
       "<style scoped>\n",
       "    .dataframe tbody tr th:only-of-type {\n",
       "        vertical-align: middle;\n",
       "    }\n",
       "\n",
       "    .dataframe tbody tr th {\n",
       "        vertical-align: top;\n",
       "    }\n",
       "\n",
       "    .dataframe thead th {\n",
       "        text-align: right;\n",
       "    }\n",
       "</style>\n",
       "<table border=\"1\" class=\"dataframe\">\n",
       "  <thead>\n",
       "    <tr style=\"text-align: right;\">\n",
       "      <th></th>\n",
       "      <th>class</th>\n",
       "      <th>f1-score</th>\n",
       "    </tr>\n",
       "  </thead>\n",
       "  <tbody>\n",
       "    <tr>\n",
       "      <th>0</th>\n",
       "      <td>c1:Water</td>\n",
       "      <td>0.926</td>\n",
       "    </tr>\n",
       "    <tr>\n",
       "      <th>1</th>\n",
       "      <td>c2:Tree</td>\n",
       "      <td>0.916</td>\n",
       "    </tr>\n",
       "    <tr>\n",
       "      <th>2</th>\n",
       "      <td>c3:Flooded Vegetation</td>\n",
       "      <td>0.342</td>\n",
       "    </tr>\n",
       "    <tr>\n",
       "      <th>3</th>\n",
       "      <td>c4:Crops</td>\n",
       "      <td>0.562</td>\n",
       "    </tr>\n",
       "    <tr>\n",
       "      <th>4</th>\n",
       "      <td>c5:Bare Ground</td>\n",
       "      <td>0.926</td>\n",
       "    </tr>\n",
       "    <tr>\n",
       "      <th>5</th>\n",
       "      <td>c6:Rangeland</td>\n",
       "      <td>0.769</td>\n",
       "    </tr>\n",
       "    <tr>\n",
       "      <th>6</th>\n",
       "      <td>c7:Rural</td>\n",
       "      <td>0.266</td>\n",
       "    </tr>\n",
       "    <tr>\n",
       "      <th>7</th>\n",
       "      <td>c8:Urban</td>\n",
       "      <td>0.737</td>\n",
       "    </tr>\n",
       "  </tbody>\n",
       "</table>\n",
       "</div>"
      ],
      "text/plain": [
       "                   class  f1-score\n",
       "0               c1:Water     0.926\n",
       "1                c2:Tree     0.916\n",
       "2  c3:Flooded Vegetation     0.342\n",
       "3               c4:Crops     0.562\n",
       "4         c5:Bare Ground     0.926\n",
       "5           c6:Rangeland     0.769\n",
       "6               c7:Rural     0.266\n",
       "7               c8:Urban     0.737"
      ]
     },
     "execution_count": 55,
     "metadata": {},
     "output_type": "execute_result"
    }
   ],
   "source": [
    "class_names = df_raw_count.columns\n",
    "raw_counts = df_raw_count.to_numpy()\n",
    "f1_class = {}\n",
    "\n",
    "# calculate IoU for each class\n",
    "for i in range(len(class_names)):\n",
    "    tp = raw_counts[i, i]\n",
    "    fp = raw_counts[:, i].sum() - tp\n",
    "    fn = raw_counts[i, :].sum() - tp\n",
    "    \n",
    "    nom = tp\n",
    "    denom = tp + 0.5*(fp + fn)\n",
    "    \n",
    "    if denom != 0:\n",
    "        f1 = nom / denom\n",
    "    else:\n",
    "        f1 = np.NaN\n",
    "    f1_class[class_names[i]] = f1\n",
    "\n",
    "# output f1-score as dataframe\n",
    "f1_scores = pd.DataFrame(f1_class.items(), columns=['class', 'f1-score'])\n",
    "f1_scores.round(3)"
   ]
  },
  {
   "cell_type": "code",
   "execution_count": 56,
   "id": "0a0a6955",
   "metadata": {},
   "outputs": [
    {
     "data": {
      "text/plain": [
       "0.6803786398636472"
      ]
     },
     "execution_count": 56,
     "metadata": {},
     "output_type": "execute_result"
    }
   ],
   "source": [
    "# calculate mean f1-score (not counting empty classes)\n",
    "f1_mean = np.nanmean(f1_scores['f1-score'])\n",
    "f1_mean"
   ]
  },
  {
   "cell_type": "code",
   "execution_count": 57,
   "id": "def3161f",
   "metadata": {},
   "outputs": [
    {
     "data": {
      "text/html": [
       "<div>\n",
       "<style scoped>\n",
       "    .dataframe tbody tr th:only-of-type {\n",
       "        vertical-align: middle;\n",
       "    }\n",
       "\n",
       "    .dataframe tbody tr th {\n",
       "        vertical-align: top;\n",
       "    }\n",
       "\n",
       "    .dataframe thead th {\n",
       "        text-align: right;\n",
       "    }\n",
       "</style>\n",
       "<table border=\"1\" class=\"dataframe\">\n",
       "  <thead>\n",
       "    <tr style=\"text-align: right;\">\n",
       "      <th></th>\n",
       "      <th>IoU</th>\n",
       "      <th>f1-score</th>\n",
       "    </tr>\n",
       "    <tr>\n",
       "      <th>class</th>\n",
       "      <th></th>\n",
       "      <th></th>\n",
       "    </tr>\n",
       "  </thead>\n",
       "  <tbody>\n",
       "    <tr>\n",
       "      <th>c1:Water</th>\n",
       "      <td>0.862</td>\n",
       "      <td>0.926</td>\n",
       "    </tr>\n",
       "    <tr>\n",
       "      <th>c2:Tree</th>\n",
       "      <td>0.844</td>\n",
       "      <td>0.916</td>\n",
       "    </tr>\n",
       "    <tr>\n",
       "      <th>c3:Flooded Vegetation</th>\n",
       "      <td>0.206</td>\n",
       "      <td>0.342</td>\n",
       "    </tr>\n",
       "    <tr>\n",
       "      <th>c4:Crops</th>\n",
       "      <td>0.391</td>\n",
       "      <td>0.562</td>\n",
       "    </tr>\n",
       "    <tr>\n",
       "      <th>c5:Bare Ground</th>\n",
       "      <td>0.863</td>\n",
       "      <td>0.926</td>\n",
       "    </tr>\n",
       "    <tr>\n",
       "      <th>c6:Rangeland</th>\n",
       "      <td>0.625</td>\n",
       "      <td>0.769</td>\n",
       "    </tr>\n",
       "    <tr>\n",
       "      <th>c7:Rural</th>\n",
       "      <td>0.153</td>\n",
       "      <td>0.266</td>\n",
       "    </tr>\n",
       "    <tr>\n",
       "      <th>c8:Urban</th>\n",
       "      <td>0.584</td>\n",
       "      <td>0.737</td>\n",
       "    </tr>\n",
       "    <tr>\n",
       "      <th>mean</th>\n",
       "      <td>0.566</td>\n",
       "      <td>0.680</td>\n",
       "    </tr>\n",
       "  </tbody>\n",
       "</table>\n",
       "</div>"
      ],
      "text/plain": [
       "                         IoU  f1-score\n",
       "class                                 \n",
       "c1:Water               0.862     0.926\n",
       "c2:Tree                0.844     0.916\n",
       "c3:Flooded Vegetation  0.206     0.342\n",
       "c4:Crops               0.391     0.562\n",
       "c5:Bare Ground         0.863     0.926\n",
       "c6:Rangeland           0.625     0.769\n",
       "c7:Rural               0.153     0.266\n",
       "c8:Urban               0.584     0.737\n",
       "mean                   0.566     0.680"
      ]
     },
     "execution_count": 57,
     "metadata": {},
     "output_type": "execute_result"
    }
   ],
   "source": [
    "iou_f1 = iou_scores.set_index('class').join(f1_scores.set_index('class'))\n",
    "iou_f1_mean = pd.DataFrame({'class': ['mean'], 'IoU': [iou_mean], 'f1-score': [f1_mean]}).set_index('class')\n",
    "iou_f1 = pd.concat([iou_f1, iou_f1_mean])\n",
    "iou_f1.round(3)"
   ]
  },
  {
   "cell_type": "code",
   "execution_count": null,
   "id": "b1485f42",
   "metadata": {},
   "outputs": [],
   "source": []
  },
  {
   "cell_type": "markdown",
   "id": "fcf283f3",
   "metadata": {},
   "source": [
    "# Metric Analysis: Landcover Prediction"
   ]
  },
  {
   "cell_type": "markdown",
   "id": "d93f1c5a",
   "metadata": {},
   "source": [
    "## Multi-Year"
   ]
  },
  {
   "cell_type": "markdown",
   "id": "6f743aff",
   "metadata": {},
   "source": [
    "### DataFrame (raw pixel count)"
   ]
  },
  {
   "cell_type": "code",
   "execution_count": 58,
   "id": "0963fc36",
   "metadata": {},
   "outputs": [
    {
     "data": {
      "text/html": [
       "<style type=\"text/css\">\n",
       "#T_a4e2b_row0_col0, #T_a4e2b_row1_col1, #T_a4e2b_row2_col2, #T_a4e2b_row3_col3, #T_a4e2b_row4_col4, #T_a4e2b_row5_col5, #T_a4e2b_row6_col6, #T_a4e2b_row7_col7 {\n",
       "  background-color: yellow;\n",
       "}\n",
       "</style>\n",
       "<table id=\"T_a4e2b\">\n",
       "  <thead>\n",
       "    <tr>\n",
       "      <th class=\"blank level0\" >&nbsp;</th>\n",
       "      <th id=\"T_a4e2b_level0_col0\" class=\"col_heading level0 col0\" >c1:Water</th>\n",
       "      <th id=\"T_a4e2b_level0_col1\" class=\"col_heading level0 col1\" >c2:Tree</th>\n",
       "      <th id=\"T_a4e2b_level0_col2\" class=\"col_heading level0 col2\" >c3:Flooded Vegetation</th>\n",
       "      <th id=\"T_a4e2b_level0_col3\" class=\"col_heading level0 col3\" >c4:Crops</th>\n",
       "      <th id=\"T_a4e2b_level0_col4\" class=\"col_heading level0 col4\" >c5:Bare Ground</th>\n",
       "      <th id=\"T_a4e2b_level0_col5\" class=\"col_heading level0 col5\" >c6:Rangeland</th>\n",
       "      <th id=\"T_a4e2b_level0_col6\" class=\"col_heading level0 col6\" >c7:Rural</th>\n",
       "      <th id=\"T_a4e2b_level0_col7\" class=\"col_heading level0 col7\" >c8:Urban</th>\n",
       "    </tr>\n",
       "  </thead>\n",
       "  <tbody>\n",
       "    <tr>\n",
       "      <th id=\"T_a4e2b_level0_row0\" class=\"row_heading level0 row0\" >c1:Water</th>\n",
       "      <td id=\"T_a4e2b_row0_col0\" class=\"data row0 col0\" >5041282122</td>\n",
       "      <td id=\"T_a4e2b_row0_col1\" class=\"data row0 col1\" >8026897</td>\n",
       "      <td id=\"T_a4e2b_row0_col2\" class=\"data row0 col2\" >197662197</td>\n",
       "      <td id=\"T_a4e2b_row0_col3\" class=\"data row0 col3\" >2682329</td>\n",
       "      <td id=\"T_a4e2b_row0_col4\" class=\"data row0 col4\" >24764169</td>\n",
       "      <td id=\"T_a4e2b_row0_col5\" class=\"data row0 col5\" >12247475</td>\n",
       "      <td id=\"T_a4e2b_row0_col6\" class=\"data row0 col6\" >4554070</td>\n",
       "      <td id=\"T_a4e2b_row0_col7\" class=\"data row0 col7\" >2629816</td>\n",
       "    </tr>\n",
       "    <tr>\n",
       "      <th id=\"T_a4e2b_level0_row1\" class=\"row_heading level0 row1\" >c2:Tree</th>\n",
       "      <td id=\"T_a4e2b_row1_col0\" class=\"data row1 col0\" >584393602</td>\n",
       "      <td id=\"T_a4e2b_row1_col1\" class=\"data row1 col1\" >166381205216</td>\n",
       "      <td id=\"T_a4e2b_row1_col2\" class=\"data row1 col2\" >2373149785</td>\n",
       "      <td id=\"T_a4e2b_row1_col3\" class=\"data row1 col3\" >725733209</td>\n",
       "      <td id=\"T_a4e2b_row1_col4\" class=\"data row1 col4\" >6404289</td>\n",
       "      <td id=\"T_a4e2b_row1_col5\" class=\"data row1 col5\" >3226042202</td>\n",
       "      <td id=\"T_a4e2b_row1_col6\" class=\"data row1 col6\" >248705058</td>\n",
       "      <td id=\"T_a4e2b_row1_col7\" class=\"data row1 col7\" >52498129</td>\n",
       "    </tr>\n",
       "    <tr>\n",
       "      <th id=\"T_a4e2b_level0_row2\" class=\"row_heading level0 row2\" >c3:Flooded Vegetation</th>\n",
       "      <td id=\"T_a4e2b_row2_col0\" class=\"data row2 col0\" >32908328</td>\n",
       "      <td id=\"T_a4e2b_row2_col1\" class=\"data row2 col1\" >37719228</td>\n",
       "      <td id=\"T_a4e2b_row2_col2\" class=\"data row2 col2\" >1435044980</td>\n",
       "      <td id=\"T_a4e2b_row2_col3\" class=\"data row2 col3\" >20237856</td>\n",
       "      <td id=\"T_a4e2b_row2_col4\" class=\"data row2 col4\" >390475</td>\n",
       "      <td id=\"T_a4e2b_row2_col5\" class=\"data row2 col5\" >30281094</td>\n",
       "      <td id=\"T_a4e2b_row2_col6\" class=\"data row2 col6\" >4990154</td>\n",
       "      <td id=\"T_a4e2b_row2_col7\" class=\"data row2 col7\" >1062205</td>\n",
       "    </tr>\n",
       "    <tr>\n",
       "      <th id=\"T_a4e2b_level0_row3\" class=\"row_heading level0 row3\" >c4:Crops</th>\n",
       "      <td id=\"T_a4e2b_row3_col0\" class=\"data row3 col0\" >24581585</td>\n",
       "      <td id=\"T_a4e2b_row3_col1\" class=\"data row3 col1\" >274878263</td>\n",
       "      <td id=\"T_a4e2b_row3_col2\" class=\"data row3 col2\" >175706781</td>\n",
       "      <td id=\"T_a4e2b_row3_col3\" class=\"data row3 col3\" >4616625083</td>\n",
       "      <td id=\"T_a4e2b_row3_col4\" class=\"data row3 col4\" >41470375</td>\n",
       "      <td id=\"T_a4e2b_row3_col5\" class=\"data row3 col5\" >1352053143</td>\n",
       "      <td id=\"T_a4e2b_row3_col6\" class=\"data row3 col6\" >191522840</td>\n",
       "      <td id=\"T_a4e2b_row3_col7\" class=\"data row3 col7\" >148884204</td>\n",
       "    </tr>\n",
       "    <tr>\n",
       "      <th id=\"T_a4e2b_level0_row4\" class=\"row_heading level0 row4\" >c5:Bare Ground</th>\n",
       "      <td id=\"T_a4e2b_row4_col0\" class=\"data row4 col0\" >122144488</td>\n",
       "      <td id=\"T_a4e2b_row4_col1\" class=\"data row4 col1\" >16376514</td>\n",
       "      <td id=\"T_a4e2b_row4_col2\" class=\"data row4 col2\" >57677094</td>\n",
       "      <td id=\"T_a4e2b_row4_col3\" class=\"data row4 col3\" >105841674</td>\n",
       "      <td id=\"T_a4e2b_row4_col4\" class=\"data row4 col4\" >40231018829</td>\n",
       "      <td id=\"T_a4e2b_row4_col5\" class=\"data row4 col5\" >1133099503</td>\n",
       "      <td id=\"T_a4e2b_row4_col6\" class=\"data row4 col6\" >111155514</td>\n",
       "      <td id=\"T_a4e2b_row4_col7\" class=\"data row4 col7\" >49258230</td>\n",
       "    </tr>\n",
       "    <tr>\n",
       "      <th id=\"T_a4e2b_level0_row5\" class=\"row_heading level0 row5\" >c6:Rangeland</th>\n",
       "      <td id=\"T_a4e2b_row5_col0\" class=\"data row5 col0\" >216013191</td>\n",
       "      <td id=\"T_a4e2b_row5_col1\" class=\"data row5 col1\" >30111732092</td>\n",
       "      <td id=\"T_a4e2b_row5_col2\" class=\"data row5 col2\" >5572224505</td>\n",
       "      <td id=\"T_a4e2b_row5_col3\" class=\"data row5 col3\" >5127756060</td>\n",
       "      <td id=\"T_a4e2b_row5_col4\" class=\"data row5 col4\" >4846309614</td>\n",
       "      <td id=\"T_a4e2b_row5_col5\" class=\"data row5 col5\" >64732435266</td>\n",
       "      <td id=\"T_a4e2b_row5_col6\" class=\"data row5 col6\" >1270876097</td>\n",
       "      <td id=\"T_a4e2b_row5_col7\" class=\"data row5 col7\" >119222057</td>\n",
       "    </tr>\n",
       "    <tr>\n",
       "      <th id=\"T_a4e2b_level0_row6\" class=\"row_heading level0 row6\" >c7:Rural</th>\n",
       "      <td id=\"T_a4e2b_row6_col0\" class=\"data row6 col0\" >1257429</td>\n",
       "      <td id=\"T_a4e2b_row6_col1\" class=\"data row6 col1\" >15506072</td>\n",
       "      <td id=\"T_a4e2b_row6_col2\" class=\"data row6 col2\" >5831866</td>\n",
       "      <td id=\"T_a4e2b_row6_col3\" class=\"data row6 col3\" >13581136</td>\n",
       "      <td id=\"T_a4e2b_row6_col4\" class=\"data row6 col4\" >6683796</td>\n",
       "      <td id=\"T_a4e2b_row6_col5\" class=\"data row6 col5\" >17844191</td>\n",
       "      <td id=\"T_a4e2b_row6_col6\" class=\"data row6 col6\" >396988702</td>\n",
       "      <td id=\"T_a4e2b_row6_col7\" class=\"data row6 col7\" >87594502</td>\n",
       "    </tr>\n",
       "    <tr>\n",
       "      <th id=\"T_a4e2b_level0_row7\" class=\"row_heading level0 row7\" >c8:Urban</th>\n",
       "      <td id=\"T_a4e2b_row7_col0\" class=\"data row7 col0\" >3329624</td>\n",
       "      <td id=\"T_a4e2b_row7_col1\" class=\"data row7 col1\" >9078764</td>\n",
       "      <td id=\"T_a4e2b_row7_col2\" class=\"data row7 col2\" >3889341</td>\n",
       "      <td id=\"T_a4e2b_row7_col3\" class=\"data row7 col3\" >28782109</td>\n",
       "      <td id=\"T_a4e2b_row7_col4\" class=\"data row7 col4\" >1168451</td>\n",
       "      <td id=\"T_a4e2b_row7_col5\" class=\"data row7 col5\" >4548464</td>\n",
       "      <td id=\"T_a4e2b_row7_col6\" class=\"data row7 col6\" >243311826</td>\n",
       "      <td id=\"T_a4e2b_row7_col7\" class=\"data row7 col7\" >1001533387</td>\n",
       "    </tr>\n",
       "  </tbody>\n",
       "</table>\n"
      ],
      "text/plain": [
       "<pandas.io.formats.style.Styler at 0x7feab4363040>"
      ]
     },
     "execution_count": 58,
     "metadata": {},
     "output_type": "execute_result"
    }
   ],
   "source": [
    "mimer = '/mimer/NOBACKUP/groups/globalpoverty1/albin_and_albin/'\n",
    "file_multiyear = mimer + 'confusion_matrix_LSTM_esri_urban_rural_34512_2018to2022.csv'\n",
    "\n",
    "df_raw_count2 = pd.read_csv(file_multiyear, index_col=0)\n",
    "df_raw_count2.style.apply(style_diag, axis=None).format(precision=3)"
   ]
  },
  {
   "cell_type": "code",
   "execution_count": 59,
   "id": "8595efae",
   "metadata": {},
   "outputs": [
    {
     "data": {
      "text/plain": [
       "c1:Water                   5293849075\n",
       "c2:Tree                  173598131490\n",
       "c3:Flooded Vegetation      1562634320\n",
       "c4:Crops                   6825722274\n",
       "c5:Bare Ground            41826571846\n",
       "c6:Rangeland             111996568882\n",
       "c7:Rural                    545287694\n",
       "c8:Urban                   1295641966\n",
       "dtype: int64"
      ]
     },
     "execution_count": 59,
     "metadata": {},
     "output_type": "execute_result"
    }
   ],
   "source": [
    "df_raw_count2.sum(axis=1)"
   ]
  },
  {
   "cell_type": "code",
   "execution_count": 60,
   "id": "1190250e",
   "metadata": {},
   "outputs": [
    {
     "data": {
      "text/plain": [
       "c1:Water                 0.015436\n",
       "c2:Tree                  0.506199\n",
       "c3:Flooded Vegetation    0.004557\n",
       "c4:Crops                 0.019903\n",
       "c5:Bare Ground           0.121963\n",
       "c6:Rangeland             0.326574\n",
       "c7:Rural                 0.001590\n",
       "c8:Urban                 0.003778\n",
       "dtype: float64"
      ]
     },
     "execution_count": 60,
     "metadata": {},
     "output_type": "execute_result"
    }
   ],
   "source": [
    "df_new2 = df_raw_count2.sum(axis=1)\n",
    "df_new2 = df_new2.div(df_new2.sum(axis=0), axis=0)\n",
    "df_new2"
   ]
  },
  {
   "cell_type": "markdown",
   "id": "76235226",
   "metadata": {},
   "source": [
    "# Accuracy"
   ]
  },
  {
   "cell_type": "code",
   "execution_count": 61,
   "id": "c8ebba06",
   "metadata": {},
   "outputs": [
    {
     "name": "stdout",
     "output_type": "stream",
     "text": [
      "accuracy: 0.8276447358194657\n"
     ]
    }
   ],
   "source": [
    "tp = df_raw_count2.to_numpy().diagonal().sum()\n",
    "num_pixels = df_raw_count2.to_numpy().sum()\n",
    "print(f'accuracy: {tp / num_pixels}')"
   ]
  },
  {
   "cell_type": "markdown",
   "id": "c3569456",
   "metadata": {},
   "source": [
    "# Recall"
   ]
  },
  {
   "cell_type": "markdown",
   "id": "654b850d",
   "metadata": {},
   "source": [
    "### DataFrame (recall)"
   ]
  },
  {
   "cell_type": "code",
   "execution_count": 62,
   "id": "47767629",
   "metadata": {},
   "outputs": [
    {
     "data": {
      "text/html": [
       "<style type=\"text/css\">\n",
       "#T_09326_row0_col0, #T_09326_row1_col1, #T_09326_row2_col2, #T_09326_row3_col3, #T_09326_row4_col4, #T_09326_row5_col5, #T_09326_row6_col6, #T_09326_row7_col7 {\n",
       "  background-color: yellow;\n",
       "}\n",
       "</style>\n",
       "<table id=\"T_09326\">\n",
       "  <thead>\n",
       "    <tr>\n",
       "      <th class=\"blank level0\" >&nbsp;</th>\n",
       "      <th id=\"T_09326_level0_col0\" class=\"col_heading level0 col0\" >c1:Water</th>\n",
       "      <th id=\"T_09326_level0_col1\" class=\"col_heading level0 col1\" >c2:Tree</th>\n",
       "      <th id=\"T_09326_level0_col2\" class=\"col_heading level0 col2\" >c3:Flooded Vegetation</th>\n",
       "      <th id=\"T_09326_level0_col3\" class=\"col_heading level0 col3\" >c4:Crops</th>\n",
       "      <th id=\"T_09326_level0_col4\" class=\"col_heading level0 col4\" >c5:Bare Ground</th>\n",
       "      <th id=\"T_09326_level0_col5\" class=\"col_heading level0 col5\" >c6:Rangeland</th>\n",
       "      <th id=\"T_09326_level0_col6\" class=\"col_heading level0 col6\" >c7:Rural</th>\n",
       "      <th id=\"T_09326_level0_col7\" class=\"col_heading level0 col7\" >c8:Urban</th>\n",
       "    </tr>\n",
       "  </thead>\n",
       "  <tbody>\n",
       "    <tr>\n",
       "      <th id=\"T_09326_level0_row0\" class=\"row_heading level0 row0\" >c1:Water</th>\n",
       "      <td id=\"T_09326_row0_col0\" class=\"data row0 col0\" >0.952</td>\n",
       "      <td id=\"T_09326_row0_col1\" class=\"data row0 col1\" >0.002</td>\n",
       "      <td id=\"T_09326_row0_col2\" class=\"data row0 col2\" >0.037</td>\n",
       "      <td id=\"T_09326_row0_col3\" class=\"data row0 col3\" >0.001</td>\n",
       "      <td id=\"T_09326_row0_col4\" class=\"data row0 col4\" >0.005</td>\n",
       "      <td id=\"T_09326_row0_col5\" class=\"data row0 col5\" >0.002</td>\n",
       "      <td id=\"T_09326_row0_col6\" class=\"data row0 col6\" >0.001</td>\n",
       "      <td id=\"T_09326_row0_col7\" class=\"data row0 col7\" >0.000</td>\n",
       "    </tr>\n",
       "    <tr>\n",
       "      <th id=\"T_09326_level0_row1\" class=\"row_heading level0 row1\" >c2:Tree</th>\n",
       "      <td id=\"T_09326_row1_col0\" class=\"data row1 col0\" >0.003</td>\n",
       "      <td id=\"T_09326_row1_col1\" class=\"data row1 col1\" >0.958</td>\n",
       "      <td id=\"T_09326_row1_col2\" class=\"data row1 col2\" >0.014</td>\n",
       "      <td id=\"T_09326_row1_col3\" class=\"data row1 col3\" >0.004</td>\n",
       "      <td id=\"T_09326_row1_col4\" class=\"data row1 col4\" >0.000</td>\n",
       "      <td id=\"T_09326_row1_col5\" class=\"data row1 col5\" >0.019</td>\n",
       "      <td id=\"T_09326_row1_col6\" class=\"data row1 col6\" >0.001</td>\n",
       "      <td id=\"T_09326_row1_col7\" class=\"data row1 col7\" >0.000</td>\n",
       "    </tr>\n",
       "    <tr>\n",
       "      <th id=\"T_09326_level0_row2\" class=\"row_heading level0 row2\" >c3:Flooded Vegetation</th>\n",
       "      <td id=\"T_09326_row2_col0\" class=\"data row2 col0\" >0.021</td>\n",
       "      <td id=\"T_09326_row2_col1\" class=\"data row2 col1\" >0.024</td>\n",
       "      <td id=\"T_09326_row2_col2\" class=\"data row2 col2\" >0.918</td>\n",
       "      <td id=\"T_09326_row2_col3\" class=\"data row2 col3\" >0.013</td>\n",
       "      <td id=\"T_09326_row2_col4\" class=\"data row2 col4\" >0.000</td>\n",
       "      <td id=\"T_09326_row2_col5\" class=\"data row2 col5\" >0.019</td>\n",
       "      <td id=\"T_09326_row2_col6\" class=\"data row2 col6\" >0.003</td>\n",
       "      <td id=\"T_09326_row2_col7\" class=\"data row2 col7\" >0.001</td>\n",
       "    </tr>\n",
       "    <tr>\n",
       "      <th id=\"T_09326_level0_row3\" class=\"row_heading level0 row3\" >c4:Crops</th>\n",
       "      <td id=\"T_09326_row3_col0\" class=\"data row3 col0\" >0.004</td>\n",
       "      <td id=\"T_09326_row3_col1\" class=\"data row3 col1\" >0.040</td>\n",
       "      <td id=\"T_09326_row3_col2\" class=\"data row3 col2\" >0.026</td>\n",
       "      <td id=\"T_09326_row3_col3\" class=\"data row3 col3\" >0.676</td>\n",
       "      <td id=\"T_09326_row3_col4\" class=\"data row3 col4\" >0.006</td>\n",
       "      <td id=\"T_09326_row3_col5\" class=\"data row3 col5\" >0.198</td>\n",
       "      <td id=\"T_09326_row3_col6\" class=\"data row3 col6\" >0.028</td>\n",
       "      <td id=\"T_09326_row3_col7\" class=\"data row3 col7\" >0.022</td>\n",
       "    </tr>\n",
       "    <tr>\n",
       "      <th id=\"T_09326_level0_row4\" class=\"row_heading level0 row4\" >c5:Bare Ground</th>\n",
       "      <td id=\"T_09326_row4_col0\" class=\"data row4 col0\" >0.003</td>\n",
       "      <td id=\"T_09326_row4_col1\" class=\"data row4 col1\" >0.000</td>\n",
       "      <td id=\"T_09326_row4_col2\" class=\"data row4 col2\" >0.001</td>\n",
       "      <td id=\"T_09326_row4_col3\" class=\"data row4 col3\" >0.003</td>\n",
       "      <td id=\"T_09326_row4_col4\" class=\"data row4 col4\" >0.962</td>\n",
       "      <td id=\"T_09326_row4_col5\" class=\"data row4 col5\" >0.027</td>\n",
       "      <td id=\"T_09326_row4_col6\" class=\"data row4 col6\" >0.003</td>\n",
       "      <td id=\"T_09326_row4_col7\" class=\"data row4 col7\" >0.001</td>\n",
       "    </tr>\n",
       "    <tr>\n",
       "      <th id=\"T_09326_level0_row5\" class=\"row_heading level0 row5\" >c6:Rangeland</th>\n",
       "      <td id=\"T_09326_row5_col0\" class=\"data row5 col0\" >0.002</td>\n",
       "      <td id=\"T_09326_row5_col1\" class=\"data row5 col1\" >0.269</td>\n",
       "      <td id=\"T_09326_row5_col2\" class=\"data row5 col2\" >0.050</td>\n",
       "      <td id=\"T_09326_row5_col3\" class=\"data row5 col3\" >0.046</td>\n",
       "      <td id=\"T_09326_row5_col4\" class=\"data row5 col4\" >0.043</td>\n",
       "      <td id=\"T_09326_row5_col5\" class=\"data row5 col5\" >0.578</td>\n",
       "      <td id=\"T_09326_row5_col6\" class=\"data row5 col6\" >0.011</td>\n",
       "      <td id=\"T_09326_row5_col7\" class=\"data row5 col7\" >0.001</td>\n",
       "    </tr>\n",
       "    <tr>\n",
       "      <th id=\"T_09326_level0_row6\" class=\"row_heading level0 row6\" >c7:Rural</th>\n",
       "      <td id=\"T_09326_row6_col0\" class=\"data row6 col0\" >0.002</td>\n",
       "      <td id=\"T_09326_row6_col1\" class=\"data row6 col1\" >0.028</td>\n",
       "      <td id=\"T_09326_row6_col2\" class=\"data row6 col2\" >0.011</td>\n",
       "      <td id=\"T_09326_row6_col3\" class=\"data row6 col3\" >0.025</td>\n",
       "      <td id=\"T_09326_row6_col4\" class=\"data row6 col4\" >0.012</td>\n",
       "      <td id=\"T_09326_row6_col5\" class=\"data row6 col5\" >0.033</td>\n",
       "      <td id=\"T_09326_row6_col6\" class=\"data row6 col6\" >0.728</td>\n",
       "      <td id=\"T_09326_row6_col7\" class=\"data row6 col7\" >0.161</td>\n",
       "    </tr>\n",
       "    <tr>\n",
       "      <th id=\"T_09326_level0_row7\" class=\"row_heading level0 row7\" >c8:Urban</th>\n",
       "      <td id=\"T_09326_row7_col0\" class=\"data row7 col0\" >0.003</td>\n",
       "      <td id=\"T_09326_row7_col1\" class=\"data row7 col1\" >0.007</td>\n",
       "      <td id=\"T_09326_row7_col2\" class=\"data row7 col2\" >0.003</td>\n",
       "      <td id=\"T_09326_row7_col3\" class=\"data row7 col3\" >0.022</td>\n",
       "      <td id=\"T_09326_row7_col4\" class=\"data row7 col4\" >0.001</td>\n",
       "      <td id=\"T_09326_row7_col5\" class=\"data row7 col5\" >0.004</td>\n",
       "      <td id=\"T_09326_row7_col6\" class=\"data row7 col6\" >0.188</td>\n",
       "      <td id=\"T_09326_row7_col7\" class=\"data row7 col7\" >0.773</td>\n",
       "    </tr>\n",
       "  </tbody>\n",
       "</table>\n"
      ],
      "text/plain": [
       "<pandas.io.formats.style.Styler at 0x7feab43d0430>"
      ]
     },
     "execution_count": 62,
     "metadata": {},
     "output_type": "execute_result"
    }
   ],
   "source": [
    "df_recall2 = df_raw_count2.div(df_raw_count2.sum(axis=1), axis=0)\n",
    "df_recall2.style.apply(style_diag, axis=None).format(precision=3)"
   ]
  },
  {
   "cell_type": "markdown",
   "id": "d8baef31",
   "metadata": {},
   "source": [
    "### Recall score (per class accuracy)"
   ]
  },
  {
   "cell_type": "code",
   "execution_count": 63,
   "id": "45b03b68",
   "metadata": {},
   "outputs": [
    {
     "name": "stdout",
     "output_type": "stream",
     "text": [
      "                class  recall\n",
      "             c1:Water   0.952\n",
      "              c2:Tree   0.958\n",
      "c3:Flooded Vegetation   0.918\n",
      "             c4:Crops   0.676\n",
      "       c5:Bare Ground   0.962\n",
      "         c6:Rangeland   0.578\n",
      "             c7:Rural   0.728\n",
      "             c8:Urban   0.773\n"
     ]
    }
   ],
   "source": [
    "class_names = df_recall2.columns\n",
    "confmat_diag = df_recall2.to_numpy().diagonal()\n",
    "per_class_acc = dict(zip(class_names, confmat_diag))\n",
    "recall_scores2 = pd.DataFrame(per_class_acc.items(), columns=['class', 'recall'])\n",
    "recall_scores2 = recall_scores2.round(3)\n",
    "print(recall_scores2.to_string(index=False))"
   ]
  },
  {
   "cell_type": "markdown",
   "id": "3fd12028",
   "metadata": {},
   "source": [
    "# Precision"
   ]
  },
  {
   "cell_type": "markdown",
   "id": "8a4f26a8",
   "metadata": {},
   "source": [
    "### DataFrame (precision)"
   ]
  },
  {
   "cell_type": "code",
   "execution_count": 64,
   "id": "55d47e66",
   "metadata": {},
   "outputs": [
    {
     "data": {
      "text/html": [
       "<style type=\"text/css\">\n",
       "#T_dd15b_row0_col0, #T_dd15b_row1_col1, #T_dd15b_row2_col2, #T_dd15b_row3_col3, #T_dd15b_row4_col4, #T_dd15b_row5_col5, #T_dd15b_row6_col6, #T_dd15b_row7_col7 {\n",
       "  background-color: yellow;\n",
       "}\n",
       "</style>\n",
       "<table id=\"T_dd15b\">\n",
       "  <thead>\n",
       "    <tr>\n",
       "      <th class=\"blank level0\" >&nbsp;</th>\n",
       "      <th id=\"T_dd15b_level0_col0\" class=\"col_heading level0 col0\" >c1:Water</th>\n",
       "      <th id=\"T_dd15b_level0_col1\" class=\"col_heading level0 col1\" >c2:Tree</th>\n",
       "      <th id=\"T_dd15b_level0_col2\" class=\"col_heading level0 col2\" >c3:Flooded Vegetation</th>\n",
       "      <th id=\"T_dd15b_level0_col3\" class=\"col_heading level0 col3\" >c4:Crops</th>\n",
       "      <th id=\"T_dd15b_level0_col4\" class=\"col_heading level0 col4\" >c5:Bare Ground</th>\n",
       "      <th id=\"T_dd15b_level0_col5\" class=\"col_heading level0 col5\" >c6:Rangeland</th>\n",
       "      <th id=\"T_dd15b_level0_col6\" class=\"col_heading level0 col6\" >c7:Rural</th>\n",
       "      <th id=\"T_dd15b_level0_col7\" class=\"col_heading level0 col7\" >c8:Urban</th>\n",
       "    </tr>\n",
       "  </thead>\n",
       "  <tbody>\n",
       "    <tr>\n",
       "      <th id=\"T_dd15b_level0_row0\" class=\"row_heading level0 row0\" >c1:Water</th>\n",
       "      <td id=\"T_dd15b_row0_col0\" class=\"data row0 col0\" >0.837</td>\n",
       "      <td id=\"T_dd15b_row0_col1\" class=\"data row0 col1\" >0.000</td>\n",
       "      <td id=\"T_dd15b_row0_col2\" class=\"data row0 col2\" >0.020</td>\n",
       "      <td id=\"T_dd15b_row0_col3\" class=\"data row0 col3\" >0.000</td>\n",
       "      <td id=\"T_dd15b_row0_col4\" class=\"data row0 col4\" >0.001</td>\n",
       "      <td id=\"T_dd15b_row0_col5\" class=\"data row0 col5\" >0.000</td>\n",
       "      <td id=\"T_dd15b_row0_col6\" class=\"data row0 col6\" >0.002</td>\n",
       "      <td id=\"T_dd15b_row0_col7\" class=\"data row0 col7\" >0.002</td>\n",
       "    </tr>\n",
       "    <tr>\n",
       "      <th id=\"T_dd15b_level0_row1\" class=\"row_heading level0 row1\" >c2:Tree</th>\n",
       "      <td id=\"T_dd15b_row1_col0\" class=\"data row1 col0\" >0.097</td>\n",
       "      <td id=\"T_dd15b_row1_col1\" class=\"data row1 col1\" >0.845</td>\n",
       "      <td id=\"T_dd15b_row1_col2\" class=\"data row1 col2\" >0.242</td>\n",
       "      <td id=\"T_dd15b_row1_col3\" class=\"data row1 col3\" >0.068</td>\n",
       "      <td id=\"T_dd15b_row1_col4\" class=\"data row1 col4\" >0.000</td>\n",
       "      <td id=\"T_dd15b_row1_col5\" class=\"data row1 col5\" >0.046</td>\n",
       "      <td id=\"T_dd15b_row1_col6\" class=\"data row1 col6\" >0.101</td>\n",
       "      <td id=\"T_dd15b_row1_col7\" class=\"data row1 col7\" >0.036</td>\n",
       "    </tr>\n",
       "    <tr>\n",
       "      <th id=\"T_dd15b_level0_row2\" class=\"row_heading level0 row2\" >c3:Flooded Vegetation</th>\n",
       "      <td id=\"T_dd15b_row2_col0\" class=\"data row2 col0\" >0.005</td>\n",
       "      <td id=\"T_dd15b_row2_col1\" class=\"data row2 col1\" >0.000</td>\n",
       "      <td id=\"T_dd15b_row2_col2\" class=\"data row2 col2\" >0.146</td>\n",
       "      <td id=\"T_dd15b_row2_col3\" class=\"data row2 col3\" >0.002</td>\n",
       "      <td id=\"T_dd15b_row2_col4\" class=\"data row2 col4\" >0.000</td>\n",
       "      <td id=\"T_dd15b_row2_col5\" class=\"data row2 col5\" >0.000</td>\n",
       "      <td id=\"T_dd15b_row2_col6\" class=\"data row2 col6\" >0.002</td>\n",
       "      <td id=\"T_dd15b_row2_col7\" class=\"data row2 col7\" >0.001</td>\n",
       "    </tr>\n",
       "    <tr>\n",
       "      <th id=\"T_dd15b_level0_row3\" class=\"row_heading level0 row3\" >c4:Crops</th>\n",
       "      <td id=\"T_dd15b_row3_col0\" class=\"data row3 col0\" >0.004</td>\n",
       "      <td id=\"T_dd15b_row3_col1\" class=\"data row3 col1\" >0.001</td>\n",
       "      <td id=\"T_dd15b_row3_col2\" class=\"data row3 col2\" >0.018</td>\n",
       "      <td id=\"T_dd15b_row3_col3\" class=\"data row3 col3\" >0.434</td>\n",
       "      <td id=\"T_dd15b_row3_col4\" class=\"data row3 col4\" >0.001</td>\n",
       "      <td id=\"T_dd15b_row3_col5\" class=\"data row3 col5\" >0.019</td>\n",
       "      <td id=\"T_dd15b_row3_col6\" class=\"data row3 col6\" >0.077</td>\n",
       "      <td id=\"T_dd15b_row3_col7\" class=\"data row3 col7\" >0.102</td>\n",
       "    </tr>\n",
       "    <tr>\n",
       "      <th id=\"T_dd15b_level0_row4\" class=\"row_heading level0 row4\" >c5:Bare Ground</th>\n",
       "      <td id=\"T_dd15b_row4_col0\" class=\"data row4 col0\" >0.020</td>\n",
       "      <td id=\"T_dd15b_row4_col1\" class=\"data row4 col1\" >0.000</td>\n",
       "      <td id=\"T_dd15b_row4_col2\" class=\"data row4 col2\" >0.006</td>\n",
       "      <td id=\"T_dd15b_row4_col3\" class=\"data row4 col3\" >0.010</td>\n",
       "      <td id=\"T_dd15b_row4_col4\" class=\"data row4 col4\" >0.891</td>\n",
       "      <td id=\"T_dd15b_row4_col5\" class=\"data row4 col5\" >0.016</td>\n",
       "      <td id=\"T_dd15b_row4_col6\" class=\"data row4 col6\" >0.045</td>\n",
       "      <td id=\"T_dd15b_row4_col7\" class=\"data row4 col7\" >0.034</td>\n",
       "    </tr>\n",
       "    <tr>\n",
       "      <th id=\"T_dd15b_level0_row5\" class=\"row_heading level0 row5\" >c6:Rangeland</th>\n",
       "      <td id=\"T_dd15b_row5_col0\" class=\"data row5 col0\" >0.036</td>\n",
       "      <td id=\"T_dd15b_row5_col1\" class=\"data row5 col1\" >0.153</td>\n",
       "      <td id=\"T_dd15b_row5_col2\" class=\"data row5 col2\" >0.567</td>\n",
       "      <td id=\"T_dd15b_row5_col3\" class=\"data row5 col3\" >0.482</td>\n",
       "      <td id=\"T_dd15b_row5_col4\" class=\"data row5 col4\" >0.107</td>\n",
       "      <td id=\"T_dd15b_row5_col5\" class=\"data row5 col5\" >0.918</td>\n",
       "      <td id=\"T_dd15b_row5_col6\" class=\"data row5 col6\" >0.514</td>\n",
       "      <td id=\"T_dd15b_row5_col7\" class=\"data row5 col7\" >0.082</td>\n",
       "    </tr>\n",
       "    <tr>\n",
       "      <th id=\"T_dd15b_level0_row6\" class=\"row_heading level0 row6\" >c7:Rural</th>\n",
       "      <td id=\"T_dd15b_row6_col0\" class=\"data row6 col0\" >0.000</td>\n",
       "      <td id=\"T_dd15b_row6_col1\" class=\"data row6 col1\" >0.000</td>\n",
       "      <td id=\"T_dd15b_row6_col2\" class=\"data row6 col2\" >0.001</td>\n",
       "      <td id=\"T_dd15b_row6_col3\" class=\"data row6 col3\" >0.001</td>\n",
       "      <td id=\"T_dd15b_row6_col4\" class=\"data row6 col4\" >0.000</td>\n",
       "      <td id=\"T_dd15b_row6_col5\" class=\"data row6 col5\" >0.000</td>\n",
       "      <td id=\"T_dd15b_row6_col6\" class=\"data row6 col6\" >0.161</td>\n",
       "      <td id=\"T_dd15b_row6_col7\" class=\"data row6 col7\" >0.060</td>\n",
       "    </tr>\n",
       "    <tr>\n",
       "      <th id=\"T_dd15b_level0_row7\" class=\"row_heading level0 row7\" >c8:Urban</th>\n",
       "      <td id=\"T_dd15b_row7_col0\" class=\"data row7 col0\" >0.001</td>\n",
       "      <td id=\"T_dd15b_row7_col1\" class=\"data row7 col1\" >0.000</td>\n",
       "      <td id=\"T_dd15b_row7_col2\" class=\"data row7 col2\" >0.000</td>\n",
       "      <td id=\"T_dd15b_row7_col3\" class=\"data row7 col3\" >0.003</td>\n",
       "      <td id=\"T_dd15b_row7_col4\" class=\"data row7 col4\" >0.000</td>\n",
       "      <td id=\"T_dd15b_row7_col5\" class=\"data row7 col5\" >0.000</td>\n",
       "      <td id=\"T_dd15b_row7_col6\" class=\"data row7 col6\" >0.098</td>\n",
       "      <td id=\"T_dd15b_row7_col7\" class=\"data row7 col7\" >0.685</td>\n",
       "    </tr>\n",
       "  </tbody>\n",
       "</table>\n"
      ],
      "text/plain": [
       "<pandas.io.formats.style.Styler at 0x7feab43661f0>"
      ]
     },
     "execution_count": 64,
     "metadata": {},
     "output_type": "execute_result"
    }
   ],
   "source": [
    "df_precision2 = df_raw_count2.div(df_raw_count2.sum(axis=0), axis=1)\n",
    "df_precision2.style.apply(style_diag, axis=None).format(precision=3)"
   ]
  },
  {
   "cell_type": "markdown",
   "id": "e4656dec",
   "metadata": {},
   "source": [
    "### Precision score (prediction accuracy)"
   ]
  },
  {
   "cell_type": "code",
   "execution_count": 65,
   "id": "90ecd4cc",
   "metadata": {},
   "outputs": [
    {
     "name": "stdout",
     "output_type": "stream",
     "text": [
      "                class  precision\n",
      "             c1:Water      0.837\n",
      "              c2:Tree      0.845\n",
      "c3:Flooded Vegetation      0.146\n",
      "             c4:Crops      0.434\n",
      "       c5:Bare Ground      0.891\n",
      "         c6:Rangeland      0.918\n",
      "             c7:Rural      0.161\n",
      "             c8:Urban      0.685\n"
     ]
    }
   ],
   "source": [
    "class_names = df_precision2.columns\n",
    "confmat_diag = df_precision2.to_numpy().diagonal()\n",
    "per_class_acc = dict(zip(class_names, confmat_diag))\n",
    "precision_scores2 = pd.DataFrame(per_class_acc.items(), columns=['class', 'precision'])\n",
    "precision_scores2 = precision_scores2.round(3)\n",
    "print(precision_scores2.to_string(index=False))"
   ]
  },
  {
   "cell_type": "markdown",
   "id": "c0e5d9d9",
   "metadata": {},
   "source": [
    "# IoU"
   ]
  },
  {
   "cell_type": "code",
   "execution_count": 66,
   "id": "1ef4c028",
   "metadata": {},
   "outputs": [
    {
     "data": {
      "text/html": [
       "<div>\n",
       "<style scoped>\n",
       "    .dataframe tbody tr th:only-of-type {\n",
       "        vertical-align: middle;\n",
       "    }\n",
       "\n",
       "    .dataframe tbody tr th {\n",
       "        vertical-align: top;\n",
       "    }\n",
       "\n",
       "    .dataframe thead th {\n",
       "        text-align: right;\n",
       "    }\n",
       "</style>\n",
       "<table border=\"1\" class=\"dataframe\">\n",
       "  <thead>\n",
       "    <tr style=\"text-align: right;\">\n",
       "      <th></th>\n",
       "      <th>class</th>\n",
       "      <th>IoU</th>\n",
       "    </tr>\n",
       "  </thead>\n",
       "  <tbody>\n",
       "    <tr>\n",
       "      <th>0</th>\n",
       "      <td>c1:Water</td>\n",
       "      <td>0.803</td>\n",
       "    </tr>\n",
       "    <tr>\n",
       "      <th>1</th>\n",
       "      <td>c2:Tree</td>\n",
       "      <td>0.815</td>\n",
       "    </tr>\n",
       "    <tr>\n",
       "      <th>2</th>\n",
       "      <td>c3:Flooded Vegetation</td>\n",
       "      <td>0.144</td>\n",
       "    </tr>\n",
       "    <tr>\n",
       "      <th>3</th>\n",
       "      <td>c4:Crops</td>\n",
       "      <td>0.359</td>\n",
       "    </tr>\n",
       "    <tr>\n",
       "      <th>4</th>\n",
       "      <td>c5:Bare Ground</td>\n",
       "      <td>0.860</td>\n",
       "    </tr>\n",
       "    <tr>\n",
       "      <th>5</th>\n",
       "      <td>c6:Rangeland</td>\n",
       "      <td>0.550</td>\n",
       "    </tr>\n",
       "    <tr>\n",
       "      <th>6</th>\n",
       "      <td>c7:Rural</td>\n",
       "      <td>0.151</td>\n",
       "    </tr>\n",
       "    <tr>\n",
       "      <th>7</th>\n",
       "      <td>c8:Urban</td>\n",
       "      <td>0.570</td>\n",
       "    </tr>\n",
       "  </tbody>\n",
       "</table>\n",
       "</div>"
      ],
      "text/plain": [
       "                   class    IoU\n",
       "0               c1:Water  0.803\n",
       "1                c2:Tree  0.815\n",
       "2  c3:Flooded Vegetation  0.144\n",
       "3               c4:Crops  0.359\n",
       "4         c5:Bare Ground  0.860\n",
       "5           c6:Rangeland  0.550\n",
       "6               c7:Rural  0.151\n",
       "7               c8:Urban  0.570"
      ]
     },
     "execution_count": 66,
     "metadata": {},
     "output_type": "execute_result"
    }
   ],
   "source": [
    "class_names = df_raw_count2.columns\n",
    "raw_counts = df_raw_count2.to_numpy()\n",
    "iou_class = {}\n",
    "\n",
    "# calculate IoU for each class\n",
    "for i in range(len(class_names)):\n",
    "    tp = raw_counts[i, i]\n",
    "    fp = raw_counts[:, i].sum() - tp\n",
    "    fn = raw_counts[i, :].sum() - tp\n",
    "    \n",
    "    nom = tp\n",
    "    denom = (tp + fp + fn)\n",
    "    \n",
    "    if denom != 0:\n",
    "        iou = nom / denom\n",
    "    else:\n",
    "        iou = np.NaN\n",
    "    iou_class[class_names[i]] = iou\n",
    "\n",
    "\n",
    "# output IoU as dataframe\n",
    "iou_scores2 = pd.DataFrame(iou_class.items(), columns=['class', 'IoU'])\n",
    "iou_scores2.round(3)"
   ]
  },
  {
   "cell_type": "code",
   "execution_count": 67,
   "id": "a6f9d17d",
   "metadata": {},
   "outputs": [
    {
     "data": {
      "text/plain": [
       "0.5316846540212369"
      ]
     },
     "execution_count": 67,
     "metadata": {},
     "output_type": "execute_result"
    }
   ],
   "source": [
    "# calculate mean IoU (not counting empty classes)\n",
    "iou_mean2 = np.nanmean(iou_scores2['IoU'])\n",
    "iou_mean2"
   ]
  },
  {
   "cell_type": "markdown",
   "id": "9f7ab8bd",
   "metadata": {},
   "source": [
    "# F1 Score (Dice coefficient)"
   ]
  },
  {
   "cell_type": "code",
   "execution_count": 68,
   "id": "df47dcb5",
   "metadata": {},
   "outputs": [
    {
     "data": {
      "text/html": [
       "<div>\n",
       "<style scoped>\n",
       "    .dataframe tbody tr th:only-of-type {\n",
       "        vertical-align: middle;\n",
       "    }\n",
       "\n",
       "    .dataframe tbody tr th {\n",
       "        vertical-align: top;\n",
       "    }\n",
       "\n",
       "    .dataframe thead th {\n",
       "        text-align: right;\n",
       "    }\n",
       "</style>\n",
       "<table border=\"1\" class=\"dataframe\">\n",
       "  <thead>\n",
       "    <tr style=\"text-align: right;\">\n",
       "      <th></th>\n",
       "      <th>class</th>\n",
       "      <th>f1-score</th>\n",
       "    </tr>\n",
       "  </thead>\n",
       "  <tbody>\n",
       "    <tr>\n",
       "      <th>0</th>\n",
       "      <td>c1:Water</td>\n",
       "      <td>0.891</td>\n",
       "    </tr>\n",
       "    <tr>\n",
       "      <th>1</th>\n",
       "      <td>c2:Tree</td>\n",
       "      <td>0.898</td>\n",
       "    </tr>\n",
       "    <tr>\n",
       "      <th>2</th>\n",
       "      <td>c3:Flooded Vegetation</td>\n",
       "      <td>0.252</td>\n",
       "    </tr>\n",
       "    <tr>\n",
       "      <th>3</th>\n",
       "      <td>c4:Crops</td>\n",
       "      <td>0.529</td>\n",
       "    </tr>\n",
       "    <tr>\n",
       "      <th>4</th>\n",
       "      <td>c5:Bare Ground</td>\n",
       "      <td>0.925</td>\n",
       "    </tr>\n",
       "    <tr>\n",
       "      <th>5</th>\n",
       "      <td>c6:Rangeland</td>\n",
       "      <td>0.709</td>\n",
       "    </tr>\n",
       "    <tr>\n",
       "      <th>6</th>\n",
       "      <td>c7:Rural</td>\n",
       "      <td>0.263</td>\n",
       "    </tr>\n",
       "    <tr>\n",
       "      <th>7</th>\n",
       "      <td>c8:Urban</td>\n",
       "      <td>0.726</td>\n",
       "    </tr>\n",
       "  </tbody>\n",
       "</table>\n",
       "</div>"
      ],
      "text/plain": [
       "                   class  f1-score\n",
       "0               c1:Water     0.891\n",
       "1                c2:Tree     0.898\n",
       "2  c3:Flooded Vegetation     0.252\n",
       "3               c4:Crops     0.529\n",
       "4         c5:Bare Ground     0.925\n",
       "5           c6:Rangeland     0.709\n",
       "6               c7:Rural     0.263\n",
       "7               c8:Urban     0.726"
      ]
     },
     "execution_count": 68,
     "metadata": {},
     "output_type": "execute_result"
    }
   ],
   "source": [
    "class_names = df_raw_count2.columns\n",
    "raw_counts = df_raw_count2.to_numpy()\n",
    "f1_class = {}\n",
    "\n",
    "# calculate IoU for each class\n",
    "for i in range(len(class_names)):\n",
    "    tp = raw_counts[i, i]\n",
    "    fp = raw_counts[:, i].sum() - tp\n",
    "    fn = raw_counts[i, :].sum() - tp\n",
    "    \n",
    "    nom = tp\n",
    "    denom = tp + 0.5*(fp + fn)\n",
    "    \n",
    "    if denom != 0:\n",
    "        f1 = nom / denom\n",
    "    else:\n",
    "        f1 = np.NaN\n",
    "    f1_class[class_names[i]] = f1\n",
    "\n",
    "# output f1-score as dataframe\n",
    "f1_scores2 = pd.DataFrame(f1_class.items(), columns=['class', 'f1-score'])\n",
    "f1_scores2.round(3)"
   ]
  },
  {
   "cell_type": "code",
   "execution_count": 69,
   "id": "0a93d4e1",
   "metadata": {},
   "outputs": [
    {
     "data": {
      "text/plain": [
       "0.6491761145662447"
      ]
     },
     "execution_count": 69,
     "metadata": {},
     "output_type": "execute_result"
    }
   ],
   "source": [
    "# calculate mean f1-score (not counting empty classes)\n",
    "f1_mean2 = np.nanmean(f1_scores2['f1-score'])\n",
    "f1_mean2"
   ]
  },
  {
   "cell_type": "code",
   "execution_count": 70,
   "id": "6b56c9a6",
   "metadata": {},
   "outputs": [
    {
     "data": {
      "text/html": [
       "<div>\n",
       "<style scoped>\n",
       "    .dataframe tbody tr th:only-of-type {\n",
       "        vertical-align: middle;\n",
       "    }\n",
       "\n",
       "    .dataframe tbody tr th {\n",
       "        vertical-align: top;\n",
       "    }\n",
       "\n",
       "    .dataframe thead th {\n",
       "        text-align: right;\n",
       "    }\n",
       "</style>\n",
       "<table border=\"1\" class=\"dataframe\">\n",
       "  <thead>\n",
       "    <tr style=\"text-align: right;\">\n",
       "      <th></th>\n",
       "      <th>IoU</th>\n",
       "      <th>f1-score</th>\n",
       "    </tr>\n",
       "    <tr>\n",
       "      <th>class</th>\n",
       "      <th></th>\n",
       "      <th></th>\n",
       "    </tr>\n",
       "  </thead>\n",
       "  <tbody>\n",
       "    <tr>\n",
       "      <th>c1:Water</th>\n",
       "      <td>0.803</td>\n",
       "      <td>0.891</td>\n",
       "    </tr>\n",
       "    <tr>\n",
       "      <th>c2:Tree</th>\n",
       "      <td>0.815</td>\n",
       "      <td>0.898</td>\n",
       "    </tr>\n",
       "    <tr>\n",
       "      <th>c3:Flooded Vegetation</th>\n",
       "      <td>0.144</td>\n",
       "      <td>0.252</td>\n",
       "    </tr>\n",
       "    <tr>\n",
       "      <th>c4:Crops</th>\n",
       "      <td>0.359</td>\n",
       "      <td>0.529</td>\n",
       "    </tr>\n",
       "    <tr>\n",
       "      <th>c5:Bare Ground</th>\n",
       "      <td>0.860</td>\n",
       "      <td>0.925</td>\n",
       "    </tr>\n",
       "    <tr>\n",
       "      <th>c6:Rangeland</th>\n",
       "      <td>0.550</td>\n",
       "      <td>0.709</td>\n",
       "    </tr>\n",
       "    <tr>\n",
       "      <th>c7:Rural</th>\n",
       "      <td>0.151</td>\n",
       "      <td>0.263</td>\n",
       "    </tr>\n",
       "    <tr>\n",
       "      <th>c8:Urban</th>\n",
       "      <td>0.570</td>\n",
       "      <td>0.726</td>\n",
       "    </tr>\n",
       "    <tr>\n",
       "      <th>mean</th>\n",
       "      <td>0.532</td>\n",
       "      <td>0.649</td>\n",
       "    </tr>\n",
       "  </tbody>\n",
       "</table>\n",
       "</div>"
      ],
      "text/plain": [
       "                         IoU  f1-score\n",
       "class                                 \n",
       "c1:Water               0.803     0.891\n",
       "c2:Tree                0.815     0.898\n",
       "c3:Flooded Vegetation  0.144     0.252\n",
       "c4:Crops               0.359     0.529\n",
       "c5:Bare Ground         0.860     0.925\n",
       "c6:Rangeland           0.550     0.709\n",
       "c7:Rural               0.151     0.263\n",
       "c8:Urban               0.570     0.726\n",
       "mean                   0.532     0.649"
      ]
     },
     "execution_count": 70,
     "metadata": {},
     "output_type": "execute_result"
    }
   ],
   "source": [
    "iou_f1_2 = iou_scores2.set_index('class').join(f1_scores2.set_index('class'))\n",
    "iou_f1_mean_2 = pd.DataFrame({'class': ['mean'], 'IoU': [iou_mean2], 'f1-score': [f1_mean2]}).set_index('class')\n",
    "iou_f1_2 = pd.concat([iou_f1_2, iou_f1_mean_2])\n",
    "iou_f1_2.round(3)"
   ]
  },
  {
   "cell_type": "markdown",
   "id": "a0c9a976",
   "metadata": {},
   "source": [
    "### Difference"
   ]
  },
  {
   "cell_type": "code",
   "execution_count": 71,
   "id": "1d8e95d4",
   "metadata": {},
   "outputs": [],
   "source": [
    "# https://www.geeksforgeeks.org/highlight-the-negative-values-red-and-positive-values-black-in-pandas-dataframe/\n",
    "# Define a function for colouring \n",
    "# negative values red and \n",
    "# positive values black\n",
    "def highlight_max(s):\n",
    "    if s.dtype == np.object:\n",
    "        is_neg = [False for _ in range(s.shape[0])]\n",
    "    else:\n",
    "        is_neg = s < 0\n",
    "    return ['color: red;' if cell else 'color:blue' \n",
    "            for cell in is_neg]\n",
    "\n"
   ]
  },
  {
   "cell_type": "code",
   "execution_count": 72,
   "id": "2208f9ab",
   "metadata": {},
   "outputs": [
    {
     "name": "stderr",
     "output_type": "stream",
     "text": [
      "/tmp/ipykernel_2728299/1906642432.py:6: DeprecationWarning: `np.object` is a deprecated alias for the builtin `object`. To silence this warning, use `object` by itself. Doing this will not modify any behavior and is safe. \n",
      "Deprecated in NumPy 1.20; for more details and guidance: https://numpy.org/devdocs/release/1.20.0-notes.html#deprecations\n",
      "  if s.dtype == np.object:\n"
     ]
    },
    {
     "data": {
      "text/html": [
       "<style type=\"text/css\">\n",
       "#T_fd641_row0_col0, #T_fd641_row4_col0, #T_fd641_row5_col0, #T_fd641_row6_col0 {\n",
       "  color: red;\n",
       "}\n",
       "#T_fd641_row1_col0, #T_fd641_row2_col0, #T_fd641_row3_col0, #T_fd641_row7_col0 {\n",
       "  color: blue;\n",
       "}\n",
       "</style>\n",
       "<table id=\"T_fd641\">\n",
       "  <thead>\n",
       "    <tr>\n",
       "      <th class=\"blank level0\" >&nbsp;</th>\n",
       "      <th id=\"T_fd641_level0_col0\" class=\"col_heading level0 col0\" >recall</th>\n",
       "    </tr>\n",
       "    <tr>\n",
       "      <th class=\"index_name level0\" >class</th>\n",
       "      <th class=\"blank col0\" >&nbsp;</th>\n",
       "    </tr>\n",
       "  </thead>\n",
       "  <tbody>\n",
       "    <tr>\n",
       "      <th id=\"T_fd641_level0_row0\" class=\"row_heading level0 row0\" >c1:Water</th>\n",
       "      <td id=\"T_fd641_row0_col0\" class=\"data row0 col0\" >-0.005</td>\n",
       "    </tr>\n",
       "    <tr>\n",
       "      <th id=\"T_fd641_level0_row1\" class=\"row_heading level0 row1\" >c2:Tree</th>\n",
       "      <td id=\"T_fd641_row1_col0\" class=\"data row1 col0\" >0.002</td>\n",
       "    </tr>\n",
       "    <tr>\n",
       "      <th id=\"T_fd641_level0_row2\" class=\"row_heading level0 row2\" >c3:Flooded Vegetation</th>\n",
       "      <td id=\"T_fd641_row2_col0\" class=\"data row2 col0\" >0.022</td>\n",
       "    </tr>\n",
       "    <tr>\n",
       "      <th id=\"T_fd641_level0_row3\" class=\"row_heading level0 row3\" >c4:Crops</th>\n",
       "      <td id=\"T_fd641_row3_col0\" class=\"data row3 col0\" >0.017</td>\n",
       "    </tr>\n",
       "    <tr>\n",
       "      <th id=\"T_fd641_level0_row4\" class=\"row_heading level0 row4\" >c5:Bare Ground</th>\n",
       "      <td id=\"T_fd641_row4_col0\" class=\"data row4 col0\" >-0.004</td>\n",
       "    </tr>\n",
       "    <tr>\n",
       "      <th id=\"T_fd641_level0_row5\" class=\"row_heading level0 row5\" >c6:Rangeland</th>\n",
       "      <td id=\"T_fd641_row5_col0\" class=\"data row5 col0\" >-0.093</td>\n",
       "    </tr>\n",
       "    <tr>\n",
       "      <th id=\"T_fd641_level0_row6\" class=\"row_heading level0 row6\" >c7:Rural</th>\n",
       "      <td id=\"T_fd641_row6_col0\" class=\"data row6 col0\" >-0.021</td>\n",
       "    </tr>\n",
       "    <tr>\n",
       "      <th id=\"T_fd641_level0_row7\" class=\"row_heading level0 row7\" >c8:Urban</th>\n",
       "      <td id=\"T_fd641_row7_col0\" class=\"data row7 col0\" >0.025</td>\n",
       "    </tr>\n",
       "  </tbody>\n",
       "</table>\n"
      ],
      "text/plain": [
       "<pandas.io.formats.style.Styler at 0x7feab5fcde50>"
      ]
     },
     "execution_count": 72,
     "metadata": {},
     "output_type": "execute_result"
    }
   ],
   "source": [
    "df_recall_Score_diff = recall_scores2.set_index('class') - recall_scores.set_index('class')\n",
    "df_recall_Score_diff.style.apply(highlight_max).format(precision=3)"
   ]
  },
  {
   "cell_type": "code",
   "execution_count": 73,
   "id": "b522785f",
   "metadata": {},
   "outputs": [
    {
     "name": "stderr",
     "output_type": "stream",
     "text": [
      "/tmp/ipykernel_2728299/1906642432.py:6: DeprecationWarning: `np.object` is a deprecated alias for the builtin `object`. To silence this warning, use `object` by itself. Doing this will not modify any behavior and is safe. \n",
      "Deprecated in NumPy 1.20; for more details and guidance: https://numpy.org/devdocs/release/1.20.0-notes.html#deprecations\n",
      "  if s.dtype == np.object:\n"
     ]
    },
    {
     "data": {
      "text/html": [
       "<style type=\"text/css\">\n",
       "#T_8534c_row0_col0, #T_8534c_row1_col0, #T_8534c_row2_col0, #T_8534c_row3_col0, #T_8534c_row7_col0 {\n",
       "  color: red;\n",
       "}\n",
       "#T_8534c_row4_col0, #T_8534c_row5_col0, #T_8534c_row6_col0 {\n",
       "  color: blue;\n",
       "}\n",
       "</style>\n",
       "<table id=\"T_8534c\">\n",
       "  <thead>\n",
       "    <tr>\n",
       "      <th class=\"blank level0\" >&nbsp;</th>\n",
       "      <th id=\"T_8534c_level0_col0\" class=\"col_heading level0 col0\" >precision</th>\n",
       "    </tr>\n",
       "    <tr>\n",
       "      <th class=\"index_name level0\" >class</th>\n",
       "      <th class=\"blank col0\" >&nbsp;</th>\n",
       "    </tr>\n",
       "  </thead>\n",
       "  <tbody>\n",
       "    <tr>\n",
       "      <th id=\"T_8534c_level0_row0\" class=\"row_heading level0 row0\" >c1:Water</th>\n",
       "      <td id=\"T_8534c_row0_col0\" class=\"data row0 col0\" >-0.059</td>\n",
       "    </tr>\n",
       "    <tr>\n",
       "      <th id=\"T_8534c_level0_row1\" class=\"row_heading level0 row1\" >c2:Tree</th>\n",
       "      <td id=\"T_8534c_row1_col0\" class=\"data row1 col0\" >-0.033</td>\n",
       "    </tr>\n",
       "    <tr>\n",
       "      <th id=\"T_8534c_level0_row2\" class=\"row_heading level0 row2\" >c3:Flooded Vegetation</th>\n",
       "      <td id=\"T_8534c_row2_col0\" class=\"data row2 col0\" >-0.065</td>\n",
       "    </tr>\n",
       "    <tr>\n",
       "      <th id=\"T_8534c_level0_row3\" class=\"row_heading level0 row3\" >c4:Crops</th>\n",
       "      <td id=\"T_8534c_row3_col0\" class=\"data row3 col0\" >-0.056</td>\n",
       "    </tr>\n",
       "    <tr>\n",
       "      <th id=\"T_8534c_level0_row4\" class=\"row_heading level0 row4\" >c5:Bare Ground</th>\n",
       "      <td id=\"T_8534c_row4_col0\" class=\"data row4 col0\" >0.001</td>\n",
       "    </tr>\n",
       "    <tr>\n",
       "      <th id=\"T_8534c_level0_row5\" class=\"row_heading level0 row5\" >c6:Rangeland</th>\n",
       "      <td id=\"T_8534c_row5_col0\" class=\"data row5 col0\" >0.017</td>\n",
       "    </tr>\n",
       "    <tr>\n",
       "      <th id=\"T_8534c_level0_row6\" class=\"row_heading level0 row6\" >c7:Rural</th>\n",
       "      <td id=\"T_8534c_row6_col0\" class=\"data row6 col0\" >0.000</td>\n",
       "    </tr>\n",
       "    <tr>\n",
       "      <th id=\"T_8534c_level0_row7\" class=\"row_heading level0 row7\" >c8:Urban</th>\n",
       "      <td id=\"T_8534c_row7_col0\" class=\"data row7 col0\" >-0.042</td>\n",
       "    </tr>\n",
       "  </tbody>\n",
       "</table>\n"
      ],
      "text/plain": [
       "<pandas.io.formats.style.Styler at 0x7feab43668e0>"
      ]
     },
     "execution_count": 73,
     "metadata": {},
     "output_type": "execute_result"
    }
   ],
   "source": [
    "df_precision_Score_diff = precision_scores2.set_index('class') - precision_scores.set_index('class')\n",
    "df_precision_Score_diff.style.apply(highlight_max).format(precision=3)"
   ]
  },
  {
   "cell_type": "code",
   "execution_count": 74,
   "id": "ef582432",
   "metadata": {},
   "outputs": [
    {
     "name": "stderr",
     "output_type": "stream",
     "text": [
      "/tmp/ipykernel_2728299/1906642432.py:6: DeprecationWarning: `np.object` is a deprecated alias for the builtin `object`. To silence this warning, use `object` by itself. Doing this will not modify any behavior and is safe. \n",
      "Deprecated in NumPy 1.20; for more details and guidance: https://numpy.org/devdocs/release/1.20.0-notes.html#deprecations\n",
      "  if s.dtype == np.object:\n"
     ]
    },
    {
     "data": {
      "text/html": [
       "<style type=\"text/css\">\n",
       "#T_45b41_row0_col0, #T_45b41_row0_col1, #T_45b41_row1_col0, #T_45b41_row1_col1, #T_45b41_row2_col0, #T_45b41_row2_col1, #T_45b41_row3_col0, #T_45b41_row3_col1, #T_45b41_row4_col0, #T_45b41_row4_col1, #T_45b41_row5_col0, #T_45b41_row5_col1, #T_45b41_row6_col0, #T_45b41_row6_col1, #T_45b41_row7_col0, #T_45b41_row7_col1, #T_45b41_row8_col0, #T_45b41_row8_col1 {\n",
       "  color: red;\n",
       "}\n",
       "</style>\n",
       "<table id=\"T_45b41\">\n",
       "  <thead>\n",
       "    <tr>\n",
       "      <th class=\"blank level0\" >&nbsp;</th>\n",
       "      <th id=\"T_45b41_level0_col0\" class=\"col_heading level0 col0\" >IoU</th>\n",
       "      <th id=\"T_45b41_level0_col1\" class=\"col_heading level0 col1\" >f1-score</th>\n",
       "    </tr>\n",
       "    <tr>\n",
       "      <th class=\"index_name level0\" >class</th>\n",
       "      <th class=\"blank col0\" >&nbsp;</th>\n",
       "      <th class=\"blank col1\" >&nbsp;</th>\n",
       "    </tr>\n",
       "  </thead>\n",
       "  <tbody>\n",
       "    <tr>\n",
       "      <th id=\"T_45b41_level0_row0\" class=\"row_heading level0 row0\" >c1:Water</th>\n",
       "      <td id=\"T_45b41_row0_col0\" class=\"data row0 col0\" >-0.059</td>\n",
       "      <td id=\"T_45b41_row0_col1\" class=\"data row0 col1\" >-0.035</td>\n",
       "    </tr>\n",
       "    <tr>\n",
       "      <th id=\"T_45b41_level0_row1\" class=\"row_heading level0 row1\" >c2:Tree</th>\n",
       "      <td id=\"T_45b41_row1_col0\" class=\"data row1 col0\" >-0.029</td>\n",
       "      <td id=\"T_45b41_row1_col1\" class=\"data row1 col1\" >-0.017</td>\n",
       "    </tr>\n",
       "    <tr>\n",
       "      <th id=\"T_45b41_level0_row2\" class=\"row_heading level0 row2\" >c3:Flooded Vegetation</th>\n",
       "      <td id=\"T_45b41_row2_col0\" class=\"data row2 col0\" >-0.062</td>\n",
       "      <td id=\"T_45b41_row2_col1\" class=\"data row2 col1\" >-0.090</td>\n",
       "    </tr>\n",
       "    <tr>\n",
       "      <th id=\"T_45b41_level0_row3\" class=\"row_heading level0 row3\" >c4:Crops</th>\n",
       "      <td id=\"T_45b41_row3_col0\" class=\"data row3 col0\" >-0.031</td>\n",
       "      <td id=\"T_45b41_row3_col1\" class=\"data row3 col1\" >-0.033</td>\n",
       "    </tr>\n",
       "    <tr>\n",
       "      <th id=\"T_45b41_level0_row4\" class=\"row_heading level0 row4\" >c5:Bare Ground</th>\n",
       "      <td id=\"T_45b41_row4_col0\" class=\"data row4 col0\" >-0.002</td>\n",
       "      <td id=\"T_45b41_row4_col1\" class=\"data row4 col1\" >-0.001</td>\n",
       "    </tr>\n",
       "    <tr>\n",
       "      <th id=\"T_45b41_level0_row5\" class=\"row_heading level0 row5\" >c6:Rangeland</th>\n",
       "      <td id=\"T_45b41_row5_col0\" class=\"data row5 col0\" >-0.075</td>\n",
       "      <td id=\"T_45b41_row5_col1\" class=\"data row5 col1\" >-0.060</td>\n",
       "    </tr>\n",
       "    <tr>\n",
       "      <th id=\"T_45b41_level0_row6\" class=\"row_heading level0 row6\" >c7:Rural</th>\n",
       "      <td id=\"T_45b41_row6_col0\" class=\"data row6 col0\" >-0.002</td>\n",
       "      <td id=\"T_45b41_row6_col1\" class=\"data row6 col1\" >-0.002</td>\n",
       "    </tr>\n",
       "    <tr>\n",
       "      <th id=\"T_45b41_level0_row7\" class=\"row_heading level0 row7\" >c8:Urban</th>\n",
       "      <td id=\"T_45b41_row7_col0\" class=\"data row7 col0\" >-0.014</td>\n",
       "      <td id=\"T_45b41_row7_col1\" class=\"data row7 col1\" >-0.011</td>\n",
       "    </tr>\n",
       "    <tr>\n",
       "      <th id=\"T_45b41_level0_row8\" class=\"row_heading level0 row8\" >mean</th>\n",
       "      <td id=\"T_45b41_row8_col0\" class=\"data row8 col0\" >-0.034</td>\n",
       "      <td id=\"T_45b41_row8_col1\" class=\"data row8 col1\" >-0.031</td>\n",
       "    </tr>\n",
       "  </tbody>\n",
       "</table>\n"
      ],
      "text/plain": [
       "<pandas.io.formats.style.Styler at 0x7feab4371be0>"
      ]
     },
     "execution_count": 74,
     "metadata": {},
     "output_type": "execute_result"
    }
   ],
   "source": [
    "df_iou_f1 = iou_f1_2 - iou_f1\n",
    "df_iou_f1.style.apply(highlight_max).format(precision=3)"
   ]
  },
  {
   "cell_type": "markdown",
   "id": "43bdd8f7",
   "metadata": {},
   "source": [
    "### Seaborn Heatmap (Recall)"
   ]
  },
  {
   "cell_type": "code",
   "execution_count": 75,
   "id": "4a37f29a",
   "metadata": {},
   "outputs": [
    {
     "data": {
      "text/plain": [
       "Text(0.5, 23.52222222222222, 'Predicted label')"
      ]
     },
     "execution_count": 75,
     "metadata": {},
     "output_type": "execute_result"
    },
    {
     "data": {
      "image/png": "[encoded data removed]",
      "text/plain": [
       "<Figure size 640x480 with 2 Axes>"
      ]
     },
     "metadata": {},
     "output_type": "display_data"
    }
   ],
   "source": [
    "df_recall_diff = df_recall2 - df_recall\n",
    "c = sns.color_palette(\"coolwarm\", as_cmap=True)\n",
    "\n",
    "heatmap = sns.heatmap(data=df_recall_diff, vmin=-1.0, vmax=1.0, cmap=c, annot=True, annot_kws={\"fontsize\":6.8}, fmt='.3f')\n",
    "heatmap.yaxis.set_ticklabels(heatmap.yaxis.get_ticklabels(), rotation=0, ha='right',fontsize=8)\n",
    "heatmap.xaxis.set_ticklabels(heatmap.xaxis.get_ticklabels(), rotation=45, ha='right',fontsize=8)\n",
    "plt.title('recall matrix')\n",
    "plt.ylabel('True label')\n",
    "plt.xlabel('Predicted label')"
   ]
  },
  {
   "cell_type": "markdown",
   "id": "726e128e",
   "metadata": {},
   "source": [
    "### Seaborn Heatmap (Precision)"
   ]
  },
  {
   "cell_type": "code",
   "execution_count": 76,
   "id": "c9338106",
   "metadata": {},
   "outputs": [
    {
     "data": {
      "text/plain": [
       "Text(0.5, 23.52222222222222, 'Predicted label')"
      ]
     },
     "execution_count": 76,
     "metadata": {},
     "output_type": "execute_result"
    },
    {
     "data": {
      "image/png": "[encoded data removed]",
      "text/plain": [
       "<Figure size 640x480 with 2 Axes>"
      ]
     },
     "metadata": {},
     "output_type": "display_data"
    }
   ],
   "source": [
    "heatmap = sns.heatmap(data=df_precision, vmin=0.0, vmax=1.0, cmap=plt.cm.Blues, annot=True, annot_kws={\"fontsize\":6.8}, fmt='.2f')\n",
    "heatmap.yaxis.set_ticklabels(heatmap.yaxis.get_ticklabels(), rotation=0, ha='right',fontsize=8)\n",
    "heatmap.xaxis.set_ticklabels(heatmap.xaxis.get_ticklabels(), rotation=45, ha='right',fontsize=8)\n",
    "plt.title('precision matrix')\n",
    "plt.ylabel('True label')\n",
    "plt.xlabel('Predicted label')"
   ]
  },
  {
   "cell_type": "code",
   "execution_count": null,
   "id": "4a10a153",
   "metadata": {},
   "outputs": [],
   "source": []
  },
  {
   "cell_type": "code",
   "execution_count": null,
   "id": "131f65a2",
   "metadata": {},
   "outputs": [],
   "source": []
  },
  {
   "cell_type": "code",
   "execution_count": null,
   "id": "8864bbc5",
   "metadata": {},
   "outputs": [],
   "source": []
  }
 ],
 "metadata": {
  "kernelspec": {
   "display_name": "Python 3 (ipykernel)",
   "language": "python",
   "name": "python3"
  },
  "language_info": {
   "codemirror_mode": {
    "name": "ipython",
    "version": 3
   },
   "file_extension": ".py",
   "mimetype": "text/x-python",
   "name": "python",
   "nbconvert_exporter": "python",
   "pygments_lexer": "ipython3",
   "version": "3.8.13"
  }
 },
 "nbformat": 4,
 "nbformat_minor": 5
}
