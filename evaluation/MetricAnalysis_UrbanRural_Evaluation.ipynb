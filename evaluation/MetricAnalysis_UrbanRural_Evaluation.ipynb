{
 "cells": [
  {
   "cell_type": "code",
   "execution_count": 8,
   "id": "9c4f42ed",
   "metadata": {},
   "outputs": [],
   "source": [
    "import pandas as pd\n",
    "import numpy as np\n",
    "import matplotlib\n",
    "import matplotlib.pyplot as plt\n",
    "import seaborn as sns"
   ]
  },
  {
   "cell_type": "code",
   "execution_count": 9,
   "id": "d7eb864e",
   "metadata": {},
   "outputs": [],
   "source": [
    "def style_diag(data):\n",
    "    '''author: CJR, https://stackoverflow.com/a/56916315'''\n",
    "    diag_mask = pd.DataFrame(\"\", index=data.index, columns=data.columns)\n",
    "    min_axis = min(diag_mask.shape)\n",
    "    diag_mask.iloc[range(min_axis), range(min_axis)] = 'background-color: yellow'\n",
    "    return diag_mask"
   ]
  },
  {
   "cell_type": "markdown",
   "id": "19fd49bb",
   "metadata": {},
   "source": [
    "# Metric Analysis: Urban/Rural Evaluation"
   ]
  },
  {
   "cell_type": "code",
   "execution_count": 10,
   "id": "bb89df09",
   "metadata": {},
   "outputs": [],
   "source": [
    "mimer = '/mimer/NOBACKUP/groups/globalpoverty1/albin_and_albin/raw_count_confusion_matrices/dhs_eval/'\n",
    "\n",
    "pred_vs_dhs_csv = mimer + 'confusion_matrix_esri_pred_vs_dhs_urban_rural_eval_34512.csv'\n",
    "smod_vs_dhs_csv = mimer + 'confusion_matrix_smod_vs_dhs_urban_rural_eval_34512.csv'"
   ]
  },
  {
   "cell_type": "markdown",
   "id": "ff324068",
   "metadata": {},
   "source": [
    "## Prediction vs DHS"
   ]
  },
  {
   "cell_type": "markdown",
   "id": "786e1a6a",
   "metadata": {},
   "source": [
    "### DataFrame (raw pixel count)"
   ]
  },
  {
   "cell_type": "code",
   "execution_count": 11,
   "id": "3bc46dd2",
   "metadata": {},
   "outputs": [
    {
     "data": {
      "text/html": [
       "<style type=\"text/css\">\n",
       "#T_a3219_row0_col0, #T_a3219_row1_col1 {\n",
       "  background-color: yellow;\n",
       "}\n",
       "</style>\n",
       "<table id=\"T_a3219\">\n",
       "  <thead>\n",
       "    <tr>\n",
       "      <th class=\"blank level0\" >&nbsp;</th>\n",
       "      <th id=\"T_a3219_level0_col0\" class=\"col_heading level0 col0\" >Rural</th>\n",
       "      <th id=\"T_a3219_level0_col1\" class=\"col_heading level0 col1\" >Urban</th>\n",
       "    </tr>\n",
       "  </thead>\n",
       "  <tbody>\n",
       "    <tr>\n",
       "      <th id=\"T_a3219_level0_row0\" class=\"row_heading level0 row0\" >Rural</th>\n",
       "      <td id=\"T_a3219_row0_col0\" class=\"data row0 col0\" >5876706</td>\n",
       "      <td id=\"T_a3219_row0_col1\" class=\"data row0 col1\" >21352404</td>\n",
       "    </tr>\n",
       "    <tr>\n",
       "      <th id=\"T_a3219_level0_row1\" class=\"row_heading level0 row1\" >Urban</th>\n",
       "      <td id=\"T_a3219_row1_col0\" class=\"data row1 col0\" >5737506</td>\n",
       "      <td id=\"T_a3219_row1_col1\" class=\"data row1 col1\" >73245310</td>\n",
       "    </tr>\n",
       "  </tbody>\n",
       "</table>\n"
      ],
      "text/plain": [
       "<pandas.io.formats.style.Styler at 0x7ff63d13bca0>"
      ]
     },
     "execution_count": 11,
     "metadata": {},
     "output_type": "execute_result"
    }
   ],
   "source": [
    "df_raw_count = pd.read_csv(pred_vs_dhs_csv, index_col=0)\n",
    "df_raw_count.style.apply(style_diag, axis=None).format(precision=3)"
   ]
  },
  {
   "cell_type": "code",
   "execution_count": 12,
   "id": "e52474af",
   "metadata": {},
   "outputs": [
    {
     "data": {
      "text/plain": [
       "Rural    27229110\n",
       "Urban    78982816\n",
       "dtype: int64"
      ]
     },
     "execution_count": 12,
     "metadata": {},
     "output_type": "execute_result"
    }
   ],
   "source": [
    "df_raw_count.sum(axis=1)"
   ]
  },
  {
   "cell_type": "code",
   "execution_count": 13,
   "id": "fefafcbb",
   "metadata": {},
   "outputs": [
    {
     "data": {
      "text/plain": [
       "Rural    0.256366\n",
       "Urban    0.743634\n",
       "dtype: float64"
      ]
     },
     "execution_count": 13,
     "metadata": {},
     "output_type": "execute_result"
    }
   ],
   "source": [
    "df_new = df_raw_count.sum(axis=1)\n",
    "df_new = df_new.div(df_new.sum(axis=0), axis=0)\n",
    "df_new"
   ]
  },
  {
   "cell_type": "markdown",
   "id": "d9e70c40",
   "metadata": {},
   "source": [
    "# Accuracy"
   ]
  },
  {
   "cell_type": "code",
   "execution_count": 14,
   "id": "39f76d14",
   "metadata": {},
   "outputs": [
    {
     "name": "stdout",
     "output_type": "stream",
     "text": [
      "accuracy: 0.7449447437757601\n"
     ]
    }
   ],
   "source": [
    "tp = df_raw_count.to_numpy().diagonal().sum()\n",
    "num_pixels = df_raw_count.to_numpy().sum()\n",
    "print(f'accuracy: {tp / num_pixels}')"
   ]
  },
  {
   "cell_type": "markdown",
   "id": "c1fa5320",
   "metadata": {},
   "source": [
    "# Recall"
   ]
  },
  {
   "cell_type": "markdown",
   "id": "37106cce",
   "metadata": {},
   "source": [
    "### DataFrame (recall)"
   ]
  },
  {
   "cell_type": "code",
   "execution_count": 15,
   "id": "51ffb2c0",
   "metadata": {},
   "outputs": [
    {
     "data": {
      "text/html": [
       "<style type=\"text/css\">\n",
       "#T_64b95_row0_col0, #T_64b95_row1_col1 {\n",
       "  background-color: yellow;\n",
       "}\n",
       "</style>\n",
       "<table id=\"T_64b95\">\n",
       "  <thead>\n",
       "    <tr>\n",
       "      <th class=\"blank level0\" >&nbsp;</th>\n",
       "      <th id=\"T_64b95_level0_col0\" class=\"col_heading level0 col0\" >Rural</th>\n",
       "      <th id=\"T_64b95_level0_col1\" class=\"col_heading level0 col1\" >Urban</th>\n",
       "    </tr>\n",
       "  </thead>\n",
       "  <tbody>\n",
       "    <tr>\n",
       "      <th id=\"T_64b95_level0_row0\" class=\"row_heading level0 row0\" >Rural</th>\n",
       "      <td id=\"T_64b95_row0_col0\" class=\"data row0 col0\" >0.216</td>\n",
       "      <td id=\"T_64b95_row0_col1\" class=\"data row0 col1\" >0.784</td>\n",
       "    </tr>\n",
       "    <tr>\n",
       "      <th id=\"T_64b95_level0_row1\" class=\"row_heading level0 row1\" >Urban</th>\n",
       "      <td id=\"T_64b95_row1_col0\" class=\"data row1 col0\" >0.073</td>\n",
       "      <td id=\"T_64b95_row1_col1\" class=\"data row1 col1\" >0.927</td>\n",
       "    </tr>\n",
       "  </tbody>\n",
       "</table>\n"
      ],
      "text/plain": [
       "<pandas.io.formats.style.Styler at 0x7ff63cffff10>"
      ]
     },
     "execution_count": 15,
     "metadata": {},
     "output_type": "execute_result"
    }
   ],
   "source": [
    "df_recall = df_raw_count.div(df_raw_count.sum(axis=1), axis=0)\n",
    "df_recall.style.apply(style_diag, axis=None).format(precision=3)"
   ]
  },
  {
   "cell_type": "markdown",
   "id": "52015712",
   "metadata": {},
   "source": [
    "### Seaborn Heatmap (Recall)"
   ]
  },
  {
   "cell_type": "code",
   "execution_count": 16,
   "id": "886b110f",
   "metadata": {},
   "outputs": [
    {
     "data": {
      "text/plain": [
       "Text(0.5, 23.52222222222222, 'Predicted label (prediction)')"
      ]
     },
     "execution_count": 16,
     "metadata": {},
     "output_type": "execute_result"
    },
    {
     "data": {
      "image/png": "[encoded data removed]",
      "text/plain": [
       "<Figure size 640x480 with 2 Axes>"
      ]
     },
     "metadata": {},
     "output_type": "display_data"
    }
   ],
   "source": [
    "heatmap = sns.heatmap(data=df_recall, vmin=0.0, vmax=1.0, cmap=plt.cm.Blues, annot=True, annot_kws={\"fontsize\":22.0}, fmt='.2f')\n",
    "heatmap.yaxis.set_ticklabels(heatmap.yaxis.get_ticklabels(), rotation=0, ha='right',fontsize=8)\n",
    "heatmap.xaxis.set_ticklabels(heatmap.xaxis.get_ticklabels(), rotation=45, ha='right',fontsize=8)\n",
    "plt.title('recall matrix (prediction vs dhs)')\n",
    "plt.ylabel('True label (dhs)')\n",
    "plt.xlabel('Predicted label (prediction)')"
   ]
  },
  {
   "cell_type": "markdown",
   "id": "b8cf8841",
   "metadata": {},
   "source": [
    "### Recall score (per class accuracy)"
   ]
  },
  {
   "cell_type": "code",
   "execution_count": 17,
   "id": "a047243d",
   "metadata": {},
   "outputs": [
    {
     "name": "stdout",
     "output_type": "stream",
     "text": [
      "class  recall\n",
      "Rural   0.216\n",
      "Urban   0.927\n"
     ]
    }
   ],
   "source": [
    "class_names = df_recall.columns\n",
    "confmat_diag = df_recall.to_numpy().diagonal()\n",
    "per_class_acc = dict(zip(class_names, confmat_diag))\n",
    "recall_scores = pd.DataFrame(per_class_acc.items(), columns=['class', 'recall'])\n",
    "recall_scores = recall_scores.round(3)\n",
    "print(recall_scores.to_string(index=False))"
   ]
  },
  {
   "cell_type": "code",
   "execution_count": 18,
   "id": "f7fc4331",
   "metadata": {},
   "outputs": [
    {
     "data": {
      "text/plain": [
       "array([0.21582439, 0.92735754])"
      ]
     },
     "execution_count": 18,
     "metadata": {},
     "output_type": "execute_result"
    }
   ],
   "source": [
    "confmat_diag"
   ]
  },
  {
   "cell_type": "markdown",
   "id": "e79ef319",
   "metadata": {},
   "source": [
    "# Precision"
   ]
  },
  {
   "cell_type": "markdown",
   "id": "1a2839ac",
   "metadata": {},
   "source": [
    "### DataFrame (precision)"
   ]
  },
  {
   "cell_type": "code",
   "execution_count": 19,
   "id": "2b947677",
   "metadata": {},
   "outputs": [
    {
     "data": {
      "text/html": [
       "<style type=\"text/css\">\n",
       "#T_68a40_row0_col0, #T_68a40_row1_col1 {\n",
       "  background-color: yellow;\n",
       "}\n",
       "</style>\n",
       "<table id=\"T_68a40\">\n",
       "  <thead>\n",
       "    <tr>\n",
       "      <th class=\"blank level0\" >&nbsp;</th>\n",
       "      <th id=\"T_68a40_level0_col0\" class=\"col_heading level0 col0\" >Rural</th>\n",
       "      <th id=\"T_68a40_level0_col1\" class=\"col_heading level0 col1\" >Urban</th>\n",
       "    </tr>\n",
       "  </thead>\n",
       "  <tbody>\n",
       "    <tr>\n",
       "      <th id=\"T_68a40_level0_row0\" class=\"row_heading level0 row0\" >Rural</th>\n",
       "      <td id=\"T_68a40_row0_col0\" class=\"data row0 col0\" >0.506</td>\n",
       "      <td id=\"T_68a40_row0_col1\" class=\"data row0 col1\" >0.226</td>\n",
       "    </tr>\n",
       "    <tr>\n",
       "      <th id=\"T_68a40_level0_row1\" class=\"row_heading level0 row1\" >Urban</th>\n",
       "      <td id=\"T_68a40_row1_col0\" class=\"data row1 col0\" >0.494</td>\n",
       "      <td id=\"T_68a40_row1_col1\" class=\"data row1 col1\" >0.774</td>\n",
       "    </tr>\n",
       "  </tbody>\n",
       "</table>\n"
      ],
      "text/plain": [
       "<pandas.io.formats.style.Styler at 0x7ff634bfdc40>"
      ]
     },
     "execution_count": 19,
     "metadata": {},
     "output_type": "execute_result"
    }
   ],
   "source": [
    "df_precision = df_raw_count.div(df_raw_count.sum(axis=0), axis=1)\n",
    "df_precision.style.apply(style_diag, axis=None).format(precision=3)"
   ]
  },
  {
   "cell_type": "markdown",
   "id": "531bbc97",
   "metadata": {},
   "source": [
    "### Seaborn Heatmap (Precision)"
   ]
  },
  {
   "cell_type": "code",
   "execution_count": 20,
   "id": "bda09f8c",
   "metadata": {},
   "outputs": [
    {
     "data": {
      "text/plain": [
       "Text(0.5, 23.52222222222222, 'Predicted label (prediction)')"
      ]
     },
     "execution_count": 20,
     "metadata": {},
     "output_type": "execute_result"
    },
    {
     "data": {
      "image/png": "[encoded data removed]",
      "text/plain": [
       "<Figure size 640x480 with 2 Axes>"
      ]
     },
     "metadata": {},
     "output_type": "display_data"
    }
   ],
   "source": [
    "heatmap = sns.heatmap(data=df_precision, vmin=0.0, vmax=1.0, cmap=plt.cm.Blues, annot=True, annot_kws={\"fontsize\":22.0}, fmt='.2f')\n",
    "heatmap.yaxis.set_ticklabels(heatmap.yaxis.get_ticklabels(), rotation=0, ha='right',fontsize=8)\n",
    "heatmap.xaxis.set_ticklabels(heatmap.xaxis.get_ticklabels(), rotation=45, ha='right',fontsize=8)\n",
    "plt.title('precision matrix (prediction vs dhs)')\n",
    "plt.ylabel('True label (dhs)')\n",
    "plt.xlabel('Predicted label (prediction)')"
   ]
  },
  {
   "cell_type": "markdown",
   "id": "a9348788",
   "metadata": {},
   "source": [
    "### Precision score (prediction accuracy)"
   ]
  },
  {
   "cell_type": "code",
   "execution_count": 21,
   "id": "61b2e9bb",
   "metadata": {},
   "outputs": [
    {
     "name": "stdout",
     "output_type": "stream",
     "text": [
      "class  precision\n",
      "Rural      0.506\n",
      "Urban      0.774\n"
     ]
    }
   ],
   "source": [
    "class_names = df_precision.columns\n",
    "confmat_diag = df_precision.to_numpy().diagonal()\n",
    "per_class_acc = dict(zip(class_names, confmat_diag))\n",
    "precision_scores = pd.DataFrame(per_class_acc.items(), columns=['class', 'precision'])\n",
    "precision_scores = precision_scores.round(3)\n",
    "print(precision_scores.to_string(index=False))"
   ]
  },
  {
   "cell_type": "code",
   "execution_count": 22,
   "id": "2f0551d5",
   "metadata": {},
   "outputs": [
    {
     "data": {
      "text/plain": [
       "array([0.50599266, 0.77428203])"
      ]
     },
     "execution_count": 22,
     "metadata": {},
     "output_type": "execute_result"
    }
   ],
   "source": [
    "confmat_diag"
   ]
  },
  {
   "cell_type": "code",
   "execution_count": null,
   "id": "9aa9eb75",
   "metadata": {},
   "outputs": [],
   "source": []
  },
  {
   "cell_type": "markdown",
   "id": "446e692d",
   "metadata": {},
   "source": [
    "## SMOD vs DHS"
   ]
  },
  {
   "cell_type": "markdown",
   "id": "184c2909",
   "metadata": {},
   "source": [
    "### DataFrame (raw pixel count)"
   ]
  },
  {
   "cell_type": "code",
   "execution_count": 23,
   "id": "a005967c",
   "metadata": {},
   "outputs": [
    {
     "data": {
      "text/html": [
       "<style type=\"text/css\">\n",
       "#T_31e84_row0_col0, #T_31e84_row1_col1 {\n",
       "  background-color: yellow;\n",
       "}\n",
       "</style>\n",
       "<table id=\"T_31e84\">\n",
       "  <thead>\n",
       "    <tr>\n",
       "      <th class=\"blank level0\" >&nbsp;</th>\n",
       "      <th id=\"T_31e84_level0_col0\" class=\"col_heading level0 col0\" >Rural</th>\n",
       "      <th id=\"T_31e84_level0_col1\" class=\"col_heading level0 col1\" >Urban</th>\n",
       "    </tr>\n",
       "  </thead>\n",
       "  <tbody>\n",
       "    <tr>\n",
       "      <th id=\"T_31e84_level0_row0\" class=\"row_heading level0 row0\" >Rural</th>\n",
       "      <td id=\"T_31e84_row0_col0\" class=\"data row0 col0\" >5698798</td>\n",
       "      <td id=\"T_31e84_row0_col1\" class=\"data row0 col1\" >26616304</td>\n",
       "    </tr>\n",
       "    <tr>\n",
       "      <th id=\"T_31e84_level0_row1\" class=\"row_heading level0 row1\" >Urban</th>\n",
       "      <td id=\"T_31e84_row1_col0\" class=\"data row1 col0\" >3264788</td>\n",
       "      <td id=\"T_31e84_row1_col1\" class=\"data row1 col1\" >78910237</td>\n",
       "    </tr>\n",
       "  </tbody>\n",
       "</table>\n"
      ],
      "text/plain": [
       "<pandas.io.formats.style.Styler at 0x7ff778496880>"
      ]
     },
     "execution_count": 23,
     "metadata": {},
     "output_type": "execute_result"
    }
   ],
   "source": [
    "df_raw_count = pd.read_csv(smod_vs_dhs_csv, index_col=0)\n",
    "df_raw_count.style.apply(style_diag, axis=None).format(precision=3)"
   ]
  },
  {
   "cell_type": "code",
   "execution_count": 24,
   "id": "94455294",
   "metadata": {},
   "outputs": [
    {
     "data": {
      "text/plain": [
       "Rural    32315102\n",
       "Urban    82175025\n",
       "dtype: int64"
      ]
     },
     "execution_count": 24,
     "metadata": {},
     "output_type": "execute_result"
    }
   ],
   "source": [
    "df_raw_count.sum(axis=1)"
   ]
  },
  {
   "cell_type": "code",
   "execution_count": 25,
   "id": "5dd09db2",
   "metadata": {},
   "outputs": [
    {
     "data": {
      "text/plain": [
       "Rural    0.282252\n",
       "Urban    0.717748\n",
       "dtype: float64"
      ]
     },
     "execution_count": 25,
     "metadata": {},
     "output_type": "execute_result"
    }
   ],
   "source": [
    "df_new = df_raw_count.sum(axis=1)\n",
    "df_new = df_new.div(df_new.sum(axis=0), axis=0)\n",
    "df_new"
   ]
  },
  {
   "cell_type": "markdown",
   "id": "52701394",
   "metadata": {},
   "source": [
    "# Accuracy"
   ]
  },
  {
   "cell_type": "code",
   "execution_count": 26,
   "id": "1420ebb4",
   "metadata": {},
   "outputs": [
    {
     "name": "stdout",
     "output_type": "stream",
     "text": [
      "accuracy: 0.7390072595517341\n"
     ]
    }
   ],
   "source": [
    "tp = df_raw_count.to_numpy().diagonal().sum()\n",
    "num_pixels = df_raw_count.to_numpy().sum()\n",
    "print(f'accuracy: {tp / num_pixels}')"
   ]
  },
  {
   "cell_type": "markdown",
   "id": "1f3dc855",
   "metadata": {},
   "source": [
    "# Recall"
   ]
  },
  {
   "cell_type": "markdown",
   "id": "01dc6c91",
   "metadata": {},
   "source": [
    "### DataFrame (recall)"
   ]
  },
  {
   "cell_type": "code",
   "execution_count": 27,
   "id": "7683ce3c",
   "metadata": {},
   "outputs": [
    {
     "data": {
      "text/html": [
       "<style type=\"text/css\">\n",
       "#T_4ebee_row0_col0, #T_4ebee_row1_col1 {\n",
       "  background-color: yellow;\n",
       "}\n",
       "</style>\n",
       "<table id=\"T_4ebee\">\n",
       "  <thead>\n",
       "    <tr>\n",
       "      <th class=\"blank level0\" >&nbsp;</th>\n",
       "      <th id=\"T_4ebee_level0_col0\" class=\"col_heading level0 col0\" >Rural</th>\n",
       "      <th id=\"T_4ebee_level0_col1\" class=\"col_heading level0 col1\" >Urban</th>\n",
       "    </tr>\n",
       "  </thead>\n",
       "  <tbody>\n",
       "    <tr>\n",
       "      <th id=\"T_4ebee_level0_row0\" class=\"row_heading level0 row0\" >Rural</th>\n",
       "      <td id=\"T_4ebee_row0_col0\" class=\"data row0 col0\" >0.176</td>\n",
       "      <td id=\"T_4ebee_row0_col1\" class=\"data row0 col1\" >0.824</td>\n",
       "    </tr>\n",
       "    <tr>\n",
       "      <th id=\"T_4ebee_level0_row1\" class=\"row_heading level0 row1\" >Urban</th>\n",
       "      <td id=\"T_4ebee_row1_col0\" class=\"data row1 col0\" >0.040</td>\n",
       "      <td id=\"T_4ebee_row1_col1\" class=\"data row1 col1\" >0.960</td>\n",
       "    </tr>\n",
       "  </tbody>\n",
       "</table>\n"
      ],
      "text/plain": [
       "<pandas.io.formats.style.Styler at 0x7ff634bfd100>"
      ]
     },
     "execution_count": 27,
     "metadata": {},
     "output_type": "execute_result"
    }
   ],
   "source": [
    "df_recall = df_raw_count.div(df_raw_count.sum(axis=1), axis=0)\n",
    "df_recall.style.apply(style_diag, axis=None).format(precision=3)"
   ]
  },
  {
   "cell_type": "markdown",
   "id": "49f8024f",
   "metadata": {},
   "source": [
    "### Seaborn Heatmap (Recall)"
   ]
  },
  {
   "cell_type": "code",
   "execution_count": 28,
   "id": "d7c61a9c",
   "metadata": {},
   "outputs": [
    {
     "data": {
      "text/plain": [
       "Text(0.5, 23.52222222222222, 'Predicted label (smod)')"
      ]
     },
     "execution_count": 28,
     "metadata": {},
     "output_type": "execute_result"
    },
    {
     "data": {
      "image/png": "[encoded data removed]",
      "text/plain": [
       "<Figure size 640x480 with 2 Axes>"
      ]
     },
     "metadata": {},
     "output_type": "display_data"
    }
   ],
   "source": [
    "heatmap = sns.heatmap(data=df_recall, vmin=0.0, vmax=1.0, cmap=plt.cm.Blues, annot=True, annot_kws={\"fontsize\":22.0}, fmt='.2f')\n",
    "heatmap.yaxis.set_ticklabels(heatmap.yaxis.get_ticklabels(), rotation=0, ha='right',fontsize=8)\n",
    "heatmap.xaxis.set_ticklabels(heatmap.xaxis.get_ticklabels(), rotation=45, ha='right',fontsize=8)\n",
    "plt.title('recall matrix (GHS-SMOD vs dhs)')\n",
    "plt.ylabel('True label (dhs)')\n",
    "plt.xlabel('Predicted label (smod)')"
   ]
  },
  {
   "cell_type": "markdown",
   "id": "6b547e6e",
   "metadata": {},
   "source": [
    "### Recall score (per class accuracy)"
   ]
  },
  {
   "cell_type": "code",
   "execution_count": 29,
   "id": "1084adfa",
   "metadata": {},
   "outputs": [
    {
     "name": "stdout",
     "output_type": "stream",
     "text": [
      "class  recall\n",
      "Rural   0.176\n",
      "Urban   0.960\n"
     ]
    }
   ],
   "source": [
    "class_names = df_recall.columns\n",
    "confmat_diag = df_recall.to_numpy().diagonal()\n",
    "per_class_acc = dict(zip(class_names, confmat_diag))\n",
    "recall_scores = pd.DataFrame(per_class_acc.items(), columns=['class', 'recall'])\n",
    "recall_scores = recall_scores.round(3)\n",
    "print(recall_scores.to_string(index=False))"
   ]
  },
  {
   "cell_type": "code",
   "execution_count": 30,
   "id": "e5e8946b",
   "metadata": {},
   "outputs": [
    {
     "data": {
      "text/plain": [
       "array([0.17635092, 0.96027031])"
      ]
     },
     "execution_count": 30,
     "metadata": {},
     "output_type": "execute_result"
    }
   ],
   "source": [
    "confmat_diag"
   ]
  },
  {
   "cell_type": "markdown",
   "id": "0f512862",
   "metadata": {},
   "source": [
    "# Precision"
   ]
  },
  {
   "cell_type": "markdown",
   "id": "a1d52464",
   "metadata": {},
   "source": [
    "### DataFrame (precision)"
   ]
  },
  {
   "cell_type": "code",
   "execution_count": 31,
   "id": "4885bfa0",
   "metadata": {},
   "outputs": [
    {
     "data": {
      "text/html": [
       "<style type=\"text/css\">\n",
       "#T_e0eb8_row0_col0, #T_e0eb8_row1_col1 {\n",
       "  background-color: yellow;\n",
       "}\n",
       "</style>\n",
       "<table id=\"T_e0eb8\">\n",
       "  <thead>\n",
       "    <tr>\n",
       "      <th class=\"blank level0\" >&nbsp;</th>\n",
       "      <th id=\"T_e0eb8_level0_col0\" class=\"col_heading level0 col0\" >Rural</th>\n",
       "      <th id=\"T_e0eb8_level0_col1\" class=\"col_heading level0 col1\" >Urban</th>\n",
       "    </tr>\n",
       "  </thead>\n",
       "  <tbody>\n",
       "    <tr>\n",
       "      <th id=\"T_e0eb8_level0_row0\" class=\"row_heading level0 row0\" >Rural</th>\n",
       "      <td id=\"T_e0eb8_row0_col0\" class=\"data row0 col0\" >0.636</td>\n",
       "      <td id=\"T_e0eb8_row0_col1\" class=\"data row0 col1\" >0.252</td>\n",
       "    </tr>\n",
       "    <tr>\n",
       "      <th id=\"T_e0eb8_level0_row1\" class=\"row_heading level0 row1\" >Urban</th>\n",
       "      <td id=\"T_e0eb8_row1_col0\" class=\"data row1 col0\" >0.364</td>\n",
       "      <td id=\"T_e0eb8_row1_col1\" class=\"data row1 col1\" >0.748</td>\n",
       "    </tr>\n",
       "  </tbody>\n",
       "</table>\n"
      ],
      "text/plain": [
       "<pandas.io.formats.style.Styler at 0x7ff634a76d60>"
      ]
     },
     "execution_count": 31,
     "metadata": {},
     "output_type": "execute_result"
    }
   ],
   "source": [
    "df_precision = df_raw_count.div(df_raw_count.sum(axis=0), axis=1)\n",
    "df_precision.style.apply(style_diag, axis=None).format(precision=3)"
   ]
  },
  {
   "cell_type": "markdown",
   "id": "6d278689",
   "metadata": {},
   "source": [
    "### Seaborn Heatmap (Precision)"
   ]
  },
  {
   "cell_type": "code",
   "execution_count": 32,
   "id": "71d167ef",
   "metadata": {},
   "outputs": [
    {
     "data": {
      "text/plain": [
       "Text(0.5, 23.52222222222222, 'Predicted label (smod)')"
      ]
     },
     "execution_count": 32,
     "metadata": {},
     "output_type": "execute_result"
    },
    {
     "data": {
      "image/png": "[encoded data removed]",
      "text/plain": [
       "<Figure size 640x480 with 2 Axes>"
      ]
     },
     "metadata": {},
     "output_type": "display_data"
    }
   ],
   "source": [
    "heatmap = sns.heatmap(data=df_precision, vmin=0.0, vmax=1.0, cmap=plt.cm.Blues, annot=True, annot_kws={\"fontsize\":22.0}, fmt='.2f')\n",
    "heatmap.yaxis.set_ticklabels(heatmap.yaxis.get_ticklabels(), rotation=0, ha='right',fontsize=8)\n",
    "heatmap.xaxis.set_ticklabels(heatmap.xaxis.get_ticklabels(), rotation=45, ha='right',fontsize=8)\n",
    "plt.title('precision matrix (GHS-SMOD vs dhs)')\n",
    "plt.ylabel('True label (dhs)')\n",
    "plt.xlabel('Predicted label (smod)')"
   ]
  },
  {
   "cell_type": "markdown",
   "id": "4ae96288",
   "metadata": {},
   "source": [
    "### Precision score (prediction accuracy)"
   ]
  },
  {
   "cell_type": "code",
   "execution_count": 33,
   "id": "a9c62f9c",
   "metadata": {},
   "outputs": [
    {
     "name": "stdout",
     "output_type": "stream",
     "text": [
      "class  precision\n",
      "Rural      0.636\n",
      "Urban      0.748\n"
     ]
    }
   ],
   "source": [
    "class_names = df_precision.columns\n",
    "confmat_diag = df_precision.to_numpy().diagonal()\n",
    "per_class_acc = dict(zip(class_names, confmat_diag))\n",
    "precision_scores = pd.DataFrame(per_class_acc.items(), columns=['class', 'precision'])\n",
    "precision_scores = precision_scores.round(3)\n",
    "print(precision_scores.to_string(index=False))"
   ]
  },
  {
   "cell_type": "code",
   "execution_count": 34,
   "id": "84413cea",
   "metadata": {},
   "outputs": [
    {
     "data": {
      "text/plain": [
       "array([0.63577211, 0.74777621])"
      ]
     },
     "execution_count": 34,
     "metadata": {},
     "output_type": "execute_result"
    }
   ],
   "source": [
    "confmat_diag"
   ]
  }
 ],
 "metadata": {
  "kernelspec": {
   "display_name": "Python 3 (ipykernel)",
   "language": "python",
   "name": "python3"
  },
  "language_info": {
   "codemirror_mode": {
    "name": "ipython",
    "version": 3
   },
   "file_extension": ".py",
   "mimetype": "text/x-python",
   "name": "python",
   "nbconvert_exporter": "python",
   "pygments_lexer": "ipython3",
   "version": "3.8.13"
  }
 },
 "nbformat": 4,
 "nbformat_minor": 5
}
