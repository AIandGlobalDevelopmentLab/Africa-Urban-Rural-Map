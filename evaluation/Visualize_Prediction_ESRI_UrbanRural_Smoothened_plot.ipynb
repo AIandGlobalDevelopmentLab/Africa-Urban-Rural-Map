{
 "cells": [
  {
   "cell_type": "code",
   "execution_count": 18,
   "id": "6fc563c1",
   "metadata": {},
   "outputs": [],
   "source": [
    "# ---imports---\n",
    "import sys\n",
    "import os\n",
    "import random\n",
    "sys.path.append('.')\n",
    "sys.path.append('..')\n",
    "\n",
    "import numpy as np\n",
    "import pandas as pd\n",
    "import torch\n",
    "import torch.nn.functional as F\n",
    "from torch.utils.data import DataLoader\n",
    "import lightning.pytorch as pl\n",
    "import rasterio\n",
    "\n",
    "from models.DeepLabV3_Lightning_ESRI_UrbanRural import DeepLabV3_Lightning_ESRI_UrbanRural\n",
    "\n",
    "from matplotlib import pyplot as plt\n",
    "from matplotlib.colors import ListedColormap\n",
    "from matplotlib import patches as mpatches"
   ]
  },
  {
   "cell_type": "markdown",
   "id": "781ba195",
   "metadata": {},
   "source": [
    "### Cross-validation fold setup"
   ]
  },
  {
   "cell_type": "code",
   "execution_count": 19,
   "id": "73599458",
   "metadata": {},
   "outputs": [],
   "source": [
    "# No need to change\n",
    "fold_1 = ['Algeria', 'Niger', 'Mauritania', 'Mozambique', 'CentralAfricanRepublic', 'Zimbabwe', 'Guinea', 'Malawi', 'Togo']\n",
    "fold_2 = ['DemocraticRepublicoftheCongo', 'Angola', 'Egypt', 'Zambia', 'Madagascar', 'Congo', 'Ghana', 'Eritrea', 'Guinea-Bissau']\n",
    "fold_3 = ['Sudan', 'Mali', 'UnitedRepublicofTanzania', 'Morocco', 'Botswana', 'CotedIvoire', 'Uganda', 'Benin', 'Lesotho']\n",
    "fold_4 = ['Libya', 'SouthAfrica', 'Nigeria', 'SouthSudan', 'Kenya', 'BurkinaFaso', 'Senegal', 'Liberia']\n",
    "fold_5 = ['Chad', 'Ethiopia', 'Namibia', 'Somalia', 'Cameroon', 'Gabon', 'Tunisia', 'SierraLeone', 'Burundi']\n",
    "\n",
    "training_folds =  fold_1 + fold_2 + fold_3\n",
    "val_fold = fold_4\n",
    "test_fold = fold_5"
   ]
  },
  {
   "cell_type": "markdown",
   "id": "7f1d367f",
   "metadata": {},
   "source": [
    "### Codices"
   ]
  },
  {
   "cell_type": "code",
   "execution_count": 20,
   "id": "e95ab42f",
   "metadata": {},
   "outputs": [],
   "source": [
    "# --- Class Codices ---\n",
    "\n",
    "# -ESRI LULC 2020 (9 classes): class codec\n",
    "# 1(->0): Water\n",
    "# 2(->1): Tree\n",
    "# 4(->2): Flooded Vegetation\n",
    "# 5(->3): Crops\n",
    "# 7(->6): Built Area\n",
    "# 8(->4): Bare Ground\n",
    "# 9(->(-1)): Snow / Ice\n",
    "# 10(->(-1)): Clouds\n",
    "# 11(->5): Rangeland\n",
    "# 12(->(-1)): Missing\n",
    "esri_classes = [1, 2, 4, 5, 7, 8, 9, 10, 11, 12]\n",
    "labels = [0, 1, 2, 3, 6, 4, -1, -1, 5, -1]\n",
    "\n",
    "esri_class_to_index_map = np.zeros(max(esri_classes) + 1, dtype='int64')\n",
    "esri_class_to_index_map[esri_classes] = labels\n",
    "\n",
    "\n",
    "# ---GHS-SMOD 2020 (8 classes): class codec---\n",
    "# 30(->7): URBAN CENTRE GRID CELL\n",
    "# 23(->7): DENSE URBAN CLUSTER GRID CELL\n",
    "# 22(->7): SEMI-DENSE URBAN CLUSTER GRID CELL\n",
    "# 21(->7): SUBURBAN OR PERI-URBAN GRID CELL\n",
    "# 13(->6): RURAL CLUSTER GRID CELL\n",
    "# 12(->6): LOW DENSITY RURAL GRID CELL\n",
    "# 11(->6): VERY LOW DENSITY RURAL GRID CELL\n",
    "# 10(->6): WATER GRID CELL\n",
    "# NoData [-Inf] -> 7\n",
    "smod_classes = [10, 11, 12, 13, 21, 22, 23, 30]\n",
    "labels = [6, 6, 6, 6, 7, 7, 7, 7]\n",
    "\n",
    "smod_class_to_index_map = np.zeros(max(smod_classes) + 1, dtype='int64')\n",
    "smod_class_to_index_map[smod_classes] = labels"
   ]
  },
  {
   "cell_type": "markdown",
   "id": "444748bb",
   "metadata": {},
   "source": [
    "### Preprocessing"
   ]
  },
  {
   "cell_type": "code",
   "execution_count": 21,
   "id": "2f5e2e28",
   "metadata": {},
   "outputs": [],
   "source": [
    "def get_patches(images):\n",
    "    '''read and preprocess images from list of image paths, return iterator'''\n",
    "    \n",
    "    for im_path in images:\n",
    "        \n",
    "        im = rasterio.open(im_path).read()\n",
    "    \n",
    "        # input preprocessing: normalize input bands to range (0.0, 1.0), mask missing data\n",
    "        im[0:6] = (im[0:6] - 1) / (65455 - 1)  # bands SR_B2 to SR_B7: BGR, NIR, SWIR1, SWIR2 (1, 65455)\n",
    "        nl_clipped = np.clip(im[6], a_min=-1.5, a_max=193565)\n",
    "        im[6] = (nl_clipped + 1.5) / (193565 + 1.5)   # band avg_rad: VIIRS (-1.5, 193565), DMSP (0, 6060.6)\n",
    "\n",
    "        inf_mask = np.isinf(im[0])\n",
    "        im[0:6, inf_mask] = 0\n",
    "\n",
    "        im[1, np.isinf(im[1])] = 0\n",
    "        im[2, np.isinf(im[2])] = 0\n",
    "\n",
    "        yield im[:7]\n"
   ]
  },
  {
   "cell_type": "code",
   "execution_count": 22,
   "id": "eba3f97a",
   "metadata": {},
   "outputs": [],
   "source": [
    "def get_patches_sub(im):\n",
    "    '''split each (1000,1000)-supertile into 36*(250,250)-subtiles'''\n",
    "    \n",
    "    # loop through each subtile\n",
    "    for sub_tile_idx in range(36):\n",
    "            \n",
    "        # calculate offset\n",
    "        r = (sub_tile_idx // 6) * 150\n",
    "        c = (sub_tile_idx % 6) * 150\n",
    "\n",
    "        sub_tile = im[:, r:r+250, c:c+250]\n",
    "\n",
    "        # retrieve input\n",
    "        image = sub_tile[:7]\n",
    "\n",
    "        yield (image, _)"
   ]
  },
  {
   "cell_type": "markdown",
   "id": "37a06b64",
   "metadata": {},
   "source": [
    "### Load Model"
   ]
  },
  {
   "cell_type": "code",
   "execution_count": 23,
   "id": "23536d4c",
   "metadata": {},
   "outputs": [],
   "source": [
    "# load model from checkpoint\n",
    "mimer = \"/mimer/NOBACKUP/groups/globalpoverty1/albin_and_albin/scripts_and_notebooks/job_scripts\"\n",
    "\n",
    "# model 1\n",
    "ckpt = mimer + \"/lightning_logs/deeplabv3_esri_urban_rural_12345/checkpoints/12345_epoch=19-step=126080-val_loss=0.440.ckpt\"\n",
    "\n",
    "# model 3\n",
    "#ckpt = mimer + \"/lightning_logs/deeplabv3_esri_urban_rural_34512/checkpoints/34512_epoch=19-step=106240-val_loss=0.369.ckpt\"\n",
    "\n",
    "lightning_model = DeepLabV3_Lightning_ESRI_UrbanRural.load_from_checkpoint(ckpt, training_folds=training_folds, validation_fold=fold_4).cuda()"
   ]
  },
  {
   "cell_type": "code",
   "execution_count": null,
   "id": "9d7f228d",
   "metadata": {},
   "outputs": [],
   "source": []
  },
  {
   "cell_type": "markdown",
   "id": "75444efb",
   "metadata": {},
   "source": [
    "### Load tile"
   ]
  },
  {
   "cell_type": "code",
   "execution_count": 24,
   "id": "d47792ce",
   "metadata": {},
   "outputs": [],
   "source": [
    "# load tiles to predict on\n",
    "year = '2021'\n",
    "#im_indices = ['483', '5412', '3324', '7601', '4497', '4254', '3545', '7904', '2557']\n",
    "im_indices = [2755, 1229, 1991, 1440,\n",
    "              872, 1252, 3078, 2118,\n",
    "              224, 2336, 1560, 2303,\n",
    "              135, 2921, 2072, 1565]\n",
    "#im_indices = ['311']\n",
    "im_paths = [f'/mimer/NOBACKUP/groups/globalpoverty1/albin_and_albin/abidjan/input/tile_{str(im_idx)}.tif_{year}' for im_idx in im_indices]\n",
    "#im_path = f'/mimer/NOBACKUP/groups/globalpoverty1/albin_and_albin/raw_data/{year}/Nigeria/tile_5412.tif_{year}'\n",
    "\n",
    "\n",
    "# iterator over tiles\n",
    "im_iterator = get_patches(im_paths)\n",
    "\n",
    "# prepare target for visualization\n",
    "if year == '2020':\n",
    "    im = rasterio.open(im_paths[4]).read()\n",
    "    smod = im[7]\n",
    "    smod[np.isinf(smod)] = 10\n",
    "    smod = smod.astype('int64')\n",
    "\n",
    "    esri_labels = im[9]\n",
    "    esri_labels[np.isinf(esri_labels)] = -1\n",
    "    esri_labels = esri_labels.astype('int64')\n",
    "\n",
    "    smod = smod_class_to_index_map[smod]\n",
    "    esri_labels = esri_class_to_index_map[esri_labels]\n",
    "    np.putmask(esri_labels, esri_labels == 6, smod)\n",
    "    np.putmask(esri_labels, esri_labels == -1, 5)  # for visualizing missing data"
   ]
  },
  {
   "cell_type": "markdown",
   "id": "67648862",
   "metadata": {},
   "source": [
    "### Inference"
   ]
  },
  {
   "cell_type": "code",
   "execution_count": 25,
   "id": "95dae6b3",
   "metadata": {},
   "outputs": [
    {
     "name": "stderr",
     "output_type": "stream",
     "text": [
      "Warning 1: TIFFReadDirectory:Sum of Photometric type-related color channels and ExtraSamples doesn't match SamplesPerPixel. Defining non-color channels as ExtraSamples.\n",
      "Warning 1: TIFFReadDirectory:Sum of Photometric type-related color channels and ExtraSamples doesn't match SamplesPerPixel. Defining non-color channels as ExtraSamples.\n",
      "Warning 1: TIFFReadDirectory:Sum of Photometric type-related color channels and ExtraSamples doesn't match SamplesPerPixel. Defining non-color channels as ExtraSamples.\n",
      "Warning 1: TIFFReadDirectory:Sum of Photometric type-related color channels and ExtraSamples doesn't match SamplesPerPixel. Defining non-color channels as ExtraSamples.\n",
      "Warning 1: TIFFReadDirectory:Sum of Photometric type-related color channels and ExtraSamples doesn't match SamplesPerPixel. Defining non-color channels as ExtraSamples.\n",
      "Warning 1: TIFFReadDirectory:Sum of Photometric type-related color channels and ExtraSamples doesn't match SamplesPerPixel. Defining non-color channels as ExtraSamples.\n",
      "Warning 1: TIFFReadDirectory:Sum of Photometric type-related color channels and ExtraSamples doesn't match SamplesPerPixel. Defining non-color channels as ExtraSamples.\n",
      "Warning 1: TIFFReadDirectory:Sum of Photometric type-related color channels and ExtraSamples doesn't match SamplesPerPixel. Defining non-color channels as ExtraSamples.\n",
      "Warning 1: TIFFReadDirectory:Sum of Photometric type-related color channels and ExtraSamples doesn't match SamplesPerPixel. Defining non-color channels as ExtraSamples.\n",
      "Warning 1: TIFFReadDirectory:Sum of Photometric type-related color channels and ExtraSamples doesn't match SamplesPerPixel. Defining non-color channels as ExtraSamples.\n",
      "Warning 1: TIFFReadDirectory:Sum of Photometric type-related color channels and ExtraSamples doesn't match SamplesPerPixel. Defining non-color channels as ExtraSamples.\n",
      "Warning 1: TIFFReadDirectory:Sum of Photometric type-related color channels and ExtraSamples doesn't match SamplesPerPixel. Defining non-color channels as ExtraSamples.\n",
      "Warning 1: TIFFReadDirectory:Sum of Photometric type-related color channels and ExtraSamples doesn't match SamplesPerPixel. Defining non-color channels as ExtraSamples.\n",
      "Warning 1: TIFFReadDirectory:Sum of Photometric type-related color channels and ExtraSamples doesn't match SamplesPerPixel. Defining non-color channels as ExtraSamples.\n",
      "Warning 1: TIFFReadDirectory:Sum of Photometric type-related color channels and ExtraSamples doesn't match SamplesPerPixel. Defining non-color channels as ExtraSamples.\n",
      "Warning 1: TIFFReadDirectory:Sum of Photometric type-related color channels and ExtraSamples doesn't match SamplesPerPixel. Defining non-color channels as ExtraSamples.\n"
     ]
    }
   ],
   "source": [
    "# predict on selected tile, split in its subtiles\n",
    "predictions = []\n",
    "subpredictions = []\n",
    "\n",
    "for tile in im_iterator:\n",
    "    \n",
    "    for idx, img in enumerate(get_patches_sub(tile)):\n",
    "\n",
    "        in_data, labels = img\n",
    "        in_data = torch.tensor(in_data).cuda()\n",
    "        in_data = torch.unsqueeze(in_data, 0)\n",
    "\n",
    "        lightning_model.eval()\n",
    "\n",
    "        with torch.no_grad():\n",
    "            outputs = lightning_model(in_data)\n",
    "            class_probs = F.softmax(outputs, dim=1)\n",
    "            class_predictions = torch.argmax(input=class_probs, dim=1)\n",
    "\n",
    "            subpredictions.append(class_predictions[0])\n",
    "\n",
    "    # assemble sub-tile predictions into supertile\n",
    "    predictions_supertile = np.zeros((1000, 1000))\n",
    "    for sub_tile_idx in range(36):\n",
    "\n",
    "        sub_tile = subpredictions[sub_tile_idx].squeeze()\n",
    "\n",
    "        # calculate offset\n",
    "        r = (sub_tile_idx // 6) * 150\n",
    "        c = (sub_tile_idx % 6) * 150\n",
    "\n",
    "        # adjust row margins\n",
    "        if r == 0:\n",
    "            row_start_margin = 0\n",
    "            row_end_margin = 200\n",
    "        elif r == 750:\n",
    "            row_start_margin = 50\n",
    "            row_end_margin = 250\n",
    "        else:\n",
    "            row_start_margin = 50\n",
    "            row_end_margin = 200\n",
    "\n",
    "        # adjust col margins\n",
    "        if c == 0:\n",
    "            col_start_margin = 0\n",
    "            col_end_margin = 200\n",
    "        elif c == 750:\n",
    "            col_start_margin = 50\n",
    "            col_end_margin = 250\n",
    "        else:\n",
    "            col_start_margin = 50\n",
    "            col_end_margin = 200\n",
    "\n",
    "        # put sub-tile in correct position\n",
    "        cut_subtile = sub_tile[row_start_margin:row_end_margin, col_start_margin:col_end_margin]\n",
    "        predictions_supertile[r+row_start_margin: r+row_end_margin, c+col_start_margin : c+col_end_margin] = cut_subtile.cpu()\n",
    "    predictions.append(predictions_supertile)\n",
    "    subpredictions.clear()"
   ]
  },
  {
   "cell_type": "code",
   "execution_count": 27,
   "id": "68db4073",
   "metadata": {},
   "outputs": [],
   "source": [
    "predictions_merged = np.zeros((4000, 4000))\n",
    "for sub_tile_idx in range(16):\n",
    "            \n",
    "        # calculate offset\n",
    "        r = (sub_tile_idx // 4) * 1000\n",
    "        c = (sub_tile_idx % 4) * 1000\n",
    "\n",
    "        predictions_merged[r:r+1000, c:c+1000] = predictions[sub_tile_idx]"
   ]
  },
  {
   "cell_type": "markdown",
   "id": "f237d2cf",
   "metadata": {},
   "source": [
    "### Plot"
   ]
  },
  {
   "cell_type": "code",
   "execution_count": 28,
   "id": "73ff01a7",
   "metadata": {},
   "outputs": [],
   "source": [
    "colormap_classes_rgb = np.array([[0, 100, 200], [0, 100, 0], [0, 207, 117], \n",
    "                                 [240, 150, 255], [180, 180, 180], [255, 187, 34], \n",
    "                                 [255, 0,0], [80,0,0]]) / 255  # RGB values for each class, normalized to (0, 1)\n",
    "\n",
    "class_labels = ['c1:Water', 'c2:Tree', 'c3:Flooded Vegetation', \n",
    "                'c4:Crops', 'c5:Bare Ground', 'c6:Rangeland', 'c7:Rural', 'c8:Urban']\n",
    "\n",
    "cmap_classes = ListedColormap(colormap_classes_rgb, name='ESRI_WorldCover_2020_class_cmap', N=8)"
   ]
  },
  {
   "cell_type": "markdown",
   "id": "f2c77931",
   "metadata": {},
   "source": [
    "#### Prediction"
   ]
  },
  {
   "cell_type": "code",
   "execution_count": 29,
   "id": "05e66145",
   "metadata": {},
   "outputs": [
    {
     "data": {
      "image/png": "[encoded data removed]",
      "text/plain": [
       "<Figure size 640x480 with 1 Axes>"
      ]
     },
     "metadata": {},
     "output_type": "display_data"
    }
   ],
   "source": [
    "plt.imshow(predictions_merged, cmap=cmap_classes, vmin=0, vmax=len(colormap_classes_rgb), interpolation='nearest')\n",
    "#plt.imshow(predictions[10].cpu(), cmap=cmap_classes, vmin=0, vmax=len(colormap_classes_rgb), interpolation='nearest')\n",
    "\n",
    "plt.axis('off')\n",
    "plt.savefig(\"mandelbrot.png\") # , dpi=300, bbox_inches='tight', pad_inches=0\n",
    "#plt.title('prediction')"
   ]
  },
  {
   "cell_type": "code",
   "execution_count": 30,
   "id": "a76d5de8",
   "metadata": {},
   "outputs": [],
   "source": [
    "plt.imsave('testing.png' , arr=predictions_merged, cmap=cmap_classes, vmin=0, vmax=len(colormap_classes_rgb))"
   ]
  },
  {
   "cell_type": "markdown",
   "id": "4b4841da",
   "metadata": {},
   "source": [
    "#### Target"
   ]
  },
  {
   "cell_type": "code",
   "execution_count": null,
   "id": "62e32126",
   "metadata": {},
   "outputs": [],
   "source": [
    "if year == '2020':\n",
    "    plt.imshow(esri_labels, cmap=cmap_classes, vmin=0, vmax=len(colormap_classes_rgb), interpolation='nearest')\n",
    "    plt.axis('off')\n",
    "    #plt.title('target')"
   ]
  },
  {
   "cell_type": "markdown",
   "id": "3c60220b",
   "metadata": {},
   "source": [
    "#### Prediction vs Target"
   ]
  },
  {
   "cell_type": "code",
   "execution_count": null,
   "id": "17f805e6",
   "metadata": {},
   "outputs": [],
   "source": [
    "if year == '2020':\n",
    "    # plot result\n",
    "    fig, (ax1, ax2) = plt.subplots(1, 2)\n",
    "\n",
    "    ax1.set_title('predictions')\n",
    "    ax1.imshow(predictions_supertile, cmap=cmap_classes, vmin=0, vmax=len(colormap_classes_rgb), interpolation='nearest')\n",
    "\n",
    "    ax2.set_title('target (esri2020)')\n",
    "    ax2.imshow(esri_labels, cmap=cmap_classes, vmin=0, vmax=len(colormap_classes_rgb), interpolation='nearest',)\n",
    "\n",
    "    patches = [mpatches.Patch(color=colormap_classes_rgb[i], label=class_labels[i]) for i in range(len(class_labels))]\n",
    "    ax1.axis('off')\n",
    "    ax2.axis('off')\n",
    "    plt.legend(handles=patches, loc='upper left', bbox_to_anchor=(1.05, 1), borderaxespad=0.0)"
   ]
  },
  {
   "cell_type": "code",
   "execution_count": null,
   "id": "adf92fea",
   "metadata": {},
   "outputs": [],
   "source": []
  },
  {
   "cell_type": "code",
   "execution_count": null,
   "id": "50be9e8a",
   "metadata": {},
   "outputs": [],
   "source": []
  }
 ],
 "metadata": {
  "kernelspec": {
   "display_name": "Python 3 (ipykernel)",
   "language": "python",
   "name": "python3"
  },
  "language_info": {
   "codemirror_mode": {
    "name": "ipython",
    "version": 3
   },
   "file_extension": ".py",
   "mimetype": "text/x-python",
   "name": "python",
   "nbconvert_exporter": "python",
   "pygments_lexer": "ipython3",
   "version": "3.8.13"
  }
 },
 "nbformat": 4,
 "nbformat_minor": 5
}
