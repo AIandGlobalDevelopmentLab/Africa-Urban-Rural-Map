{
 "cells": [
  {
   "cell_type": "code",
   "execution_count": 26,
   "id": "9c4f42ed",
   "metadata": {},
   "outputs": [],
   "source": [
    "import pandas as pd\n",
    "import numpy as np\n",
    "import matplotlib\n",
    "import matplotlib.pyplot as plt\n",
    "import seaborn as sns"
   ]
  },
  {
   "cell_type": "code",
   "execution_count": 27,
   "id": "d7eb864e",
   "metadata": {},
   "outputs": [],
   "source": [
    "def style_diag(data):\n",
    "    '''author: CJR, https://stackoverflow.com/a/56916315'''\n",
    "    diag_mask = pd.DataFrame(\"\", index=data.index, columns=data.columns)\n",
    "    min_axis = min(diag_mask.shape)\n",
    "    diag_mask.iloc[range(min_axis), range(min_axis)] = 'background-color: yellow'\n",
    "    return diag_mask"
   ]
  },
  {
   "cell_type": "markdown",
   "id": "19fd49bb",
   "metadata": {},
   "source": [
    "# Metric Analysis: Landcover Prediction"
   ]
  },
  {
   "cell_type": "markdown",
   "id": "786e1a6a",
   "metadata": {},
   "source": [
    "### DataFrame (raw pixel count)"
   ]
  },
  {
   "cell_type": "code",
   "execution_count": 28,
   "id": "3bc46dd2",
   "metadata": {},
   "outputs": [
    {
     "data": {
      "text/html": [
       "<style type=\"text/css\">\n",
       "#T_81a08_row0_col0, #T_81a08_row1_col1, #T_81a08_row2_col2, #T_81a08_row3_col3, #T_81a08_row4_col4, #T_81a08_row5_col5, #T_81a08_row6_col6, #T_81a08_row7_col7 {\n",
       "  background-color: yellow;\n",
       "}\n",
       "</style>\n",
       "<table id=\"T_81a08\">\n",
       "  <thead>\n",
       "    <tr>\n",
       "      <th class=\"blank level0\" >&nbsp;</th>\n",
       "      <th id=\"T_81a08_level0_col0\" class=\"col_heading level0 col0\" >c1:Water</th>\n",
       "      <th id=\"T_81a08_level0_col1\" class=\"col_heading level0 col1\" >c2:Tree</th>\n",
       "      <th id=\"T_81a08_level0_col2\" class=\"col_heading level0 col2\" >c3:Flooded Vegetation</th>\n",
       "      <th id=\"T_81a08_level0_col3\" class=\"col_heading level0 col3\" >c4:Crops</th>\n",
       "      <th id=\"T_81a08_level0_col4\" class=\"col_heading level0 col4\" >c5:Bare Ground</th>\n",
       "      <th id=\"T_81a08_level0_col5\" class=\"col_heading level0 col5\" >c6:Rangeland</th>\n",
       "      <th id=\"T_81a08_level0_col6\" class=\"col_heading level0 col6\" >c7:Rural</th>\n",
       "      <th id=\"T_81a08_level0_col7\" class=\"col_heading level0 col7\" >c8:Urban</th>\n",
       "    </tr>\n",
       "  </thead>\n",
       "  <tbody>\n",
       "    <tr>\n",
       "      <th id=\"T_81a08_level0_row0\" class=\"row_heading level0 row0\" >c1:Water</th>\n",
       "      <td id=\"T_81a08_row0_col0\" class=\"data row0 col0\" >1004680659</td>\n",
       "      <td id=\"T_81a08_row0_col1\" class=\"data row0 col1\" >1746845</td>\n",
       "      <td id=\"T_81a08_row0_col2\" class=\"data row0 col2\" >46420878</td>\n",
       "      <td id=\"T_81a08_row0_col3\" class=\"data row0 col3\" >417818</td>\n",
       "      <td id=\"T_81a08_row0_col4\" class=\"data row0 col4\" >1935265</td>\n",
       "      <td id=\"T_81a08_row0_col5\" class=\"data row0 col5\" >860139</td>\n",
       "      <td id=\"T_81a08_row0_col6\" class=\"data row0 col6\" >692733</td>\n",
       "      <td id=\"T_81a08_row0_col7\" class=\"data row0 col7\" >454644</td>\n",
       "    </tr>\n",
       "    <tr>\n",
       "      <th id=\"T_81a08_level0_row1\" class=\"row_heading level0 row1\" >c2:Tree</th>\n",
       "      <td id=\"T_81a08_row1_col0\" class=\"data row1 col0\" >102915335</td>\n",
       "      <td id=\"T_81a08_row1_col1\" class=\"data row1 col1\" >33406592006</td>\n",
       "      <td id=\"T_81a08_row1_col2\" class=\"data row1 col2\" >463786219</td>\n",
       "      <td id=\"T_81a08_row1_col3\" class=\"data row1 col3\" >169839680</td>\n",
       "      <td id=\"T_81a08_row1_col4\" class=\"data row1 col4\" >1564491</td>\n",
       "      <td id=\"T_81a08_row1_col5\" class=\"data row1 col5\" >738330637</td>\n",
       "      <td id=\"T_81a08_row1_col6\" class=\"data row1 col6\" >54273985</td>\n",
       "      <td id=\"T_81a08_row1_col7\" class=\"data row1 col7\" >9930561</td>\n",
       "    </tr>\n",
       "    <tr>\n",
       "      <th id=\"T_81a08_level0_row2\" class=\"row_heading level0 row2\" >c3:Flooded Vegetation</th>\n",
       "      <td id=\"T_81a08_row2_col0\" class=\"data row2 col0\" >5021271</td>\n",
       "      <td id=\"T_81a08_row2_col1\" class=\"data row2 col1\" >6114633</td>\n",
       "      <td id=\"T_81a08_row2_col2\" class=\"data row2 col2\" >326853958</td>\n",
       "      <td id=\"T_81a08_row2_col3\" class=\"data row2 col3\" >2778492</td>\n",
       "      <td id=\"T_81a08_row2_col4\" class=\"data row2 col4\" >21666</td>\n",
       "      <td id=\"T_81a08_row2_col5\" class=\"data row2 col5\" >2201960</td>\n",
       "      <td id=\"T_81a08_row2_col6\" class=\"data row2 col6\" >965097</td>\n",
       "      <td id=\"T_81a08_row2_col7\" class=\"data row2 col7\" >144689</td>\n",
       "    </tr>\n",
       "    <tr>\n",
       "      <th id=\"T_81a08_level0_row3\" class=\"row_heading level0 row3\" >c4:Crops</th>\n",
       "      <td id=\"T_81a08_row3_col0\" class=\"data row3 col0\" >3839239</td>\n",
       "      <td id=\"T_81a08_row3_col1\" class=\"data row3 col1\" >31167822</td>\n",
       "      <td id=\"T_81a08_row3_col2\" class=\"data row3 col2\" >38722068</td>\n",
       "      <td id=\"T_81a08_row3_col3\" class=\"data row3 col3\" >889751440</td>\n",
       "      <td id=\"T_81a08_row3_col4\" class=\"data row3 col4\" >4575204</td>\n",
       "      <td id=\"T_81a08_row3_col5\" class=\"data row3 col5\" >219383139</td>\n",
       "      <td id=\"T_81a08_row3_col6\" class=\"data row3 col6\" >37878362</td>\n",
       "      <td id=\"T_81a08_row3_col7\" class=\"data row3 col7\" >25381531</td>\n",
       "    </tr>\n",
       "    <tr>\n",
       "      <th id=\"T_81a08_level0_row4\" class=\"row_heading level0 row4\" >c5:Bare Ground</th>\n",
       "      <td id=\"T_81a08_row4_col0\" class=\"data row4 col0\" >21942148</td>\n",
       "      <td id=\"T_81a08_row4_col1\" class=\"data row4 col1\" >6326138</td>\n",
       "      <td id=\"T_81a08_row4_col2\" class=\"data row4 col2\" >15157397</td>\n",
       "      <td id=\"T_81a08_row4_col3\" class=\"data row4 col3\" >20126693</td>\n",
       "      <td id=\"T_81a08_row4_col4\" class=\"data row4 col4\" >8053319081</td>\n",
       "      <td id=\"T_81a08_row4_col5\" class=\"data row4 col5\" >206144552</td>\n",
       "      <td id=\"T_81a08_row4_col6\" class=\"data row4 col6\" >30685772</td>\n",
       "      <td id=\"T_81a08_row4_col7\" class=\"data row4 col7\" >9373248</td>\n",
       "    </tr>\n",
       "    <tr>\n",
       "      <th id=\"T_81a08_level0_row5\" class=\"row_heading level0 row5\" >c6:Rangeland</th>\n",
       "      <td id=\"T_81a08_row5_col0\" class=\"data row5 col0\" >37846932</td>\n",
       "      <td id=\"T_81a08_row5_col1\" class=\"data row5 col1\" >5518584832</td>\n",
       "      <td id=\"T_81a08_row5_col2\" class=\"data row5 col2\" >1140036066</td>\n",
       "      <td id=\"T_81a08_row5_col3\" class=\"data row5 col3\" >976133991</td>\n",
       "      <td id=\"T_81a08_row5_col4\" class=\"data row5 col4\" >918048655</td>\n",
       "      <td id=\"T_81a08_row5_col5\" class=\"data row5 col5\" >13368875153</td>\n",
       "      <td id=\"T_81a08_row5_col6\" class=\"data row5 col6\" >282309981</td>\n",
       "      <td id=\"T_81a08_row5_col7\" class=\"data row5 col7\" >20291972</td>\n",
       "    </tr>\n",
       "    <tr>\n",
       "      <th id=\"T_81a08_level0_row6\" class=\"row_heading level0 row6\" >c7:Rural</th>\n",
       "      <td id=\"T_81a08_row6_col0\" class=\"data row6 col0\" >246937</td>\n",
       "      <td id=\"T_81a08_row6_col1\" class=\"data row6 col1\" >1922537</td>\n",
       "      <td id=\"T_81a08_row6_col2\" class=\"data row6 col2\" >1080473</td>\n",
       "      <td id=\"T_81a08_row6_col3\" class=\"data row6 col3\" >2127531</td>\n",
       "      <td id=\"T_81a08_row6_col4\" class=\"data row6 col4\" >711811</td>\n",
       "      <td id=\"T_81a08_row6_col5\" class=\"data row6 col5\" >2695121</td>\n",
       "      <td id=\"T_81a08_row6_col6\" class=\"data row6 col6\" >77044628</td>\n",
       "      <td id=\"T_81a08_row6_col7\" class=\"data row6 col7\" >15163556</td>\n",
       "    </tr>\n",
       "    <tr>\n",
       "      <th id=\"T_81a08_level0_row7\" class=\"row_heading level0 row7\" >c8:Urban</th>\n",
       "      <td id=\"T_81a08_row7_col0\" class=\"data row7 col0\" >713197</td>\n",
       "      <td id=\"T_81a08_row7_col1\" class=\"data row7 col1\" >1062825</td>\n",
       "      <td id=\"T_81a08_row7_col2\" class=\"data row7 col2\" >790147</td>\n",
       "      <td id=\"T_81a08_row7_col3\" class=\"data row7 col3\" >5776192</td>\n",
       "      <td id=\"T_81a08_row7_col4\" class=\"data row7 col4\" >137217</td>\n",
       "      <td id=\"T_81a08_row7_col5\" class=\"data row7 col5\" >784512</td>\n",
       "      <td id=\"T_81a08_row7_col6\" class=\"data row7 col6\" >50475392</td>\n",
       "      <td id=\"T_81a08_row7_col7\" class=\"data row7 col7\" >195669357</td>\n",
       "    </tr>\n",
       "  </tbody>\n",
       "</table>\n"
      ],
      "text/plain": [
       "<pandas.io.formats.style.Styler at 0x7f751c563df0>"
      ]
     },
     "execution_count": 28,
     "metadata": {},
     "output_type": "execute_result"
    }
   ],
   "source": [
    "mimer = '/mimer/NOBACKUP/groups/globalpoverty1/albin_and_albin/raw_count_confusion_matrices/'\n",
    "#file = mimer + 'confusion_matrix_esri_urban_rural_34512_2018to2022_4.csv'\n",
    "#file = mimer + 'confusion_matrix_LSTM_esri_urban_rural_34512_2018to2022_1.csv'\n",
    "file = mimer + 'multi_year_model/confusion_matrix_LSTM_esri_urban_rural_34512_2016to2020_2020.csv'\n",
    "#file = mimer + 'single_year_model/confusion_matrix_esri_urban_rural_34512.csv'\n",
    "\n",
    "df_raw_count = pd.read_csv(file, index_col=0)\n",
    "df_raw_count.style.apply(style_diag, axis=None).format(precision=3)"
   ]
  },
  {
   "cell_type": "code",
   "execution_count": 29,
   "id": "e52474af",
   "metadata": {},
   "outputs": [
    {
     "data": {
      "text/plain": [
       "c1:Water                  1057208981\n",
       "c2:Tree                  34947232914\n",
       "c3:Flooded Vegetation      344101766\n",
       "c4:Crops                  1250698805\n",
       "c5:Bare Ground            8363075029\n",
       "c6:Rangeland             22262127582\n",
       "c7:Rural                   100992594\n",
       "c8:Urban                   255408839\n",
       "dtype: int64"
      ]
     },
     "execution_count": 29,
     "metadata": {},
     "output_type": "execute_result"
    }
   ],
   "source": [
    "df_raw_count.sum(axis=1)"
   ]
  },
  {
   "cell_type": "code",
   "execution_count": 30,
   "id": "fefafcbb",
   "metadata": {},
   "outputs": [
    {
     "data": {
      "text/plain": [
       "c1:Water                 0.015416\n",
       "c2:Tree                  0.509577\n",
       "c3:Flooded Vegetation    0.005017\n",
       "c4:Crops                 0.018237\n",
       "c5:Bare Ground           0.121945\n",
       "c6:Rangeland             0.324611\n",
       "c7:Rural                 0.001473\n",
       "c8:Urban                 0.003724\n",
       "dtype: float64"
      ]
     },
     "execution_count": 30,
     "metadata": {},
     "output_type": "execute_result"
    }
   ],
   "source": [
    "df_new = df_raw_count.sum(axis=1)\n",
    "df_new = df_new.div(df_new.sum(axis=0), axis=0)\n",
    "df_new"
   ]
  },
  {
   "cell_type": "markdown",
   "id": "d9e70c40",
   "metadata": {},
   "source": [
    "# Accuracy"
   ]
  },
  {
   "cell_type": "code",
   "execution_count": 31,
   "id": "39f76d14",
   "metadata": {},
   "outputs": [
    {
     "name": "stdout",
     "output_type": "stream",
     "text": [
      "accuracy: 0.8358425012097448\n"
     ]
    }
   ],
   "source": [
    "tp = df_raw_count.to_numpy().diagonal().sum()\n",
    "num_pixels = df_raw_count.to_numpy().sum()\n",
    "print(f'accuracy: {tp / num_pixels}')"
   ]
  },
  {
   "cell_type": "markdown",
   "id": "c1fa5320",
   "metadata": {},
   "source": [
    "# Recall"
   ]
  },
  {
   "cell_type": "markdown",
   "id": "37106cce",
   "metadata": {},
   "source": [
    "### DataFrame (recall)"
   ]
  },
  {
   "cell_type": "code",
   "execution_count": 32,
   "id": "51ffb2c0",
   "metadata": {},
   "outputs": [
    {
     "data": {
      "text/html": [
       "<style type=\"text/css\">\n",
       "#T_04870_row0_col0, #T_04870_row1_col1, #T_04870_row2_col2, #T_04870_row3_col3, #T_04870_row4_col4, #T_04870_row5_col5, #T_04870_row6_col6, #T_04870_row7_col7 {\n",
       "  background-color: yellow;\n",
       "}\n",
       "</style>\n",
       "<table id=\"T_04870\">\n",
       "  <thead>\n",
       "    <tr>\n",
       "      <th class=\"blank level0\" >&nbsp;</th>\n",
       "      <th id=\"T_04870_level0_col0\" class=\"col_heading level0 col0\" >c1:Water</th>\n",
       "      <th id=\"T_04870_level0_col1\" class=\"col_heading level0 col1\" >c2:Tree</th>\n",
       "      <th id=\"T_04870_level0_col2\" class=\"col_heading level0 col2\" >c3:Flooded Vegetation</th>\n",
       "      <th id=\"T_04870_level0_col3\" class=\"col_heading level0 col3\" >c4:Crops</th>\n",
       "      <th id=\"T_04870_level0_col4\" class=\"col_heading level0 col4\" >c5:Bare Ground</th>\n",
       "      <th id=\"T_04870_level0_col5\" class=\"col_heading level0 col5\" >c6:Rangeland</th>\n",
       "      <th id=\"T_04870_level0_col6\" class=\"col_heading level0 col6\" >c7:Rural</th>\n",
       "      <th id=\"T_04870_level0_col7\" class=\"col_heading level0 col7\" >c8:Urban</th>\n",
       "    </tr>\n",
       "  </thead>\n",
       "  <tbody>\n",
       "    <tr>\n",
       "      <th id=\"T_04870_level0_row0\" class=\"row_heading level0 row0\" >c1:Water</th>\n",
       "      <td id=\"T_04870_row0_col0\" class=\"data row0 col0\" >0.950</td>\n",
       "      <td id=\"T_04870_row0_col1\" class=\"data row0 col1\" >0.002</td>\n",
       "      <td id=\"T_04870_row0_col2\" class=\"data row0 col2\" >0.044</td>\n",
       "      <td id=\"T_04870_row0_col3\" class=\"data row0 col3\" >0.000</td>\n",
       "      <td id=\"T_04870_row0_col4\" class=\"data row0 col4\" >0.002</td>\n",
       "      <td id=\"T_04870_row0_col5\" class=\"data row0 col5\" >0.001</td>\n",
       "      <td id=\"T_04870_row0_col6\" class=\"data row0 col6\" >0.001</td>\n",
       "      <td id=\"T_04870_row0_col7\" class=\"data row0 col7\" >0.000</td>\n",
       "    </tr>\n",
       "    <tr>\n",
       "      <th id=\"T_04870_level0_row1\" class=\"row_heading level0 row1\" >c2:Tree</th>\n",
       "      <td id=\"T_04870_row1_col0\" class=\"data row1 col0\" >0.003</td>\n",
       "      <td id=\"T_04870_row1_col1\" class=\"data row1 col1\" >0.956</td>\n",
       "      <td id=\"T_04870_row1_col2\" class=\"data row1 col2\" >0.013</td>\n",
       "      <td id=\"T_04870_row1_col3\" class=\"data row1 col3\" >0.005</td>\n",
       "      <td id=\"T_04870_row1_col4\" class=\"data row1 col4\" >0.000</td>\n",
       "      <td id=\"T_04870_row1_col5\" class=\"data row1 col5\" >0.021</td>\n",
       "      <td id=\"T_04870_row1_col6\" class=\"data row1 col6\" >0.002</td>\n",
       "      <td id=\"T_04870_row1_col7\" class=\"data row1 col7\" >0.000</td>\n",
       "    </tr>\n",
       "    <tr>\n",
       "      <th id=\"T_04870_level0_row2\" class=\"row_heading level0 row2\" >c3:Flooded Vegetation</th>\n",
       "      <td id=\"T_04870_row2_col0\" class=\"data row2 col0\" >0.015</td>\n",
       "      <td id=\"T_04870_row2_col1\" class=\"data row2 col1\" >0.018</td>\n",
       "      <td id=\"T_04870_row2_col2\" class=\"data row2 col2\" >0.950</td>\n",
       "      <td id=\"T_04870_row2_col3\" class=\"data row2 col3\" >0.008</td>\n",
       "      <td id=\"T_04870_row2_col4\" class=\"data row2 col4\" >0.000</td>\n",
       "      <td id=\"T_04870_row2_col5\" class=\"data row2 col5\" >0.006</td>\n",
       "      <td id=\"T_04870_row2_col6\" class=\"data row2 col6\" >0.003</td>\n",
       "      <td id=\"T_04870_row2_col7\" class=\"data row2 col7\" >0.000</td>\n",
       "    </tr>\n",
       "    <tr>\n",
       "      <th id=\"T_04870_level0_row3\" class=\"row_heading level0 row3\" >c4:Crops</th>\n",
       "      <td id=\"T_04870_row3_col0\" class=\"data row3 col0\" >0.003</td>\n",
       "      <td id=\"T_04870_row3_col1\" class=\"data row3 col1\" >0.025</td>\n",
       "      <td id=\"T_04870_row3_col2\" class=\"data row3 col2\" >0.031</td>\n",
       "      <td id=\"T_04870_row3_col3\" class=\"data row3 col3\" >0.711</td>\n",
       "      <td id=\"T_04870_row3_col4\" class=\"data row3 col4\" >0.004</td>\n",
       "      <td id=\"T_04870_row3_col5\" class=\"data row3 col5\" >0.175</td>\n",
       "      <td id=\"T_04870_row3_col6\" class=\"data row3 col6\" >0.030</td>\n",
       "      <td id=\"T_04870_row3_col7\" class=\"data row3 col7\" >0.020</td>\n",
       "    </tr>\n",
       "    <tr>\n",
       "      <th id=\"T_04870_level0_row4\" class=\"row_heading level0 row4\" >c5:Bare Ground</th>\n",
       "      <td id=\"T_04870_row4_col0\" class=\"data row4 col0\" >0.003</td>\n",
       "      <td id=\"T_04870_row4_col1\" class=\"data row4 col1\" >0.001</td>\n",
       "      <td id=\"T_04870_row4_col2\" class=\"data row4 col2\" >0.002</td>\n",
       "      <td id=\"T_04870_row4_col3\" class=\"data row4 col3\" >0.002</td>\n",
       "      <td id=\"T_04870_row4_col4\" class=\"data row4 col4\" >0.963</td>\n",
       "      <td id=\"T_04870_row4_col5\" class=\"data row4 col5\" >0.025</td>\n",
       "      <td id=\"T_04870_row4_col6\" class=\"data row4 col6\" >0.004</td>\n",
       "      <td id=\"T_04870_row4_col7\" class=\"data row4 col7\" >0.001</td>\n",
       "    </tr>\n",
       "    <tr>\n",
       "      <th id=\"T_04870_level0_row5\" class=\"row_heading level0 row5\" >c6:Rangeland</th>\n",
       "      <td id=\"T_04870_row5_col0\" class=\"data row5 col0\" >0.002</td>\n",
       "      <td id=\"T_04870_row5_col1\" class=\"data row5 col1\" >0.248</td>\n",
       "      <td id=\"T_04870_row5_col2\" class=\"data row5 col2\" >0.051</td>\n",
       "      <td id=\"T_04870_row5_col3\" class=\"data row5 col3\" >0.044</td>\n",
       "      <td id=\"T_04870_row5_col4\" class=\"data row5 col4\" >0.041</td>\n",
       "      <td id=\"T_04870_row5_col5\" class=\"data row5 col5\" >0.601</td>\n",
       "      <td id=\"T_04870_row5_col6\" class=\"data row5 col6\" >0.013</td>\n",
       "      <td id=\"T_04870_row5_col7\" class=\"data row5 col7\" >0.001</td>\n",
       "    </tr>\n",
       "    <tr>\n",
       "      <th id=\"T_04870_level0_row6\" class=\"row_heading level0 row6\" >c7:Rural</th>\n",
       "      <td id=\"T_04870_row6_col0\" class=\"data row6 col0\" >0.002</td>\n",
       "      <td id=\"T_04870_row6_col1\" class=\"data row6 col1\" >0.019</td>\n",
       "      <td id=\"T_04870_row6_col2\" class=\"data row6 col2\" >0.011</td>\n",
       "      <td id=\"T_04870_row6_col3\" class=\"data row6 col3\" >0.021</td>\n",
       "      <td id=\"T_04870_row6_col4\" class=\"data row6 col4\" >0.007</td>\n",
       "      <td id=\"T_04870_row6_col5\" class=\"data row6 col5\" >0.027</td>\n",
       "      <td id=\"T_04870_row6_col6\" class=\"data row6 col6\" >0.763</td>\n",
       "      <td id=\"T_04870_row6_col7\" class=\"data row6 col7\" >0.150</td>\n",
       "    </tr>\n",
       "    <tr>\n",
       "      <th id=\"T_04870_level0_row7\" class=\"row_heading level0 row7\" >c8:Urban</th>\n",
       "      <td id=\"T_04870_row7_col0\" class=\"data row7 col0\" >0.003</td>\n",
       "      <td id=\"T_04870_row7_col1\" class=\"data row7 col1\" >0.004</td>\n",
       "      <td id=\"T_04870_row7_col2\" class=\"data row7 col2\" >0.003</td>\n",
       "      <td id=\"T_04870_row7_col3\" class=\"data row7 col3\" >0.023</td>\n",
       "      <td id=\"T_04870_row7_col4\" class=\"data row7 col4\" >0.001</td>\n",
       "      <td id=\"T_04870_row7_col5\" class=\"data row7 col5\" >0.003</td>\n",
       "      <td id=\"T_04870_row7_col6\" class=\"data row7 col6\" >0.198</td>\n",
       "      <td id=\"T_04870_row7_col7\" class=\"data row7 col7\" >0.766</td>\n",
       "    </tr>\n",
       "  </tbody>\n",
       "</table>\n"
      ],
      "text/plain": [
       "<pandas.io.formats.style.Styler at 0x7f751c50ad60>"
      ]
     },
     "execution_count": 32,
     "metadata": {},
     "output_type": "execute_result"
    }
   ],
   "source": [
    "df_recall = df_raw_count.div(df_raw_count.sum(axis=1), axis=0)\n",
    "df_recall.style.apply(style_diag, axis=None).format(precision=3)"
   ]
  },
  {
   "cell_type": "markdown",
   "id": "52015712",
   "metadata": {},
   "source": [
    "### Seaborn Heatmap (Recall)"
   ]
  },
  {
   "cell_type": "code",
   "execution_count": 33,
   "id": "886b110f",
   "metadata": {},
   "outputs": [
    {
     "data": {
      "text/plain": [
       "Text(0.5, 23.52222222222222, 'Predicted label')"
      ]
     },
     "execution_count": 33,
     "metadata": {},
     "output_type": "execute_result"
    },
    {
     "data": {
      "image/png": "[encoded data removed]",
      "text/plain": [
       "<Figure size 640x480 with 2 Axes>"
      ]
     },
     "metadata": {},
     "output_type": "display_data"
    }
   ],
   "source": [
    "heatmap = sns.heatmap(data=df_recall, vmin=0.0, vmax=1.0, cmap=plt.cm.Blues, annot=True, annot_kws={\"fontsize\":6.8}, fmt='.2f')\n",
    "heatmap.yaxis.set_ticklabels(heatmap.yaxis.get_ticklabels(), rotation=0, ha='right',fontsize=8)\n",
    "heatmap.xaxis.set_ticklabels(heatmap.xaxis.get_ticklabels(), rotation=45, ha='right',fontsize=8)\n",
    "plt.title('recall matrix')\n",
    "plt.ylabel('True label')\n",
    "plt.xlabel('Predicted label')"
   ]
  },
  {
   "cell_type": "markdown",
   "id": "b8cf8841",
   "metadata": {},
   "source": [
    "### Recall score (per class accuracy)"
   ]
  },
  {
   "cell_type": "code",
   "execution_count": 34,
   "id": "a047243d",
   "metadata": {},
   "outputs": [
    {
     "name": "stdout",
     "output_type": "stream",
     "text": [
      "                class  recall\n",
      "             c1:Water   0.950\n",
      "              c2:Tree   0.956\n",
      "c3:Flooded Vegetation   0.950\n",
      "             c4:Crops   0.711\n",
      "       c5:Bare Ground   0.963\n",
      "         c6:Rangeland   0.601\n",
      "             c7:Rural   0.763\n",
      "             c8:Urban   0.766\n"
     ]
    }
   ],
   "source": [
    "class_names = df_recall.columns\n",
    "confmat_diag = df_recall.to_numpy().diagonal()\n",
    "per_class_acc = dict(zip(class_names, confmat_diag))\n",
    "recall_scores = pd.DataFrame(per_class_acc.items(), columns=['class', 'recall'])\n",
    "recall_scores = recall_scores.round(3)\n",
    "print(recall_scores.to_string(index=False))"
   ]
  },
  {
   "cell_type": "code",
   "execution_count": 35,
   "id": "f7fc4331",
   "metadata": {},
   "outputs": [
    {
     "data": {
      "text/plain": [
       "array([0.95031415, 0.95591522, 0.94987585, 0.71140345, 0.96296148,\n",
       "       0.600521  , 0.76287404, 0.76610253])"
      ]
     },
     "execution_count": 35,
     "metadata": {},
     "output_type": "execute_result"
    }
   ],
   "source": [
    "confmat_diag"
   ]
  },
  {
   "cell_type": "markdown",
   "id": "e79ef319",
   "metadata": {},
   "source": [
    "# Precision"
   ]
  },
  {
   "cell_type": "markdown",
   "id": "1a2839ac",
   "metadata": {},
   "source": [
    "### DataFrame (precision)"
   ]
  },
  {
   "cell_type": "code",
   "execution_count": 36,
   "id": "2b947677",
   "metadata": {},
   "outputs": [
    {
     "data": {
      "text/html": [
       "<style type=\"text/css\">\n",
       "#T_5ed2b_row0_col0, #T_5ed2b_row1_col1, #T_5ed2b_row2_col2, #T_5ed2b_row3_col3, #T_5ed2b_row4_col4, #T_5ed2b_row5_col5, #T_5ed2b_row6_col6, #T_5ed2b_row7_col7 {\n",
       "  background-color: yellow;\n",
       "}\n",
       "</style>\n",
       "<table id=\"T_5ed2b\">\n",
       "  <thead>\n",
       "    <tr>\n",
       "      <th class=\"blank level0\" >&nbsp;</th>\n",
       "      <th id=\"T_5ed2b_level0_col0\" class=\"col_heading level0 col0\" >c1:Water</th>\n",
       "      <th id=\"T_5ed2b_level0_col1\" class=\"col_heading level0 col1\" >c2:Tree</th>\n",
       "      <th id=\"T_5ed2b_level0_col2\" class=\"col_heading level0 col2\" >c3:Flooded Vegetation</th>\n",
       "      <th id=\"T_5ed2b_level0_col3\" class=\"col_heading level0 col3\" >c4:Crops</th>\n",
       "      <th id=\"T_5ed2b_level0_col4\" class=\"col_heading level0 col4\" >c5:Bare Ground</th>\n",
       "      <th id=\"T_5ed2b_level0_col5\" class=\"col_heading level0 col5\" >c6:Rangeland</th>\n",
       "      <th id=\"T_5ed2b_level0_col6\" class=\"col_heading level0 col6\" >c7:Rural</th>\n",
       "      <th id=\"T_5ed2b_level0_col7\" class=\"col_heading level0 col7\" >c8:Urban</th>\n",
       "    </tr>\n",
       "  </thead>\n",
       "  <tbody>\n",
       "    <tr>\n",
       "      <th id=\"T_5ed2b_level0_row0\" class=\"row_heading level0 row0\" >c1:Water</th>\n",
       "      <td id=\"T_5ed2b_row0_col0\" class=\"data row0 col0\" >0.853</td>\n",
       "      <td id=\"T_5ed2b_row0_col1\" class=\"data row0 col1\" >0.000</td>\n",
       "      <td id=\"T_5ed2b_row0_col2\" class=\"data row0 col2\" >0.023</td>\n",
       "      <td id=\"T_5ed2b_row0_col3\" class=\"data row0 col3\" >0.000</td>\n",
       "      <td id=\"T_5ed2b_row0_col4\" class=\"data row0 col4\" >0.000</td>\n",
       "      <td id=\"T_5ed2b_row0_col5\" class=\"data row0 col5\" >0.000</td>\n",
       "      <td id=\"T_5ed2b_row0_col6\" class=\"data row0 col6\" >0.001</td>\n",
       "      <td id=\"T_5ed2b_row0_col7\" class=\"data row0 col7\" >0.002</td>\n",
       "    </tr>\n",
       "    <tr>\n",
       "      <th id=\"T_5ed2b_level0_row1\" class=\"row_heading level0 row1\" >c2:Tree</th>\n",
       "      <td id=\"T_5ed2b_row1_col0\" class=\"data row1 col0\" >0.087</td>\n",
       "      <td id=\"T_5ed2b_row1_col1\" class=\"data row1 col1\" >0.857</td>\n",
       "      <td id=\"T_5ed2b_row1_col2\" class=\"data row1 col2\" >0.228</td>\n",
       "      <td id=\"T_5ed2b_row1_col3\" class=\"data row1 col3\" >0.082</td>\n",
       "      <td id=\"T_5ed2b_row1_col4\" class=\"data row1 col4\" >0.000</td>\n",
       "      <td id=\"T_5ed2b_row1_col5\" class=\"data row1 col5\" >0.051</td>\n",
       "      <td id=\"T_5ed2b_row1_col6\" class=\"data row1 col6\" >0.102</td>\n",
       "      <td id=\"T_5ed2b_row1_col7\" class=\"data row1 col7\" >0.036</td>\n",
       "    </tr>\n",
       "    <tr>\n",
       "      <th id=\"T_5ed2b_level0_row2\" class=\"row_heading level0 row2\" >c3:Flooded Vegetation</th>\n",
       "      <td id=\"T_5ed2b_row2_col0\" class=\"data row2 col0\" >0.004</td>\n",
       "      <td id=\"T_5ed2b_row2_col1\" class=\"data row2 col1\" >0.000</td>\n",
       "      <td id=\"T_5ed2b_row2_col2\" class=\"data row2 col2\" >0.161</td>\n",
       "      <td id=\"T_5ed2b_row2_col3\" class=\"data row2 col3\" >0.001</td>\n",
       "      <td id=\"T_5ed2b_row2_col4\" class=\"data row2 col4\" >0.000</td>\n",
       "      <td id=\"T_5ed2b_row2_col5\" class=\"data row2 col5\" >0.000</td>\n",
       "      <td id=\"T_5ed2b_row2_col6\" class=\"data row2 col6\" >0.002</td>\n",
       "      <td id=\"T_5ed2b_row2_col7\" class=\"data row2 col7\" >0.001</td>\n",
       "    </tr>\n",
       "    <tr>\n",
       "      <th id=\"T_5ed2b_level0_row3\" class=\"row_heading level0 row3\" >c4:Crops</th>\n",
       "      <td id=\"T_5ed2b_row3_col0\" class=\"data row3 col0\" >0.003</td>\n",
       "      <td id=\"T_5ed2b_row3_col1\" class=\"data row3 col1\" >0.001</td>\n",
       "      <td id=\"T_5ed2b_row3_col2\" class=\"data row3 col2\" >0.019</td>\n",
       "      <td id=\"T_5ed2b_row3_col3\" class=\"data row3 col3\" >0.430</td>\n",
       "      <td id=\"T_5ed2b_row3_col4\" class=\"data row3 col4\" >0.001</td>\n",
       "      <td id=\"T_5ed2b_row3_col5\" class=\"data row3 col5\" >0.015</td>\n",
       "      <td id=\"T_5ed2b_row3_col6\" class=\"data row3 col6\" >0.071</td>\n",
       "      <td id=\"T_5ed2b_row3_col7\" class=\"data row3 col7\" >0.092</td>\n",
       "    </tr>\n",
       "    <tr>\n",
       "      <th id=\"T_5ed2b_level0_row4\" class=\"row_heading level0 row4\" >c5:Bare Ground</th>\n",
       "      <td id=\"T_5ed2b_row4_col0\" class=\"data row4 col0\" >0.019</td>\n",
       "      <td id=\"T_5ed2b_row4_col1\" class=\"data row4 col1\" >0.000</td>\n",
       "      <td id=\"T_5ed2b_row4_col2\" class=\"data row4 col2\" >0.007</td>\n",
       "      <td id=\"T_5ed2b_row4_col3\" class=\"data row4 col3\" >0.010</td>\n",
       "      <td id=\"T_5ed2b_row4_col4\" class=\"data row4 col4\" >0.897</td>\n",
       "      <td id=\"T_5ed2b_row4_col5\" class=\"data row4 col5\" >0.014</td>\n",
       "      <td id=\"T_5ed2b_row4_col6\" class=\"data row4 col6\" >0.057</td>\n",
       "      <td id=\"T_5ed2b_row4_col7\" class=\"data row4 col7\" >0.034</td>\n",
       "    </tr>\n",
       "    <tr>\n",
       "      <th id=\"T_5ed2b_level0_row5\" class=\"row_heading level0 row5\" >c6:Rangeland</th>\n",
       "      <td id=\"T_5ed2b_row5_col0\" class=\"data row5 col0\" >0.032</td>\n",
       "      <td id=\"T_5ed2b_row5_col1\" class=\"data row5 col1\" >0.142</td>\n",
       "      <td id=\"T_5ed2b_row5_col2\" class=\"data row5 col2\" >0.561</td>\n",
       "      <td id=\"T_5ed2b_row5_col3\" class=\"data row5 col3\" >0.472</td>\n",
       "      <td id=\"T_5ed2b_row5_col4\" class=\"data row5 col4\" >0.102</td>\n",
       "      <td id=\"T_5ed2b_row5_col5\" class=\"data row5 col5\" >0.920</td>\n",
       "      <td id=\"T_5ed2b_row5_col6\" class=\"data row5 col6\" >0.528</td>\n",
       "      <td id=\"T_5ed2b_row5_col7\" class=\"data row5 col7\" >0.073</td>\n",
       "    </tr>\n",
       "    <tr>\n",
       "      <th id=\"T_5ed2b_level0_row6\" class=\"row_heading level0 row6\" >c7:Rural</th>\n",
       "      <td id=\"T_5ed2b_row6_col0\" class=\"data row6 col0\" >0.000</td>\n",
       "      <td id=\"T_5ed2b_row6_col1\" class=\"data row6 col1\" >0.000</td>\n",
       "      <td id=\"T_5ed2b_row6_col2\" class=\"data row6 col2\" >0.001</td>\n",
       "      <td id=\"T_5ed2b_row6_col3\" class=\"data row6 col3\" >0.001</td>\n",
       "      <td id=\"T_5ed2b_row6_col4\" class=\"data row6 col4\" >0.000</td>\n",
       "      <td id=\"T_5ed2b_row6_col5\" class=\"data row6 col5\" >0.000</td>\n",
       "      <td id=\"T_5ed2b_row6_col6\" class=\"data row6 col6\" >0.144</td>\n",
       "      <td id=\"T_5ed2b_row6_col7\" class=\"data row6 col7\" >0.055</td>\n",
       "    </tr>\n",
       "    <tr>\n",
       "      <th id=\"T_5ed2b_level0_row7\" class=\"row_heading level0 row7\" >c8:Urban</th>\n",
       "      <td id=\"T_5ed2b_row7_col0\" class=\"data row7 col0\" >0.001</td>\n",
       "      <td id=\"T_5ed2b_row7_col1\" class=\"data row7 col1\" >0.000</td>\n",
       "      <td id=\"T_5ed2b_row7_col2\" class=\"data row7 col2\" >0.000</td>\n",
       "      <td id=\"T_5ed2b_row7_col3\" class=\"data row7 col3\" >0.003</td>\n",
       "      <td id=\"T_5ed2b_row7_col4\" class=\"data row7 col4\" >0.000</td>\n",
       "      <td id=\"T_5ed2b_row7_col5\" class=\"data row7 col5\" >0.000</td>\n",
       "      <td id=\"T_5ed2b_row7_col6\" class=\"data row7 col6\" >0.094</td>\n",
       "      <td id=\"T_5ed2b_row7_col7\" class=\"data row7 col7\" >0.708</td>\n",
       "    </tr>\n",
       "  </tbody>\n",
       "</table>\n"
      ],
      "text/plain": [
       "<pandas.io.formats.style.Styler at 0x7f751c475280>"
      ]
     },
     "execution_count": 36,
     "metadata": {},
     "output_type": "execute_result"
    }
   ],
   "source": [
    "df_precision = df_raw_count.div(df_raw_count.sum(axis=0), axis=1)\n",
    "df_precision.style.apply(style_diag, axis=None).format(precision=3)"
   ]
  },
  {
   "cell_type": "markdown",
   "id": "531bbc97",
   "metadata": {},
   "source": [
    "### Seaborn Heatmap (Precision)"
   ]
  },
  {
   "cell_type": "code",
   "execution_count": 37,
   "id": "bda09f8c",
   "metadata": {},
   "outputs": [
    {
     "data": {
      "text/plain": [
       "Text(0.5, 23.52222222222222, 'Predicted label')"
      ]
     },
     "execution_count": 37,
     "metadata": {},
     "output_type": "execute_result"
    },
    {
     "data": {
      "image/png": "[encoded data removed]",
      "text/plain": [
       "<Figure size 640x480 with 2 Axes>"
      ]
     },
     "metadata": {},
     "output_type": "display_data"
    }
   ],
   "source": [
    "heatmap = sns.heatmap(data=df_precision, vmin=0.0, vmax=1.0, cmap=plt.cm.Blues, annot=True, annot_kws={\"fontsize\":6.8}, fmt='.2f')\n",
    "heatmap.yaxis.set_ticklabels(heatmap.yaxis.get_ticklabels(), rotation=0, ha='right',fontsize=8)\n",
    "heatmap.xaxis.set_ticklabels(heatmap.xaxis.get_ticklabels(), rotation=45, ha='right',fontsize=8)\n",
    "plt.title('precision matrix')\n",
    "plt.ylabel('True label')\n",
    "plt.xlabel('Predicted label')"
   ]
  },
  {
   "cell_type": "markdown",
   "id": "a9348788",
   "metadata": {},
   "source": [
    "### Precision score (prediction accuracy)"
   ]
  },
  {
   "cell_type": "code",
   "execution_count": 38,
   "id": "61b2e9bb",
   "metadata": {},
   "outputs": [
    {
     "name": "stdout",
     "output_type": "stream",
     "text": [
      "                class  precision\n",
      "             c1:Water      0.853\n",
      "              c2:Tree      0.857\n",
      "c3:Flooded Vegetation      0.161\n",
      "             c4:Crops      0.430\n",
      "       c5:Bare Ground      0.897\n",
      "         c6:Rangeland      0.920\n",
      "             c7:Rural      0.144\n",
      "             c8:Urban      0.708\n"
     ]
    }
   ],
   "source": [
    "class_names = df_precision.columns\n",
    "confmat_diag = df_precision.to_numpy().diagonal()\n",
    "per_class_acc = dict(zip(class_names, confmat_diag))\n",
    "precision_scores = pd.DataFrame(per_class_acc.items(), columns=['class', 'precision'])\n",
    "precision_scores = precision_scores.round(3)\n",
    "print(precision_scores.to_string(index=False))"
   ]
  },
  {
   "cell_type": "code",
   "execution_count": 39,
   "id": "2f0551d5",
   "metadata": {},
   "outputs": [
    {
     "data": {
      "text/plain": [
       "array([0.85344528, 0.85716132, 0.16078629, 0.43046549, 0.89677484,\n",
       "       0.9195008 , 0.14419032, 0.70789649])"
      ]
     },
     "execution_count": 39,
     "metadata": {},
     "output_type": "execute_result"
    }
   ],
   "source": [
    "confmat_diag"
   ]
  },
  {
   "cell_type": "markdown",
   "id": "1d1513c3",
   "metadata": {},
   "source": [
    "# IoU"
   ]
  },
  {
   "cell_type": "code",
   "execution_count": 40,
   "id": "38d7f870",
   "metadata": {},
   "outputs": [
    {
     "data": {
      "text/html": [
       "<div>\n",
       "<style scoped>\n",
       "    .dataframe tbody tr th:only-of-type {\n",
       "        vertical-align: middle;\n",
       "    }\n",
       "\n",
       "    .dataframe tbody tr th {\n",
       "        vertical-align: top;\n",
       "    }\n",
       "\n",
       "    .dataframe thead th {\n",
       "        text-align: right;\n",
       "    }\n",
       "</style>\n",
       "<table border=\"1\" class=\"dataframe\">\n",
       "  <thead>\n",
       "    <tr style=\"text-align: right;\">\n",
       "      <th></th>\n",
       "      <th>class</th>\n",
       "      <th>IoU</th>\n",
       "    </tr>\n",
       "  </thead>\n",
       "  <tbody>\n",
       "    <tr>\n",
       "      <th>0</th>\n",
       "      <td>c1:Water</td>\n",
       "      <td>0.817</td>\n",
       "    </tr>\n",
       "    <tr>\n",
       "      <th>1</th>\n",
       "      <td>c2:Tree</td>\n",
       "      <td>0.825</td>\n",
       "    </tr>\n",
       "    <tr>\n",
       "      <th>2</th>\n",
       "      <td>c3:Flooded Vegetation</td>\n",
       "      <td>0.159</td>\n",
       "    </tr>\n",
       "    <tr>\n",
       "      <th>3</th>\n",
       "      <td>c4:Crops</td>\n",
       "      <td>0.366</td>\n",
       "    </tr>\n",
       "    <tr>\n",
       "      <th>4</th>\n",
       "      <td>c5:Bare Ground</td>\n",
       "      <td>0.867</td>\n",
       "    </tr>\n",
       "    <tr>\n",
       "      <th>5</th>\n",
       "      <td>c6:Rangeland</td>\n",
       "      <td>0.571</td>\n",
       "    </tr>\n",
       "    <tr>\n",
       "      <th>6</th>\n",
       "      <td>c7:Rural</td>\n",
       "      <td>0.138</td>\n",
       "    </tr>\n",
       "    <tr>\n",
       "      <th>7</th>\n",
       "      <td>c8:Urban</td>\n",
       "      <td>0.582</td>\n",
       "    </tr>\n",
       "  </tbody>\n",
       "</table>\n",
       "</div>"
      ],
      "text/plain": [
       "                   class    IoU\n",
       "0               c1:Water  0.817\n",
       "1                c2:Tree  0.825\n",
       "2  c3:Flooded Vegetation  0.159\n",
       "3               c4:Crops  0.366\n",
       "4         c5:Bare Ground  0.867\n",
       "5           c6:Rangeland  0.571\n",
       "6               c7:Rural  0.138\n",
       "7               c8:Urban  0.582"
      ]
     },
     "execution_count": 40,
     "metadata": {},
     "output_type": "execute_result"
    }
   ],
   "source": [
    "class_names = df_raw_count.columns\n",
    "raw_counts = df_raw_count.to_numpy()\n",
    "iou_class = {}\n",
    "\n",
    "# calculate IoU for each class\n",
    "for i in range(len(class_names)):\n",
    "    tp = raw_counts[i, i]\n",
    "    fp = raw_counts[:, i].sum() - tp\n",
    "    fn = raw_counts[i, :].sum() - tp\n",
    "    \n",
    "    nom = tp\n",
    "    denom = (tp + fp + fn)\n",
    "    \n",
    "    if denom != 0:\n",
    "        iou = nom / denom\n",
    "    else:\n",
    "        iou = np.NaN\n",
    "    iou_class[class_names[i]] = iou\n",
    "\n",
    "\n",
    "# output IoU as dataframe\n",
    "iou_scores = pd.DataFrame(iou_class.items(), columns=['class', 'IoU'])\n",
    "iou_scores.round(3)"
   ]
  },
  {
   "cell_type": "code",
   "execution_count": 41,
   "id": "9779de14",
   "metadata": {},
   "outputs": [
    {
     "data": {
      "text/plain": [
       "0.5406194717629861"
      ]
     },
     "execution_count": 41,
     "metadata": {},
     "output_type": "execute_result"
    }
   ],
   "source": [
    "# calculate mean IoU (not counting empty classes)\n",
    "iou_mean = np.nanmean(iou_scores['IoU'])\n",
    "iou_mean"
   ]
  },
  {
   "cell_type": "markdown",
   "id": "758b13e8",
   "metadata": {},
   "source": [
    "# F1 Score (Dice coefficient)"
   ]
  },
  {
   "cell_type": "code",
   "execution_count": 42,
   "id": "a85cdfd7",
   "metadata": {},
   "outputs": [
    {
     "data": {
      "text/html": [
       "<div>\n",
       "<style scoped>\n",
       "    .dataframe tbody tr th:only-of-type {\n",
       "        vertical-align: middle;\n",
       "    }\n",
       "\n",
       "    .dataframe tbody tr th {\n",
       "        vertical-align: top;\n",
       "    }\n",
       "\n",
       "    .dataframe thead th {\n",
       "        text-align: right;\n",
       "    }\n",
       "</style>\n",
       "<table border=\"1\" class=\"dataframe\">\n",
       "  <thead>\n",
       "    <tr style=\"text-align: right;\">\n",
       "      <th></th>\n",
       "      <th>class</th>\n",
       "      <th>f1-score</th>\n",
       "    </tr>\n",
       "  </thead>\n",
       "  <tbody>\n",
       "    <tr>\n",
       "      <th>0</th>\n",
       "      <td>c1:Water</td>\n",
       "      <td>0.899</td>\n",
       "    </tr>\n",
       "    <tr>\n",
       "      <th>1</th>\n",
       "      <td>c2:Tree</td>\n",
       "      <td>0.904</td>\n",
       "    </tr>\n",
       "    <tr>\n",
       "      <th>2</th>\n",
       "      <td>c3:Flooded Vegetation</td>\n",
       "      <td>0.275</td>\n",
       "    </tr>\n",
       "    <tr>\n",
       "      <th>3</th>\n",
       "      <td>c4:Crops</td>\n",
       "      <td>0.536</td>\n",
       "    </tr>\n",
       "    <tr>\n",
       "      <th>4</th>\n",
       "      <td>c5:Bare Ground</td>\n",
       "      <td>0.929</td>\n",
       "    </tr>\n",
       "    <tr>\n",
       "      <th>5</th>\n",
       "      <td>c6:Rangeland</td>\n",
       "      <td>0.727</td>\n",
       "    </tr>\n",
       "    <tr>\n",
       "      <th>6</th>\n",
       "      <td>c7:Rural</td>\n",
       "      <td>0.243</td>\n",
       "    </tr>\n",
       "    <tr>\n",
       "      <th>7</th>\n",
       "      <td>c8:Urban</td>\n",
       "      <td>0.736</td>\n",
       "    </tr>\n",
       "  </tbody>\n",
       "</table>\n",
       "</div>"
      ],
      "text/plain": [
       "                   class  f1-score\n",
       "0               c1:Water     0.899\n",
       "1                c2:Tree     0.904\n",
       "2  c3:Flooded Vegetation     0.275\n",
       "3               c4:Crops     0.536\n",
       "4         c5:Bare Ground     0.929\n",
       "5           c6:Rangeland     0.727\n",
       "6               c7:Rural     0.243\n",
       "7               c8:Urban     0.736"
      ]
     },
     "execution_count": 42,
     "metadata": {},
     "output_type": "execute_result"
    }
   ],
   "source": [
    "class_names = df_raw_count.columns\n",
    "raw_counts = df_raw_count.to_numpy()\n",
    "f1_class = {}\n",
    "\n",
    "# calculate IoU for each class\n",
    "for i in range(len(class_names)):\n",
    "    tp = raw_counts[i, i]\n",
    "    fp = raw_counts[:, i].sum() - tp\n",
    "    fn = raw_counts[i, :].sum() - tp\n",
    "    \n",
    "    nom = tp\n",
    "    denom = tp + 0.5*(fp + fn)\n",
    "    \n",
    "    if denom != 0:\n",
    "        f1 = nom / denom\n",
    "    else:\n",
    "        f1 = np.NaN\n",
    "    f1_class[class_names[i]] = f1\n",
    "\n",
    "# output f1-score as dataframe\n",
    "f1_scores = pd.DataFrame(f1_class.items(), columns=['class', 'f1-score'])\n",
    "f1_scores.round(3)"
   ]
  },
  {
   "cell_type": "code",
   "execution_count": 43,
   "id": "0a0a6955",
   "metadata": {},
   "outputs": [
    {
     "data": {
      "text/plain": [
       "0.6560178041985649"
      ]
     },
     "execution_count": 43,
     "metadata": {},
     "output_type": "execute_result"
    }
   ],
   "source": [
    "# calculate mean f1-score (not counting empty classes)\n",
    "f1_mean = np.nanmean(f1_scores['f1-score'])\n",
    "f1_mean"
   ]
  },
  {
   "cell_type": "code",
   "execution_count": 44,
   "id": "def3161f",
   "metadata": {},
   "outputs": [
    {
     "data": {
      "text/html": [
       "<div>\n",
       "<style scoped>\n",
       "    .dataframe tbody tr th:only-of-type {\n",
       "        vertical-align: middle;\n",
       "    }\n",
       "\n",
       "    .dataframe tbody tr th {\n",
       "        vertical-align: top;\n",
       "    }\n",
       "\n",
       "    .dataframe thead th {\n",
       "        text-align: right;\n",
       "    }\n",
       "</style>\n",
       "<table border=\"1\" class=\"dataframe\">\n",
       "  <thead>\n",
       "    <tr style=\"text-align: right;\">\n",
       "      <th></th>\n",
       "      <th>IoU</th>\n",
       "      <th>f1-score</th>\n",
       "    </tr>\n",
       "    <tr>\n",
       "      <th>class</th>\n",
       "      <th></th>\n",
       "      <th></th>\n",
       "    </tr>\n",
       "  </thead>\n",
       "  <tbody>\n",
       "    <tr>\n",
       "      <th>c1:Water</th>\n",
       "      <td>0.817</td>\n",
       "      <td>0.899</td>\n",
       "    </tr>\n",
       "    <tr>\n",
       "      <th>c2:Tree</th>\n",
       "      <td>0.825</td>\n",
       "      <td>0.904</td>\n",
       "    </tr>\n",
       "    <tr>\n",
       "      <th>c3:Flooded Vegetation</th>\n",
       "      <td>0.159</td>\n",
       "      <td>0.275</td>\n",
       "    </tr>\n",
       "    <tr>\n",
       "      <th>c4:Crops</th>\n",
       "      <td>0.366</td>\n",
       "      <td>0.536</td>\n",
       "    </tr>\n",
       "    <tr>\n",
       "      <th>c5:Bare Ground</th>\n",
       "      <td>0.867</td>\n",
       "      <td>0.929</td>\n",
       "    </tr>\n",
       "    <tr>\n",
       "      <th>c6:Rangeland</th>\n",
       "      <td>0.571</td>\n",
       "      <td>0.727</td>\n",
       "    </tr>\n",
       "    <tr>\n",
       "      <th>c7:Rural</th>\n",
       "      <td>0.138</td>\n",
       "      <td>0.243</td>\n",
       "    </tr>\n",
       "    <tr>\n",
       "      <th>c8:Urban</th>\n",
       "      <td>0.582</td>\n",
       "      <td>0.736</td>\n",
       "    </tr>\n",
       "    <tr>\n",
       "      <th>mean</th>\n",
       "      <td>0.541</td>\n",
       "      <td>0.656</td>\n",
       "    </tr>\n",
       "  </tbody>\n",
       "</table>\n",
       "</div>"
      ],
      "text/plain": [
       "                         IoU  f1-score\n",
       "class                                 \n",
       "c1:Water               0.817     0.899\n",
       "c2:Tree                0.825     0.904\n",
       "c3:Flooded Vegetation  0.159     0.275\n",
       "c4:Crops               0.366     0.536\n",
       "c5:Bare Ground         0.867     0.929\n",
       "c6:Rangeland           0.571     0.727\n",
       "c7:Rural               0.138     0.243\n",
       "c8:Urban               0.582     0.736\n",
       "mean                   0.541     0.656"
      ]
     },
     "execution_count": 44,
     "metadata": {},
     "output_type": "execute_result"
    }
   ],
   "source": [
    "iou_f1 = iou_scores.set_index('class').join(f1_scores.set_index('class'))\n",
    "iou_f1_mean = pd.DataFrame({'class': ['mean'], 'IoU': [iou_mean], 'f1-score': [f1_mean]}).set_index('class')\n",
    "iou_f1 = pd.concat([iou_f1, iou_f1_mean])\n",
    "iou_f1.round(3)"
   ]
  },
  {
   "cell_type": "code",
   "execution_count": null,
   "id": "b1485f42",
   "metadata": {},
   "outputs": [],
   "source": []
  }
 ],
 "metadata": {
  "kernelspec": {
   "display_name": "Python 3 (ipykernel)",
   "language": "python",
   "name": "python3"
  },
  "language_info": {
   "codemirror_mode": {
    "name": "ipython",
    "version": 3
   },
   "file_extension": ".py",
   "mimetype": "text/x-python",
   "name": "python",
   "nbconvert_exporter": "python",
   "pygments_lexer": "ipython3",
   "version": "3.8.13"
  }
 },
 "nbformat": 4,
 "nbformat_minor": 5
}
