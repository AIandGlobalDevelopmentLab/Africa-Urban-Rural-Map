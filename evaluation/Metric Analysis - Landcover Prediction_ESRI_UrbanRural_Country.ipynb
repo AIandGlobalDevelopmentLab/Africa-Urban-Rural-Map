{
 "cells": [
  {
   "cell_type": "code",
   "execution_count": 14,
   "id": "9c4f42ed",
   "metadata": {},
   "outputs": [],
   "source": [
    "import pandas as pd\n",
    "import numpy as np\n",
    "import matplotlib\n",
    "import matplotlib.pyplot as plt\n",
    "import seaborn as sns"
   ]
  },
  {
   "cell_type": "code",
   "execution_count": 15,
   "id": "d7eb864e",
   "metadata": {},
   "outputs": [],
   "source": [
    "def style_diag(data):\n",
    "    '''author: CJR, https://stackoverflow.com/a/56916315'''\n",
    "    diag_mask = pd.DataFrame(\"\", index=data.index, columns=data.columns)\n",
    "    min_axis = min(diag_mask.shape)\n",
    "    diag_mask.iloc[range(min_axis), range(min_axis)] = 'background-color: yellow'\n",
    "    return diag_mask"
   ]
  },
  {
   "cell_type": "markdown",
   "id": "19fd49bb",
   "metadata": {},
   "source": [
    "# Metric Analysis: Landcover Prediction"
   ]
  },
  {
   "cell_type": "markdown",
   "id": "786e1a6a",
   "metadata": {},
   "source": [
    "### DataFrame (raw pixel count)"
   ]
  },
  {
   "cell_type": "code",
   "execution_count": 16,
   "id": "3bc46dd2",
   "metadata": {},
   "outputs": [
    {
     "data": {
      "text/html": [
       "<style type=\"text/css\">\n",
       "#T_2892c_row0_col0, #T_2892c_row1_col1, #T_2892c_row2_col2, #T_2892c_row3_col3, #T_2892c_row4_col4, #T_2892c_row5_col5, #T_2892c_row6_col6, #T_2892c_row7_col7 {\n",
       "  background-color: yellow;\n",
       "}\n",
       "</style>\n",
       "<table id=\"T_2892c\">\n",
       "  <thead>\n",
       "    <tr>\n",
       "      <th class=\"blank level0\" >&nbsp;</th>\n",
       "      <th id=\"T_2892c_level0_col0\" class=\"col_heading level0 col0\" >c1:Water</th>\n",
       "      <th id=\"T_2892c_level0_col1\" class=\"col_heading level0 col1\" >c2:Tree</th>\n",
       "      <th id=\"T_2892c_level0_col2\" class=\"col_heading level0 col2\" >c3:Flooded Vegetation</th>\n",
       "      <th id=\"T_2892c_level0_col3\" class=\"col_heading level0 col3\" >c4:Crops</th>\n",
       "      <th id=\"T_2892c_level0_col4\" class=\"col_heading level0 col4\" >c5:Bare Ground</th>\n",
       "      <th id=\"T_2892c_level0_col5\" class=\"col_heading level0 col5\" >c6:Rangeland</th>\n",
       "      <th id=\"T_2892c_level0_col6\" class=\"col_heading level0 col6\" >c7:Rural</th>\n",
       "      <th id=\"T_2892c_level0_col7\" class=\"col_heading level0 col7\" >c8:Urban</th>\n",
       "    </tr>\n",
       "  </thead>\n",
       "  <tbody>\n",
       "    <tr>\n",
       "      <th id=\"T_2892c_level0_row0\" class=\"row_heading level0 row0\" >c1:Water</th>\n",
       "      <td id=\"T_2892c_row0_col0\" class=\"data row0 col0\" >38663618</td>\n",
       "      <td id=\"T_2892c_row0_col1\" class=\"data row0 col1\" >222726</td>\n",
       "      <td id=\"T_2892c_row0_col2\" class=\"data row0 col2\" >3036055</td>\n",
       "      <td id=\"T_2892c_row0_col3\" class=\"data row0 col3\" >501</td>\n",
       "      <td id=\"T_2892c_row0_col4\" class=\"data row0 col4\" >7129</td>\n",
       "      <td id=\"T_2892c_row0_col5\" class=\"data row0 col5\" >51983</td>\n",
       "      <td id=\"T_2892c_row0_col6\" class=\"data row0 col6\" >19250</td>\n",
       "      <td id=\"T_2892c_row0_col7\" class=\"data row0 col7\" >12749</td>\n",
       "    </tr>\n",
       "    <tr>\n",
       "      <th id=\"T_2892c_level0_row1\" class=\"row_heading level0 row1\" >c2:Tree</th>\n",
       "      <td id=\"T_2892c_row1_col0\" class=\"data row1 col0\" >3472470</td>\n",
       "      <td id=\"T_2892c_row1_col1\" class=\"data row1 col1\" >2218402547</td>\n",
       "      <td id=\"T_2892c_row1_col2\" class=\"data row1 col2\" >43495144</td>\n",
       "      <td id=\"T_2892c_row1_col3\" class=\"data row1 col3\" >943473</td>\n",
       "      <td id=\"T_2892c_row1_col4\" class=\"data row1 col4\" >1286</td>\n",
       "      <td id=\"T_2892c_row1_col5\" class=\"data row1 col5\" >13851959</td>\n",
       "      <td id=\"T_2892c_row1_col6\" class=\"data row1 col6\" >2743208</td>\n",
       "      <td id=\"T_2892c_row1_col7\" class=\"data row1 col7\" >512039</td>\n",
       "    </tr>\n",
       "    <tr>\n",
       "      <th id=\"T_2892c_level0_row2\" class=\"row_heading level0 row2\" >c3:Flooded Vegetation</th>\n",
       "      <td id=\"T_2892c_row2_col0\" class=\"data row2 col0\" >89909</td>\n",
       "      <td id=\"T_2892c_row2_col1\" class=\"data row2 col1\" >199217</td>\n",
       "      <td id=\"T_2892c_row2_col2\" class=\"data row2 col2\" >8753989</td>\n",
       "      <td id=\"T_2892c_row2_col3\" class=\"data row2 col3\" >8076</td>\n",
       "      <td id=\"T_2892c_row2_col4\" class=\"data row2 col4\" >0</td>\n",
       "      <td id=\"T_2892c_row2_col5\" class=\"data row2 col5\" >207581</td>\n",
       "      <td id=\"T_2892c_row2_col6\" class=\"data row2 col6\" >10641</td>\n",
       "      <td id=\"T_2892c_row2_col7\" class=\"data row2 col7\" >5674</td>\n",
       "    </tr>\n",
       "    <tr>\n",
       "      <th id=\"T_2892c_level0_row3\" class=\"row_heading level0 row3\" >c4:Crops</th>\n",
       "      <td id=\"T_2892c_row3_col0\" class=\"data row3 col0\" >3165</td>\n",
       "      <td id=\"T_2892c_row3_col1\" class=\"data row3 col1\" >734056</td>\n",
       "      <td id=\"T_2892c_row3_col2\" class=\"data row3 col2\" >141452</td>\n",
       "      <td id=\"T_2892c_row3_col3\" class=\"data row3 col3\" >2229971</td>\n",
       "      <td id=\"T_2892c_row3_col4\" class=\"data row3 col4\" >184</td>\n",
       "      <td id=\"T_2892c_row3_col5\" class=\"data row3 col5\" >866929</td>\n",
       "      <td id=\"T_2892c_row3_col6\" class=\"data row3 col6\" >115385</td>\n",
       "      <td id=\"T_2892c_row3_col7\" class=\"data row3 col7\" >54086</td>\n",
       "    </tr>\n",
       "    <tr>\n",
       "      <th id=\"T_2892c_level0_row4\" class=\"row_heading level0 row4\" >c5:Bare Ground</th>\n",
       "      <td id=\"T_2892c_row4_col0\" class=\"data row4 col0\" >109496</td>\n",
       "      <td id=\"T_2892c_row4_col1\" class=\"data row4 col1\" >758608</td>\n",
       "      <td id=\"T_2892c_row4_col2\" class=\"data row4 col2\" >213338</td>\n",
       "      <td id=\"T_2892c_row4_col3\" class=\"data row4 col3\" >22736</td>\n",
       "      <td id=\"T_2892c_row4_col4\" class=\"data row4 col4\" >12607</td>\n",
       "      <td id=\"T_2892c_row4_col5\" class=\"data row4 col5\" >130188</td>\n",
       "      <td id=\"T_2892c_row4_col6\" class=\"data row4 col6\" >65484</td>\n",
       "      <td id=\"T_2892c_row4_col7\" class=\"data row4 col7\" >22712</td>\n",
       "    </tr>\n",
       "    <tr>\n",
       "      <th id=\"T_2892c_level0_row5\" class=\"row_heading level0 row5\" >c6:Rangeland</th>\n",
       "      <td id=\"T_2892c_row5_col0\" class=\"data row5 col0\" >71417</td>\n",
       "      <td id=\"T_2892c_row5_col1\" class=\"data row5 col1\" >8976945</td>\n",
       "      <td id=\"T_2892c_row5_col2\" class=\"data row5 col2\" >7853063</td>\n",
       "      <td id=\"T_2892c_row5_col3\" class=\"data row5 col3\" >12270581</td>\n",
       "      <td id=\"T_2892c_row5_col4\" class=\"data row5 col4\" >2743</td>\n",
       "      <td id=\"T_2892c_row5_col5\" class=\"data row5 col5\" >136914829</td>\n",
       "      <td id=\"T_2892c_row5_col6\" class=\"data row5 col6\" >710208</td>\n",
       "      <td id=\"T_2892c_row5_col7\" class=\"data row5 col7\" >77410</td>\n",
       "    </tr>\n",
       "    <tr>\n",
       "      <th id=\"T_2892c_level0_row6\" class=\"row_heading level0 row6\" >c7:Rural</th>\n",
       "      <td id=\"T_2892c_row6_col0\" class=\"data row6 col0\" >4804</td>\n",
       "      <td id=\"T_2892c_row6_col1\" class=\"data row6 col1\" >83936</td>\n",
       "      <td id=\"T_2892c_row6_col2\" class=\"data row6 col2\" >55612</td>\n",
       "      <td id=\"T_2892c_row6_col3\" class=\"data row6 col3\" >12589</td>\n",
       "      <td id=\"T_2892c_row6_col4\" class=\"data row6 col4\" >1</td>\n",
       "      <td id=\"T_2892c_row6_col5\" class=\"data row6 col5\" >53529</td>\n",
       "      <td id=\"T_2892c_row6_col6\" class=\"data row6 col6\" >852888</td>\n",
       "      <td id=\"T_2892c_row6_col7\" class=\"data row6 col7\" >675509</td>\n",
       "    </tr>\n",
       "    <tr>\n",
       "      <th id=\"T_2892c_level0_row7\" class=\"row_heading level0 row7\" >c8:Urban</th>\n",
       "      <td id=\"T_2892c_row7_col0\" class=\"data row7 col0\" >3232</td>\n",
       "      <td id=\"T_2892c_row7_col1\" class=\"data row7 col1\" >23369</td>\n",
       "      <td id=\"T_2892c_row7_col2\" class=\"data row7 col2\" >68715</td>\n",
       "      <td id=\"T_2892c_row7_col3\" class=\"data row7 col3\" >5372</td>\n",
       "      <td id=\"T_2892c_row7_col4\" class=\"data row7 col4\" >0</td>\n",
       "      <td id=\"T_2892c_row7_col5\" class=\"data row7 col5\" >36139</td>\n",
       "      <td id=\"T_2892c_row7_col6\" class=\"data row7 col6\" >427706</td>\n",
       "      <td id=\"T_2892c_row7_col7\" class=\"data row7 col7\" >2593847</td>\n",
       "    </tr>\n",
       "  </tbody>\n",
       "</table>\n"
      ],
      "text/plain": [
       "<pandas.io.formats.style.Styler at 0x7ff79631dd60>"
      ]
     },
     "execution_count": 16,
     "metadata": {},
     "output_type": "execute_result"
    }
   ],
   "source": [
    "mimer = '/mimer/NOBACKUP/groups/globalpoverty1/albin_and_albin/raw_count_confusion_matrices/single_year_model/country_wise/'\n",
    "\n",
    "COUNTRY = 'Gabon'\n",
    "country_metrics = mimer + f'confusion_matrix_esri_urban_rural_{COUNTRY}.csv'\n",
    "\n",
    "df_raw_count = pd.read_csv(country_metrics, index_col=0)\n",
    "df_raw_count.style.apply(style_diag, axis=None).format(precision=3)"
   ]
  },
  {
   "cell_type": "code",
   "execution_count": null,
   "id": "7b8d1afd",
   "metadata": {},
   "outputs": [],
   "source": []
  },
  {
   "cell_type": "code",
   "execution_count": 17,
   "id": "e52474af",
   "metadata": {},
   "outputs": [
    {
     "data": {
      "text/plain": [
       "c1:Water                   42014011\n",
       "c2:Tree                  2283422126\n",
       "c3:Flooded Vegetation       9275087\n",
       "c4:Crops                    4145228\n",
       "c5:Bare Ground              1335169\n",
       "c6:Rangeland              166877196\n",
       "c7:Rural                    1738868\n",
       "c8:Urban                    3158380\n",
       "dtype: int64"
      ]
     },
     "execution_count": 17,
     "metadata": {},
     "output_type": "execute_result"
    }
   ],
   "source": [
    "df_raw_count.sum(axis=1)"
   ]
  },
  {
   "cell_type": "code",
   "execution_count": 18,
   "id": "fefafcbb",
   "metadata": {},
   "outputs": [
    {
     "data": {
      "text/plain": [
       "c1:Water                 0.016726\n",
       "c2:Tree                  0.909018\n",
       "c3:Flooded Vegetation    0.003692\n",
       "c4:Crops                 0.001650\n",
       "c5:Bare Ground           0.000532\n",
       "c6:Rangeland             0.066433\n",
       "c7:Rural                 0.000692\n",
       "c8:Urban                 0.001257\n",
       "dtype: float64"
      ]
     },
     "execution_count": 18,
     "metadata": {},
     "output_type": "execute_result"
    }
   ],
   "source": [
    "df_new = df_raw_count.sum(axis=1)\n",
    "df_new = df_new.div(df_new.sum(axis=0), axis=0)\n",
    "df_new"
   ]
  },
  {
   "cell_type": "markdown",
   "id": "c1fa5320",
   "metadata": {},
   "source": [
    "# Recall"
   ]
  },
  {
   "cell_type": "markdown",
   "id": "37106cce",
   "metadata": {},
   "source": [
    "### DataFrame (recall)"
   ]
  },
  {
   "cell_type": "code",
   "execution_count": 19,
   "id": "51ffb2c0",
   "metadata": {},
   "outputs": [
    {
     "data": {
      "text/html": [
       "<style type=\"text/css\">\n",
       "#T_4d67a_row0_col0, #T_4d67a_row1_col1, #T_4d67a_row2_col2, #T_4d67a_row3_col3, #T_4d67a_row4_col4, #T_4d67a_row5_col5, #T_4d67a_row6_col6, #T_4d67a_row7_col7 {\n",
       "  background-color: yellow;\n",
       "}\n",
       "</style>\n",
       "<table id=\"T_4d67a\">\n",
       "  <thead>\n",
       "    <tr>\n",
       "      <th class=\"blank level0\" >&nbsp;</th>\n",
       "      <th id=\"T_4d67a_level0_col0\" class=\"col_heading level0 col0\" >c1:Water</th>\n",
       "      <th id=\"T_4d67a_level0_col1\" class=\"col_heading level0 col1\" >c2:Tree</th>\n",
       "      <th id=\"T_4d67a_level0_col2\" class=\"col_heading level0 col2\" >c3:Flooded Vegetation</th>\n",
       "      <th id=\"T_4d67a_level0_col3\" class=\"col_heading level0 col3\" >c4:Crops</th>\n",
       "      <th id=\"T_4d67a_level0_col4\" class=\"col_heading level0 col4\" >c5:Bare Ground</th>\n",
       "      <th id=\"T_4d67a_level0_col5\" class=\"col_heading level0 col5\" >c6:Rangeland</th>\n",
       "      <th id=\"T_4d67a_level0_col6\" class=\"col_heading level0 col6\" >c7:Rural</th>\n",
       "      <th id=\"T_4d67a_level0_col7\" class=\"col_heading level0 col7\" >c8:Urban</th>\n",
       "    </tr>\n",
       "  </thead>\n",
       "  <tbody>\n",
       "    <tr>\n",
       "      <th id=\"T_4d67a_level0_row0\" class=\"row_heading level0 row0\" >c1:Water</th>\n",
       "      <td id=\"T_4d67a_row0_col0\" class=\"data row0 col0\" >0.920</td>\n",
       "      <td id=\"T_4d67a_row0_col1\" class=\"data row0 col1\" >0.005</td>\n",
       "      <td id=\"T_4d67a_row0_col2\" class=\"data row0 col2\" >0.072</td>\n",
       "      <td id=\"T_4d67a_row0_col3\" class=\"data row0 col3\" >0.000</td>\n",
       "      <td id=\"T_4d67a_row0_col4\" class=\"data row0 col4\" >0.000</td>\n",
       "      <td id=\"T_4d67a_row0_col5\" class=\"data row0 col5\" >0.001</td>\n",
       "      <td id=\"T_4d67a_row0_col6\" class=\"data row0 col6\" >0.000</td>\n",
       "      <td id=\"T_4d67a_row0_col7\" class=\"data row0 col7\" >0.000</td>\n",
       "    </tr>\n",
       "    <tr>\n",
       "      <th id=\"T_4d67a_level0_row1\" class=\"row_heading level0 row1\" >c2:Tree</th>\n",
       "      <td id=\"T_4d67a_row1_col0\" class=\"data row1 col0\" >0.002</td>\n",
       "      <td id=\"T_4d67a_row1_col1\" class=\"data row1 col1\" >0.972</td>\n",
       "      <td id=\"T_4d67a_row1_col2\" class=\"data row1 col2\" >0.019</td>\n",
       "      <td id=\"T_4d67a_row1_col3\" class=\"data row1 col3\" >0.000</td>\n",
       "      <td id=\"T_4d67a_row1_col4\" class=\"data row1 col4\" >0.000</td>\n",
       "      <td id=\"T_4d67a_row1_col5\" class=\"data row1 col5\" >0.006</td>\n",
       "      <td id=\"T_4d67a_row1_col6\" class=\"data row1 col6\" >0.001</td>\n",
       "      <td id=\"T_4d67a_row1_col7\" class=\"data row1 col7\" >0.000</td>\n",
       "    </tr>\n",
       "    <tr>\n",
       "      <th id=\"T_4d67a_level0_row2\" class=\"row_heading level0 row2\" >c3:Flooded Vegetation</th>\n",
       "      <td id=\"T_4d67a_row2_col0\" class=\"data row2 col0\" >0.010</td>\n",
       "      <td id=\"T_4d67a_row2_col1\" class=\"data row2 col1\" >0.021</td>\n",
       "      <td id=\"T_4d67a_row2_col2\" class=\"data row2 col2\" >0.944</td>\n",
       "      <td id=\"T_4d67a_row2_col3\" class=\"data row2 col3\" >0.001</td>\n",
       "      <td id=\"T_4d67a_row2_col4\" class=\"data row2 col4\" >0.000</td>\n",
       "      <td id=\"T_4d67a_row2_col5\" class=\"data row2 col5\" >0.022</td>\n",
       "      <td id=\"T_4d67a_row2_col6\" class=\"data row2 col6\" >0.001</td>\n",
       "      <td id=\"T_4d67a_row2_col7\" class=\"data row2 col7\" >0.001</td>\n",
       "    </tr>\n",
       "    <tr>\n",
       "      <th id=\"T_4d67a_level0_row3\" class=\"row_heading level0 row3\" >c4:Crops</th>\n",
       "      <td id=\"T_4d67a_row3_col0\" class=\"data row3 col0\" >0.001</td>\n",
       "      <td id=\"T_4d67a_row3_col1\" class=\"data row3 col1\" >0.177</td>\n",
       "      <td id=\"T_4d67a_row3_col2\" class=\"data row3 col2\" >0.034</td>\n",
       "      <td id=\"T_4d67a_row3_col3\" class=\"data row3 col3\" >0.538</td>\n",
       "      <td id=\"T_4d67a_row3_col4\" class=\"data row3 col4\" >0.000</td>\n",
       "      <td id=\"T_4d67a_row3_col5\" class=\"data row3 col5\" >0.209</td>\n",
       "      <td id=\"T_4d67a_row3_col6\" class=\"data row3 col6\" >0.028</td>\n",
       "      <td id=\"T_4d67a_row3_col7\" class=\"data row3 col7\" >0.013</td>\n",
       "    </tr>\n",
       "    <tr>\n",
       "      <th id=\"T_4d67a_level0_row4\" class=\"row_heading level0 row4\" >c5:Bare Ground</th>\n",
       "      <td id=\"T_4d67a_row4_col0\" class=\"data row4 col0\" >0.082</td>\n",
       "      <td id=\"T_4d67a_row4_col1\" class=\"data row4 col1\" >0.568</td>\n",
       "      <td id=\"T_4d67a_row4_col2\" class=\"data row4 col2\" >0.160</td>\n",
       "      <td id=\"T_4d67a_row4_col3\" class=\"data row4 col3\" >0.017</td>\n",
       "      <td id=\"T_4d67a_row4_col4\" class=\"data row4 col4\" >0.009</td>\n",
       "      <td id=\"T_4d67a_row4_col5\" class=\"data row4 col5\" >0.098</td>\n",
       "      <td id=\"T_4d67a_row4_col6\" class=\"data row4 col6\" >0.049</td>\n",
       "      <td id=\"T_4d67a_row4_col7\" class=\"data row4 col7\" >0.017</td>\n",
       "    </tr>\n",
       "    <tr>\n",
       "      <th id=\"T_4d67a_level0_row5\" class=\"row_heading level0 row5\" >c6:Rangeland</th>\n",
       "      <td id=\"T_4d67a_row5_col0\" class=\"data row5 col0\" >0.000</td>\n",
       "      <td id=\"T_4d67a_row5_col1\" class=\"data row5 col1\" >0.054</td>\n",
       "      <td id=\"T_4d67a_row5_col2\" class=\"data row5 col2\" >0.047</td>\n",
       "      <td id=\"T_4d67a_row5_col3\" class=\"data row5 col3\" >0.074</td>\n",
       "      <td id=\"T_4d67a_row5_col4\" class=\"data row5 col4\" >0.000</td>\n",
       "      <td id=\"T_4d67a_row5_col5\" class=\"data row5 col5\" >0.820</td>\n",
       "      <td id=\"T_4d67a_row5_col6\" class=\"data row5 col6\" >0.004</td>\n",
       "      <td id=\"T_4d67a_row5_col7\" class=\"data row5 col7\" >0.000</td>\n",
       "    </tr>\n",
       "    <tr>\n",
       "      <th id=\"T_4d67a_level0_row6\" class=\"row_heading level0 row6\" >c7:Rural</th>\n",
       "      <td id=\"T_4d67a_row6_col0\" class=\"data row6 col0\" >0.003</td>\n",
       "      <td id=\"T_4d67a_row6_col1\" class=\"data row6 col1\" >0.048</td>\n",
       "      <td id=\"T_4d67a_row6_col2\" class=\"data row6 col2\" >0.032</td>\n",
       "      <td id=\"T_4d67a_row6_col3\" class=\"data row6 col3\" >0.007</td>\n",
       "      <td id=\"T_4d67a_row6_col4\" class=\"data row6 col4\" >0.000</td>\n",
       "      <td id=\"T_4d67a_row6_col5\" class=\"data row6 col5\" >0.031</td>\n",
       "      <td id=\"T_4d67a_row6_col6\" class=\"data row6 col6\" >0.490</td>\n",
       "      <td id=\"T_4d67a_row6_col7\" class=\"data row6 col7\" >0.388</td>\n",
       "    </tr>\n",
       "    <tr>\n",
       "      <th id=\"T_4d67a_level0_row7\" class=\"row_heading level0 row7\" >c8:Urban</th>\n",
       "      <td id=\"T_4d67a_row7_col0\" class=\"data row7 col0\" >0.001</td>\n",
       "      <td id=\"T_4d67a_row7_col1\" class=\"data row7 col1\" >0.007</td>\n",
       "      <td id=\"T_4d67a_row7_col2\" class=\"data row7 col2\" >0.022</td>\n",
       "      <td id=\"T_4d67a_row7_col3\" class=\"data row7 col3\" >0.002</td>\n",
       "      <td id=\"T_4d67a_row7_col4\" class=\"data row7 col4\" >0.000</td>\n",
       "      <td id=\"T_4d67a_row7_col5\" class=\"data row7 col5\" >0.011</td>\n",
       "      <td id=\"T_4d67a_row7_col6\" class=\"data row7 col6\" >0.135</td>\n",
       "      <td id=\"T_4d67a_row7_col7\" class=\"data row7 col7\" >0.821</td>\n",
       "    </tr>\n",
       "  </tbody>\n",
       "</table>\n"
      ],
      "text/plain": [
       "<pandas.io.formats.style.Styler at 0x7ff796326850>"
      ]
     },
     "execution_count": 19,
     "metadata": {},
     "output_type": "execute_result"
    }
   ],
   "source": [
    "df_recall = df_raw_count.div(df_raw_count.sum(axis=1), axis=0)\n",
    "df_recall.style.apply(style_diag, axis=None).format(precision=3)"
   ]
  },
  {
   "cell_type": "markdown",
   "id": "52015712",
   "metadata": {},
   "source": [
    "### Seaborn Heatmap (Recall)"
   ]
  },
  {
   "cell_type": "code",
   "execution_count": 20,
   "id": "886b110f",
   "metadata": {},
   "outputs": [
    {
     "data": {
      "text/plain": [
       "Text(0.5, 23.52222222222222, 'Predicted label')"
      ]
     },
     "execution_count": 20,
     "metadata": {},
     "output_type": "execute_result"
    },
    {
     "data": {
      "image/png": "[encoded data removed]",
      "text/plain": [
       "<Figure size 640x480 with 2 Axes>"
      ]
     },
     "metadata": {},
     "output_type": "display_data"
    }
   ],
   "source": [
    "heatmap = sns.heatmap(data=df_recall, vmin=0.0, vmax=1.0, cmap=plt.cm.Blues, annot=True, annot_kws={\"fontsize\":6.8}, fmt='.2f')\n",
    "heatmap.yaxis.set_ticklabels(heatmap.yaxis.get_ticklabels(), rotation=0, ha='right',fontsize=8)\n",
    "heatmap.xaxis.set_ticklabels(heatmap.xaxis.get_ticklabels(), rotation=45, ha='right',fontsize=8)\n",
    "plt.title('recall matrix')\n",
    "plt.ylabel('True label')\n",
    "plt.xlabel('Predicted label')"
   ]
  },
  {
   "cell_type": "markdown",
   "id": "b8cf8841",
   "metadata": {},
   "source": [
    "### Recall score (per class accuracy)"
   ]
  },
  {
   "cell_type": "code",
   "execution_count": 21,
   "id": "a047243d",
   "metadata": {},
   "outputs": [
    {
     "data": {
      "text/html": [
       "<div>\n",
       "<style scoped>\n",
       "    .dataframe tbody tr th:only-of-type {\n",
       "        vertical-align: middle;\n",
       "    }\n",
       "\n",
       "    .dataframe tbody tr th {\n",
       "        vertical-align: top;\n",
       "    }\n",
       "\n",
       "    .dataframe thead th {\n",
       "        text-align: right;\n",
       "    }\n",
       "</style>\n",
       "<table border=\"1\" class=\"dataframe\">\n",
       "  <thead>\n",
       "    <tr style=\"text-align: right;\">\n",
       "      <th></th>\n",
       "      <th>class</th>\n",
       "      <th>recall</th>\n",
       "    </tr>\n",
       "  </thead>\n",
       "  <tbody>\n",
       "    <tr>\n",
       "      <th>0</th>\n",
       "      <td>c1:Water</td>\n",
       "      <td>0.920</td>\n",
       "    </tr>\n",
       "    <tr>\n",
       "      <th>1</th>\n",
       "      <td>c2:Tree</td>\n",
       "      <td>0.972</td>\n",
       "    </tr>\n",
       "    <tr>\n",
       "      <th>2</th>\n",
       "      <td>c3:Flooded Vegetation</td>\n",
       "      <td>0.944</td>\n",
       "    </tr>\n",
       "    <tr>\n",
       "      <th>3</th>\n",
       "      <td>c4:Crops</td>\n",
       "      <td>0.538</td>\n",
       "    </tr>\n",
       "    <tr>\n",
       "      <th>4</th>\n",
       "      <td>c5:Bare Ground</td>\n",
       "      <td>0.009</td>\n",
       "    </tr>\n",
       "    <tr>\n",
       "      <th>5</th>\n",
       "      <td>c6:Rangeland</td>\n",
       "      <td>0.820</td>\n",
       "    </tr>\n",
       "    <tr>\n",
       "      <th>6</th>\n",
       "      <td>c7:Rural</td>\n",
       "      <td>0.490</td>\n",
       "    </tr>\n",
       "    <tr>\n",
       "      <th>7</th>\n",
       "      <td>c8:Urban</td>\n",
       "      <td>0.821</td>\n",
       "    </tr>\n",
       "  </tbody>\n",
       "</table>\n",
       "</div>"
      ],
      "text/plain": [
       "                   class  recall\n",
       "0               c1:Water   0.920\n",
       "1                c2:Tree   0.972\n",
       "2  c3:Flooded Vegetation   0.944\n",
       "3               c4:Crops   0.538\n",
       "4         c5:Bare Ground   0.009\n",
       "5           c6:Rangeland   0.820\n",
       "6               c7:Rural   0.490\n",
       "7               c8:Urban   0.821"
      ]
     },
     "execution_count": 21,
     "metadata": {},
     "output_type": "execute_result"
    }
   ],
   "source": [
    "class_names = df_recall.columns\n",
    "confmat_diag = df_recall.to_numpy().diagonal()\n",
    "per_class_acc = dict(zip(class_names, confmat_diag))\n",
    "recall_scores = pd.DataFrame(per_class_acc.items(), columns=['class', 'recall'])\n",
    "recall_scores.round(3)"
   ]
  },
  {
   "cell_type": "code",
   "execution_count": 22,
   "id": "f7fc4331",
   "metadata": {},
   "outputs": [
    {
     "data": {
      "text/plain": [
       "array([0.92025534, 0.97152538, 0.94381745, 0.537961  , 0.00944225,\n",
       "       0.8204526 , 0.49048461, 0.82125868])"
      ]
     },
     "execution_count": 22,
     "metadata": {},
     "output_type": "execute_result"
    }
   ],
   "source": [
    "confmat_diag"
   ]
  },
  {
   "cell_type": "markdown",
   "id": "e79ef319",
   "metadata": {},
   "source": [
    "# Precision"
   ]
  },
  {
   "cell_type": "markdown",
   "id": "1a2839ac",
   "metadata": {},
   "source": [
    "### DataFrame (precision)"
   ]
  },
  {
   "cell_type": "code",
   "execution_count": 23,
   "id": "2b947677",
   "metadata": {},
   "outputs": [
    {
     "data": {
      "text/html": [
       "<style type=\"text/css\">\n",
       "#T_958be_row0_col0, #T_958be_row1_col1, #T_958be_row2_col2, #T_958be_row3_col3, #T_958be_row4_col4, #T_958be_row5_col5, #T_958be_row6_col6, #T_958be_row7_col7 {\n",
       "  background-color: yellow;\n",
       "}\n",
       "</style>\n",
       "<table id=\"T_958be\">\n",
       "  <thead>\n",
       "    <tr>\n",
       "      <th class=\"blank level0\" >&nbsp;</th>\n",
       "      <th id=\"T_958be_level0_col0\" class=\"col_heading level0 col0\" >c1:Water</th>\n",
       "      <th id=\"T_958be_level0_col1\" class=\"col_heading level0 col1\" >c2:Tree</th>\n",
       "      <th id=\"T_958be_level0_col2\" class=\"col_heading level0 col2\" >c3:Flooded Vegetation</th>\n",
       "      <th id=\"T_958be_level0_col3\" class=\"col_heading level0 col3\" >c4:Crops</th>\n",
       "      <th id=\"T_958be_level0_col4\" class=\"col_heading level0 col4\" >c5:Bare Ground</th>\n",
       "      <th id=\"T_958be_level0_col5\" class=\"col_heading level0 col5\" >c6:Rangeland</th>\n",
       "      <th id=\"T_958be_level0_col6\" class=\"col_heading level0 col6\" >c7:Rural</th>\n",
       "      <th id=\"T_958be_level0_col7\" class=\"col_heading level0 col7\" >c8:Urban</th>\n",
       "    </tr>\n",
       "  </thead>\n",
       "  <tbody>\n",
       "    <tr>\n",
       "      <th id=\"T_958be_level0_row0\" class=\"row_heading level0 row0\" >c1:Water</th>\n",
       "      <td id=\"T_958be_row0_col0\" class=\"data row0 col0\" >0.911</td>\n",
       "      <td id=\"T_958be_row0_col1\" class=\"data row0 col1\" >0.000</td>\n",
       "      <td id=\"T_958be_row0_col2\" class=\"data row0 col2\" >0.048</td>\n",
       "      <td id=\"T_958be_row0_col3\" class=\"data row0 col3\" >0.000</td>\n",
       "      <td id=\"T_958be_row0_col4\" class=\"data row0 col4\" >0.298</td>\n",
       "      <td id=\"T_958be_row0_col5\" class=\"data row0 col5\" >0.000</td>\n",
       "      <td id=\"T_958be_row0_col6\" class=\"data row0 col6\" >0.004</td>\n",
       "      <td id=\"T_958be_row0_col7\" class=\"data row0 col7\" >0.003</td>\n",
       "    </tr>\n",
       "    <tr>\n",
       "      <th id=\"T_958be_level0_row1\" class=\"row_heading level0 row1\" >c2:Tree</th>\n",
       "      <td id=\"T_958be_row1_col0\" class=\"data row1 col0\" >0.082</td>\n",
       "      <td id=\"T_958be_row1_col1\" class=\"data row1 col1\" >0.995</td>\n",
       "      <td id=\"T_958be_row1_col2\" class=\"data row1 col2\" >0.684</td>\n",
       "      <td id=\"T_958be_row1_col3\" class=\"data row1 col3\" >0.061</td>\n",
       "      <td id=\"T_958be_row1_col4\" class=\"data row1 col4\" >0.054</td>\n",
       "      <td id=\"T_958be_row1_col5\" class=\"data row1 col5\" >0.091</td>\n",
       "      <td id=\"T_958be_row1_col6\" class=\"data row1 col6\" >0.555</td>\n",
       "      <td id=\"T_958be_row1_col7\" class=\"data row1 col7\" >0.129</td>\n",
       "    </tr>\n",
       "    <tr>\n",
       "      <th id=\"T_958be_level0_row2\" class=\"row_heading level0 row2\" >c3:Flooded Vegetation</th>\n",
       "      <td id=\"T_958be_row2_col0\" class=\"data row2 col0\" >0.002</td>\n",
       "      <td id=\"T_958be_row2_col1\" class=\"data row2 col1\" >0.000</td>\n",
       "      <td id=\"T_958be_row2_col2\" class=\"data row2 col2\" >0.138</td>\n",
       "      <td id=\"T_958be_row2_col3\" class=\"data row2 col3\" >0.001</td>\n",
       "      <td id=\"T_958be_row2_col4\" class=\"data row2 col4\" >0.000</td>\n",
       "      <td id=\"T_958be_row2_col5\" class=\"data row2 col5\" >0.001</td>\n",
       "      <td id=\"T_958be_row2_col6\" class=\"data row2 col6\" >0.002</td>\n",
       "      <td id=\"T_958be_row2_col7\" class=\"data row2 col7\" >0.001</td>\n",
       "    </tr>\n",
       "    <tr>\n",
       "      <th id=\"T_958be_level0_row3\" class=\"row_heading level0 row3\" >c4:Crops</th>\n",
       "      <td id=\"T_958be_row3_col0\" class=\"data row3 col0\" >0.000</td>\n",
       "      <td id=\"T_958be_row3_col1\" class=\"data row3 col1\" >0.000</td>\n",
       "      <td id=\"T_958be_row3_col2\" class=\"data row3 col2\" >0.002</td>\n",
       "      <td id=\"T_958be_row3_col3\" class=\"data row3 col3\" >0.144</td>\n",
       "      <td id=\"T_958be_row3_col4\" class=\"data row3 col4\" >0.008</td>\n",
       "      <td id=\"T_958be_row3_col5\" class=\"data row3 col5\" >0.006</td>\n",
       "      <td id=\"T_958be_row3_col6\" class=\"data row3 col6\" >0.023</td>\n",
       "      <td id=\"T_958be_row3_col7\" class=\"data row3 col7\" >0.014</td>\n",
       "    </tr>\n",
       "    <tr>\n",
       "      <th id=\"T_958be_level0_row4\" class=\"row_heading level0 row4\" >c5:Bare Ground</th>\n",
       "      <td id=\"T_958be_row4_col0\" class=\"data row4 col0\" >0.003</td>\n",
       "      <td id=\"T_958be_row4_col1\" class=\"data row4 col1\" >0.000</td>\n",
       "      <td id=\"T_958be_row4_col2\" class=\"data row4 col2\" >0.003</td>\n",
       "      <td id=\"T_958be_row4_col3\" class=\"data row4 col3\" >0.001</td>\n",
       "      <td id=\"T_958be_row4_col4\" class=\"data row4 col4\" >0.526</td>\n",
       "      <td id=\"T_958be_row4_col5\" class=\"data row4 col5\" >0.001</td>\n",
       "      <td id=\"T_958be_row4_col6\" class=\"data row4 col6\" >0.013</td>\n",
       "      <td id=\"T_958be_row4_col7\" class=\"data row4 col7\" >0.006</td>\n",
       "    </tr>\n",
       "    <tr>\n",
       "      <th id=\"T_958be_level0_row5\" class=\"row_heading level0 row5\" >c6:Rangeland</th>\n",
       "      <td id=\"T_958be_row5_col0\" class=\"data row5 col0\" >0.002</td>\n",
       "      <td id=\"T_958be_row5_col1\" class=\"data row5 col1\" >0.004</td>\n",
       "      <td id=\"T_958be_row5_col2\" class=\"data row5 col2\" >0.123</td>\n",
       "      <td id=\"T_958be_row5_col3\" class=\"data row5 col3\" >0.792</td>\n",
       "      <td id=\"T_958be_row5_col4\" class=\"data row5 col4\" >0.115</td>\n",
       "      <td id=\"T_958be_row5_col5\" class=\"data row5 col5\" >0.900</td>\n",
       "      <td id=\"T_958be_row5_col6\" class=\"data row5 col6\" >0.144</td>\n",
       "      <td id=\"T_958be_row5_col7\" class=\"data row5 col7\" >0.020</td>\n",
       "    </tr>\n",
       "    <tr>\n",
       "      <th id=\"T_958be_level0_row6\" class=\"row_heading level0 row6\" >c7:Rural</th>\n",
       "      <td id=\"T_958be_row6_col0\" class=\"data row6 col0\" >0.000</td>\n",
       "      <td id=\"T_958be_row6_col1\" class=\"data row6 col1\" >0.000</td>\n",
       "      <td id=\"T_958be_row6_col2\" class=\"data row6 col2\" >0.001</td>\n",
       "      <td id=\"T_958be_row6_col3\" class=\"data row6 col3\" >0.001</td>\n",
       "      <td id=\"T_958be_row6_col4\" class=\"data row6 col4\" >0.000</td>\n",
       "      <td id=\"T_958be_row6_col5\" class=\"data row6 col5\" >0.000</td>\n",
       "      <td id=\"T_958be_row6_col6\" class=\"data row6 col6\" >0.172</td>\n",
       "      <td id=\"T_958be_row6_col7\" class=\"data row6 col7\" >0.171</td>\n",
       "    </tr>\n",
       "    <tr>\n",
       "      <th id=\"T_958be_level0_row7\" class=\"row_heading level0 row7\" >c8:Urban</th>\n",
       "      <td id=\"T_958be_row7_col0\" class=\"data row7 col0\" >0.000</td>\n",
       "      <td id=\"T_958be_row7_col1\" class=\"data row7 col1\" >0.000</td>\n",
       "      <td id=\"T_958be_row7_col2\" class=\"data row7 col2\" >0.001</td>\n",
       "      <td id=\"T_958be_row7_col3\" class=\"data row7 col3\" >0.000</td>\n",
       "      <td id=\"T_958be_row7_col4\" class=\"data row7 col4\" >0.000</td>\n",
       "      <td id=\"T_958be_row7_col5\" class=\"data row7 col5\" >0.000</td>\n",
       "      <td id=\"T_958be_row7_col6\" class=\"data row7 col6\" >0.086</td>\n",
       "      <td id=\"T_958be_row7_col7\" class=\"data row7 col7\" >0.656</td>\n",
       "    </tr>\n",
       "  </tbody>\n",
       "</table>\n"
      ],
      "text/plain": [
       "<pandas.io.formats.style.Styler at 0x7ff78de363a0>"
      ]
     },
     "execution_count": 23,
     "metadata": {},
     "output_type": "execute_result"
    }
   ],
   "source": [
    "df_precision = df_raw_count.div(df_raw_count.sum(axis=0), axis=1)\n",
    "df_precision.style.apply(style_diag, axis=None).format(precision=3)"
   ]
  },
  {
   "cell_type": "markdown",
   "id": "531bbc97",
   "metadata": {},
   "source": [
    "### Seaborn Heatmap (Precision)"
   ]
  },
  {
   "cell_type": "code",
   "execution_count": 24,
   "id": "bda09f8c",
   "metadata": {},
   "outputs": [
    {
     "data": {
      "text/plain": [
       "Text(0.5, 23.52222222222222, 'Predicted label')"
      ]
     },
     "execution_count": 24,
     "metadata": {},
     "output_type": "execute_result"
    },
    {
     "data": {
      "image/png": "[encoded data removed]",
      "text/plain": [
       "<Figure size 640x480 with 2 Axes>"
      ]
     },
     "metadata": {},
     "output_type": "display_data"
    }
   ],
   "source": [
    "heatmap = sns.heatmap(data=df_precision, vmin=0.0, vmax=1.0, cmap=plt.cm.Blues, annot=True, annot_kws={\"fontsize\":6.8}, fmt='.2f')\n",
    "heatmap.yaxis.set_ticklabels(heatmap.yaxis.get_ticklabels(), rotation=0, ha='right',fontsize=8)\n",
    "heatmap.xaxis.set_ticklabels(heatmap.xaxis.get_ticklabels(), rotation=45, ha='right',fontsize=8)\n",
    "plt.title('precision matrix')\n",
    "plt.ylabel('True label')\n",
    "plt.xlabel('Predicted label')"
   ]
  },
  {
   "cell_type": "markdown",
   "id": "a9348788",
   "metadata": {},
   "source": [
    "### Precision score (prediction accuracy)"
   ]
  },
  {
   "cell_type": "code",
   "execution_count": 25,
   "id": "61b2e9bb",
   "metadata": {},
   "outputs": [
    {
     "data": {
      "text/html": [
       "<div>\n",
       "<style scoped>\n",
       "    .dataframe tbody tr th:only-of-type {\n",
       "        vertical-align: middle;\n",
       "    }\n",
       "\n",
       "    .dataframe tbody tr th {\n",
       "        vertical-align: top;\n",
       "    }\n",
       "\n",
       "    .dataframe thead th {\n",
       "        text-align: right;\n",
       "    }\n",
       "</style>\n",
       "<table border=\"1\" class=\"dataframe\">\n",
       "  <thead>\n",
       "    <tr style=\"text-align: right;\">\n",
       "      <th></th>\n",
       "      <th>class</th>\n",
       "      <th>precision</th>\n",
       "    </tr>\n",
       "  </thead>\n",
       "  <tbody>\n",
       "    <tr>\n",
       "      <th>0</th>\n",
       "      <td>c1:Water</td>\n",
       "      <td>0.911</td>\n",
       "    </tr>\n",
       "    <tr>\n",
       "      <th>1</th>\n",
       "      <td>c2:Tree</td>\n",
       "      <td>0.995</td>\n",
       "    </tr>\n",
       "    <tr>\n",
       "      <th>2</th>\n",
       "      <td>c3:Flooded Vegetation</td>\n",
       "      <td>0.138</td>\n",
       "    </tr>\n",
       "    <tr>\n",
       "      <th>3</th>\n",
       "      <td>c4:Crops</td>\n",
       "      <td>0.144</td>\n",
       "    </tr>\n",
       "    <tr>\n",
       "      <th>4</th>\n",
       "      <td>c5:Bare Ground</td>\n",
       "      <td>0.526</td>\n",
       "    </tr>\n",
       "    <tr>\n",
       "      <th>5</th>\n",
       "      <td>c6:Rangeland</td>\n",
       "      <td>0.900</td>\n",
       "    </tr>\n",
       "    <tr>\n",
       "      <th>6</th>\n",
       "      <td>c7:Rural</td>\n",
       "      <td>0.172</td>\n",
       "    </tr>\n",
       "    <tr>\n",
       "      <th>7</th>\n",
       "      <td>c8:Urban</td>\n",
       "      <td>0.656</td>\n",
       "    </tr>\n",
       "  </tbody>\n",
       "</table>\n",
       "</div>"
      ],
      "text/plain": [
       "                   class  precision\n",
       "0               c1:Water      0.911\n",
       "1                c2:Tree      0.995\n",
       "2  c3:Flooded Vegetation      0.138\n",
       "3               c4:Crops      0.144\n",
       "4         c5:Bare Ground      0.526\n",
       "5           c6:Rangeland      0.900\n",
       "6               c7:Rural      0.172\n",
       "7               c8:Urban      0.656"
      ]
     },
     "execution_count": 25,
     "metadata": {},
     "output_type": "execute_result"
    }
   ],
   "source": [
    "class_names = df_precision.columns\n",
    "confmat_diag = df_precision.to_numpy().diagonal()\n",
    "per_class_acc = dict(zip(class_names, confmat_diag))\n",
    "precision_scores = pd.DataFrame(per_class_acc.items(), columns=['class', 'precision'])\n",
    "precision_scores.round(3)"
   ]
  },
  {
   "cell_type": "code",
   "execution_count": 26,
   "id": "2f0551d5",
   "metadata": {},
   "outputs": [
    {
     "data": {
      "text/plain": [
       "array([0.91148844, 0.99506645, 0.13760376, 0.14393132, 0.52638831,\n",
       "       0.9000855 , 0.17248285, 0.6560015 ])"
      ]
     },
     "execution_count": 26,
     "metadata": {},
     "output_type": "execute_result"
    }
   ],
   "source": [
    "confmat_diag"
   ]
  },
  {
   "cell_type": "markdown",
   "id": "1d1513c3",
   "metadata": {},
   "source": [
    "# IoU"
   ]
  },
  {
   "cell_type": "code",
   "execution_count": 27,
   "id": "38d7f870",
   "metadata": {},
   "outputs": [
    {
     "data": {
      "text/html": [
       "<div>\n",
       "<style scoped>\n",
       "    .dataframe tbody tr th:only-of-type {\n",
       "        vertical-align: middle;\n",
       "    }\n",
       "\n",
       "    .dataframe tbody tr th {\n",
       "        vertical-align: top;\n",
       "    }\n",
       "\n",
       "    .dataframe thead th {\n",
       "        text-align: right;\n",
       "    }\n",
       "</style>\n",
       "<table border=\"1\" class=\"dataframe\">\n",
       "  <thead>\n",
       "    <tr style=\"text-align: right;\">\n",
       "      <th></th>\n",
       "      <th>class</th>\n",
       "      <th>IoU</th>\n",
       "    </tr>\n",
       "  </thead>\n",
       "  <tbody>\n",
       "    <tr>\n",
       "      <th>0</th>\n",
       "      <td>c1:Water</td>\n",
       "      <td>0.845</td>\n",
       "    </tr>\n",
       "    <tr>\n",
       "      <th>1</th>\n",
       "      <td>c2:Tree</td>\n",
       "      <td>0.967</td>\n",
       "    </tr>\n",
       "    <tr>\n",
       "      <th>2</th>\n",
       "      <td>c3:Flooded Vegetation</td>\n",
       "      <td>0.136</td>\n",
       "    </tr>\n",
       "    <tr>\n",
       "      <th>3</th>\n",
       "      <td>c4:Crops</td>\n",
       "      <td>0.128</td>\n",
       "    </tr>\n",
       "    <tr>\n",
       "      <th>4</th>\n",
       "      <td>c5:Bare Ground</td>\n",
       "      <td>0.009</td>\n",
       "    </tr>\n",
       "    <tr>\n",
       "      <th>5</th>\n",
       "      <td>c6:Rangeland</td>\n",
       "      <td>0.752</td>\n",
       "    </tr>\n",
       "    <tr>\n",
       "      <th>6</th>\n",
       "      <td>c7:Rural</td>\n",
       "      <td>0.146</td>\n",
       "    </tr>\n",
       "    <tr>\n",
       "      <th>7</th>\n",
       "      <td>c8:Urban</td>\n",
       "      <td>0.574</td>\n",
       "    </tr>\n",
       "  </tbody>\n",
       "</table>\n",
       "</div>"
      ],
      "text/plain": [
       "                   class    IoU\n",
       "0               c1:Water  0.845\n",
       "1                c2:Tree  0.967\n",
       "2  c3:Flooded Vegetation  0.136\n",
       "3               c4:Crops  0.128\n",
       "4         c5:Bare Ground  0.009\n",
       "5           c6:Rangeland  0.752\n",
       "6               c7:Rural  0.146\n",
       "7               c8:Urban  0.574"
      ]
     },
     "execution_count": 27,
     "metadata": {},
     "output_type": "execute_result"
    }
   ],
   "source": [
    "class_names = df_raw_count.columns\n",
    "raw_counts = df_raw_count.to_numpy()\n",
    "iou_class = {}\n",
    "\n",
    "# calculate IoU for each class\n",
    "for i in range(len(class_names)):\n",
    "    tp = raw_counts[i, i]\n",
    "    fp = raw_counts[:, i].sum() - tp\n",
    "    fn = raw_counts[i, :].sum() - tp\n",
    "    \n",
    "    nom = tp\n",
    "    denom = (tp + fp + fn)\n",
    "    \n",
    "    if denom != 0:\n",
    "        iou = nom / denom\n",
    "    else:\n",
    "        iou = np.NaN\n",
    "    iou_class[class_names[i]] = iou\n",
    "\n",
    "\n",
    "# output IoU as dataframe\n",
    "iou_scores = pd.DataFrame(iou_class.items(), columns=['class', 'IoU'])\n",
    "iou_scores.round(3)"
   ]
  },
  {
   "cell_type": "code",
   "execution_count": 28,
   "id": "9779de14",
   "metadata": {},
   "outputs": [
    {
     "data": {
      "text/plain": [
       "0.5082660095296195"
      ]
     },
     "execution_count": 28,
     "metadata": {},
     "output_type": "execute_result"
    }
   ],
   "source": [
    "# calculate mean IoU (not counting empty classes)\n",
    "iou_mean = np.nanmean(iou_scores['IoU'])\n",
    "(iou_mean*8) / 7"
   ]
  },
  {
   "cell_type": "markdown",
   "id": "758b13e8",
   "metadata": {},
   "source": [
    "# F1 Score (Dice coefficient)"
   ]
  },
  {
   "cell_type": "code",
   "execution_count": 29,
   "id": "a85cdfd7",
   "metadata": {},
   "outputs": [
    {
     "data": {
      "text/html": [
       "<div>\n",
       "<style scoped>\n",
       "    .dataframe tbody tr th:only-of-type {\n",
       "        vertical-align: middle;\n",
       "    }\n",
       "\n",
       "    .dataframe tbody tr th {\n",
       "        vertical-align: top;\n",
       "    }\n",
       "\n",
       "    .dataframe thead th {\n",
       "        text-align: right;\n",
       "    }\n",
       "</style>\n",
       "<table border=\"1\" class=\"dataframe\">\n",
       "  <thead>\n",
       "    <tr style=\"text-align: right;\">\n",
       "      <th></th>\n",
       "      <th>class</th>\n",
       "      <th>f1-score</th>\n",
       "    </tr>\n",
       "  </thead>\n",
       "  <tbody>\n",
       "    <tr>\n",
       "      <th>0</th>\n",
       "      <td>c1:Water</td>\n",
       "      <td>0.916</td>\n",
       "    </tr>\n",
       "    <tr>\n",
       "      <th>1</th>\n",
       "      <td>c2:Tree</td>\n",
       "      <td>0.983</td>\n",
       "    </tr>\n",
       "    <tr>\n",
       "      <th>2</th>\n",
       "      <td>c3:Flooded Vegetation</td>\n",
       "      <td>0.240</td>\n",
       "    </tr>\n",
       "    <tr>\n",
       "      <th>3</th>\n",
       "      <td>c4:Crops</td>\n",
       "      <td>0.227</td>\n",
       "    </tr>\n",
       "    <tr>\n",
       "      <th>4</th>\n",
       "      <td>c5:Bare Ground</td>\n",
       "      <td>0.019</td>\n",
       "    </tr>\n",
       "    <tr>\n",
       "      <th>5</th>\n",
       "      <td>c6:Rangeland</td>\n",
       "      <td>0.858</td>\n",
       "    </tr>\n",
       "    <tr>\n",
       "      <th>6</th>\n",
       "      <td>c7:Rural</td>\n",
       "      <td>0.255</td>\n",
       "    </tr>\n",
       "    <tr>\n",
       "      <th>7</th>\n",
       "      <td>c8:Urban</td>\n",
       "      <td>0.729</td>\n",
       "    </tr>\n",
       "  </tbody>\n",
       "</table>\n",
       "</div>"
      ],
      "text/plain": [
       "                   class  f1-score\n",
       "0               c1:Water     0.916\n",
       "1                c2:Tree     0.983\n",
       "2  c3:Flooded Vegetation     0.240\n",
       "3               c4:Crops     0.227\n",
       "4         c5:Bare Ground     0.019\n",
       "5           c6:Rangeland     0.858\n",
       "6               c7:Rural     0.255\n",
       "7               c8:Urban     0.729"
      ]
     },
     "execution_count": 29,
     "metadata": {},
     "output_type": "execute_result"
    }
   ],
   "source": [
    "class_names = df_raw_count.columns\n",
    "raw_counts = df_raw_count.to_numpy()\n",
    "f1_class = {}\n",
    "\n",
    "# calculate IoU for each class\n",
    "for i in range(len(class_names)):\n",
    "    tp = raw_counts[i, i]\n",
    "    fp = raw_counts[:, i].sum() - tp\n",
    "    fn = raw_counts[i, :].sum() - tp\n",
    "    \n",
    "    nom = tp\n",
    "    denom = tp + 0.5*(fp + fn)\n",
    "    \n",
    "    if denom != 0:\n",
    "        f1 = nom / denom\n",
    "    else:\n",
    "        f1 = np.NaN\n",
    "    f1_class[class_names[i]] = f1\n",
    "\n",
    "# output f1-score as dataframe\n",
    "f1_scores = pd.DataFrame(f1_class.items(), columns=['class', 'f1-score'])\n",
    "f1_scores.round(3)"
   ]
  },
  {
   "cell_type": "code",
   "execution_count": 30,
   "id": "0a0a6955",
   "metadata": {},
   "outputs": [
    {
     "data": {
      "text/plain": [
       "0.528484752243471"
      ]
     },
     "execution_count": 30,
     "metadata": {},
     "output_type": "execute_result"
    }
   ],
   "source": [
    "# calculate mean f1-score (not counting empty classes)\n",
    "f1_mean = np.nanmean(f1_scores['f1-score'])\n",
    "f1_mean"
   ]
  },
  {
   "cell_type": "code",
   "execution_count": null,
   "id": "def3161f",
   "metadata": {},
   "outputs": [],
   "source": []
  }
 ],
 "metadata": {
  "kernelspec": {
   "display_name": "Python 3 (ipykernel)",
   "language": "python",
   "name": "python3"
  },
  "language_info": {
   "codemirror_mode": {
    "name": "ipython",
    "version": 3
   },
   "file_extension": ".py",
   "mimetype": "text/x-python",
   "name": "python",
   "nbconvert_exporter": "python",
   "pygments_lexer": "ipython3",
   "version": "3.8.13"
  }
 },
 "nbformat": 4,
 "nbformat_minor": 5
}
