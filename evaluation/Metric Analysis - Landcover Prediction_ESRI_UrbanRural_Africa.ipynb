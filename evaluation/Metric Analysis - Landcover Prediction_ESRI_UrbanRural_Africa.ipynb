{
 "cells": [
  {
   "cell_type": "code",
   "execution_count": 7,
   "id": "9c4f42ed",
   "metadata": {},
   "outputs": [],
   "source": [
    "import pandas as pd\n",
    "import numpy as np\n",
    "import matplotlib\n",
    "import matplotlib.pyplot as plt\n",
    "import seaborn as sns"
   ]
  },
  {
   "cell_type": "code",
   "execution_count": 8,
   "id": "d7eb864e",
   "metadata": {},
   "outputs": [],
   "source": [
    "def style_diag(data):\n",
    "    '''author: CJR, https://stackoverflow.com/a/56916315'''\n",
    "    diag_mask = pd.DataFrame(\"\", index=data.index, columns=data.columns)\n",
    "    min_axis = min(diag_mask.shape)\n",
    "    diag_mask.iloc[range(min_axis), range(min_axis)] = 'background-color: yellow'\n",
    "    return diag_mask"
   ]
  },
  {
   "cell_type": "markdown",
   "id": "19fd49bb",
   "metadata": {},
   "source": [
    "# Metric Analysis: Landcover Prediction (Africa)"
   ]
  },
  {
   "cell_type": "markdown",
   "id": "1fed1584",
   "metadata": {},
   "source": [
    "## Single-Year Model Fold Average"
   ]
  },
  {
   "cell_type": "markdown",
   "id": "786e1a6a",
   "metadata": {},
   "source": [
    "### DataFrame (raw pixel count)"
   ]
  },
  {
   "cell_type": "code",
   "execution_count": 9,
   "id": "3bc46dd2",
   "metadata": {},
   "outputs": [
    {
     "data": {
      "text/html": [
       "<style type=\"text/css\">\n",
       "#T_6df23_row0_col0, #T_6df23_row1_col1, #T_6df23_row2_col2, #T_6df23_row3_col3, #T_6df23_row4_col4, #T_6df23_row5_col5, #T_6df23_row6_col6, #T_6df23_row7_col7 {\n",
       "  background-color: yellow;\n",
       "}\n",
       "</style>\n",
       "<table id=\"T_6df23\">\n",
       "  <thead>\n",
       "    <tr>\n",
       "      <th class=\"blank level0\" >&nbsp;</th>\n",
       "      <th id=\"T_6df23_level0_col0\" class=\"col_heading level0 col0\" >c1:Water</th>\n",
       "      <th id=\"T_6df23_level0_col1\" class=\"col_heading level0 col1\" >c2:Tree</th>\n",
       "      <th id=\"T_6df23_level0_col2\" class=\"col_heading level0 col2\" >c3:Flooded Vegetation</th>\n",
       "      <th id=\"T_6df23_level0_col3\" class=\"col_heading level0 col3\" >c4:Crops</th>\n",
       "      <th id=\"T_6df23_level0_col4\" class=\"col_heading level0 col4\" >c5:Bare Ground</th>\n",
       "      <th id=\"T_6df23_level0_col5\" class=\"col_heading level0 col5\" >c6:Rangeland</th>\n",
       "      <th id=\"T_6df23_level0_col6\" class=\"col_heading level0 col6\" >c7:Rural</th>\n",
       "      <th id=\"T_6df23_level0_col7\" class=\"col_heading level0 col7\" >c8:Urban</th>\n",
       "    </tr>\n",
       "  </thead>\n",
       "  <tbody>\n",
       "    <tr>\n",
       "      <th id=\"T_6df23_level0_row0\" class=\"row_heading level0 row0\" >c1:Water</th>\n",
       "      <td id=\"T_6df23_row0_col0\" class=\"data row0 col0\" >3550159259</td>\n",
       "      <td id=\"T_6df23_row0_col1\" class=\"data row0 col1\" >3862636</td>\n",
       "      <td id=\"T_6df23_row0_col2\" class=\"data row0 col2\" >80985725</td>\n",
       "      <td id=\"T_6df23_row0_col3\" class=\"data row0 col3\" >3802510</td>\n",
       "      <td id=\"T_6df23_row0_col4\" class=\"data row0 col4\" >5261505</td>\n",
       "      <td id=\"T_6df23_row0_col5\" class=\"data row0 col5\" >4389892</td>\n",
       "      <td id=\"T_6df23_row0_col6\" class=\"data row0 col6\" >2287569</td>\n",
       "      <td id=\"T_6df23_row0_col7\" class=\"data row0 col7\" >1560881</td>\n",
       "    </tr>\n",
       "    <tr>\n",
       "      <th id=\"T_6df23_level0_row1\" class=\"row_heading level0 row1\" >c2:Tree</th>\n",
       "      <td id=\"T_6df23_row1_col0\" class=\"data row1 col0\" >101290603</td>\n",
       "      <td id=\"T_6df23_row1_col1\" class=\"data row1 col1\" >73084285846</td>\n",
       "      <td id=\"T_6df23_row1_col2\" class=\"data row1 col2\" >667511637</td>\n",
       "      <td id=\"T_6df23_row1_col3\" class=\"data row1 col3\" >514371814</td>\n",
       "      <td id=\"T_6df23_row1_col4\" class=\"data row1 col4\" >1659014</td>\n",
       "      <td id=\"T_6df23_row1_col5\" class=\"data row1 col5\" >4841640873</td>\n",
       "      <td id=\"T_6df23_row1_col6\" class=\"data row1 col6\" >295586013</td>\n",
       "      <td id=\"T_6df23_row1_col7\" class=\"data row1 col7\" >83905098</td>\n",
       "    </tr>\n",
       "    <tr>\n",
       "      <th id=\"T_6df23_level0_row2\" class=\"row_heading level0 row2\" >c3:Flooded Vegetation</th>\n",
       "      <td id=\"T_6df23_row2_col0\" class=\"data row2 col0\" >23870099</td>\n",
       "      <td id=\"T_6df23_row2_col1\" class=\"data row2 col1\" >19946440</td>\n",
       "      <td id=\"T_6df23_row2_col2\" class=\"data row2 col2\" >768263511</td>\n",
       "      <td id=\"T_6df23_row2_col3\" class=\"data row2 col3\" >7437519</td>\n",
       "      <td id=\"T_6df23_row2_col4\" class=\"data row2 col4\" >1125390</td>\n",
       "      <td id=\"T_6df23_row2_col5\" class=\"data row2 col5\" >16305199</td>\n",
       "      <td id=\"T_6df23_row2_col6\" class=\"data row2 col6\" >2896593</td>\n",
       "      <td id=\"T_6df23_row2_col7\" class=\"data row2 col7\" >661070</td>\n",
       "    </tr>\n",
       "    <tr>\n",
       "      <th id=\"T_6df23_level0_row3\" class=\"row_heading level0 row3\" >c4:Crops</th>\n",
       "      <td id=\"T_6df23_row3_col0\" class=\"data row3 col0\" >25190814</td>\n",
       "      <td id=\"T_6df23_row3_col1\" class=\"data row3 col1\" >210006190</td>\n",
       "      <td id=\"T_6df23_row3_col2\" class=\"data row3 col2\" >161440114</td>\n",
       "      <td id=\"T_6df23_row3_col3\" class=\"data row3 col3\" >9810997594</td>\n",
       "      <td id=\"T_6df23_row3_col4\" class=\"data row3 col4\" >37496415</td>\n",
       "      <td id=\"T_6df23_row3_col5\" class=\"data row3 col5\" >1298092176</td>\n",
       "      <td id=\"T_6df23_row3_col6\" class=\"data row3 col6\" >505042847</td>\n",
       "      <td id=\"T_6df23_row3_col7\" class=\"data row3 col7\" >199332649</td>\n",
       "    </tr>\n",
       "    <tr>\n",
       "      <th id=\"T_6df23_level0_row4\" class=\"row_heading level0 row4\" >c5:Bare Ground</th>\n",
       "      <td id=\"T_6df23_row4_col0\" class=\"data row4 col0\" >255415693</td>\n",
       "      <td id=\"T_6df23_row4_col1\" class=\"data row4 col1\" >7912436</td>\n",
       "      <td id=\"T_6df23_row4_col2\" class=\"data row4 col2\" >61416232</td>\n",
       "      <td id=\"T_6df23_row4_col3\" class=\"data row4 col3\" >142352669</td>\n",
       "      <td id=\"T_6df23_row4_col4\" class=\"data row4 col4\" >69381801638</td>\n",
       "      <td id=\"T_6df23_row4_col5\" class=\"data row4 col5\" >4254219489</td>\n",
       "      <td id=\"T_6df23_row4_col6\" class=\"data row4 col6\" >122147184</td>\n",
       "      <td id=\"T_6df23_row4_col7\" class=\"data row4 col7\" >25480217</td>\n",
       "    </tr>\n",
       "    <tr>\n",
       "      <th id=\"T_6df23_level0_row5\" class=\"row_heading level0 row5\" >c6:Rangeland</th>\n",
       "      <td id=\"T_6df23_row5_col0\" class=\"data row5 col0\" >208618556</td>\n",
       "      <td id=\"T_6df23_row5_col1\" class=\"data row5 col1\" >14203621079</td>\n",
       "      <td id=\"T_6df23_row5_col2\" class=\"data row5 col2\" >1633248410</td>\n",
       "      <td id=\"T_6df23_row5_col3\" class=\"data row5 col3\" >8827164524</td>\n",
       "      <td id=\"T_6df23_row5_col4\" class=\"data row5 col4\" >6810697046</td>\n",
       "      <td id=\"T_6df23_row5_col5\" class=\"data row5 col5\" >113591842293</td>\n",
       "      <td id=\"T_6df23_row5_col6\" class=\"data row5 col6\" >1669283948</td>\n",
       "      <td id=\"T_6df23_row5_col7\" class=\"data row5 col7\" >288243217</td>\n",
       "    </tr>\n",
       "    <tr>\n",
       "      <th id=\"T_6df23_level0_row6\" class=\"row_heading level0 row6\" >c7:Rural</th>\n",
       "      <td id=\"T_6df23_row6_col0\" class=\"data row6 col0\" >1548827</td>\n",
       "      <td id=\"T_6df23_row6_col1\" class=\"data row6 col1\" >7878526</td>\n",
       "      <td id=\"T_6df23_row6_col2\" class=\"data row6 col2\" >3137337</td>\n",
       "      <td id=\"T_6df23_row6_col3\" class=\"data row6 col3\" >56283057</td>\n",
       "      <td id=\"T_6df23_row6_col4\" class=\"data row6 col4\" >2425776</td>\n",
       "      <td id=\"T_6df23_row6_col5\" class=\"data row6 col5\" >31507685</td>\n",
       "      <td id=\"T_6df23_row6_col6\" class=\"data row6 col6\" >628507527</td>\n",
       "      <td id=\"T_6df23_row6_col7\" class=\"data row6 col7\" >233813803</td>\n",
       "    </tr>\n",
       "    <tr>\n",
       "      <th id=\"T_6df23_level0_row7\" class=\"row_heading level0 row7\" >c8:Urban</th>\n",
       "      <td id=\"T_6df23_row7_col0\" class=\"data row7 col0\" >1344092</td>\n",
       "      <td id=\"T_6df23_row7_col1\" class=\"data row7 col1\" >5545500</td>\n",
       "      <td id=\"T_6df23_row7_col2\" class=\"data row7 col2\" >2617387</td>\n",
       "      <td id=\"T_6df23_row7_col3\" class=\"data row7 col3\" >34337695</td>\n",
       "      <td id=\"T_6df23_row7_col4\" class=\"data row7 col4\" >556379</td>\n",
       "      <td id=\"T_6df23_row7_col5\" class=\"data row7 col5\" >7287698</td>\n",
       "      <td id=\"T_6df23_row7_col6\" class=\"data row7 col6\" >297812729</td>\n",
       "      <td id=\"T_6df23_row7_col7\" class=\"data row7 col7\" >1280529162</td>\n",
       "    </tr>\n",
       "  </tbody>\n",
       "</table>\n"
      ],
      "text/plain": [
       "<pandas.io.formats.style.Styler at 0x7f0e98a69670>"
      ]
     },
     "execution_count": 9,
     "metadata": {},
     "output_type": "execute_result"
    }
   ],
   "source": [
    "folds = ['12345', '23451', '34512', '45123', '51234']\n",
    "\n",
    "df_raw_count_africa = pd.read_csv(f'/mimer/NOBACKUP/groups/globalpoverty1/albin_and_albin/raw_count_confusion_matrices/single_year_model/confusion_matrix_esri_urban_rural_{folds[0]}.csv', index_col=0)\n",
    "for i in range(1, 5):\n",
    "    dfi = pd.read_csv(f'/mimer/NOBACKUP/groups/globalpoverty1/albin_and_albin/raw_count_confusion_matrices/single_year_model/confusion_matrix_esri_urban_rural_{folds[i]}.csv', index_col=0)\n",
    "    df_raw_count_africa = df_raw_count_africa.add(dfi, fill_value=0)\n",
    "\n",
    "df_raw_count_africa = df_raw_count_africa.astype('int64')\n",
    "df_raw_count_africa.style.apply(style_diag, axis=None).format(precision=3)"
   ]
  },
  {
   "cell_type": "code",
   "execution_count": 10,
   "id": "e52474af",
   "metadata": {},
   "outputs": [
    {
     "data": {
      "text/plain": [
       "c1:Water                   3652309977\n",
       "c2:Tree                   79590250898\n",
       "c3:Flooded Vegetation       840505821\n",
       "c4:Crops                  12247598799\n",
       "c5:Bare Ground            74250745558\n",
       "c6:Rangeland             147232719073\n",
       "c7:Rural                    965102538\n",
       "c8:Urban                   1630030642\n",
       "dtype: int64"
      ]
     },
     "execution_count": 10,
     "metadata": {},
     "output_type": "execute_result"
    }
   ],
   "source": [
    "df_raw_count_africa.sum(axis=1)"
   ]
  },
  {
   "cell_type": "code",
   "execution_count": 11,
   "id": "fefafcbb",
   "metadata": {},
   "outputs": [
    {
     "data": {
      "text/plain": [
       "c1:Water                 0.011399\n",
       "c2:Tree                  0.248402\n",
       "c3:Flooded Vegetation    0.002623\n",
       "c4:Crops                 0.038225\n",
       "c5:Bare Ground           0.231737\n",
       "c6:Rangeland             0.459515\n",
       "c7:Rural                 0.003012\n",
       "c8:Urban                 0.005087\n",
       "dtype: float64"
      ]
     },
     "execution_count": 11,
     "metadata": {},
     "output_type": "execute_result"
    }
   ],
   "source": [
    "df_new = df_raw_count_africa.sum(axis=1)\n",
    "df_new = df_new.div(df_new.sum(axis=0), axis=0)\n",
    "df_new"
   ]
  },
  {
   "cell_type": "markdown",
   "id": "d9e70c40",
   "metadata": {},
   "source": [
    "# Accuracy"
   ]
  },
  {
   "cell_type": "code",
   "execution_count": 12,
   "id": "39f76d14",
   "metadata": {},
   "outputs": [
    {
     "name": "stdout",
     "output_type": "stream",
     "text": [
      "accuracy: 0.8492151070243564\n"
     ]
    }
   ],
   "source": [
    "tp = df_raw_count_africa.to_numpy().diagonal().sum()\n",
    "num_pixels = df_raw_count_africa.to_numpy().sum()\n",
    "print(f'accuracy: {tp / num_pixels}')"
   ]
  },
  {
   "cell_type": "markdown",
   "id": "c1fa5320",
   "metadata": {},
   "source": [
    "# Recall"
   ]
  },
  {
   "cell_type": "markdown",
   "id": "37106cce",
   "metadata": {},
   "source": [
    "### DataFrame (recall)"
   ]
  },
  {
   "cell_type": "code",
   "execution_count": 13,
   "id": "51ffb2c0",
   "metadata": {},
   "outputs": [
    {
     "data": {
      "text/html": [
       "<style type=\"text/css\">\n",
       "#T_f81ac_row0_col0, #T_f81ac_row1_col1, #T_f81ac_row2_col2, #T_f81ac_row3_col3, #T_f81ac_row4_col4, #T_f81ac_row5_col5, #T_f81ac_row6_col6, #T_f81ac_row7_col7 {\n",
       "  background-color: yellow;\n",
       "}\n",
       "</style>\n",
       "<table id=\"T_f81ac\">\n",
       "  <thead>\n",
       "    <tr>\n",
       "      <th class=\"blank level0\" >&nbsp;</th>\n",
       "      <th id=\"T_f81ac_level0_col0\" class=\"col_heading level0 col0\" >c1:Water</th>\n",
       "      <th id=\"T_f81ac_level0_col1\" class=\"col_heading level0 col1\" >c2:Tree</th>\n",
       "      <th id=\"T_f81ac_level0_col2\" class=\"col_heading level0 col2\" >c3:Flooded Vegetation</th>\n",
       "      <th id=\"T_f81ac_level0_col3\" class=\"col_heading level0 col3\" >c4:Crops</th>\n",
       "      <th id=\"T_f81ac_level0_col4\" class=\"col_heading level0 col4\" >c5:Bare Ground</th>\n",
       "      <th id=\"T_f81ac_level0_col5\" class=\"col_heading level0 col5\" >c6:Rangeland</th>\n",
       "      <th id=\"T_f81ac_level0_col6\" class=\"col_heading level0 col6\" >c7:Rural</th>\n",
       "      <th id=\"T_f81ac_level0_col7\" class=\"col_heading level0 col7\" >c8:Urban</th>\n",
       "    </tr>\n",
       "  </thead>\n",
       "  <tbody>\n",
       "    <tr>\n",
       "      <th id=\"T_f81ac_level0_row0\" class=\"row_heading level0 row0\" >c1:Water</th>\n",
       "      <td id=\"T_f81ac_row0_col0\" class=\"data row0 col0\" >0.972</td>\n",
       "      <td id=\"T_f81ac_row0_col1\" class=\"data row0 col1\" >0.001</td>\n",
       "      <td id=\"T_f81ac_row0_col2\" class=\"data row0 col2\" >0.022</td>\n",
       "      <td id=\"T_f81ac_row0_col3\" class=\"data row0 col3\" >0.001</td>\n",
       "      <td id=\"T_f81ac_row0_col4\" class=\"data row0 col4\" >0.001</td>\n",
       "      <td id=\"T_f81ac_row0_col5\" class=\"data row0 col5\" >0.001</td>\n",
       "      <td id=\"T_f81ac_row0_col6\" class=\"data row0 col6\" >0.001</td>\n",
       "      <td id=\"T_f81ac_row0_col7\" class=\"data row0 col7\" >0.000</td>\n",
       "    </tr>\n",
       "    <tr>\n",
       "      <th id=\"T_f81ac_level0_row1\" class=\"row_heading level0 row1\" >c2:Tree</th>\n",
       "      <td id=\"T_f81ac_row1_col0\" class=\"data row1 col0\" >0.001</td>\n",
       "      <td id=\"T_f81ac_row1_col1\" class=\"data row1 col1\" >0.918</td>\n",
       "      <td id=\"T_f81ac_row1_col2\" class=\"data row1 col2\" >0.008</td>\n",
       "      <td id=\"T_f81ac_row1_col3\" class=\"data row1 col3\" >0.006</td>\n",
       "      <td id=\"T_f81ac_row1_col4\" class=\"data row1 col4\" >0.000</td>\n",
       "      <td id=\"T_f81ac_row1_col5\" class=\"data row1 col5\" >0.061</td>\n",
       "      <td id=\"T_f81ac_row1_col6\" class=\"data row1 col6\" >0.004</td>\n",
       "      <td id=\"T_f81ac_row1_col7\" class=\"data row1 col7\" >0.001</td>\n",
       "    </tr>\n",
       "    <tr>\n",
       "      <th id=\"T_f81ac_level0_row2\" class=\"row_heading level0 row2\" >c3:Flooded Vegetation</th>\n",
       "      <td id=\"T_f81ac_row2_col0\" class=\"data row2 col0\" >0.028</td>\n",
       "      <td id=\"T_f81ac_row2_col1\" class=\"data row2 col1\" >0.024</td>\n",
       "      <td id=\"T_f81ac_row2_col2\" class=\"data row2 col2\" >0.914</td>\n",
       "      <td id=\"T_f81ac_row2_col3\" class=\"data row2 col3\" >0.009</td>\n",
       "      <td id=\"T_f81ac_row2_col4\" class=\"data row2 col4\" >0.001</td>\n",
       "      <td id=\"T_f81ac_row2_col5\" class=\"data row2 col5\" >0.019</td>\n",
       "      <td id=\"T_f81ac_row2_col6\" class=\"data row2 col6\" >0.003</td>\n",
       "      <td id=\"T_f81ac_row2_col7\" class=\"data row2 col7\" >0.001</td>\n",
       "    </tr>\n",
       "    <tr>\n",
       "      <th id=\"T_f81ac_level0_row3\" class=\"row_heading level0 row3\" >c4:Crops</th>\n",
       "      <td id=\"T_f81ac_row3_col0\" class=\"data row3 col0\" >0.002</td>\n",
       "      <td id=\"T_f81ac_row3_col1\" class=\"data row3 col1\" >0.017</td>\n",
       "      <td id=\"T_f81ac_row3_col2\" class=\"data row3 col2\" >0.013</td>\n",
       "      <td id=\"T_f81ac_row3_col3\" class=\"data row3 col3\" >0.801</td>\n",
       "      <td id=\"T_f81ac_row3_col4\" class=\"data row3 col4\" >0.003</td>\n",
       "      <td id=\"T_f81ac_row3_col5\" class=\"data row3 col5\" >0.106</td>\n",
       "      <td id=\"T_f81ac_row3_col6\" class=\"data row3 col6\" >0.041</td>\n",
       "      <td id=\"T_f81ac_row3_col7\" class=\"data row3 col7\" >0.016</td>\n",
       "    </tr>\n",
       "    <tr>\n",
       "      <th id=\"T_f81ac_level0_row4\" class=\"row_heading level0 row4\" >c5:Bare Ground</th>\n",
       "      <td id=\"T_f81ac_row4_col0\" class=\"data row4 col0\" >0.003</td>\n",
       "      <td id=\"T_f81ac_row4_col1\" class=\"data row4 col1\" >0.000</td>\n",
       "      <td id=\"T_f81ac_row4_col2\" class=\"data row4 col2\" >0.001</td>\n",
       "      <td id=\"T_f81ac_row4_col3\" class=\"data row4 col3\" >0.002</td>\n",
       "      <td id=\"T_f81ac_row4_col4\" class=\"data row4 col4\" >0.934</td>\n",
       "      <td id=\"T_f81ac_row4_col5\" class=\"data row4 col5\" >0.057</td>\n",
       "      <td id=\"T_f81ac_row4_col6\" class=\"data row4 col6\" >0.002</td>\n",
       "      <td id=\"T_f81ac_row4_col7\" class=\"data row4 col7\" >0.000</td>\n",
       "    </tr>\n",
       "    <tr>\n",
       "      <th id=\"T_f81ac_level0_row5\" class=\"row_heading level0 row5\" >c6:Rangeland</th>\n",
       "      <td id=\"T_f81ac_row5_col0\" class=\"data row5 col0\" >0.001</td>\n",
       "      <td id=\"T_f81ac_row5_col1\" class=\"data row5 col1\" >0.096</td>\n",
       "      <td id=\"T_f81ac_row5_col2\" class=\"data row5 col2\" >0.011</td>\n",
       "      <td id=\"T_f81ac_row5_col3\" class=\"data row5 col3\" >0.060</td>\n",
       "      <td id=\"T_f81ac_row5_col4\" class=\"data row5 col4\" >0.046</td>\n",
       "      <td id=\"T_f81ac_row5_col5\" class=\"data row5 col5\" >0.772</td>\n",
       "      <td id=\"T_f81ac_row5_col6\" class=\"data row5 col6\" >0.011</td>\n",
       "      <td id=\"T_f81ac_row5_col7\" class=\"data row5 col7\" >0.002</td>\n",
       "    </tr>\n",
       "    <tr>\n",
       "      <th id=\"T_f81ac_level0_row6\" class=\"row_heading level0 row6\" >c7:Rural</th>\n",
       "      <td id=\"T_f81ac_row6_col0\" class=\"data row6 col0\" >0.002</td>\n",
       "      <td id=\"T_f81ac_row6_col1\" class=\"data row6 col1\" >0.008</td>\n",
       "      <td id=\"T_f81ac_row6_col2\" class=\"data row6 col2\" >0.003</td>\n",
       "      <td id=\"T_f81ac_row6_col3\" class=\"data row6 col3\" >0.058</td>\n",
       "      <td id=\"T_f81ac_row6_col4\" class=\"data row6 col4\" >0.003</td>\n",
       "      <td id=\"T_f81ac_row6_col5\" class=\"data row6 col5\" >0.033</td>\n",
       "      <td id=\"T_f81ac_row6_col6\" class=\"data row6 col6\" >0.651</td>\n",
       "      <td id=\"T_f81ac_row6_col7\" class=\"data row6 col7\" >0.242</td>\n",
       "    </tr>\n",
       "    <tr>\n",
       "      <th id=\"T_f81ac_level0_row7\" class=\"row_heading level0 row7\" >c8:Urban</th>\n",
       "      <td id=\"T_f81ac_row7_col0\" class=\"data row7 col0\" >0.001</td>\n",
       "      <td id=\"T_f81ac_row7_col1\" class=\"data row7 col1\" >0.003</td>\n",
       "      <td id=\"T_f81ac_row7_col2\" class=\"data row7 col2\" >0.002</td>\n",
       "      <td id=\"T_f81ac_row7_col3\" class=\"data row7 col3\" >0.021</td>\n",
       "      <td id=\"T_f81ac_row7_col4\" class=\"data row7 col4\" >0.000</td>\n",
       "      <td id=\"T_f81ac_row7_col5\" class=\"data row7 col5\" >0.004</td>\n",
       "      <td id=\"T_f81ac_row7_col6\" class=\"data row7 col6\" >0.183</td>\n",
       "      <td id=\"T_f81ac_row7_col7\" class=\"data row7 col7\" >0.786</td>\n",
       "    </tr>\n",
       "  </tbody>\n",
       "</table>\n"
      ],
      "text/plain": [
       "<pandas.io.formats.style.Styler at 0x7f0e988a7790>"
      ]
     },
     "execution_count": 13,
     "metadata": {},
     "output_type": "execute_result"
    }
   ],
   "source": [
    "df_recall = df_raw_count_africa.div(df_raw_count_africa.sum(axis=1), axis=0)\n",
    "df_recall.style.apply(style_diag, axis=None).format(precision=3)"
   ]
  },
  {
   "cell_type": "markdown",
   "id": "52015712",
   "metadata": {},
   "source": [
    "### Seaborn Heatmap (Recall)"
   ]
  },
  {
   "cell_type": "code",
   "execution_count": 14,
   "id": "886b110f",
   "metadata": {},
   "outputs": [
    {
     "data": {
      "text/plain": [
       "Text(0.5, 23.52222222222222, 'Predicted label')"
      ]
     },
     "execution_count": 14,
     "metadata": {},
     "output_type": "execute_result"
    },
    {
     "data": {
      "image/png": "[encoded data removed]",
      "text/plain": [
       "<Figure size 640x480 with 2 Axes>"
      ]
     },
     "metadata": {},
     "output_type": "display_data"
    }
   ],
   "source": [
    "heatmap = sns.heatmap(data=df_recall, vmin=0.0, vmax=1.0, cmap=plt.cm.Blues, annot=True, annot_kws={\"fontsize\":6.8}, fmt='.2f')\n",
    "heatmap.yaxis.set_ticklabels(heatmap.yaxis.get_ticklabels(), rotation=0, ha='right',fontsize=8)\n",
    "heatmap.xaxis.set_ticklabels(heatmap.xaxis.get_ticklabels(), rotation=45, ha='right',fontsize=8)\n",
    "plt.title('recall matrix')\n",
    "plt.ylabel('True label')\n",
    "plt.xlabel('Predicted label')"
   ]
  },
  {
   "cell_type": "markdown",
   "id": "b8cf8841",
   "metadata": {},
   "source": [
    "### Recall score (per class accuracy)"
   ]
  },
  {
   "cell_type": "code",
   "execution_count": 15,
   "id": "a047243d",
   "metadata": {},
   "outputs": [
    {
     "name": "stdout",
     "output_type": "stream",
     "text": [
      "                class  recall\n",
      "             c1:Water   0.972\n",
      "              c2:Tree   0.918\n",
      "c3:Flooded Vegetation   0.914\n",
      "             c4:Crops   0.801\n",
      "       c5:Bare Ground   0.934\n",
      "         c6:Rangeland   0.772\n",
      "             c7:Rural   0.651\n",
      "             c8:Urban   0.786\n"
     ]
    }
   ],
   "source": [
    "class_names = df_recall.columns\n",
    "confmat_diag = df_recall.to_numpy().diagonal()\n",
    "per_class_acc = dict(zip(class_names, confmat_diag))\n",
    "recall_scores = pd.DataFrame(per_class_acc.items(), columns=['class', 'recall'])\n",
    "recall_scores = recall_scores.round(3)\n",
    "print(recall_scores.to_string(index=False))"
   ]
  },
  {
   "cell_type": "code",
   "execution_count": 16,
   "id": "f7fc4331",
   "metadata": {},
   "outputs": [
    {
     "data": {
      "text/plain": [
       "array([0.9720312 , 0.91825676, 0.91404901, 0.80105478, 0.93442566,\n",
       "       0.77151222, 0.65123394, 0.78558594])"
      ]
     },
     "execution_count": 16,
     "metadata": {},
     "output_type": "execute_result"
    }
   ],
   "source": [
    "confmat_diag"
   ]
  },
  {
   "cell_type": "markdown",
   "id": "e79ef319",
   "metadata": {},
   "source": [
    "# Precision"
   ]
  },
  {
   "cell_type": "markdown",
   "id": "1a2839ac",
   "metadata": {},
   "source": [
    "### DataFrame (precision)"
   ]
  },
  {
   "cell_type": "code",
   "execution_count": 17,
   "id": "2b947677",
   "metadata": {},
   "outputs": [
    {
     "data": {
      "text/html": [
       "<style type=\"text/css\">\n",
       "#T_92084_row0_col0, #T_92084_row1_col1, #T_92084_row2_col2, #T_92084_row3_col3, #T_92084_row4_col4, #T_92084_row5_col5, #T_92084_row6_col6, #T_92084_row7_col7 {\n",
       "  background-color: yellow;\n",
       "}\n",
       "</style>\n",
       "<table id=\"T_92084\">\n",
       "  <thead>\n",
       "    <tr>\n",
       "      <th class=\"blank level0\" >&nbsp;</th>\n",
       "      <th id=\"T_92084_level0_col0\" class=\"col_heading level0 col0\" >c1:Water</th>\n",
       "      <th id=\"T_92084_level0_col1\" class=\"col_heading level0 col1\" >c2:Tree</th>\n",
       "      <th id=\"T_92084_level0_col2\" class=\"col_heading level0 col2\" >c3:Flooded Vegetation</th>\n",
       "      <th id=\"T_92084_level0_col3\" class=\"col_heading level0 col3\" >c4:Crops</th>\n",
       "      <th id=\"T_92084_level0_col4\" class=\"col_heading level0 col4\" >c5:Bare Ground</th>\n",
       "      <th id=\"T_92084_level0_col5\" class=\"col_heading level0 col5\" >c6:Rangeland</th>\n",
       "      <th id=\"T_92084_level0_col6\" class=\"col_heading level0 col6\" >c7:Rural</th>\n",
       "      <th id=\"T_92084_level0_col7\" class=\"col_heading level0 col7\" >c8:Urban</th>\n",
       "    </tr>\n",
       "  </thead>\n",
       "  <tbody>\n",
       "    <tr>\n",
       "      <th id=\"T_92084_level0_row0\" class=\"row_heading level0 row0\" >c1:Water</th>\n",
       "      <td id=\"T_92084_row0_col0\" class=\"data row0 col0\" >0.852</td>\n",
       "      <td id=\"T_92084_row0_col1\" class=\"data row0 col1\" >0.000</td>\n",
       "      <td id=\"T_92084_row0_col2\" class=\"data row0 col2\" >0.024</td>\n",
       "      <td id=\"T_92084_row0_col3\" class=\"data row0 col3\" >0.000</td>\n",
       "      <td id=\"T_92084_row0_col4\" class=\"data row0 col4\" >0.000</td>\n",
       "      <td id=\"T_92084_row0_col5\" class=\"data row0 col5\" >0.000</td>\n",
       "      <td id=\"T_92084_row0_col6\" class=\"data row0 col6\" >0.001</td>\n",
       "      <td id=\"T_92084_row0_col7\" class=\"data row0 col7\" >0.001</td>\n",
       "    </tr>\n",
       "    <tr>\n",
       "      <th id=\"T_92084_level0_row1\" class=\"row_heading level0 row1\" >c2:Tree</th>\n",
       "      <td id=\"T_92084_row1_col0\" class=\"data row1 col0\" >0.024</td>\n",
       "      <td id=\"T_92084_row1_col1\" class=\"data row1 col1\" >0.835</td>\n",
       "      <td id=\"T_92084_row1_col2\" class=\"data row1 col2\" >0.198</td>\n",
       "      <td id=\"T_92084_row1_col3\" class=\"data row1 col3\" >0.027</td>\n",
       "      <td id=\"T_92084_row1_col4\" class=\"data row1 col4\" >0.000</td>\n",
       "      <td id=\"T_92084_row1_col5\" class=\"data row1 col5\" >0.039</td>\n",
       "      <td id=\"T_92084_row1_col6\" class=\"data row1 col6\" >0.084</td>\n",
       "      <td id=\"T_92084_row1_col7\" class=\"data row1 col7\" >0.040</td>\n",
       "    </tr>\n",
       "    <tr>\n",
       "      <th id=\"T_92084_level0_row2\" class=\"row_heading level0 row2\" >c3:Flooded Vegetation</th>\n",
       "      <td id=\"T_92084_row2_col0\" class=\"data row2 col0\" >0.006</td>\n",
       "      <td id=\"T_92084_row2_col1\" class=\"data row2 col1\" >0.000</td>\n",
       "      <td id=\"T_92084_row2_col2\" class=\"data row2 col2\" >0.227</td>\n",
       "      <td id=\"T_92084_row2_col3\" class=\"data row2 col3\" >0.000</td>\n",
       "      <td id=\"T_92084_row2_col4\" class=\"data row2 col4\" >0.000</td>\n",
       "      <td id=\"T_92084_row2_col5\" class=\"data row2 col5\" >0.000</td>\n",
       "      <td id=\"T_92084_row2_col6\" class=\"data row2 col6\" >0.001</td>\n",
       "      <td id=\"T_92084_row2_col7\" class=\"data row2 col7\" >0.000</td>\n",
       "    </tr>\n",
       "    <tr>\n",
       "      <th id=\"T_92084_level0_row3\" class=\"row_heading level0 row3\" >c4:Crops</th>\n",
       "      <td id=\"T_92084_row3_col0\" class=\"data row3 col0\" >0.006</td>\n",
       "      <td id=\"T_92084_row3_col1\" class=\"data row3 col1\" >0.002</td>\n",
       "      <td id=\"T_92084_row3_col2\" class=\"data row3 col2\" >0.048</td>\n",
       "      <td id=\"T_92084_row3_col3\" class=\"data row3 col3\" >0.506</td>\n",
       "      <td id=\"T_92084_row3_col4\" class=\"data row3 col4\" >0.000</td>\n",
       "      <td id=\"T_92084_row3_col5\" class=\"data row3 col5\" >0.010</td>\n",
       "      <td id=\"T_92084_row3_col6\" class=\"data row3 col6\" >0.143</td>\n",
       "      <td id=\"T_92084_row3_col7\" class=\"data row3 col7\" >0.094</td>\n",
       "    </tr>\n",
       "    <tr>\n",
       "      <th id=\"T_92084_level0_row4\" class=\"row_heading level0 row4\" >c5:Bare Ground</th>\n",
       "      <td id=\"T_92084_row4_col0\" class=\"data row4 col0\" >0.061</td>\n",
       "      <td id=\"T_92084_row4_col1\" class=\"data row4 col1\" >0.000</td>\n",
       "      <td id=\"T_92084_row4_col2\" class=\"data row4 col2\" >0.018</td>\n",
       "      <td id=\"T_92084_row4_col3\" class=\"data row4 col3\" >0.007</td>\n",
       "      <td id=\"T_92084_row4_col4\" class=\"data row4 col4\" >0.910</td>\n",
       "      <td id=\"T_92084_row4_col5\" class=\"data row4 col5\" >0.034</td>\n",
       "      <td id=\"T_92084_row4_col6\" class=\"data row4 col6\" >0.035</td>\n",
       "      <td id=\"T_92084_row4_col7\" class=\"data row4 col7\" >0.012</td>\n",
       "    </tr>\n",
       "    <tr>\n",
       "      <th id=\"T_92084_level0_row5\" class=\"row_heading level0 row5\" >c6:Rangeland</th>\n",
       "      <td id=\"T_92084_row5_col0\" class=\"data row5 col0\" >0.050</td>\n",
       "      <td id=\"T_92084_row5_col1\" class=\"data row5 col1\" >0.162</td>\n",
       "      <td id=\"T_92084_row5_col2\" class=\"data row5 col2\" >0.483</td>\n",
       "      <td id=\"T_92084_row5_col3\" class=\"data row5 col3\" >0.455</td>\n",
       "      <td id=\"T_92084_row5_col4\" class=\"data row5 col4\" >0.089</td>\n",
       "      <td id=\"T_92084_row5_col5\" class=\"data row5 col5\" >0.916</td>\n",
       "      <td id=\"T_92084_row5_col6\" class=\"data row5 col6\" >0.474</td>\n",
       "      <td id=\"T_92084_row5_col7\" class=\"data row5 col7\" >0.136</td>\n",
       "    </tr>\n",
       "    <tr>\n",
       "      <th id=\"T_92084_level0_row6\" class=\"row_heading level0 row6\" >c7:Rural</th>\n",
       "      <td id=\"T_92084_row6_col0\" class=\"data row6 col0\" >0.000</td>\n",
       "      <td id=\"T_92084_row6_col1\" class=\"data row6 col1\" >0.000</td>\n",
       "      <td id=\"T_92084_row6_col2\" class=\"data row6 col2\" >0.001</td>\n",
       "      <td id=\"T_92084_row6_col3\" class=\"data row6 col3\" >0.003</td>\n",
       "      <td id=\"T_92084_row6_col4\" class=\"data row6 col4\" >0.000</td>\n",
       "      <td id=\"T_92084_row6_col5\" class=\"data row6 col5\" >0.000</td>\n",
       "      <td id=\"T_92084_row6_col6\" class=\"data row6 col6\" >0.178</td>\n",
       "      <td id=\"T_92084_row6_col7\" class=\"data row6 col7\" >0.111</td>\n",
       "    </tr>\n",
       "    <tr>\n",
       "      <th id=\"T_92084_level0_row7\" class=\"row_heading level0 row7\" >c8:Urban</th>\n",
       "      <td id=\"T_92084_row7_col0\" class=\"data row7 col0\" >0.000</td>\n",
       "      <td id=\"T_92084_row7_col1\" class=\"data row7 col1\" >0.000</td>\n",
       "      <td id=\"T_92084_row7_col2\" class=\"data row7 col2\" >0.001</td>\n",
       "      <td id=\"T_92084_row7_col3\" class=\"data row7 col3\" >0.002</td>\n",
       "      <td id=\"T_92084_row7_col4\" class=\"data row7 col4\" >0.000</td>\n",
       "      <td id=\"T_92084_row7_col5\" class=\"data row7 col5\" >0.000</td>\n",
       "      <td id=\"T_92084_row7_col6\" class=\"data row7 col6\" >0.085</td>\n",
       "      <td id=\"T_92084_row7_col7\" class=\"data row7 col7\" >0.606</td>\n",
       "    </tr>\n",
       "  </tbody>\n",
       "</table>\n"
      ],
      "text/plain": [
       "<pandas.io.formats.style.Styler at 0x7f0e98817af0>"
      ]
     },
     "execution_count": 17,
     "metadata": {},
     "output_type": "execute_result"
    }
   ],
   "source": [
    "df_precision = df_raw_count_africa.div(df_raw_count_africa.sum(axis=0), axis=1)\n",
    "df_precision.style.apply(style_diag, axis=None).format(precision=3)"
   ]
  },
  {
   "cell_type": "markdown",
   "id": "531bbc97",
   "metadata": {},
   "source": [
    "### Seaborn Heatmap (Precision)"
   ]
  },
  {
   "cell_type": "code",
   "execution_count": 18,
   "id": "bda09f8c",
   "metadata": {},
   "outputs": [
    {
     "data": {
      "text/plain": [
       "Text(0.5, 23.52222222222222, 'Predicted label')"
      ]
     },
     "execution_count": 18,
     "metadata": {},
     "output_type": "execute_result"
    },
    {
     "data": {
      "image/png": "[encoded data removed]",
      "text/plain": [
       "<Figure size 640x480 with 2 Axes>"
      ]
     },
     "metadata": {},
     "output_type": "display_data"
    }
   ],
   "source": [
    "heatmap = sns.heatmap(data=df_precision, vmin=0.0, vmax=1.0, cmap=plt.cm.Blues, annot=True, annot_kws={\"fontsize\":6.8}, fmt='.2f')\n",
    "heatmap.yaxis.set_ticklabels(heatmap.yaxis.get_ticklabels(), rotation=0, ha='right',fontsize=8)\n",
    "heatmap.xaxis.set_ticklabels(heatmap.xaxis.get_ticklabels(), rotation=45, ha='right',fontsize=8)\n",
    "plt.title('precision matrix')\n",
    "plt.ylabel('True label')\n",
    "plt.xlabel('Predicted label')"
   ]
  },
  {
   "cell_type": "markdown",
   "id": "a9348788",
   "metadata": {},
   "source": [
    "### Precision score (prediction accuracy)"
   ]
  },
  {
   "cell_type": "code",
   "execution_count": 19,
   "id": "61b2e9bb",
   "metadata": {},
   "outputs": [
    {
     "name": "stdout",
     "output_type": "stream",
     "text": [
      "                class  precision\n",
      "             c1:Water      0.852\n",
      "              c2:Tree      0.835\n",
      "c3:Flooded Vegetation      0.227\n",
      "             c4:Crops      0.506\n",
      "       c5:Bare Ground      0.910\n",
      "         c6:Rangeland      0.916\n",
      "             c7:Rural      0.178\n",
      "             c8:Urban      0.606\n"
     ]
    }
   ],
   "source": [
    "class_names = df_precision.columns\n",
    "confmat_diag = df_precision.to_numpy().diagonal()\n",
    "per_class_acc = dict(zip(class_names, confmat_diag))\n",
    "precision_scores = pd.DataFrame(per_class_acc.items(), columns=['class', 'precision'])\n",
    "precision_scores = precision_scores.round(3)\n",
    "print(precision_scores.to_string(index=False))"
   ]
  },
  {
   "cell_type": "code",
   "execution_count": 20,
   "id": "2f0551d5",
   "metadata": {},
   "outputs": [
    {
     "data": {
      "text/plain": [
       "array([0.85188053, 0.83483816, 0.22738971, 0.50580633, 0.9100324 ,\n",
       "       0.91572882, 0.17837265, 0.60587336])"
      ]
     },
     "execution_count": 20,
     "metadata": {},
     "output_type": "execute_result"
    }
   ],
   "source": [
    "confmat_diag"
   ]
  },
  {
   "cell_type": "markdown",
   "id": "1d1513c3",
   "metadata": {},
   "source": [
    "# IoU"
   ]
  },
  {
   "cell_type": "code",
   "execution_count": 21,
   "id": "38d7f870",
   "metadata": {},
   "outputs": [
    {
     "data": {
      "text/html": [
       "<div>\n",
       "<style scoped>\n",
       "    .dataframe tbody tr th:only-of-type {\n",
       "        vertical-align: middle;\n",
       "    }\n",
       "\n",
       "    .dataframe tbody tr th {\n",
       "        vertical-align: top;\n",
       "    }\n",
       "\n",
       "    .dataframe thead th {\n",
       "        text-align: right;\n",
       "    }\n",
       "</style>\n",
       "<table border=\"1\" class=\"dataframe\">\n",
       "  <thead>\n",
       "    <tr style=\"text-align: right;\">\n",
       "      <th></th>\n",
       "      <th>class</th>\n",
       "      <th>IoU</th>\n",
       "    </tr>\n",
       "  </thead>\n",
       "  <tbody>\n",
       "    <tr>\n",
       "      <th>0</th>\n",
       "      <td>c1:Water</td>\n",
       "      <td>0.831</td>\n",
       "    </tr>\n",
       "    <tr>\n",
       "      <th>1</th>\n",
       "      <td>c2:Tree</td>\n",
       "      <td>0.777</td>\n",
       "    </tr>\n",
       "    <tr>\n",
       "      <th>2</th>\n",
       "      <td>c3:Flooded Vegetation</td>\n",
       "      <td>0.223</td>\n",
       "    </tr>\n",
       "    <tr>\n",
       "      <th>3</th>\n",
       "      <td>c4:Crops</td>\n",
       "      <td>0.449</td>\n",
       "    </tr>\n",
       "    <tr>\n",
       "      <th>4</th>\n",
       "      <td>c5:Bare Ground</td>\n",
       "      <td>0.855</td>\n",
       "    </tr>\n",
       "    <tr>\n",
       "      <th>5</th>\n",
       "      <td>c6:Rangeland</td>\n",
       "      <td>0.720</td>\n",
       "    </tr>\n",
       "    <tr>\n",
       "      <th>6</th>\n",
       "      <td>c7:Rural</td>\n",
       "      <td>0.163</td>\n",
       "    </tr>\n",
       "    <tr>\n",
       "      <th>7</th>\n",
       "      <td>c8:Urban</td>\n",
       "      <td>0.520</td>\n",
       "    </tr>\n",
       "  </tbody>\n",
       "</table>\n",
       "</div>"
      ],
      "text/plain": [
       "                   class    IoU\n",
       "0               c1:Water  0.831\n",
       "1                c2:Tree  0.777\n",
       "2  c3:Flooded Vegetation  0.223\n",
       "3               c4:Crops  0.449\n",
       "4         c5:Bare Ground  0.855\n",
       "5           c6:Rangeland  0.720\n",
       "6               c7:Rural  0.163\n",
       "7               c8:Urban  0.520"
      ]
     },
     "execution_count": 21,
     "metadata": {},
     "output_type": "execute_result"
    }
   ],
   "source": [
    "class_names = df_raw_count_africa.columns\n",
    "raw_counts = df_raw_count_africa.to_numpy()\n",
    "iou_class = {}\n",
    "\n",
    "# calculate IoU for each class\n",
    "for i in range(len(class_names)):\n",
    "    tp = raw_counts[i, i]\n",
    "    fp = raw_counts[:, i].sum() - tp\n",
    "    fn = raw_counts[i, :].sum() - tp\n",
    "    \n",
    "    nom = tp\n",
    "    denom = (tp + fp + fn)\n",
    "    \n",
    "    if denom != 0:\n",
    "        iou = nom / denom\n",
    "    else:\n",
    "        iou = np.NaN\n",
    "    iou_class[class_names[i]] = iou\n",
    "\n",
    "\n",
    "# output IoU as dataframe\n",
    "iou_scores = pd.DataFrame(iou_class.items(), columns=['class', 'IoU'])\n",
    "iou_scores.round(3)"
   ]
  },
  {
   "cell_type": "code",
   "execution_count": 22,
   "id": "9779de14",
   "metadata": {},
   "outputs": [
    {
     "data": {
      "text/plain": [
       "0.5673830330813707"
      ]
     },
     "execution_count": 22,
     "metadata": {},
     "output_type": "execute_result"
    }
   ],
   "source": [
    "# calculate mean IoU (not counting empty classes)\n",
    "iou_mean = np.nanmean(iou_scores['IoU'])\n",
    "iou_mean"
   ]
  },
  {
   "cell_type": "markdown",
   "id": "758b13e8",
   "metadata": {},
   "source": [
    "# F1 Score (Dice coefficient)"
   ]
  },
  {
   "cell_type": "code",
   "execution_count": 23,
   "id": "a85cdfd7",
   "metadata": {},
   "outputs": [
    {
     "data": {
      "text/html": [
       "<div>\n",
       "<style scoped>\n",
       "    .dataframe tbody tr th:only-of-type {\n",
       "        vertical-align: middle;\n",
       "    }\n",
       "\n",
       "    .dataframe tbody tr th {\n",
       "        vertical-align: top;\n",
       "    }\n",
       "\n",
       "    .dataframe thead th {\n",
       "        text-align: right;\n",
       "    }\n",
       "</style>\n",
       "<table border=\"1\" class=\"dataframe\">\n",
       "  <thead>\n",
       "    <tr style=\"text-align: right;\">\n",
       "      <th></th>\n",
       "      <th>class</th>\n",
       "      <th>f1-score</th>\n",
       "    </tr>\n",
       "  </thead>\n",
       "  <tbody>\n",
       "    <tr>\n",
       "      <th>0</th>\n",
       "      <td>c1:Water</td>\n",
       "      <td>0.908</td>\n",
       "    </tr>\n",
       "    <tr>\n",
       "      <th>1</th>\n",
       "      <td>c2:Tree</td>\n",
       "      <td>0.875</td>\n",
       "    </tr>\n",
       "    <tr>\n",
       "      <th>2</th>\n",
       "      <td>c3:Flooded Vegetation</td>\n",
       "      <td>0.364</td>\n",
       "    </tr>\n",
       "    <tr>\n",
       "      <th>3</th>\n",
       "      <td>c4:Crops</td>\n",
       "      <td>0.620</td>\n",
       "    </tr>\n",
       "    <tr>\n",
       "      <th>4</th>\n",
       "      <td>c5:Bare Ground</td>\n",
       "      <td>0.922</td>\n",
       "    </tr>\n",
       "    <tr>\n",
       "      <th>5</th>\n",
       "      <td>c6:Rangeland</td>\n",
       "      <td>0.837</td>\n",
       "    </tr>\n",
       "    <tr>\n",
       "      <th>6</th>\n",
       "      <td>c7:Rural</td>\n",
       "      <td>0.280</td>\n",
       "    </tr>\n",
       "    <tr>\n",
       "      <th>7</th>\n",
       "      <td>c8:Urban</td>\n",
       "      <td>0.684</td>\n",
       "    </tr>\n",
       "  </tbody>\n",
       "</table>\n",
       "</div>"
      ],
      "text/plain": [
       "                   class  f1-score\n",
       "0               c1:Water     0.908\n",
       "1                c2:Tree     0.875\n",
       "2  c3:Flooded Vegetation     0.364\n",
       "3               c4:Crops     0.620\n",
       "4         c5:Bare Ground     0.922\n",
       "5           c6:Rangeland     0.837\n",
       "6               c7:Rural     0.280\n",
       "7               c8:Urban     0.684"
      ]
     },
     "execution_count": 23,
     "metadata": {},
     "output_type": "execute_result"
    }
   ],
   "source": [
    "class_names = df_raw_count_africa.columns\n",
    "raw_counts = df_raw_count_africa.to_numpy()\n",
    "f1_class = {}\n",
    "\n",
    "# calculate IoU for each class\n",
    "for i in range(len(class_names)):\n",
    "    tp = raw_counts[i, i]\n",
    "    fp = raw_counts[:, i].sum() - tp\n",
    "    fn = raw_counts[i, :].sum() - tp\n",
    "    \n",
    "    nom = tp\n",
    "    denom = tp + 0.5*(fp + fn)\n",
    "    \n",
    "    if denom != 0:\n",
    "        f1 = nom / denom\n",
    "    else:\n",
    "        f1 = np.NaN\n",
    "    f1_class[class_names[i]] = f1\n",
    "\n",
    "# output f1-score as dataframe\n",
    "f1_scores = pd.DataFrame(f1_class.items(), columns=['class', 'f1-score'])\n",
    "f1_scores.round(3)"
   ]
  },
  {
   "cell_type": "code",
   "execution_count": 24,
   "id": "0a0a6955",
   "metadata": {},
   "outputs": [
    {
     "data": {
      "text/plain": [
       "0.686314079600039"
      ]
     },
     "execution_count": 24,
     "metadata": {},
     "output_type": "execute_result"
    }
   ],
   "source": [
    "# calculate mean f1-score (not counting empty classes)\n",
    "f1_mean = np.nanmean(f1_scores['f1-score'])\n",
    "f1_mean"
   ]
  },
  {
   "cell_type": "code",
   "execution_count": 25,
   "id": "def3161f",
   "metadata": {},
   "outputs": [
    {
     "data": {
      "text/html": [
       "<div>\n",
       "<style scoped>\n",
       "    .dataframe tbody tr th:only-of-type {\n",
       "        vertical-align: middle;\n",
       "    }\n",
       "\n",
       "    .dataframe tbody tr th {\n",
       "        vertical-align: top;\n",
       "    }\n",
       "\n",
       "    .dataframe thead th {\n",
       "        text-align: right;\n",
       "    }\n",
       "</style>\n",
       "<table border=\"1\" class=\"dataframe\">\n",
       "  <thead>\n",
       "    <tr style=\"text-align: right;\">\n",
       "      <th></th>\n",
       "      <th>IoU</th>\n",
       "      <th>f1-score</th>\n",
       "    </tr>\n",
       "    <tr>\n",
       "      <th>class</th>\n",
       "      <th></th>\n",
       "      <th></th>\n",
       "    </tr>\n",
       "  </thead>\n",
       "  <tbody>\n",
       "    <tr>\n",
       "      <th>c1:Water</th>\n",
       "      <td>0.831</td>\n",
       "      <td>0.908</td>\n",
       "    </tr>\n",
       "    <tr>\n",
       "      <th>c2:Tree</th>\n",
       "      <td>0.777</td>\n",
       "      <td>0.875</td>\n",
       "    </tr>\n",
       "    <tr>\n",
       "      <th>c3:Flooded Vegetation</th>\n",
       "      <td>0.223</td>\n",
       "      <td>0.364</td>\n",
       "    </tr>\n",
       "    <tr>\n",
       "      <th>c4:Crops</th>\n",
       "      <td>0.449</td>\n",
       "      <td>0.620</td>\n",
       "    </tr>\n",
       "    <tr>\n",
       "      <th>c5:Bare Ground</th>\n",
       "      <td>0.855</td>\n",
       "      <td>0.922</td>\n",
       "    </tr>\n",
       "    <tr>\n",
       "      <th>c6:Rangeland</th>\n",
       "      <td>0.720</td>\n",
       "      <td>0.837</td>\n",
       "    </tr>\n",
       "    <tr>\n",
       "      <th>c7:Rural</th>\n",
       "      <td>0.163</td>\n",
       "      <td>0.280</td>\n",
       "    </tr>\n",
       "    <tr>\n",
       "      <th>c8:Urban</th>\n",
       "      <td>0.520</td>\n",
       "      <td>0.684</td>\n",
       "    </tr>\n",
       "    <tr>\n",
       "      <th>mean</th>\n",
       "      <td>0.567</td>\n",
       "      <td>0.686</td>\n",
       "    </tr>\n",
       "  </tbody>\n",
       "</table>\n",
       "</div>"
      ],
      "text/plain": [
       "                         IoU  f1-score\n",
       "class                                 \n",
       "c1:Water               0.831     0.908\n",
       "c2:Tree                0.777     0.875\n",
       "c3:Flooded Vegetation  0.223     0.364\n",
       "c4:Crops               0.449     0.620\n",
       "c5:Bare Ground         0.855     0.922\n",
       "c6:Rangeland           0.720     0.837\n",
       "c7:Rural               0.163     0.280\n",
       "c8:Urban               0.520     0.684\n",
       "mean                   0.567     0.686"
      ]
     },
     "execution_count": 25,
     "metadata": {},
     "output_type": "execute_result"
    }
   ],
   "source": [
    "iou_f1 = iou_scores.set_index('class').join(f1_scores.set_index('class'))\n",
    "iou_f1_mean = pd.DataFrame({'class': ['mean'], 'IoU': [iou_mean], 'f1-score': [f1_mean]}).set_index('class')\n",
    "iou_f1 = pd.concat([iou_f1, iou_f1_mean])\n",
    "iou_f1.round(3)"
   ]
  }
 ],
 "metadata": {
  "kernelspec": {
   "display_name": "Python 3 (ipykernel)",
   "language": "python",
   "name": "python3"
  },
  "language_info": {
   "codemirror_mode": {
    "name": "ipython",
    "version": 3
   },
   "file_extension": ".py",
   "mimetype": "text/x-python",
   "name": "python",
   "nbconvert_exporter": "python",
   "pygments_lexer": "ipython3",
   "version": "3.8.13"
  }
 },
 "nbformat": 4,
 "nbformat_minor": 5
}
