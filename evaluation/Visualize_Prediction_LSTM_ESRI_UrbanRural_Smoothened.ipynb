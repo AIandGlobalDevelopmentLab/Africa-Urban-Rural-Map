{
 "cells": [
  {
   "cell_type": "code",
   "execution_count": 1,
   "id": "2cddac65",
   "metadata": {},
   "outputs": [],
   "source": [
    "# ---imports---\n",
    "import sys\n",
    "import os\n",
    "import random\n",
    "sys.path.append('.')\n",
    "sys.path.append('..')\n",
    "\n",
    "import numpy as np\n",
    "import pandas as pd\n",
    "import torch\n",
    "import torch.nn.functional as F\n",
    "from torch.utils.data import DataLoader\n",
    "import lightning.pytorch as pl\n",
    "import rasterio\n",
    "\n",
    "from models.DeepLabV3_LSTM_Lightning_ESRI_UrbanRural import DeepLabV3_LSTM_Lightning_ESRI_UrbanRural\n",
    "\n",
    "from matplotlib import pyplot as plt\n",
    "from matplotlib.colors import ListedColormap\n",
    "from matplotlib import patches as mpatches"
   ]
  },
  {
   "cell_type": "markdown",
   "id": "fb505c90",
   "metadata": {},
   "source": [
    "### Cross-validation fold setup"
   ]
  },
  {
   "cell_type": "code",
   "execution_count": 2,
   "id": "cb4be4f2",
   "metadata": {},
   "outputs": [],
   "source": [
    "fold_1 = ['Algeria', 'Niger', 'Mauritania', 'Mozambique', 'CentralAfricanRepublic', 'Zimbabwe', 'Guinea', 'Malawi', 'Togo']\n",
    "fold_2 = ['DemocraticRepublicoftheCongo', 'Angola', 'Egypt', 'Zambia', 'Madagascar', 'Congo', 'Ghana', 'Eritrea', 'Guinea-Bissau']\n",
    "fold_3 = ['Sudan', 'Mali', 'UnitedRepublicofTanzania', 'Morocco', 'Botswana', 'CotedIvoire', 'Uganda', 'Benin', 'Lesotho']\n",
    "fold_4 = ['Libya', 'SouthAfrica', 'Nigeria', 'SouthSudan', 'Kenya', 'BurkinaFaso', 'Senegal', 'Liberia']\n",
    "fold_5 = ['Chad', 'Ethiopia', 'Namibia', 'Somalia', 'Cameroon', 'Gabon', 'Tunisia', 'SierraLeone', 'Burundi']\n",
    "\n",
    "training_folds =  fold_1 + fold_2 + fold_3\n",
    "val_fold = fold_4\n",
    "test_fold = fold_5"
   ]
  },
  {
   "cell_type": "markdown",
   "id": "be4a87c1",
   "metadata": {},
   "source": [
    "### Codices"
   ]
  },
  {
   "cell_type": "code",
   "execution_count": 3,
   "id": "bf8d76bb",
   "metadata": {},
   "outputs": [],
   "source": [
    "# --- Class Codices ---\n",
    "\n",
    "# -ESRI LULC 2020 (9 classes): class codec\n",
    "# 1(->0): Water\n",
    "# 2(->1): Tree\n",
    "# 4(->2): Flooded Vegetation\n",
    "# 5(->3): Crops\n",
    "# 7(->6): Built Area\n",
    "# 8(->4): Bare Ground\n",
    "# 9(->(-1)): Snow / Ice\n",
    "# 10(->(-1)): Clouds\n",
    "# 11(->5): Rangeland\n",
    "# 12(->(-1)): Missing\n",
    "esri_classes = [1, 2, 4, 5, 7, 8, 9, 10, 11, 12]\n",
    "labels = [0, 1, 2, 3, 6, 4, -1, -1, 5, -1]\n",
    "\n",
    "esri_class_to_index_map = np.zeros(max(esri_classes) + 1, dtype='int64')\n",
    "esri_class_to_index_map[esri_classes] = labels\n",
    "\n",
    "\n",
    "# ---GHS-SMOD 2020 (8 classes): class codec---\n",
    "# 30(->7): URBAN CENTRE GRID CELL\n",
    "# 23(->7): DENSE URBAN CLUSTER GRID CELL\n",
    "# 22(->7): SEMI-DENSE URBAN CLUSTER GRID CELL\n",
    "# 21(->7): SUBURBAN OR PERI-URBAN GRID CELL\n",
    "# 13(->6): RURAL CLUSTER GRID CELL\n",
    "# 12(->6): LOW DENSITY RURAL GRID CELL\n",
    "# 11(->6): VERY LOW DENSITY RURAL GRID CELL\n",
    "# 10(->6): WATER GRID CELL\n",
    "# NoData [-Inf] -> 7\n",
    "smod_classes = [10, 11, 12, 13, 21, 22, 23, 30]\n",
    "labels = [6, 6, 6, 6, 7, 7, 7, 7]\n",
    "\n",
    "smod_class_to_index_map = np.zeros(max(smod_classes) + 1, dtype='int64')\n",
    "smod_class_to_index_map[smod_classes] = labels"
   ]
  },
  {
   "cell_type": "markdown",
   "id": "a7b5d564",
   "metadata": {},
   "source": [
    "### Preprocessing"
   ]
  },
  {
   "cell_type": "code",
   "execution_count": 4,
   "id": "9e255279",
   "metadata": {},
   "outputs": [],
   "source": [
    "def preprocess_labels(smod, esri_labels):\n",
    "    # prepare smod \n",
    "    smod[np.isinf(smod)] = 10\n",
    "    smod = smod.astype('int64')\n",
    "            \n",
    "    # prepare esri\n",
    "    esri_inf_mask = np.isinf(esri_labels) \n",
    "    esri_labels[esri_inf_mask] = -1\n",
    "    esri_labels = esri_labels.astype('int64')\n",
    "    \n",
    "    # label preprocessing: remap to standard class indices using class codec\n",
    "    smod = smod_class_to_index_map[smod]\n",
    "    esri_labels = esri_class_to_index_map[esri_labels]\n",
    "    np.putmask(esri_labels, esri_labels == 6, smod)\n",
    "    \n",
    "    return esri_labels\n",
    "\n",
    "def preprocess_input(image):\n",
    "    # input preprocessing: normalize input bands to range (0.0, 1.0), mask missing data\n",
    "    image[0:6] = (image[0:6] - 1) / (65455 - 1)  # bands SR_B2 to SR_B7: BGR, NIR, SWIR1, SWIR2 (1, 65455)\n",
    "    nl_clipped = np.clip(image[6], a_min=-1.5, a_max=193565)\n",
    "    image[6] = (nl_clipped + 1.5) / (193565 + 1.5)   # band avg_rad: VIIRS (-1.5, 193565)\n",
    "            \n",
    "    # set missing data to zero\n",
    "    inf_mask = np.isinf(image[0])\n",
    "    image[0:6, inf_mask] = 0\n",
    "    image[1, np.isinf(image[1])] = 0\n",
    "    image[2, np.isinf(image[2])] = 0"
   ]
  },
  {
   "cell_type": "code",
   "execution_count": 5,
   "id": "a5271033",
   "metadata": {},
   "outputs": [],
   "source": [
    "def get_patches(image_timeseries):\n",
    "    '''split each (1000,1000)-supertile into 16*(250,250)-subtiles'''\n",
    "    \n",
    "    # arrays to hold the data\n",
    "    image_seq = np.zeros((5, 7, 1000, 1000), dtype=\"float32\")\n",
    "\n",
    "    # read input from y1-y5\n",
    "    for i, image_year_i in enumerate(image_timeseries):\n",
    "        image_seq[i] = image_year_i[:7]\n",
    "        preprocess_input(image_seq[i])\n",
    "\n",
    "    # loop through each subtile\n",
    "    for sub_tile_idx in range(36):\n",
    "            \n",
    "        # calculate offset\n",
    "        r = (sub_tile_idx // 6) * 150\n",
    "        c = (sub_tile_idx % 6) * 150\n",
    "\n",
    "        # handle input data (time_seq, channels, height, width) \n",
    "        sub_tile_seq = image_seq[:, :, r:r+250, c:c+250]\n",
    "\n",
    "        yield (sub_tile_seq, _)"
   ]
  },
  {
   "cell_type": "markdown",
   "id": "de85d128",
   "metadata": {},
   "source": [
    "### Load tile"
   ]
  },
  {
   "cell_type": "code",
   "execution_count": 6,
   "id": "c3d91623",
   "metadata": {},
   "outputs": [
    {
     "name": "stderr",
     "output_type": "stream",
     "text": [
      "Warning 1: TIFFReadDirectory:Sum of Photometric type-related color channels and ExtraSamples doesn't match SamplesPerPixel. Defining non-color channels as ExtraSamples.\n",
      "Warning 1: TIFFReadDirectory:Sum of Photometric type-related color channels and ExtraSamples doesn't match SamplesPerPixel. Defining non-color channels as ExtraSamples.\n",
      "Warning 1: TIFFReadDirectory:Sum of Photometric type-related color channels and ExtraSamples doesn't match SamplesPerPixel. Defining non-color channels as ExtraSamples.\n",
      "Warning 1: TIFFReadDirectory:Sum of Photometric type-related color channels and ExtraSamples doesn't match SamplesPerPixel. Defining non-color channels as ExtraSamples.\n",
      "Warning 1: TIFFReadDirectory:Sum of Photometric type-related color channels and ExtraSamples doesn't match SamplesPerPixel. Defining non-color channels as ExtraSamples.\n"
     ]
    }
   ],
   "source": [
    "# load tile to predict on\n",
    "# SierraLeone, Angola, Egypt, Madagascar\n",
    "# report-sierra leone: 311, 523, angola: 8610, egypt:915, madagascar: 3458\n",
    "country = 'SierraLeone'\n",
    "tile = 'tile_523'\n",
    "\n",
    "im_path1 = f'/mimer/NOBACKUP/groups/globalpoverty1/albin_and_albin/raw_data/2016/{country}/{tile}.tif_2016'\n",
    "im_path2 = f'/mimer/NOBACKUP/groups/globalpoverty1/albin_and_albin/raw_data/2017/{country}/{tile}.tif_2017'\n",
    "im_path3 = f'/mimer/NOBACKUP/groups/globalpoverty1/albin_and_albin/raw_data/2018/{country}/{tile}.tif_2018'\n",
    "im_path4 = f'/mimer/NOBACKUP/groups/globalpoverty1/albin_and_albin/raw_data/2019/{country}/{tile}.tif_2019'\n",
    "im_path5 = f'/mimer/NOBACKUP/groups/globalpoverty1/albin_and_albin/raw_data/2020/{country}/{tile}.tif_2020'\n",
    "\n",
    "src = [rasterio.open(im_path1).read(), rasterio.open(im_path2).read(), \n",
    "       rasterio.open(im_path3).read(), rasterio.open(im_path4).read(), rasterio.open(im_path5).read()]\n",
    "\n",
    "# iterator over subtiles\n",
    "im_iterator = get_patches(src)\n",
    "\n",
    "# prepare target for visualization\n",
    "smod = src[4][7]\n",
    "smod[np.isinf(smod)] = 10\n",
    "smod = smod.astype('int64')\n",
    "\n",
    "esri_labels = src[4][9]\n",
    "esri_labels[np.isinf(esri_labels)] = -1\n",
    "esri_labels = esri_labels.astype('int64')\n",
    "\n",
    "smod = smod_class_to_index_map[smod]\n",
    "esri_labels = esri_class_to_index_map[esri_labels]\n",
    "np.putmask(esri_labels, esri_labels == 6, smod)\n",
    "np.putmask(esri_labels, esri_labels == -1, 5)  # for visualizing missing data"
   ]
  },
  {
   "cell_type": "markdown",
   "id": "5a9c5807",
   "metadata": {},
   "source": [
    "### Load Model"
   ]
  },
  {
   "cell_type": "code",
   "execution_count": 7,
   "id": "4caaa6f5",
   "metadata": {},
   "outputs": [],
   "source": [
    "# load model from checkpoint\n",
    "mimer = '/mimer/NOBACKUP/groups/globalpoverty1/albin_and_albin/scripts_and_notebooks/job_scripts/'\n",
    "\n",
    "# model 1\n",
    "base_ckpt = mimer + \"lightning_logs/deeplabv3_esri_urban_rural_12345/checkpoints/12345_epoch=19-step=126080-val_loss=0.440.ckpt\"\n",
    "ckpt = mimer + \"/lightning_logs/version_1151224/checkpoints/12345_epoch=2-step=38304-val_loss=0.461.ckpt\"\n",
    "\n",
    "# model 3\n",
    "'''base_ckpt = mimer + \"/lightning_logs/deeplabv3_esri_urban_rural_34512/checkpoints/34512_epoch=19-step=106240-val_loss=0.369.ckpt\"\n",
    "ckpt = mimer + \"/lightning_logs/version_1158393/checkpoints/34512_epoch=2-step=32400-val_loss=0.402.ckpt\"'''\n",
    "\n",
    "lightning_model = DeepLabV3_LSTM_Lightning_ESRI_UrbanRural.load_from_checkpoint(ckpt, current_ckpt=base_ckpt, training_folds=training_folds, validation_fold=fold_4)"
   ]
  },
  {
   "cell_type": "code",
   "execution_count": null,
   "id": "939748bb",
   "metadata": {},
   "outputs": [],
   "source": []
  },
  {
   "cell_type": "markdown",
   "id": "c95f4b58",
   "metadata": {},
   "source": [
    "### Inference"
   ]
  },
  {
   "cell_type": "code",
   "execution_count": 10,
   "id": "31dd40d8",
   "metadata": {},
   "outputs": [],
   "source": [
    "# predict on selected tile, split in its subtiles\n",
    "predictions = []\n",
    "prediction_probs = []\n",
    "for idx, img in enumerate(im_iterator):\n",
    "    \n",
    "    in_data, labels = img\n",
    "    in_data = torch.tensor(in_data)\n",
    "    in_data = torch.unsqueeze(in_data, 0)\n",
    "\n",
    "    lightning_model.eval()\n",
    "\n",
    "    with torch.no_grad():\n",
    "        outputs = lightning_model(in_data)\n",
    "        \n",
    "        class_probs = F.softmax(outputs, dim=1)\n",
    "        prediction_probs.append(class_probs)\n",
    "        class_predictions = torch.argmax(input=class_probs, dim=1)\n",
    "        \n",
    "        predictions.append(class_predictions)"
   ]
  },
  {
   "cell_type": "code",
   "execution_count": 11,
   "id": "fead7b1c",
   "metadata": {},
   "outputs": [
    {
     "name": "stdout",
     "output_type": "stream",
     "text": [
      "torch.Size([5, 250, 250])\n",
      "torch.Size([5, 250, 250])\n",
      "torch.Size([5, 250, 250])\n",
      "torch.Size([5, 250, 250])\n",
      "torch.Size([5, 250, 250])\n",
      "torch.Size([5, 250, 250])\n",
      "torch.Size([5, 250, 250])\n",
      "torch.Size([5, 250, 250])\n",
      "torch.Size([5, 250, 250])\n",
      "torch.Size([5, 250, 250])\n",
      "torch.Size([5, 250, 250])\n",
      "torch.Size([5, 250, 250])\n",
      "torch.Size([5, 250, 250])\n",
      "torch.Size([5, 250, 250])\n",
      "torch.Size([5, 250, 250])\n",
      "torch.Size([5, 250, 250])\n",
      "torch.Size([5, 250, 250])\n",
      "torch.Size([5, 250, 250])\n",
      "torch.Size([5, 250, 250])\n",
      "torch.Size([5, 250, 250])\n",
      "torch.Size([5, 250, 250])\n",
      "torch.Size([5, 250, 250])\n",
      "torch.Size([5, 250, 250])\n",
      "torch.Size([5, 250, 250])\n",
      "torch.Size([5, 250, 250])\n",
      "torch.Size([5, 250, 250])\n",
      "torch.Size([5, 250, 250])\n",
      "torch.Size([5, 250, 250])\n",
      "torch.Size([5, 250, 250])\n",
      "torch.Size([5, 250, 250])\n",
      "torch.Size([5, 250, 250])\n",
      "torch.Size([5, 250, 250])\n",
      "torch.Size([5, 250, 250])\n",
      "torch.Size([5, 250, 250])\n",
      "torch.Size([5, 250, 250])\n",
      "torch.Size([5, 250, 250])\n"
     ]
    }
   ],
   "source": [
    "# assemble sub-tile predictions into supertile\n",
    "predictions_supertile = np.zeros((5, 1000, 1000))\n",
    "for sub_tile_idx in range(36):\n",
    "\n",
    "    sub_tile = predictions[sub_tile_idx].squeeze()\n",
    "    print(sub_tile.shape)\n",
    "    \n",
    "    # calculate offset\n",
    "    r = (sub_tile_idx // 6) * 150\n",
    "    c = (sub_tile_idx % 6) * 150\n",
    "    \n",
    "    # adjust row margins\n",
    "    if r == 0:\n",
    "        row_start_margin = 0\n",
    "        row_end_margin = 200\n",
    "    elif r == 750:\n",
    "        row_start_margin = 50\n",
    "        row_end_margin = 250\n",
    "    else:\n",
    "        row_start_margin = 50\n",
    "        row_end_margin = 200\n",
    "    \n",
    "    # adjust col margins\n",
    "    if c == 0:\n",
    "        col_start_margin = 0\n",
    "        col_end_margin = 200\n",
    "    elif c == 750:\n",
    "        col_start_margin = 50\n",
    "        col_end_margin = 250\n",
    "    else:\n",
    "        col_start_margin = 50\n",
    "        col_end_margin = 200\n",
    "    \n",
    "    # put sub-tile in correct position\n",
    "    cut_subtile = sub_tile[:, row_start_margin:row_end_margin, col_start_margin:col_end_margin]\n",
    "    predictions_supertile[:, r+row_start_margin: r+row_end_margin, c+col_start_margin : c+col_end_margin] = cut_subtile"
   ]
  },
  {
   "cell_type": "markdown",
   "id": "2612f6df",
   "metadata": {},
   "source": [
    "### Plot"
   ]
  },
  {
   "cell_type": "code",
   "execution_count": 14,
   "id": "96c88f64",
   "metadata": {},
   "outputs": [],
   "source": [
    "colormap_classes_rgb = np.array([[0, 100, 200], [0, 100, 0], [0, 207, 117], \n",
    "                                 [240, 150, 255], [180, 180, 180], [255, 187, 34], \n",
    "                                 [255, 0,0], [80,0,0]]) / 255  # RGB values for each class, normalized to (0, 1)\n",
    "\n",
    "class_labels = ['c1:Water', 'c2:Tree', 'c3:Flooded Vegetation', \n",
    "                'c4:Crops', 'c5:Bare Ground', 'c6:Rangeland', \n",
    "                'c7:Rural', 'c8: Urban']\n",
    "\n",
    "cmap_classes = ListedColormap(colormap_classes_rgb, name='ESRI_WorldCover_2020_class_cmap', N=8)"
   ]
  },
  {
   "cell_type": "markdown",
   "id": "8c6d738a",
   "metadata": {},
   "source": [
    "#### Prediction"
   ]
  },
  {
   "cell_type": "code",
   "execution_count": 15,
   "id": "ce3c7649",
   "metadata": {},
   "outputs": [
    {
     "data": {
      "text/plain": [
       "(5, 1000, 1000)"
      ]
     },
     "execution_count": 15,
     "metadata": {},
     "output_type": "execute_result"
    }
   ],
   "source": [
    "predictions_supertile.shape"
   ]
  },
  {
   "cell_type": "code",
   "execution_count": 16,
   "id": "027a1f34",
   "metadata": {},
   "outputs": [
    {
     "data": {
      "text/plain": [
       "torch.Size([5, 250, 250])"
      ]
     },
     "execution_count": 16,
     "metadata": {},
     "output_type": "execute_result"
    }
   ],
   "source": [
    "predictions[0].shape"
   ]
  },
  {
   "cell_type": "code",
   "execution_count": 24,
   "id": "4e3721eb",
   "metadata": {},
   "outputs": [
    {
     "data": {
      "text/plain": [
       "(-0.5, 999.5, 999.5, -0.5)"
      ]
     },
     "execution_count": 24,
     "metadata": {},
     "output_type": "execute_result"
    },
    {
     "data": {
      "image/png": "[encoded data removed]",
      "text/plain": [
       "<Figure size 640x480 with 1 Axes>"
      ]
     },
     "metadata": {},
     "output_type": "display_data"
    }
   ],
   "source": [
    "# predictions_supertile[i] shows year i in sequence\n",
    "plt.imshow(predictions_supertile[4], cmap=cmap_classes, vmin=0, vmax=len(colormap_classes_rgb), interpolation='nearest')\n",
    "plt.axis('off')\n",
    "#plt.title('prediction')"
   ]
  },
  {
   "cell_type": "markdown",
   "id": "219cbc9e",
   "metadata": {},
   "source": [
    "#### Target"
   ]
  },
  {
   "cell_type": "code",
   "execution_count": 18,
   "id": "c6303120",
   "metadata": {},
   "outputs": [
    {
     "data": {
      "text/plain": [
       "Text(0.5, 1.0, 'target')"
      ]
     },
     "execution_count": 18,
     "metadata": {},
     "output_type": "execute_result"
    },
    {
     "data": {
      "image/png": "[encoded data removed]",
      "text/plain": [
       "<Figure size 640x480 with 1 Axes>"
      ]
     },
     "metadata": {},
     "output_type": "display_data"
    }
   ],
   "source": [
    "plt.imshow(esri_labels, cmap=cmap_classes, vmin=0, vmax=len(colormap_classes_rgb), interpolation='nearest')\n",
    "plt.title('target')"
   ]
  },
  {
   "cell_type": "markdown",
   "id": "7edacbde",
   "metadata": {},
   "source": [
    "#### Prediction vs Target"
   ]
  },
  {
   "cell_type": "code",
   "execution_count": 19,
   "id": "473507f3",
   "metadata": {},
   "outputs": [
    {
     "data": {
      "text/plain": [
       "<matplotlib.legend.Legend at 0x7fc072d63610>"
      ]
     },
     "execution_count": 19,
     "metadata": {},
     "output_type": "execute_result"
    },
    {
     "data": {
      "image/png": "[encoded data removed]",
      "text/plain": [
       "<Figure size 640x480 with 2 Axes>"
      ]
     },
     "metadata": {},
     "output_type": "display_data"
    }
   ],
   "source": [
    "# plot result\n",
    "fig, (ax1, ax2) = plt.subplots(1, 2)\n",
    "\n",
    "ax1.set_title('predictions')\n",
    "ax1.imshow(predictions_supertile[4], cmap=cmap_classes, vmin=0, vmax=len(colormap_classes_rgb), interpolation='nearest')\n",
    "\n",
    "ax2.set_title('target (esri2020)')\n",
    "ax2.imshow(esri_labels, cmap=cmap_classes, vmin=0, vmax=len(colormap_classes_rgb), interpolation='nearest',)\n",
    "\n",
    "patches = [mpatches.Patch(color=colormap_classes_rgb[i], label=class_labels[i]) for i in range(len(class_labels))]\n",
    "plt.legend(handles=patches, loc='upper left', bbox_to_anchor=(1.05, 1), borderaxespad=0.0)"
   ]
  },
  {
   "cell_type": "code",
   "execution_count": null,
   "id": "9faf20f5",
   "metadata": {},
   "outputs": [],
   "source": []
  }
 ],
 "metadata": {
  "kernelspec": {
   "display_name": "Python 3 (ipykernel)",
   "language": "python",
   "name": "python3"
  },
  "language_info": {
   "codemirror_mode": {
    "name": "ipython",
    "version": 3
   },
   "file_extension": ".py",
   "mimetype": "text/x-python",
   "name": "python",
   "nbconvert_exporter": "python",
   "pygments_lexer": "ipython3",
   "version": "3.8.13"
  }
 },
 "nbformat": 4,
 "nbformat_minor": 5
}
